{
 "cells": [
  {
   "cell_type": "code",
   "execution_count": 1,
   "metadata": {},
   "outputs": [],
   "source": [
    "# using Pkg\n",
    "# Pkg.generate(\"model3\")"
   ]
  },
  {
   "cell_type": "code",
   "execution_count": 2,
   "metadata": {
    "scrolled": true
   },
   "outputs": [],
   "source": [
    "# using Pkg\n",
    "# Pkg.add(\"OrdinaryDiffEq\")\n",
    "# Pkg.add(\"DifferentialEquations\")\n",
    "# Pkg.add(\"ModelingToolkit\")\n",
    "# Pkg.add(\"DataDrivenDiffEq\")\n",
    "# Pkg.add(\"LinearAlgebra\")\n",
    "# Pkg.add(\"DiffEqSensitivity\")\n",
    "# Pkg.add(\"Optim\")\n",
    "# Pkg.add(\"DiffEqFlux\")\n",
    "# Pkg.add(\"Flux\")\n",
    "# Pkg.add(\"Plots\")\n",
    "# Pkg.add(\"DataFrames\")\n",
    "# Pkg.add(\"GLM\")\n",
    "# Pkg.add(\"StatsModels\")\n",
    "# Pkg.add(\"CSV\")\n",
    "# Pkg.add(\"Interpolations\")\n",
    "# Pkg.add(\"JLD2\")\n",
    "# Pkg.add(\"Suppressor\")\n",
    "# Pkg.add(\"Distributed\")\n",
    "# Pkg.add(\"ParallelDataTransfer\")\n",
    "# Pkg.add(\"LaTeXStrings\")\n",
    "# Pkg.add(\"Statistics\")\n",
    "# Pkg.add(\"StatsBase\")\n",
    "# Pkg.add(\"TickTock\")\n",
    "# Pkg.add(\"DelimitedFiles\")"
   ]
  },
  {
   "cell_type": "code",
   "execution_count": 2,
   "metadata": {},
   "outputs": [
    {
     "name": "stdout",
     "output_type": "stream",
     "text": [
      "/home/ziyu/solow/NODE/Neural Ordinary Differential Equations for the Regression and Prediction of Macroeconomics Data under the Green Solow Model/Upload/all_countries\n"
     ]
    },
    {
     "name": "stderr",
     "output_type": "stream",
     "text": [
      "\u001b[32m\u001b[1m Activating\u001b[22m\u001b[39m environment at `~/solow/NODE/Neural Ordinary Differential Equations for the Regression and Prediction of Macroeconomics Data under the Green Solow Model/Upload/all_countries/model0/Project.toml`\n"
     ]
    },
    {
     "name": "stdout",
     "output_type": "stream",
     "text": [
      "\u001b[36m\u001b[1mProject \u001b[22m\u001b[39mmodel0 v0.1.0\n",
      "\u001b[32m\u001b[1mStatus\u001b[22m\u001b[39m `~/solow/NODE/Neural Ordinary Differential Equations for the Regression and Prediction of Macroeconomics Data under the Green Solow Model/Upload/all_countries/model0/Project.toml`\n",
      " \u001b[90m [336ed68f]\u001b[39m\u001b[37m CSV v0.8.4\u001b[39m\n",
      " \u001b[90m [2445eb08]\u001b[39m\u001b[37m DataDrivenDiffEq v0.5.5\u001b[39m\n",
      " \u001b[90m [a93c6f00]\u001b[39m\u001b[37m DataFrames v0.22.5\u001b[39m\n",
      " \u001b[90m [aae7a2af]\u001b[39m\u001b[37m DiffEqFlux v1.23.0\u001b[39m\n",
      " \u001b[90m [41bf760c]\u001b[39m\u001b[37m DiffEqSensitivity v6.33.0\u001b[39m\n",
      " \u001b[90m [0c46a032]\u001b[39m\u001b[37m DifferentialEquations v6.16.0\u001b[39m\n",
      " \u001b[90m [587475ba]\u001b[39m\u001b[37m Flux v0.11.1\u001b[39m\n",
      " \u001b[90m [38e38edf]\u001b[39m\u001b[37m GLM v1.4.0\u001b[39m\n",
      " \u001b[90m [a98d9a8b]\u001b[39m\u001b[37m Interpolations v0.13.1\u001b[39m\n",
      " \u001b[90m [033835bb]\u001b[39m\u001b[37m JLD2 v0.4.2\u001b[39m\n",
      " \u001b[90m [b964fa9f]\u001b[39m\u001b[37m LaTeXStrings v1.2.1\u001b[39m\n",
      " \u001b[90m [961ee093]\u001b[39m\u001b[37m ModelingToolkit v5.11.0\u001b[39m\n",
      " \u001b[90m [429524aa]\u001b[39m\u001b[37m Optim v1.2.4\u001b[39m\n",
      " \u001b[90m [1dea7af3]\u001b[39m\u001b[37m OrdinaryDiffEq v5.51.1\u001b[39m\n",
      " \u001b[90m [2dcacdae]\u001b[39m\u001b[37m ParallelDataTransfer v0.5.0\u001b[39m\n",
      " \u001b[90m [91a5bcdd]\u001b[39m\u001b[37m Plots v1.6.12\u001b[39m\n",
      " \u001b[90m [2913bbd2]\u001b[39m\u001b[37m StatsBase v0.33.3\u001b[39m\n",
      " \u001b[90m [3eaba693]\u001b[39m\u001b[37m StatsModels v0.6.21\u001b[39m\n",
      " \u001b[90m [fd094767]\u001b[39m\u001b[37m Suppressor v0.2.0\u001b[39m\n",
      " \u001b[90m [9ff05d80]\u001b[39m\u001b[37m TickTock v1.1.0\u001b[39m\n",
      " \u001b[90m [8ba89e20]\u001b[39m\u001b[37m Distributed \u001b[39m\n",
      " \u001b[90m [37e2e46d]\u001b[39m\u001b[37m LinearAlgebra \u001b[39m\n",
      " \u001b[90m [10745b16]\u001b[39m\u001b[37m Statistics \u001b[39m\n"
     ]
    }
   ],
   "source": [
    "println(@__DIR__)\n",
    "using Pkg\n",
    "# Pkg.update()\n",
    "Pkg.activate(string(@__DIR__, \"/model0/Project.toml\"))\n",
    "Pkg.status()\n",
    "# Pkg.instantiate()"
   ]
  },
  {
   "cell_type": "code",
   "execution_count": 4,
   "metadata": {},
   "outputs": [
    {
     "data": {
      "text/plain": [
       "Plots.GRBackend()"
      ]
     },
     "execution_count": 4,
     "metadata": {},
     "output_type": "execute_result"
    }
   ],
   "source": [
    "# cd(@__DIR__)\n",
    "# using Pkg; Pkg.activate(\".\"); Pkg.instantiate()\n",
    "using OrdinaryDiffEq, DifferentialEquations\n",
    "using ModelingToolkit\n",
    "using DataDrivenDiffEq\n",
    "using LinearAlgebra, DiffEqSensitivity, Optim\n",
    "using DiffEqFlux, Flux\n",
    "using Plots\n",
    "using DataFrames, GLM, StatsModels\n",
    "using CSV\n",
    "using Interpolations\n",
    "using JLD2\n",
    "using Suppressor\n",
    "using Distributed\n",
    "using ParallelDataTransfer\n",
    "using LaTeXStrings, Statistics\n",
    "using StatsBase\n",
    "using TickTock\n",
    "using DelimitedFiles\n",
    "gr()"
   ]
  },
  {
   "cell_type": "markdown",
   "metadata": {},
   "source": [
    "Getting the parameters"
   ]
  },
  {
   "cell_type": "code",
   "execution_count": 5,
   "metadata": {},
   "outputs": [
    {
     "name": "stdout",
     "output_type": "stream",
     "text": [
      "[\"Albania\", \"Argentina\", \"Australia\", \"Bahrain\", \"Bangladesh\", \"Benin\", \"Botswana\", \"Brazil\", \"Bulgaria\", \"Burundi\"]\n",
      "[\"Cameroon\", \"Canada\", \"Chile\", \"China\", \"Colombia\", \"Costa Rica\", \"Denmark\", \"Dominican Republic\", \"Ecuador\", \"El Salvador\"]\n"
     ]
    }
   ],
   "source": [
    "country_list = [\"Albania\", \"Argentina\", \"Australia\", \"Bahrain\", \"Bangladesh\", \"Benin\", \"Botswana\", \"Brazil\", \"Bulgaria\", \"Burundi\", \"Cameroon\", \"Canada\", \"Chile\", \"China\", \"Colombia\", \"Costa Rica\", \"Denmark\", \"Dominican Republic\", \"Ecuador\", \"El Salvador\", \"Finland\", \"France\", \"Gabon\", \"Ghana\", \"Greece\", \"Guatemala\", \"Guinea\", \"Honduras\", \"India\", \"Israel\", \"Italy\", \"Jamaica\", \"Jordan\", \"Kenya\", \"Kuwait\", \"Madagascar\", \"Malawi\", \"Malaysia\", \"Mali\", \"Mauritania\", \"Mauritius\", \"Mexico\", \"Mongolia\", \"Morocco\", \"Nepal\", \"Netherlands\", \"Niger\", \"Nigeria\", \"Norway\", \"Oman\", \"Pakistan\", \"Panama\", \"Peru\", \"Philippines\", \"Portugal\", \"Saudi Arabia\", \"Senegal\", \"Sierra Leone\", \"Singapore\", \"South Africa\", \"Spain\", \"Sri Lanka\", \"Sudan\", \"Sweden\", \"Switzerland\", \"Thailand\", \"Togo\", \"Tunisia\", \"Turkey\", \"Uganda\", \"United Kingdom\", \"United States\", \"Uruguay\"]\n",
    "\n",
    "println(country_list[1:10])\n",
    "println(country_list[11:20])"
   ]
  },
  {
   "cell_type": "code",
   "execution_count": 6,
   "metadata": {},
   "outputs": [
    {
     "data": {
      "text/html": [
       "<table class=\"data-frame\"><thead><tr><th></th><th>Albania</th><th>Argentina</th><th>Bahrain</th><th>Bangladesh</th><th>Benin</th><th>Botswana</th><th>Brazil</th></tr><tr><th></th><th>Float64</th><th>Float64</th><th>Float64</th><th>Float64</th><th>Float64</th><th>Float64</th><th>Float64</th></tr></thead><tbody><p>481 rows × 71 columns (omitted printing of 64 columns)</p><tr><th>1</th><td>-0.607821</td><td>0.158075</td><td>0.536099</td><td>0.0338215</td><td>0.0795047</td><td>-0.594089</td><td>0.277666</td></tr><tr><th>2</th><td>-0.464151</td><td>0.0569437</td><td>0.0384434</td><td>0.0642544</td><td>-0.0122951</td><td>0.476282</td><td>-0.609038</td></tr><tr><th>3</th><td>-0.612214</td><td>-0.260948</td><td>0.0307429</td><td>-0.050077</td><td>-0.477571</td><td>-0.453994</td><td>-0.0796722</td></tr><tr><th>4</th><td>-0.105525</td><td>0.308849</td><td>-0.0303821</td><td>0.146951</td><td>-0.445811</td><td>0.0786617</td><td>-0.272888</td></tr><tr><th>5</th><td>-0.104867</td><td>-0.328525</td><td>-0.678912</td><td>0.0926796</td><td>-0.157423</td><td>0.619903</td><td>0.288675</td></tr><tr><th>6</th><td>-0.133047</td><td>0.518465</td><td>-0.529546</td><td>-0.0707904</td><td>-0.32237</td><td>0.28597</td><td>-0.0643764</td></tr><tr><th>7</th><td>0.119297</td><td>0.430298</td><td>0.0451691</td><td>0.18406</td><td>0.635021</td><td>0.172642</td><td>-0.348543</td></tr><tr><th>8</th><td>0.254985</td><td>0.409431</td><td>-0.0493667</td><td>-0.135353</td><td>0.245807</td><td>0.419734</td><td>-0.0689512</td></tr><tr><th>9</th><td>-0.322243</td><td>-0.483228</td><td>-0.0476727</td><td>-0.39162</td><td>0.633765</td><td>-0.73073</td><td>-0.0697327</td></tr><tr><th>10</th><td>-0.508925</td><td>-0.449859</td><td>-0.259636</td><td>0.115038</td><td>-0.0199322</td><td>0.753259</td><td>0.270454</td></tr><tr><th>11</th><td>-0.248949</td><td>-0.506224</td><td>0.054705</td><td>0.0478241</td><td>-0.390391</td><td>-0.37958</td><td>-0.324635</td></tr><tr><th>12</th><td>-0.202737</td><td>0.360657</td><td>0.277284</td><td>-0.16928</td><td>-0.280842</td><td>-0.1568</td><td>-0.423671</td></tr><tr><th>13</th><td>0.202246</td><td>0.129769</td><td>-0.762314</td><td>-0.0421908</td><td>0.316679</td><td>-0.371226</td><td>0.295909</td></tr><tr><th>14</th><td>0.38185</td><td>0.276808</td><td>0.586306</td><td>-0.0731008</td><td>0.205734</td><td>-0.918453</td><td>-0.521706</td></tr><tr><th>15</th><td>0.178449</td><td>-0.223127</td><td>0.655646</td><td>0.135383</td><td>-0.0115495</td><td>0.554447</td><td>-0.0876427</td></tr><tr><th>16</th><td>0.182869</td><td>0.0207638</td><td>-0.612253</td><td>0.0709158</td><td>-0.579859</td><td>-0.433397</td><td>0.258165</td></tr><tr><th>17</th><td>-0.211163</td><td>0.111904</td><td>-0.107682</td><td>-0.14632</td><td>-0.604689</td><td>-0.713851</td><td>0.267892</td></tr><tr><th>18</th><td>-0.457703</td><td>0.330467</td><td>-0.0364895</td><td>-0.151467</td><td>0.0358692</td><td>0.822715</td><td>0.0600725</td></tr><tr><th>19</th><td>-0.136437</td><td>0.325003</td><td>-0.10683</td><td>-0.0639736</td><td>0.536198</td><td>-0.751738</td><td>-0.0882814</td></tr><tr><th>20</th><td>-0.302805</td><td>0.490682</td><td>0.0759541</td><td>-0.153816</td><td>0.0883035</td><td>0.417595</td><td>0.079745</td></tr><tr><th>21</th><td>-0.219838</td><td>0.00953618</td><td>0.0623134</td><td>-0.022549</td><td>-0.342244</td><td>-0.470961</td><td>-0.181761</td></tr><tr><th>22</th><td>0.17531</td><td>-0.0094958</td><td>-0.46232</td><td>-0.982312</td><td>0.39876</td><td>0.296545</td><td>-0.229734</td></tr><tr><th>23</th><td>-0.33829</td><td>0.0100276</td><td>-0.0844471</td><td>0.403684</td><td>-0.116077</td><td>-0.418875</td><td>0.211878</td></tr><tr><th>24</th><td>0.714454</td><td>-0.00979044</td><td>0.191926</td><td>-0.249416</td><td>0.398478</td><td>-0.174893</td><td>0.39781</td></tr><tr><th>25</th><td>0.599155</td><td>-0.00949501</td><td>-0.191096</td><td>-0.327364</td><td>-0.0384418</td><td>0.462177</td><td>-0.493056</td></tr><tr><th>26</th><td>1.21086</td><td>-0.00985537</td><td>-0.0676471</td><td>1.16356</td><td>0.466575</td><td>0.435299</td><td>-0.041264</td></tr><tr><th>27</th><td>-0.40434</td><td>0.00956518</td><td>-0.633805</td><td>-0.206197</td><td>0.293321</td><td>0.221193</td><td>1.11342</td></tr><tr><th>28</th><td>-1.36353</td><td>0.00954705</td><td>0.685669</td><td>0.256071</td><td>-0.435712</td><td>0.47735</td><td>-0.00794696</td></tr><tr><th>29</th><td>1.83551</td><td>0.00975893</td><td>0.728396</td><td>0.070415</td><td>-0.468957</td><td>-0.50815</td><td>-0.0145895</td></tr><tr><th>30</th><td>-0.244784</td><td>0.00994331</td><td>-0.069574</td><td>-0.293784</td><td>0.244144</td><td>0.485412</td><td>-0.155008</td></tr><tr><th>&vellip;</th><td>&vellip;</td><td>&vellip;</td><td>&vellip;</td><td>&vellip;</td><td>&vellip;</td><td>&vellip;</td><td>&vellip;</td></tr></tbody></table>"
      ],
      "text/latex": [
       "\\begin{tabular}{r|cccccccc}\n",
       "\t& Albania & Argentina & Bahrain & Bangladesh & Benin & Botswana & Brazil & \\\\\n",
       "\t\\hline\n",
       "\t& Float64 & Float64 & Float64 & Float64 & Float64 & Float64 & Float64 & \\\\\n",
       "\t\\hline\n",
       "\t1 & -0.607821 & 0.158075 & 0.536099 & 0.0338215 & 0.0795047 & -0.594089 & 0.277666 & $\\dots$ \\\\\n",
       "\t2 & -0.464151 & 0.0569437 & 0.0384434 & 0.0642544 & -0.0122951 & 0.476282 & -0.609038 & $\\dots$ \\\\\n",
       "\t3 & -0.612214 & -0.260948 & 0.0307429 & -0.050077 & -0.477571 & -0.453994 & -0.0796722 & $\\dots$ \\\\\n",
       "\t4 & -0.105525 & 0.308849 & -0.0303821 & 0.146951 & -0.445811 & 0.0786617 & -0.272888 & $\\dots$ \\\\\n",
       "\t5 & -0.104867 & -0.328525 & -0.678912 & 0.0926796 & -0.157423 & 0.619903 & 0.288675 & $\\dots$ \\\\\n",
       "\t6 & -0.133047 & 0.518465 & -0.529546 & -0.0707904 & -0.32237 & 0.28597 & -0.0643764 & $\\dots$ \\\\\n",
       "\t7 & 0.119297 & 0.430298 & 0.0451691 & 0.18406 & 0.635021 & 0.172642 & -0.348543 & $\\dots$ \\\\\n",
       "\t8 & 0.254985 & 0.409431 & -0.0493667 & -0.135353 & 0.245807 & 0.419734 & -0.0689512 & $\\dots$ \\\\\n",
       "\t9 & -0.322243 & -0.483228 & -0.0476727 & -0.39162 & 0.633765 & -0.73073 & -0.0697327 & $\\dots$ \\\\\n",
       "\t10 & -0.508925 & -0.449859 & -0.259636 & 0.115038 & -0.0199322 & 0.753259 & 0.270454 & $\\dots$ \\\\\n",
       "\t11 & -0.248949 & -0.506224 & 0.054705 & 0.0478241 & -0.390391 & -0.37958 & -0.324635 & $\\dots$ \\\\\n",
       "\t12 & -0.202737 & 0.360657 & 0.277284 & -0.16928 & -0.280842 & -0.1568 & -0.423671 & $\\dots$ \\\\\n",
       "\t13 & 0.202246 & 0.129769 & -0.762314 & -0.0421908 & 0.316679 & -0.371226 & 0.295909 & $\\dots$ \\\\\n",
       "\t14 & 0.38185 & 0.276808 & 0.586306 & -0.0731008 & 0.205734 & -0.918453 & -0.521706 & $\\dots$ \\\\\n",
       "\t15 & 0.178449 & -0.223127 & 0.655646 & 0.135383 & -0.0115495 & 0.554447 & -0.0876427 & $\\dots$ \\\\\n",
       "\t16 & 0.182869 & 0.0207638 & -0.612253 & 0.0709158 & -0.579859 & -0.433397 & 0.258165 & $\\dots$ \\\\\n",
       "\t17 & -0.211163 & 0.111904 & -0.107682 & -0.14632 & -0.604689 & -0.713851 & 0.267892 & $\\dots$ \\\\\n",
       "\t18 & -0.457703 & 0.330467 & -0.0364895 & -0.151467 & 0.0358692 & 0.822715 & 0.0600725 & $\\dots$ \\\\\n",
       "\t19 & -0.136437 & 0.325003 & -0.10683 & -0.0639736 & 0.536198 & -0.751738 & -0.0882814 & $\\dots$ \\\\\n",
       "\t20 & -0.302805 & 0.490682 & 0.0759541 & -0.153816 & 0.0883035 & 0.417595 & 0.079745 & $\\dots$ \\\\\n",
       "\t21 & -0.219838 & 0.00953618 & 0.0623134 & -0.022549 & -0.342244 & -0.470961 & -0.181761 & $\\dots$ \\\\\n",
       "\t22 & 0.17531 & -0.0094958 & -0.46232 & -0.982312 & 0.39876 & 0.296545 & -0.229734 & $\\dots$ \\\\\n",
       "\t23 & -0.33829 & 0.0100276 & -0.0844471 & 0.403684 & -0.116077 & -0.418875 & 0.211878 & $\\dots$ \\\\\n",
       "\t24 & 0.714454 & -0.00979044 & 0.191926 & -0.249416 & 0.398478 & -0.174893 & 0.39781 & $\\dots$ \\\\\n",
       "\t25 & 0.599155 & -0.00949501 & -0.191096 & -0.327364 & -0.0384418 & 0.462177 & -0.493056 & $\\dots$ \\\\\n",
       "\t26 & 1.21086 & -0.00985537 & -0.0676471 & 1.16356 & 0.466575 & 0.435299 & -0.041264 & $\\dots$ \\\\\n",
       "\t27 & -0.40434 & 0.00956518 & -0.633805 & -0.206197 & 0.293321 & 0.221193 & 1.11342 & $\\dots$ \\\\\n",
       "\t28 & -1.36353 & 0.00954705 & 0.685669 & 0.256071 & -0.435712 & 0.47735 & -0.00794696 & $\\dots$ \\\\\n",
       "\t29 & 1.83551 & 0.00975893 & 0.728396 & 0.070415 & -0.468957 & -0.50815 & -0.0145895 & $\\dots$ \\\\\n",
       "\t30 & -0.244784 & 0.00994331 & -0.069574 & -0.293784 & 0.244144 & 0.485412 & -0.155008 & $\\dots$ \\\\\n",
       "\t$\\dots$ & $\\dots$ & $\\dots$ & $\\dots$ & $\\dots$ & $\\dots$ & $\\dots$ & $\\dots$ &  \\\\\n",
       "\\end{tabular}\n"
      ],
      "text/plain": [
       "\u001b[1m481×71 DataFrame\u001b[0m\n",
       "\u001b[1m Row \u001b[0m│\u001b[1m Albania     \u001b[0m\u001b[1m Argentina   \u001b[0m\u001b[1m Bahrain    \u001b[0m\u001b[1m Bangladesh \u001b[0m\u001b[1m Benin      \u001b[0m\u001b[1m Botswana \u001b[0m ⋯\n",
       "\u001b[1m     \u001b[0m│\u001b[90m Float64     \u001b[0m\u001b[90m Float64     \u001b[0m\u001b[90m Float64    \u001b[0m\u001b[90m Float64    \u001b[0m\u001b[90m Float64    \u001b[0m\u001b[90m Float64  \u001b[0m ⋯\n",
       "─────┼──────────────────────────────────────────────────────────────────────────\n",
       "   1 │ -0.607821     0.158075     0.536099    0.0338215   0.0795047  -0.594089 ⋯\n",
       "   2 │ -0.464151     0.0569437    0.0384434   0.0642544  -0.0122951   0.476282\n",
       "   3 │ -0.612214    -0.260948     0.0307429  -0.050077   -0.477571   -0.453994\n",
       "   4 │ -0.105525     0.308849    -0.0303821   0.146951   -0.445811    0.078661\n",
       "   5 │ -0.104867    -0.328525    -0.678912    0.0926796  -0.157423    0.619903 ⋯\n",
       "   6 │ -0.133047     0.518465    -0.529546   -0.0707904  -0.32237     0.28597\n",
       "   7 │  0.119297     0.430298     0.0451691   0.18406     0.635021    0.172642\n",
       "   8 │  0.254985     0.409431    -0.0493667  -0.135353    0.245807    0.419734\n",
       "   9 │ -0.322243    -0.483228    -0.0476727  -0.39162     0.633765   -0.73073  ⋯\n",
       "  10 │ -0.508925    -0.449859    -0.259636    0.115038   -0.0199322   0.753259\n",
       "  11 │ -0.248949    -0.506224     0.054705    0.0478241  -0.390391   -0.37958\n",
       "  ⋮  │      ⋮            ⋮           ⋮           ⋮           ⋮           ⋮     ⋱\n",
       " 472 │  1.67335      0.518213     0.417332    0.596396    0.826508   -1.17337\n",
       " 473 │ -0.65147     -0.433073    -0.47871    -0.745721   -0.305187   -1.20147  ⋯\n",
       " 474 │  1.32595      0.139314    -0.116869   -0.606415    0.754822   -1.28002\n",
       " 475 │  0.711983    -0.0445303    0.528827    0.634246    0.542       1.5928\n",
       " 476 │ -0.879702     0.0922632   -0.331661   -0.634819    0.265521   -1.14275\n",
       " 477 │  0.896827    -0.137583     0.310982   -0.658972   -0.155904   -1.44651  ⋯\n",
       " 478 │  0.728201    -0.227054     0.411815   -0.168132   -0.350024    1.54149\n",
       " 479 │  0.485264    -0.495585     0.532827    0.489321    0.436006    1.18021\n",
       " 480 │  0.00684741  -0.46616      0.394851   -0.737586   -0.362255    1.63403\n",
       " 481 │  0.0732404    0.00967461  -0.0914159  -0.22136     0.386484   -1.15804  ⋯\n",
       "\u001b[36m                                                 66 columns and 460 rows omitted\u001b[0m"
      ]
     },
     "execution_count": 6,
     "metadata": {},
     "output_type": "execute_result"
    }
   ],
   "source": [
    "eqnpara1 = CSV.read(string(@__DIR__,\"/forecastmodel7/Eqn1.csv\"),normalizenames = true, DataFrame)\n",
    "eqnpara2 = CSV.read(string(@__DIR__,\"/forecastmodel7/Eqn2.csv\"),normalizenames = true, DataFrame)\n",
    "eqnpara3 = CSV.read(string(@__DIR__,\"/forecastmodel7/Eqn3.csv\"),normalizenames = true, DataFrame)"
   ]
  },
  {
   "cell_type": "markdown",
   "metadata": {},
   "source": [
    "Getting time series data"
   ]
  },
  {
   "cell_type": "code",
   "execution_count": 7,
   "metadata": {},
   "outputs": [
    {
     "data": {
      "text/plain": [
       "getCleandataFrame (generic function with 1 method)"
      ]
     },
     "execution_count": 7,
     "metadata": {},
     "output_type": "execute_result"
    }
   ],
   "source": [
    "function getCleandataFrame(country)\n",
    "    df_year=df[!,\"Year\"][2:end]\n",
    "    df1=df[!,string(country,\"_yt\")]  #GDP\n",
    "    df2=df[!,string(country,\"_kt\")] #capital per capita\n",
    "    df3=df[!,string(country,\"_srate\")][2:end] # savig rate\n",
    "    df6= df[!,string(country,\"_et\")] #population\n",
    "    df4= df[!,string(country,\"_nt\")][2:end] #population\n",
    "    df8=df6[1:end-1] .-df6[2:end]#de\n",
    "    df6=df6[2:end]\n",
    "    df5=df2[1:end-1] .-df2[2:end] #dk\n",
    "    df2=df2[2:end]\n",
    "    df7= df1[1:end-1] .-df1[2:end] # dydt\n",
    "    df1=df1[2:end]\n",
    "    newdf= DataFrame(Year=df_year,yt=df1, k=df2, srate=df3,nt=df4,dkdt=df5,dydt=df7,dedt=df8,et=df6)\n",
    "    newdf=newdf[completecases(newdf), :]\n",
    "    return newdf, df8, df5, df7\n",
    "end\n"
   ]
  },
  {
   "cell_type": "code",
   "execution_count": 8,
   "metadata": {},
   "outputs": [
    {
     "data": {
      "text/plain": [
       "generate_data (generic function with 1 method)"
      ]
     },
     "execution_count": 8,
     "metadata": {},
     "output_type": "execute_result"
    }
   ],
   "source": [
    "df = CSV.read(string(@__DIR__, \"/compileddf.csv\"),\n",
    "    normalizenames = true, \n",
    "    DataFrame)\n",
    "\n",
    "function generate_data(country)\n",
    "    newdf, df8, df5, df7=getCleandataFrame(country)\n",
    "    years_available=size(newdf)[1]\n",
    "\n",
    "    st = interpolate(newdf[!,\"srate\"], BSpline(Quadratic(Free(OnCell()))))\n",
    "    nt = interpolate(newdf[!,\"nt\"], BSpline(Quadratic(Free(OnCell()))))\n",
    "    kdata= newdf[!,\"k\"]\n",
    "    ydata=newdf[!,\"yt\"]\n",
    "    edata=newdf[!,\"et\"]\n",
    "    kic= newdf[!,\"k\"][1]\n",
    "    yic=newdf[!,\"yt\"][1]\n",
    "    eic=newdf[!,\"et\"][1]\n",
    "    \n",
    "    et = interpolate(edata, BSpline(Quadratic(Free(OnCell()))));\n",
    "    kt = interpolate(kdata, BSpline(Quadratic(Free(OnCell()))));\n",
    "    yt = interpolate(ydata, BSpline(Quadratic(Free(OnCell()))));\n",
    "\n",
    "    \n",
    "return years_available, st, nt, kdata, ydata, edata, kic, yic, eic, kt, yt, et, df8, df5, df7\n",
    "end"
   ]
  },
  {
   "cell_type": "code",
   "execution_count": 9,
   "metadata": {},
   "outputs": [
    {
     "data": {
      "text/plain": [
       "generate_parameters_and_predictions_eqn1 (generic function with 1 method)"
      ]
     },
     "execution_count": 9,
     "metadata": {},
     "output_type": "execute_result"
    }
   ],
   "source": [
    "function generate_parameters_and_predictions_eqn1(ann,country,set1)\n",
    "    println(\"Generating data for country: \", country)\n",
    "\n",
    "    nnp1 = Array(eqnpara1[!,country])\n",
    "    \n",
    "    years_available, st, nt, kdata, ydata, edata, kic, yic, eic, kt, yt, et, df8, df5, df7 = generate_data(country)  \n",
    "    \n",
    "    function solownneqn1(du,u,nnp,t)\n",
    "    sₜ = st(t) #savings rate\n",
    "    nₜ = nt(t)\n",
    "    yₜ = yt(t)    \n",
    "    α,δ,gᵦ,gₐ = set1\n",
    "    k = u[1]\n",
    "    nn = ann(t,nnp)[1]    \n",
    "    du[1] = sₜ*yₜ-((δ+nₜ+gᵦ)*k * nn) # rate of change of kt\n",
    "        return du\n",
    "    end\n",
    "\n",
    "    function predict1(θ)\n",
    "        Array(solve(prob_solownneqn1, Tsit5(), u0=u01, p=θ,abstol=1e-4, reltol=1e-4, saveat = nntsteps))\n",
    "    end\n",
    "    \n",
    "    function loss1(θ)\n",
    "        pred = predict1(θ)\n",
    "        Flux.mse(kdata,pred), pred \n",
    "    end\n",
    "\n",
    "    losses1 = []\n",
    "    callback(θ,l,pred) = begin\n",
    "        push!(losses1, l)\n",
    "        false\n",
    "    end\n",
    "\n",
    "    nntspan = (1.0e0,Float64(years_available)) ## the year is hard coded, to be changed later\n",
    "    nndatasize = Int(years_available)\n",
    "    nntsteps = range(nntspan[1], nntspan[2], length=nndatasize)\n",
    "\n",
    "    u01 = Float32[kic]\n",
    "    prob_solownneqn1 = ODEProblem(solownneqn1, u01, nntspan, nnp1)\n",
    "    nnsolution = solve(prob_solownneqn1, TRBDF2(),p=nnp1, abstol=1e-4, reltol=1e-4, saveat = nntsteps)\n",
    "    res1= DiffEqFlux.sciml_train(loss1, nnp1, ADAM(0.05),cb=callback, maxiters=100)\n",
    "    res1= DiffEqFlux.sciml_train(loss1, res1.minimizer, ADAM(0.01),cb=callback, maxiters=100)\n",
    "    res1= DiffEqFlux.sciml_train(loss1, res1.minimizer, ADAM(0.001),cb=callback, maxiters=100)\n",
    "\n",
    "    function group_years(year, residual)\n",
    "    nntspan = (year,Float64(years_available)) ## the year is hard coded, to be changed later\n",
    "    nndatasize = Int(years_available-year)\n",
    "    nntsteps = range(nntspan[1], nntspan[2], length=nndatasize+1)\n",
    "    u01_1 = Float32[kdata[year]]\n",
    "        function loss_group(θ)\n",
    "            pred = predict1(θ)\n",
    "            Flux.mse(kdata[year:years_available],pred), pred\n",
    "        end\n",
    "    prob_solownneqn1 = ODEProblem(solownneqn1, u01_1, nntspan, residual.minimizer)\n",
    "    nnsolution = solve(prob_solownneqn1, Tsit5(),p=residual.minimizer, abstol=1e-4, reltol=1e-4, saveat = nntsteps)\n",
    "    if year == 30\n",
    "            while ((mean(losses1[end-100:end-50])>=(1.001*mean(losses1[end-49:end]))) || std(losses1[end-49:end]) >=0.001) && length(losses1) <3000\n",
    "            residual= DiffEqFlux.sciml_train(loss_group, residual.minimizer, ADAM(0.0001),cb=callback, maxiters=200)\n",
    "            try\n",
    "                residual= DiffEqFlux.sciml_train(loss_group, residual.minimizer, BFGS(initial_stepnorm=0.000001/100),cb=callback, maxiters=100)\n",
    "            catch e\n",
    "                print(\"Problematics\")\n",
    "                residual= DiffEqFlux.sciml_train(loss_group, residual.minimizer, ADAM(0.0001),cb=callback, maxiters=100)\n",
    "            end\n",
    "            residual= DiffEqFlux.sciml_train(loss_group, residual.minimizer, ADAM(0.00001),cb=callback, maxiters=100)\n",
    "            try\n",
    "                residual= DiffEqFlux.sciml_train(loss_group, residual.minimizer, BFGS(initial_stepnorm=0.000001/100),cb=callback, maxiters=100)\n",
    "            catch e\n",
    "                residual= DiffEqFlux.sciml_train(loss_group, residual.minimizer, ADAM(0.00001),cb=callback, maxiters=100)\n",
    "                print(\"Problematics\")\n",
    "            end  \n",
    "            end\n",
    "    else\n",
    "        residual= DiffEqFlux.sciml_train(loss_group, residual.minimizer, ADAM(0.001),cb=callback, maxiters=150)\n",
    "        try\n",
    "            residual= DiffEqFlux.sciml_train(loss_group, residual.minimizer, BFGS(initial_stepnorm=0.001),cb=callback, maxiters=150)\n",
    "        catch e\n",
    "            residual= DiffEqFlux.sciml_train(loss_group, residual.minimizer, ADAM(0.0001),cb=callback, maxiters=150)\n",
    "            print(\"Unable to train with BFGS (instability)\")\n",
    "        end\n",
    "\n",
    "    end \n",
    "        return residual\n",
    "    end\n",
    "\n",
    "    try\n",
    "    res1 = group_years(20, res1)\n",
    "    catch e\n",
    "        println(e)\n",
    "    end\n",
    "    \n",
    "    try\n",
    "    res1 = group_years(15, res1)\n",
    "    catch e\n",
    "        println(e)\n",
    "    end\n",
    "    \n",
    "    try\n",
    "    res1 = group_years(10, res1)\n",
    "    catch e\n",
    "        println(e)\n",
    "    end\n",
    "    \n",
    "    try\n",
    "    res1 = group_years(5, res1)\n",
    "    catch e\n",
    "        println(e)\n",
    "    end\n",
    "\n",
    "    nntspan = (1,Float64(years_available)) ## the year is hard coded, to be changed later\n",
    "    nndatasize = Int(years_available)\n",
    "    nntsteps = range(nntspan[1], nntspan[2], length=nndatasize+1)\n",
    "        function loss_1(θ)\n",
    "            pred = predict1(θ)\n",
    "            Flux.mse(kdata[1:years_available],pred[1:years_available]), pred[1:years_available] \n",
    "        end\n",
    "    prob_solownneqn1 = ODEProblem(solownneqn1, u01, nntspan, res1.minimizer)\n",
    "    nnsolution = solve(prob_solownneqn1, Tsit5(),p=res1.minimizer, abstol=1e-4, reltol=1e-4, saveat = nntsteps)\n",
    "\n",
    "    res1= DiffEqFlux.sciml_train(loss_1, res1.minimizer, ADAM(0.1),cb=callback, maxiters=200)\n",
    "    res1= DiffEqFlux.sciml_train(loss_1, res1.minimizer, BFGS(initial_stepnorm=0.1),cb=callback, maxiters=200)\n",
    "    res1= DiffEqFlux.sciml_train(loss_1, res1.minimizer, ADAM(0.01),cb=callback, maxiters=200)\n",
    "    res1= DiffEqFlux.sciml_train(loss_1, res1.minimizer, BFGS(initial_stepnorm=0.01),cb=callback, maxiters=200)\n",
    "    res1= DiffEqFlux.sciml_train(loss_1, res1.minimizer, ADAM(0.001),cb=callback, maxiters=200)\n",
    "    res1= DiffEqFlux.sciml_train(loss_1, res1.minimizer, BFGS(initial_stepnorm=0.001),cb=callback, maxiters=200)\n",
    "    res1= DiffEqFlux.sciml_train(loss_1, res1.minimizer, ADAM(0.0001),cb=callback, maxiters=200)\n",
    "    \n",
    "    \n",
    "    return years_available, st, nt, kdata, ydata, edata, kic, yic, eic, kt, yt, et, df8, df5, df7, res1.minimizer\n",
    "    end"
   ]
  },
  {
   "cell_type": "code",
   "execution_count": 10,
   "metadata": {},
   "outputs": [
    {
     "data": {
      "text/plain": [
       "generate_parameters_and_predictions_eqn2 (generic function with 1 method)"
      ]
     },
     "execution_count": 10,
     "metadata": {},
     "output_type": "execute_result"
    }
   ],
   "source": [
    "function generate_parameters_and_predictions_eqn2(ann, ann12 ,country,set1, res1minimizer, years_available, st, nt, kdata, ydata, edata, kic, yic, eic, kt, yt, et)\n",
    "    println(\"Generating data for country: \", country)\n",
    "\n",
    "    nnp2 = Array(eqnpara2[!,country])\n",
    "       \n",
    "    \n",
    "    function solownneqn12(du,u,nnp,t)\n",
    "    sₜ = st(t) #savings rate\n",
    "    nₜ = nt(t)\n",
    "    kₜ = kt(t)\n",
    "    yₜ = yt(t)    \n",
    "    α,δ,gᵦ,gₐ = set1\n",
    "    k,y = u\n",
    "    z = ann(t,res1minimizer)\n",
    "    nn = ann12(t,nnp)    \n",
    "    du[1] = sₜ*yₜ-((δ+nₜ+gᵦ)*k * z[1]) # rate of change of kt\n",
    "    du[2] = y*(gᵦ+α*du[1]/kₜ* nn[1])# rate of change of yt\n",
    "\n",
    "        return du\n",
    "    end\n",
    "\n",
    "    function predict2(θ)\n",
    "        Array(concrete_solve(prob_solownneqn12, TRBDF2(), u02, θ, saveat = nntsteps,\n",
    "                             abstol=1e-4, reltol=1e-4))\n",
    "    end\n",
    "\n",
    "    # No regularisation right now\n",
    "    function loss2(θ)\n",
    "        pred = predict2(θ)\n",
    "        sum(abs2, (ydata .- pred[2,:])), pred\n",
    "        end\n",
    "\n",
    "        losses2 = []\n",
    "        callback(θ,l,pred) = begin\n",
    "            push!(losses2, l)\n",
    "            false\n",
    "        end\n",
    "\n",
    "    nntspan = (1.0e0,Float64(years_available)) ## the year is hard coded, to be changed later\n",
    "    nndatasize = Int(years_available)\n",
    "    nntsteps = range(nntspan[1], nntspan[2], length=nndatasize)\n",
    "    u02 = Float32[kic,yic] \n",
    "    prob_solownneqn12 = ODEProblem(solownneqn12, u02, nntspan, nnp2)\n",
    "    nnsolution2 = solve(prob_solownneqn12, TRBDF2(),p=nnp2, abstol=1e-4, reltol=1e-4, saveat = nntsteps)\n",
    "\n",
    "    res2= DiffEqFlux.sciml_train(loss2, nnp2, ADAM(0.0001),cb=callback, maxiters=100)\n",
    "    \n",
    "    \n",
    "    while ((mean(losses2[end-100:end-50])>=(1.001*mean(losses2[end-49:end]))) || std(losses2[end-49:end]) >=0.001) && length(losses2) <3000\n",
    "    tick()\n",
    "    res2= DiffEqFlux.sciml_train(loss2, res2.minimizer, ADAM(0.0001),cb=callback, maxiters=200)\n",
    "    try\n",
    "        res2= DiffEqFlux.sciml_train(loss2, res2.minimizer, BFGS(initial_stepnorm=0.000001/100),cb=callback, maxiters=100)\n",
    "\n",
    "    catch e\n",
    "        print(\"Problematics\")\n",
    "        res2= DiffEqFlux.sciml_train(loss2, res2.minimizer, ADAM(0.0001),cb=callback, maxiters=100)\n",
    "    end\n",
    "    res2= DiffEqFlux.sciml_train(loss2, res2.minimizer, ADAM(0.00001),cb=callback, maxiters=100)\n",
    "    try\n",
    "        res2= DiffEqFlux.sciml_train(loss2, res2.minimizer, BFGS(initial_stepnorm=0.000001/100),cb=callback, maxiters=100)\n",
    "    catch e\n",
    "        res2= DiffEqFlux.sciml_train(loss2, res2.minimizer, ADAM(0.00001),cb=callback, maxiters=100)\n",
    "        print(\"Problematics\")\n",
    "    end\n",
    "    timed = tok()\n",
    "    if timed > 1800\n",
    "        println(\"Took too long\", timed)\n",
    "        pred = Array{Float64}(undef, 3, getfield(size(kdata), 1))\n",
    "        return res2.minimizer\n",
    "    end \n",
    "    end\n",
    "    \n",
    "\n",
    "    return res2.minimizer\n",
    "    end"
   ]
  },
  {
   "cell_type": "code",
   "execution_count": 11,
   "metadata": {},
   "outputs": [
    {
     "data": {
      "text/plain": [
       "generate_parameters_and_predictions_eqn3 (generic function with 1 method)"
      ]
     },
     "execution_count": 11,
     "metadata": {},
     "output_type": "execute_result"
    }
   ],
   "source": [
    "function generate_parameters_and_predictions_eqn3(ann, ann12, ann123, country,set1, res1minimizer, res2minimizer, years_available, st, nt, kdata, ydata, edata, kic, yic, eic, kt, yt, et)\n",
    "    println(\"Generating data for country: \", country)\n",
    "\n",
    "    nnp3 = Array(eqnpara3[!,country])\n",
    "    \n",
    "    years_available, st, nt, kdata, ydata, edata, kic, yic, eic, kt, yt, et, df8, df5, df7 = generate_data(country)  \n",
    " \n",
    "    \n",
    "    function solownneqn123ic(du,u,nnp,t)\n",
    "    sₜ = st(t) #savings rate\n",
    "    nₜ = nt(t)\n",
    "    α,δ,gᵦ,gₐ = set1\n",
    "    k,y,e = u\n",
    "\n",
    "    nn = ann123(t,nnp) \n",
    "    zk = ann(t,res1minimizer)\n",
    "    zy = ann12(t,res2minimizer) \n",
    "\n",
    "    du[1] = sₜ*y-((δ+nₜ+gᵦ)*k * zk[1]) # rate of change of kt\n",
    "    du[2] = y*(gᵦ+α*du[1]/k * zy[1])\n",
    "    du[3] = e*(-gₐ+du[2]/y) * nn[1]\n",
    "\n",
    "        return du\n",
    "    end\n",
    "    function predict3(θ)\n",
    "        Array(concrete_solve(prob_solownneqn123, TRBDF2(), u03, θ, saveat = nntsteps,\n",
    "                             abstol=1e-4, reltol=1e-4))\n",
    "    end\n",
    "    \n",
    "    function loss3(θ)\n",
    "        pred = predict3(θ)\n",
    "        sum(abs2, (edata .- pred[3,:])), pred\n",
    "    end\n",
    "\n",
    "    losses3 = []\n",
    "    callback(θ,l,pred) = begin\n",
    "        push!(losses3, l)\n",
    "        false\n",
    "    end   \n",
    "\n",
    "    nntspan = (1.0e0,Float64(years_available)) ## the year is hard coded, to be changed later\n",
    "        nndatasize = Int(years_available)\n",
    "        nntsteps = range(nntspan[1], nntspan[2], length=nndatasize)\n",
    "        u03 = Float32[kic,yic,eic] \n",
    "    prob_solownneqn123 = ODEProblem(solownneqn123ic, u03, nntspan, nnp3)\n",
    "    nnsolution = solve(prob_solownneqn123, TRBDF2(),p=nnp3, abstol=1e-4, reltol=1e-4, saveat = nntsteps)\n",
    "\n",
    "    res3= DiffEqFlux.sciml_train(loss3, nnp3, ADAM(0.0001),cb=callback, maxiters=100)\n",
    "\n",
    "    while ((mean(losses3[end-100:end-50])>=(1.001*mean(losses3[end-49:end]))) || std(losses3[end-49:end]) >=0.001) && length(losses3) <3000\n",
    "        tick()\n",
    "        res3= DiffEqFlux.sciml_train(loss3, res3.minimizer, ADAM(0.0001),cb=callback, maxiters=200)\n",
    "        try\n",
    "            res3= DiffEqFlux.sciml_train(loss3, res3.minimizer, BFGS(initial_stepnorm=0.000001/100),cb=callback, maxiters=100)\n",
    "\n",
    "        catch e\n",
    "            print(\"Problematics\")\n",
    "            res3= DiffEqFlux.sciml_train(loss3, res3.minimizer, ADAM(0.0001),cb=callback, maxiters=100)\n",
    "        end\n",
    "        res3= DiffEqFlux.sciml_train(loss3, res3.minimizer, ADAM(0.00001),cb=callback, maxiters=100)\n",
    "        try\n",
    "            res3= DiffEqFlux.sciml_train(loss3, res3.minimizer, BFGS(initial_stepnorm=0.000001/100),cb=callback, maxiters=100)\n",
    "        catch e\n",
    "            res3= DiffEqFlux.sciml_train(loss3, res3.minimizer, ADAM(0.00001),cb=callback, maxiters=100)\n",
    "            print(\"Problematics\")\n",
    "        end\n",
    "\n",
    "        timed = tok()\n",
    "        if timed > 1800\n",
    "            println(\"Took too long\", timed)\n",
    "            pred = Array{Float64}(undef, 3, getfield(size(kdata), 1))\n",
    "            return res3.minimizer\n",
    "        end \n",
    "    end\n",
    "    \n",
    "\n",
    "    return res3.minimizer\n",
    "    end"
   ]
  },
  {
   "cell_type": "code",
   "execution_count": 12,
   "metadata": {},
   "outputs": [
    {
     "data": {
      "text/plain": [
       "solve_from_initial_conditions (generic function with 1 method)"
      ]
     },
     "execution_count": 12,
     "metadata": {},
     "output_type": "execute_result"
    }
   ],
   "source": [
    "function solve_from_initial_conditions(ann, ann12, ann123, res1minimizer, res2minimizer, res3minimizer, set1, st, nt, years_available, kic, yic, eic)\n",
    "    \n",
    "    function solownneqn123(du,u,nnp,t)\n",
    "    sₜ = st(t) #savings rate\n",
    "    nₜ = nt(t)\n",
    "  \n",
    "    α,δ,gᵦ,gₐ = set1\n",
    "    k,y,e = u\n",
    "\n",
    "    nn = ann123(t,res3minimizer)\n",
    "    zk = ann(t,res1minimizer)\n",
    "    zy = ann12(t,res2minimizer) \n",
    "    du[1] = sₜ*y-((δ+nₜ+gᵦ)*k * zk[1]) # rate of change of kt\n",
    "    du[2] = y*(gᵦ+α*du[1]/k * zy[1])\n",
    "    du[3] = e*(-gₐ+du[2]/y) * nn[1]\n",
    "        return du\n",
    "    end\n",
    "\n",
    "    nntspan = (1.0e0,years_available*1.0) ## the year is hard coded, to be changed later\n",
    "    nndatasize = years_available\n",
    "    nntsteps = range(nntspan[1], nntspan[2], length=nndatasize)\n",
    "    u0 = Float32[kic,yic,eic] ## kt initial\n",
    "    prob_solownneqn = ODEProblem(solownneqn123, u0, nntspan)\n",
    "    pred = solve(prob_solownneqn, TRBDF2(), abstol=1e-4, reltol=1e-4, saveat = nntsteps)\n",
    "    \n",
    "    return pred\n",
    "\n",
    "end"
   ]
  },
  {
   "cell_type": "code",
   "execution_count": 13,
   "metadata": {},
   "outputs": [
    {
     "data": {
      "text/plain": [
       "plot_graph (generic function with 1 method)"
      ]
     },
     "execution_count": 13,
     "metadata": {},
     "output_type": "execute_result"
    }
   ],
   "source": [
    " function plot_graph(nnpred,country,nntstepsfull,kdata,ydata,edata)\n",
    "    upscale = 1 #8x upscaling in resolution\n",
    "    fntsm = Plots.font(\"sans-serif\", pointsize=round(12.0*upscale))\n",
    "    fntlg = Plots.font(\"sans-serif\", pointsize=round(16.0*upscale))\n",
    "    default(titlefont=fntlg, guidefont=fntlg, tickfont=fntsm, legendfont=fntsm)\n",
    "    default(size=(550*upscale,400*upscale)) #Plot canvas size\n",
    "    default(dpi=300)\n",
    "    \n",
    "#     fctime = collect(Int(floor(size(nntstepsfull,1)*0.8))+1:1:size(nntstepsfull,1)) \n",
    "# #             println(fctime)\n",
    "#             println(nntstepsfull)\n",
    "    plotkyenn12ic= scatter(xaxis=nntstepsfull,nnpred[1:2,:]',\n",
    "        label=[L\"k_{sol}\" L\"y_{sol}\"],color=[:red :blue],legend=(0.102,0.955),\n",
    "        markershape=[:circle :diamond],markersize=4,\n",
    "        ylabel=L\"k^c_t,y^t_c\",right_margin = 15Plots.mm)\n",
    "            \n",
    "    plot!(plotkyenn12ic,[kdata,ydata],label=[L\"k_{data}\" L\"y_{data}\"],linestyle=[:solid :dash],\n",
    "        color=[:red :blue],ylim=(0,1.5.*round(maximum(kdata);sigdigits=1)),foreground_color_legend = nothing)\n",
    "\n",
    "#     scatter!(plotkyenn12ic,nntstepsfull,nnpred[1:2,:]',\n",
    "#         color=[:red :blue],markershape=[:circle :diamond], markersize=4,label=nothing)\n",
    "\n",
    "    pr = twinx()\n",
    "    \n",
    "#     scatter!(pr,nntstepsfull,nnpred[3,:],\n",
    "#         color=:green,legend=(0.89,0.954), markershape = [:utriangle], markersize=4, label=nothing)\n",
    "\n",
    "    scatter!(pr,nntstepsfull,nnpred[3,:],\n",
    "        label=L\"e_{sol}\",color=:green,legend=(0.89,0.954), markershape = [:utriangle], markersize=4,\n",
    "        ylabel=L\"e^t_c\",right_margin = 15Plots.mm,\n",
    "        foreground_color_legend = nothing,background_color_legend = nothing)\n",
    "            \n",
    "    plot!(pr,edata,label=L\"e_{data}\",color=:green,ylim=(0,1.5.*round(maximum(edata);sigdigits=1)),\n",
    "                linestyle=:dot)\n",
    "    \n",
    " xpts = collect(0:5:5*ceil(length(nntstepsfull)/5))\n",
    "#     if xpts[end] != length(nntsteps)\n",
    "#         push!(xpts,length(nntsteps))\n",
    "        xpts[1]=1\n",
    "#     end\n",
    "    \n",
    "   plot(plotkyenn12ic,xlabel = \"years\",xticks=xpts,box=:on,linewidth=2*upscale)\n",
    "#     display(StatsPlots.plot(pl,xlabel = \"Days post 21 March 2020\",xticks=0:10:110,tickfont=12,\n",
    "#         guidefont = 16,legendfontsize=12,legend=(0.1,0.92),\n",
    "#         dpi=300,box=:on,linewidth=2*upscale))\n",
    "\n",
    "    savefig(string(@__DIR__,\"/all_countries/GivenParams/model7_\",country))\n",
    "end\n"
   ]
  },
  {
   "cell_type": "code",
   "execution_count": 14,
   "metadata": {},
   "outputs": [
    {
     "data": {
      "text/plain": [
       "calculate_metrics (generic function with 1 method)"
      ]
     },
     "execution_count": 14,
     "metadata": {},
     "output_type": "execute_result"
    }
   ],
   "source": [
    "function calculate_metrics(pred,kdata, ydata, edata)\n",
    "    Botswana_k_pred = convert(Array{Float64},pred[1,:])\n",
    "    Botswana_y_pred = convert(Array{Float64},pred[2,:])\n",
    "    Botswana_e_pred = convert(Array{Float64},pred[3,:])\n",
    "    kdata = identity.(kdata)\n",
    "    ydata = identity.(ydata)\n",
    "    edata = identity.(edata)\n",
    "\n",
    "    metrics = Float64[]\n",
    "    push!(metrics,sqL2dist(Botswana_k_pred, identity.(kdata))/length(kdata))\n",
    "    push!(metrics,sqL2dist(Botswana_y_pred, identity.(ydata))/length(ydata)) \n",
    "    push!(metrics,sqL2dist(Botswana_e_pred, identity.(edata))/length(edata))\n",
    "    push!(metrics,L2dist(Botswana_k_pred, identity.(kdata))/length(kdata))\n",
    "    push!(metrics,L2dist(Botswana_y_pred, identity.(ydata))/length(ydata))\n",
    "    push!(metrics,L2dist(Botswana_e_pred, identity.(edata))/length(edata))\n",
    "    push!(metrics,L1dist(convert(Array{Float64},Botswana_k_pred),identity.(kdata))/length(kdata))\n",
    "    push!(metrics,L1dist(convert(Array{Float64},Botswana_y_pred),identity.(ydata))/length(ydata))\n",
    "    push!(metrics,L1dist(convert(Array{Float64},Botswana_e_pred),identity.(edata))/length(edata))\n",
    "\n",
    "    function r2_impl(data,pred)\n",
    "    tss = sum((data .-mean(data)).^2)\n",
    "    rss = sum((data .-pred).^2)\n",
    "    r2 = 1- rss/tss\n",
    "    return r2  \n",
    "    end\n",
    "\n",
    "    push!(metrics,r2_impl(kdata, Botswana_k_pred))\n",
    "    push!(metrics,r2_impl(ydata, Botswana_y_pred))\n",
    "    push!(metrics,r2_impl(edata, Botswana_e_pred))\n",
    "\n",
    "    function Ar2_impl(data,pred, p)\n",
    "    tss = sum((data .-mean(data)).^2)\n",
    "    rss = sum((data .-pred).^2)\n",
    "    r2 = 1- rss/tss\n",
    "    n = size(data)[1]\n",
    "    ar2 = 1 - abs((1 - r2)*(n-1)/(n-p))\n",
    "    return ar2  \n",
    "    end\n",
    "\n",
    "    push!(metrics,Ar2_impl(kdata, Botswana_k_pred, 412))\n",
    "    push!(metrics,Ar2_impl(ydata, Botswana_y_pred, 412))\n",
    "    push!(metrics,Ar2_impl(edata, Botswana_e_pred, 412))\n",
    "\n",
    "    push!(metrics,mean((kdata.- Botswana_k_pred)./kdata)*100)\n",
    "    push!(metrics,mean((ydata.- Botswana_y_pred)./ydata)*100)\n",
    "    push!(metrics,mean((edata.- Botswana_e_pred)./edata)*100)\n",
    "\n",
    "    push!(metrics,mean(abs.((kdata.- Botswana_k_pred)./kdata))*100)\n",
    "    push!(metrics,mean(abs.((ydata.- Botswana_y_pred)./ydata))*100)\n",
    "    push!(metrics,mean(abs.((edata.- Botswana_e_pred)./edata))*100)\n",
    "\n",
    "    push!(metrics,mean(atan.(abs.((kdata.- Botswana_k_pred)./kdata)))*100)\n",
    "    push!(metrics,mean(atan.(abs.((ydata.- Botswana_y_pred)./ydata)))*100)\n",
    "    push!(metrics,mean(atan.(abs.((edata.- Botswana_e_pred)./edata)))*100)\n",
    "\n",
    "    push!(metrics,mean(kdata.- Botswana_k_pred))\n",
    "    push!(metrics,mean(ydata.- Botswana_y_pred))\n",
    "    push!(metrics,mean(edata.- Botswana_e_pred))\n",
    "\n",
    "    function loglikelihood_calc(data,pred)\n",
    "    rss = sum((data .-pred).^2)\n",
    "    n = length(pred)\n",
    "    return -n/2*(log(2pi*rss/n)+1)\n",
    "    end\n",
    "    # implementation from julia: https://github.com/JuliaStats/GLM.jl/blob/950579166c52ff1cbbeab75cbc23235b30640802/src/lm.jl\n",
    "\n",
    "    push!(metrics,loglikelihood_calc(kdata, Botswana_k_pred))\n",
    "    push!(metrics,loglikelihood_calc(ydata, Botswana_y_pred))\n",
    "    push!(metrics,loglikelihood_calc(edata, Botswana_e_pred))\n",
    "\n",
    "    function aic_calc(data, pred, params)\n",
    "        L = loglikelihood_calc(data,pred)\n",
    "        return 2*params-2*L\n",
    "    end\n",
    "\n",
    "    push!(metrics,aic_calc(kdata, Botswana_k_pred, 412))\n",
    "    push!(metrics,aic_calc(ydata, Botswana_y_pred, 412))\n",
    "    push!(metrics,aic_calc(edata, Botswana_e_pred, 412))\n",
    "\n",
    "    function aicc_calc(data, pred, params)\n",
    "        n = length(pred)\n",
    "        L = loglikelihood_calc(data,pred)\n",
    "        return -2*L + 2*params + 2*params*(params+1)/(n-params-1)\n",
    "    end\n",
    "\n",
    "\n",
    "    push!(metrics,aicc_calc(kdata, Botswana_k_pred, 412))\n",
    "    push!(metrics,aicc_calc(ydata, Botswana_y_pred, 412))\n",
    "    push!(metrics,aicc_calc(edata, Botswana_e_pred, 412))\n",
    "\n",
    "    function bic_calc(data, pred, params)\n",
    "        n = length(pred)\n",
    "        L = loglikelihood_calc(data,pred)\n",
    "        return -2*L + params*log(n)\n",
    "    end\n",
    "\n",
    "\n",
    "\n",
    "    push!(metrics,bic_calc(kdata, Botswana_k_pred, 412))\n",
    "    push!(metrics,bic_calc(ydata, Botswana_y_pred, 412))\n",
    "    push!(metrics,bic_calc(edata, Botswana_e_pred, 412))\n",
    "\n",
    "    return metrics\n",
    "end\n"
   ]
  },
  {
   "cell_type": "code",
   "execution_count": 15,
   "metadata": {},
   "outputs": [
    {
     "data": {
      "text/html": [
       "<table class=\"data-frame\"><thead><tr><th></th><th>country</th><th>MSE1_kt</th><th>MSE1_yt</th><th>MSE1_et</th><th>RMSE1_kt</th><th>RMSE1_yt</th><th>RMSE1_et</th><th>MAE1_kt</th><th>MAE1_yt</th></tr><tr><th></th><th>String</th><th>Float64</th><th>Float64</th><th>Float64</th><th>Float64</th><th>Float64</th><th>Float64</th><th>Float64</th><th>Float64</th></tr></thead><tbody><p>0 rows × 40 columns (omitted printing of 31 columns)</p></tbody></table>"
      ],
      "text/latex": [
       "\\begin{tabular}{r|cccccccccc}\n",
       "\t& country & MSE1\\_kt & MSE1\\_yt & MSE1\\_et & RMSE1\\_kt & RMSE1\\_yt & RMSE1\\_et & MAE1\\_kt & MAE1\\_yt & \\\\\n",
       "\t\\hline\n",
       "\t& String & Float64 & Float64 & Float64 & Float64 & Float64 & Float64 & Float64 & Float64 & \\\\\n",
       "\t\\hline\n",
       "\\end{tabular}\n"
      ],
      "text/plain": [
       "\u001b[1m0×40 DataFrame\u001b[0m"
      ]
     },
     "execution_count": 15,
     "metadata": {},
     "output_type": "execute_result"
    }
   ],
   "source": [
    "store_parameters_and_metrics = DataFrame(country = String[], \n",
    "    MSE1_kt = Float64[],    MSE1_yt = Float64[],    MSE1_et = Float64[],\n",
    "    RMSE1_kt = Float64[],    RMSE1_yt = Float64[],    RMSE1_et = Float64[],\n",
    "    MAE1_kt = Float64[],    MAE1_yt = Float64[],    MAE1_et = Float64[],\n",
    "    Rsq1_kt = Float64[],    Rsq1_yt = Float64[],    Rsq1_et = Float64[],\n",
    "    ARsq1_kt = Float64[],    ARsq1_yt = Float64[],    ARsq1_et = Float64[],\n",
    "    MPE1_kt = Float64[],    MPE1_yt = Float64[],    MPE1_et = Float64[],\n",
    "    MAPE1_kt = Float64[],    MAPE1_yt = Float64[],    MAPE1_et = Float64[],\n",
    "    MAAPE1_kt = Float64[],    MAAPE1_yt = Float64[],    MAAPE1_et = Float64[],\n",
    "    MBE1_kt = Float64[],    MBE1_yt = Float64[],    MBE1_et = Float64[],\n",
    "    loglik1_kt = Float64[],    loglik1_yt = Float64[],    loglik1_et = Float64[],\n",
    "    aic1_kt = Float64[],    aic1_yt = Float64[],    aic1_et = Float64[],\n",
    "    aicc1_kt = Float64[],    aicc1_yt = Float64[],    aicc1_et = Float64[],\n",
    "    bic1_kt = Float64[],    bic1_yt = Float64[],    bic1_et = Float64[]\n",
    "   )\n"
   ]
  },
  {
   "cell_type": "code",
   "execution_count": 16,
   "metadata": {},
   "outputs": [
    {
     "data": {
      "text/html": [
       "<table class=\"data-frame\"><thead><tr><th></th><th>country</th><th>MSE1_kt</th><th>MSE1_yt</th><th>MSE1_et</th><th>RMSE1_kt</th><th>RMSE1_yt</th><th>RMSE1_et</th><th>MAE1_kt</th><th>MAE1_yt</th></tr><tr><th></th><th>String</th><th>Float64</th><th>Float64</th><th>Float64</th><th>Float64</th><th>Float64</th><th>Float64</th><th>Float64</th><th>Float64</th></tr></thead><tbody><p>0 rows × 40 columns (omitted printing of 31 columns)</p></tbody></table>"
      ],
      "text/latex": [
       "\\begin{tabular}{r|cccccccccc}\n",
       "\t& country & MSE1\\_kt & MSE1\\_yt & MSE1\\_et & RMSE1\\_kt & RMSE1\\_yt & RMSE1\\_et & MAE1\\_kt & MAE1\\_yt & \\\\\n",
       "\t\\hline\n",
       "\t& String & Float64 & Float64 & Float64 & Float64 & Float64 & Float64 & Float64 & Float64 & \\\\\n",
       "\t\\hline\n",
       "\\end{tabular}\n"
      ],
      "text/plain": [
       "\u001b[1m0×40 DataFrame\u001b[0m"
      ]
     },
     "execution_count": 16,
     "metadata": {},
     "output_type": "execute_result"
    }
   ],
   "source": [
    "store_parameters_and_differentiation_metrics = DataFrame(country = String[], \n",
    "    MSE1_kt = Float64[],    MSE1_yt = Float64[],    MSE1_et = Float64[],\n",
    "    RMSE1_kt = Float64[],    RMSE1_yt = Float64[],    RMSE1_et = Float64[],\n",
    "    MAE1_kt = Float64[],    MAE1_yt = Float64[],    MAE1_et = Float64[],\n",
    "    Rsq1_kt = Float64[],    Rsq1_yt = Float64[],    Rsq1_et = Float64[],\n",
    "    ARsq1_kt = Float64[],    ARsq1_yt = Float64[],    ARsq1_et = Float64[],\n",
    "    MPE1_kt = Float64[],    MPE1_yt = Float64[],    MPE1_et = Float64[],\n",
    "    MAPE1_kt = Float64[],    MAPE1_yt = Float64[],    MAPE1_et = Float64[],\n",
    "    MAAPE1_kt = Float64[],    MAAPE1_yt = Float64[],    MAAPE1_et = Float64[],\n",
    "    MBE1_kt = Float64[],    MBE1_yt = Float64[],    MBE1_et = Float64[],\n",
    "    loglik1_kt = Float64[],    loglik1_yt = Float64[],    loglik1_et = Float64[],\n",
    "    aic1_kt = Float64[],    aic1_yt = Float64[],    aic1_et = Float64[],\n",
    "    aicc1_kt = Float64[],    aicc1_yt = Float64[],    aicc1_et = Float64[],\n",
    "    bic1_kt = Float64[],    bic1_yt = Float64[],    bic1_et = Float64[]\n",
    "   )"
   ]
  },
  {
   "cell_type": "code",
   "execution_count": null,
   "metadata": {
    "scrolled": false
   },
   "outputs": [
    {
     "name": "stdout",
     "output_type": "stream",
     "text": [
      "Loading parameters\n",
      "Training neural network\n",
      "Generating data for country: Albania\n"
     ]
    },
    {
     "name": "stderr",
     "output_type": "stream",
     "text": [
      "\u001b[32mloss: 1.45e-05: 100%|███████████████████████████████████| Time: 0:00:07\u001b[39m\n",
      "\u001b[32mloss: 1.45e-05: 100%|███████████████████████████████████| Time: 0:00:06\u001b[39m\n",
      "\u001b[32mloss: 1.44e-05: 100%|███████████████████████████████████| Time: 0:00:06\u001b[39m\n",
      "\u001b[32mloss: 4.07e-05: 100%|███████████████████████████████████| Time: 0:00:02\u001b[39m\n",
      "\u001b[32mloss: 2.85e-05: 100%|███████████████████████████████████| Time: 0:00:04\u001b[39m\n",
      "\u001b[32mloss: 2.1e-05: 100%|████████████████████████████████████| Time: 0:00:06\u001b[39m\n",
      "\u001b[32mloss: 1.61e-05: 100%|███████████████████████████████████| Time: 0:00:08\u001b[39m\n",
      "\u001b[32mloss: 1.15e-06: 100%|███████████████████████████████████| Time: 0:00:15\u001b[39m\n",
      "\u001b[32mloss: 1.66e-07: 100%|███████████████████████████████████| Time: 0:00:14\u001b[39m\n",
      "\u001b[32mloss: 1.45e-07: 100%|███████████████████████████████████| Time: 0:00:14\u001b[39m\n",
      "\u001b[32mloss: 1.12e-07: 100%|███████████████████████████████████| Time: 0:00:14\u001b[39m\n"
     ]
    },
    {
     "name": "stdout",
     "output_type": "stream",
     "text": [
      "Generating data for country: Albania\n"
     ]
    },
    {
     "name": "stderr",
     "output_type": "stream",
     "text": [
      "\u001b[32mloss: 6.84e-06: 100%|███████████████████████████████████| Time: 0:00:15\u001b[39m\n",
      "┌ Info:  started timer at: 2021-04-07T16:27:17.314\n",
      "└ @ TickTock /home/ziyu/.julia/packages/TickTock/RsTHR/src/TickTock.jl:32\n",
      "\u001b[32mloss: 6.64e-06: 100%|███████████████████████████████████| Time: 0:00:31\u001b[39m\n",
      "\u001b[32mloss: 5.88e-06: 100%|███████████████████████████████████| Time: 0:00:15\u001b[39m\n"
     ]
    },
    {
     "name": "stdout",
     "output_type": "stream",
     "text": [
      "Generating data for country: Albania\n"
     ]
    },
    {
     "name": "stderr",
     "output_type": "stream",
     "text": [
      "\u001b[32mloss: 381: 100%|████████████████████████████████████████| Time: 0:01:25\u001b[39m\n",
      "┌ Info:  started timer at: 2021-04-07T16:30:18.644\n",
      "└ @ TickTock /home/ziyu/.julia/packages/TickTock/RsTHR/src/TickTock.jl:32\n",
      "\u001b[32mloss: 195: 100%|████████████████████████████████████████| Time: 0:03:06\u001b[39m\n",
      "\u001b[32mloss: 7.01: 100%|███████████████████████████████████████| Time: 0:01:05\u001b[39m\n",
      "┌ Info:  started timer at: 2021-04-07T16:37:32.68\n",
      "└ @ TickTock /home/ziyu/.julia/packages/TickTock/RsTHR/src/TickTock.jl:32\n",
      "\u001b[32mloss: 6.8: 100%|████████████████████████████████████████| Time: 0:02:09\u001b[39m\n",
      "\u001b[32mloss: 6.72: 100%|███████████████████████████████████████| Time: 0:01:04\u001b[39m\n",
      "┌ Info:  started timer at: 2021-04-07T16:43:34.056\n",
      "└ @ TickTock /home/ziyu/.julia/packages/TickTock/RsTHR/src/TickTock.jl:32\n",
      "\u001b[32mloss: 6.47: 100%|███████████████████████████████████████| Time: 0:02:15\u001b[39m\n",
      "\u001b[32mloss: 5.98: 100%|███████████████████████████████████████| Time: 0:01:06\u001b[39m\n",
      "┌ Info:  started timer at: 2021-04-07T16:49:37.024\n",
      "└ @ TickTock /home/ziyu/.julia/packages/TickTock/RsTHR/src/TickTock.jl:32\n",
      "\u001b[32mloss: 5.58: 100%|███████████████████████████████████████| Time: 0:02:20\u001b[39m\n",
      "\u001b[32mloss: 5.56: 100%|███████████████████████████████████████| Time: 0:01:18\u001b[39m\n",
      "┌ Info:  started timer at: 2021-04-07T16:56:26.543\n",
      "└ @ TickTock /home/ziyu/.julia/packages/TickTock/RsTHR/src/TickTock.jl:32\n",
      "\u001b[32mloss: 4.84: 100%|███████████████████████████████████████| Time: 0:02:36\u001b[39m\n",
      "\u001b[32mloss: 4.82: 100%|███████████████████████████████████████| Time: 0:01:16\u001b[39m\n",
      "┌ Info:  started timer at: 2021-04-07T17:03:00.907\n",
      "└ @ TickTock /home/ziyu/.julia/packages/TickTock/RsTHR/src/TickTock.jl:32\n",
      "\u001b[32mloss: 3.6: 100%|████████████████████████████████████████| Time: 0:02:14\u001b[39m\n",
      "\u001b[32mloss: 3.59: 100%|███████████████████████████████████████| Time: 0:01:04\u001b[39m\n",
      "┌ Info:  started timer at: 2021-04-07T17:08:20.931\n",
      "└ @ TickTock /home/ziyu/.julia/packages/TickTock/RsTHR/src/TickTock.jl:32\n",
      "\u001b[32mloss: 3.42: 100%|███████████████████████████████████████| Time: 0:02:05\u001b[39m\n",
      "\u001b[32mloss: 3.33: 100%|███████████████████████████████████████| Time: 0:01:09\u001b[39m\n",
      "┌ Info:  started timer at: 2021-04-07T17:14:03.098\n",
      "└ @ TickTock /home/ziyu/.julia/packages/TickTock/RsTHR/src/TickTock.jl:32\n",
      "\u001b[32mloss: 3.17: 100%|███████████████████████████████████████| Time: 0:02:01\u001b[39m\n",
      "\u001b[32mloss: 3.16: 100%|███████████████████████████████████████| Time: 0:00:55\u001b[39m\n",
      "┌ Info:  started timer at: 2021-04-07T17:18:50.406\n",
      "└ @ TickTock /home/ziyu/.julia/packages/TickTock/RsTHR/src/TickTock.jl:32\n",
      "\u001b[32mloss: 2.57: 100%|███████████████████████████████████████| Time: 0:02:13\u001b[39m\n",
      "\u001b[32mloss: 2.56: 100%|███████████████████████████████████████| Time: 0:01:03\u001b[39m\n",
      "┌ Info:  started timer at: 2021-04-07T17:24:46.132\n",
      "└ @ TickTock /home/ziyu/.julia/packages/TickTock/RsTHR/src/TickTock.jl:32\n",
      "\u001b[32mloss: 2.4: 100%|████████████████████████████████████████| Time: 0:02:06\u001b[39m\n",
      "\u001b[32mloss: 1.87: 100%|███████████████████████████████████████| Time: 0:00:59\u001b[39m\n"
     ]
    },
    {
     "name": "stdout",
     "output_type": "stream",
     "text": [
      "Solving from initial conditions for country: Albania\n",
      "Plotting graphs for country: Albania\n",
      "Updating csv for parameters for country: Albania\n",
      "Updating csv for differentiation parameters for country: Albania\n",
      "Loading parameters\n",
      "Training neural network\n",
      "Generating data for country: Argentina\n"
     ]
    },
    {
     "name": "stderr",
     "output_type": "stream",
     "text": [
      "\u001b[32mloss: 0.000214: 100%|███████████████████████████████████| Time: 0:00:07\u001b[39m\n",
      "\u001b[32mloss: 0.000212: 100%|███████████████████████████████████| Time: 0:00:07\u001b[39m\n",
      "\u001b[32mloss: 0.000212: 100%|███████████████████████████████████| Time: 0:00:07\u001b[39m\n",
      "\u001b[32mloss: 0.00041: 100%|████████████████████████████████████| Time: 0:00:04\u001b[39m\n",
      "\u001b[32mloss: 0.000329: 100%|███████████████████████████████████| Time: 0:00:06\u001b[39m\n",
      "\u001b[32mloss: 0.000275: 100%|███████████████████████████████████| Time: 0:00:07\u001b[39m\n",
      "\u001b[32mloss: 0.000213: 100%|███████████████████████████████████| Time: 0:00:09\u001b[39m\n",
      "\u001b[32mloss: 4.76e-05: 100%|███████████████████████████████████| Time: 0:00:16\u001b[39m\n",
      "\u001b[32mloss: 2.5e-05: 100%|████████████████████████████████████| Time: 0:00:16\u001b[39m\n",
      "\u001b[32mloss: 2.5e-05: 100%|████████████████████████████████████| Time: 0:00:16\u001b[39m\n",
      "\u001b[32mloss: 2.49e-05: 100%|███████████████████████████████████| Time: 0:00:16\u001b[39m\n"
     ]
    },
    {
     "name": "stdout",
     "output_type": "stream",
     "text": [
      "Generating data for country: Argentina\n"
     ]
    },
    {
     "name": "stderr",
     "output_type": "stream",
     "text": [
      "\u001b[32mloss: 2.55e-05: 100%|███████████████████████████████████| Time: 0:00:16\u001b[39m\n",
      "┌ Info:  started timer at: 2021-04-07T17:41:18.557\n",
      "└ @ TickTock /home/ziyu/.julia/packages/TickTock/RsTHR/src/TickTock.jl:32\n",
      "\u001b[32mloss: 2.51e-05: 100%|███████████████████████████████████| Time: 0:00:33\u001b[39m\n",
      "\u001b[32mloss: 2.5e-05: 100%|████████████████████████████████████| Time: 0:00:16\u001b[39m\n",
      "┌ Info:  started timer at: 2021-04-07T17:42:38.186\n",
      "└ @ TickTock /home/ziyu/.julia/packages/TickTock/RsTHR/src/TickTock.jl:32\n",
      "\u001b[32mloss: 2.3e-05: 100%|████████████████████████████████████| Time: 0:00:33\u001b[39m\n",
      "\u001b[32mloss: 2.16e-05: 100%|███████████████████████████████████| Time: 0:00:21\u001b[39m\n",
      "┌ Info:  started timer at: 2021-04-07T17:44:37.913\n",
      "└ @ TickTock /home/ziyu/.julia/packages/TickTock/RsTHR/src/TickTock.jl:32\n",
      "\u001b[32mloss: 2.08e-05: 100%|███████████████████████████████████| Time: 0:00:40\u001b[39m\n",
      "\u001b[32mloss: 2.07e-05: 100%|███████████████████████████████████| Time: 0:00:20\u001b[39m\n",
      "┌ Info:  started timer at: 2021-04-07T17:46:14.303\n",
      "└ @ TickTock /home/ziyu/.julia/packages/TickTock/RsTHR/src/TickTock.jl:32\n",
      "\u001b[32mloss: 1.98e-05: 100%|███████████████████████████████████| Time: 0:00:37\u001b[39m\n",
      "\u001b[32mloss: 1.98e-05: 100%|███████████████████████████████████| Time: 0:00:18\u001b[39m\n"
     ]
    },
    {
     "name": "stdout",
     "output_type": "stream",
     "text": [
      "Generating data for country: Argentina\n"
     ]
    },
    {
     "name": "stderr",
     "output_type": "stream",
     "text": [
      "\u001b[32mloss: 3.19: 100%|███████████████████████████████████████| Time: 0:00:57\u001b[39m\n",
      "┌ Info:  started timer at: 2021-04-07T17:48:38.704\n",
      "└ @ TickTock /home/ziyu/.julia/packages/TickTock/RsTHR/src/TickTock.jl:32\n",
      "\u001b[32mloss: 2.54: 100%|███████████████████████████████████████| Time: 0:01:46\u001b[39m\n",
      "\u001b[32mloss: 2.14: 100%|███████████████████████████████████████| Time: 0:01:09\u001b[39m\n",
      "┌ Info:  started timer at: 2021-04-07T17:52:51.311\n",
      "└ @ TickTock /home/ziyu/.julia/packages/TickTock/RsTHR/src/TickTock.jl:32\n",
      "\u001b[32mloss: 2.01: 100%|███████████████████████████████████████| Time: 0:01:54\u001b[39m\n",
      "\u001b[32mloss: 1.96: 100%|███████████████████████████████████████| Time: 0:01:09\u001b[39m\n",
      "┌ Info:  started timer at: 2021-04-07T17:58:09.496\n",
      "└ @ TickTock /home/ziyu/.julia/packages/TickTock/RsTHR/src/TickTock.jl:32\n",
      "\u001b[32mloss: 1.93: 100%|███████████████████████████████████████| Time: 0:02:00\u001b[39m\n",
      "\u001b[32mloss: 1.93: 100%|███████████████████████████████████████| Time: 0:00:57\u001b[39m\n",
      "┌ Info:  started timer at: 2021-04-07T18:03:07.093\n",
      "└ @ TickTock /home/ziyu/.julia/packages/TickTock/RsTHR/src/TickTock.jl:32\n",
      "\u001b[32mloss: 1.9: 100%|████████████████████████████████████████| Time: 0:01:56\u001b[39m\n",
      "\u001b[32mloss: 1.9: 100%|████████████████████████████████████████| Time: 0:00:57\u001b[39m\n"
     ]
    },
    {
     "name": "stdout",
     "output_type": "stream",
     "text": [
      "Solving from initial conditions for country: Argentina\n",
      "Plotting graphs for country: Argentina\n",
      "Updating csv for parameters for country: Argentina\n",
      "Updating csv for differentiation parameters for country: Argentina\n",
      "Loading parameters\n",
      "Training neural network\n",
      "Generating data for country: Australia\n",
      "Error with country Australia: ArgumentError(\"column name :Australia not found in the data frame\")\n",
      "Loading parameters\n",
      "Training neural network\n",
      "Generating data for country: Bahrain\n"
     ]
    },
    {
     "name": "stderr",
     "output_type": "stream",
     "text": [
      "\u001b[32mloss: 0.00429: 100%|████████████████████████████████████| Time: 0:00:07\u001b[39m\n",
      "\u001b[32mloss: 0.00428: 100%|████████████████████████████████████| Time: 0:00:07\u001b[39m\n",
      "\u001b[32mloss: 0.00427: 100%|████████████████████████████████████| Time: 0:00:07\u001b[39m\n",
      "\u001b[32mloss: 0.00973: 100%|████████████████████████████████████| Time: 0:00:03\u001b[39m\n",
      "\u001b[32mloss: 6.7: 100%|████████████████████████████████████████| Time: 0:00:13\u001b[39m\n",
      "\u001b[32mloss: 1.04: 100%|███████████████████████████████████████| Time: 0:00:14\u001b[39m\n",
      "\u001b[32mloss: 0.125: 100%|██████████████████████████████████████| Time: 0:00:17\u001b[39m\n",
      "\u001b[32mloss: 0.00113: 100%|████████████████████████████████████| Time: 0:00:16\u001b[39m\n",
      "\u001b[32mloss: 7.3e-05: 100%|████████████████████████████████████| Time: 0:00:16\u001b[39m\n",
      "\u001b[32mloss: 7.21e-05: 100%|███████████████████████████████████| Time: 0:00:16\u001b[39m\n",
      "\u001b[32mloss: 7.22e-05: 100%|███████████████████████████████████| Time: 0:00:16\u001b[39m\n"
     ]
    },
    {
     "name": "stdout",
     "output_type": "stream",
     "text": [
      "Generating data for country: Bahrain\n"
     ]
    },
    {
     "name": "stderr",
     "output_type": "stream",
     "text": [
      "\u001b[32mloss: 1.13e-05: 100%|███████████████████████████████████| Time: 0:00:17\u001b[39m\n",
      "┌ Info:  started timer at: 2021-04-07T18:12:34.858\n",
      "└ @ TickTock /home/ziyu/.julia/packages/TickTock/RsTHR/src/TickTock.jl:32\n",
      "\u001b[32mloss: 1.01e-05: 100%|███████████████████████████████████| Time: 0:00:38\u001b[39m\n",
      "\u001b[32mloss: 4.9e-06: 100%|████████████████████████████████████| Time: 0:00:19\u001b[39m\n",
      "┌ Info:  started timer at: 2021-04-07T18:13:58.033\n",
      "└ @ TickTock /home/ziyu/.julia/packages/TickTock/RsTHR/src/TickTock.jl:32\n",
      "\u001b[32mloss: 3.91e-06: 100%|███████████████████████████████████| Time: 0:00:41\u001b[39m\n",
      "\u001b[32mloss: 3.82e-06: 100%|███████████████████████████████████| Time: 0:00:19\u001b[39m\n",
      "┌ Info:  started timer at: 2021-04-07T18:15:39.502\n",
      "└ @ TickTock /home/ziyu/.julia/packages/TickTock/RsTHR/src/TickTock.jl:32\n",
      "\u001b[32mloss: 1.23e-06: 100%|███████████████████████████████████| Time: 0:00:41\u001b[39m\n",
      "\u001b[32mloss: 1.21e-06: 100%|███████████████████████████████████| Time: 0:00:17\u001b[39m\n",
      "┌ Info:  started timer at: 2021-04-07T18:17:08.79\n",
      "└ @ TickTock /home/ziyu/.julia/packages/TickTock/RsTHR/src/TickTock.jl:32\n",
      "\u001b[32mloss: 6.4e-07: 100%|████████████████████████████████████| Time: 0:00:34\u001b[39m\n",
      "\u001b[32mloss: 6.22e-07: 100%|███████████████████████████████████| Time: 0:00:16\u001b[39m\n"
     ]
    },
    {
     "name": "stdout",
     "output_type": "stream",
     "text": [
      "Generating data for country: Bahrain\n"
     ]
    },
    {
     "name": "stderr",
     "output_type": "stream",
     "text": [
      "\u001b[32mloss: 423: 100%|████████████████████████████████████████| Time: 0:01:40\u001b[39m\n",
      "┌ Info:  started timer at: 2021-04-07T18:20:13.202\n",
      "└ @ TickTock /home/ziyu/.julia/packages/TickTock/RsTHR/src/TickTock.jl:32\n",
      "\u001b[32mloss: 391: 100%|████████████████████████████████████████| Time: 0:04:11\u001b[39m\n",
      "\u001b[32mloss: 390: 100%|████████████████████████████████████████| Time: 0:01:44\u001b[39m\n",
      "┌ Info:  started timer at: 2021-04-07T18:29:23.725\n",
      "└ @ TickTock /home/ziyu/.julia/packages/TickTock/RsTHR/src/TickTock.jl:32\n",
      "\u001b[32mloss: 374: 100%|████████████████████████████████████████| Time: 0:03:55\u001b[39m\n",
      "\u001b[32mloss: 371: 100%|████████████████████████████████████████| Time: 0:02:22\u001b[39m\n",
      "┌ Info:  started timer at: 2021-04-07T18:41:53.552\n",
      "└ @ TickTock /home/ziyu/.julia/packages/TickTock/RsTHR/src/TickTock.jl:32\n",
      "\u001b[32mloss: 356: 100%|████████████████████████████████████████| Time: 0:04:46\u001b[39m\n",
      "\u001b[32mloss: 355: 100%|████████████████████████████████████████| Time: 0:02:21\u001b[39m\n",
      "┌ Info:  started timer at: 2021-04-07T18:52:27.566\n",
      "└ @ TickTock /home/ziyu/.julia/packages/TickTock/RsTHR/src/TickTock.jl:32\n",
      "\u001b[32mloss: 340: 100%|████████████████████████████████████████| Time: 0:04:38\u001b[39m\n",
      "\u001b[32mloss: 340: 100%|████████████████████████████████████████| Time: 0:02:25\u001b[39m\n",
      "┌ Info:  started timer at: 2021-04-07T19:02:29.808\n",
      "└ @ TickTock /home/ziyu/.julia/packages/TickTock/RsTHR/src/TickTock.jl:32\n",
      "\u001b[32mloss: 328: 100%|████████████████████████████████████████| Time: 0:04:31\u001b[39m\n",
      "\u001b[32mloss: 327: 100%|████████████████████████████████████████| Time: 0:02:21\u001b[39m\n",
      "┌ Info:  started timer at: 2021-04-07T19:14:16.333\n",
      "└ @ TickTock /home/ziyu/.julia/packages/TickTock/RsTHR/src/TickTock.jl:32\n",
      "\u001b[32mloss: 317: 100%|████████████████████████████████████████| Time: 0:04:35\u001b[39m\n",
      "\u001b[32mloss: 316: 100%|████████████████████████████████████████| Time: 0:02:06\u001b[39m\n",
      "┌ Info:  started timer at: 2021-04-07T19:24:46.38\n",
      "└ @ TickTock /home/ziyu/.julia/packages/TickTock/RsTHR/src/TickTock.jl:32\n",
      "\u001b[32mloss: 306: 100%|████████████████████████████████████████| Time: 0:04:20\u001b[39m\n",
      "\u001b[32mloss: 275: 100%|████████████████████████████████████████| Time: 0:02:09\u001b[39m\n",
      "┌ Info:  started timer at: 2021-04-07T19:34:34.986\n",
      "└ @ TickTock /home/ziyu/.julia/packages/TickTock/RsTHR/src/TickTock.jl:32\n",
      "\u001b[32mloss: 265: 100%|████████████████████████████████████████| Time: 0:04:16\u001b[39m\n",
      "\u001b[32mloss: 264: 100%|████████████████████████████████████████| Time: 0:02:01\u001b[39m\n",
      "┌ Info:  started timer at: 2021-04-07T19:42:42.056\n",
      "└ @ TickTock /home/ziyu/.julia/packages/TickTock/RsTHR/src/TickTock.jl:32\n",
      "\u001b[32mloss: 258: 100%|████████████████████████████████████████| Time: 0:04:13\u001b[39m\n",
      "\u001b[32mloss: 257: 100%|████████████████████████████████████████| Time: 0:02:05\u001b[39m\n",
      "┌ Info:  started timer at: 2021-04-07T19:53:17.689\n",
      "└ @ TickTock /home/ziyu/.julia/packages/TickTock/RsTHR/src/TickTock.jl:32\n",
      "\u001b[32mloss: 251: 100%|████████████████████████████████████████| Time: 0:04:04\u001b[39m\n",
      "\u001b[32mloss: 251: 100%|████████████████████████████████████████| Time: 0:02:07\u001b[39m\n"
     ]
    },
    {
     "name": "stdout",
     "output_type": "stream",
     "text": [
      "Solving from initial conditions for country: Bahrain\n",
      "Plotting graphs for country: Bahrain\n",
      "Updating csv for parameters for country: Bahrain\n",
      "Updating csv for differentiation parameters for country: Bahrain\n",
      "Loading parameters\n",
      "Training neural network\n",
      "Generating data for country: Bangladesh\n"
     ]
    },
    {
     "name": "stderr",
     "output_type": "stream",
     "text": [
      "\u001b[32mloss: 1.17e-06: 100%|███████████████████████████████████| Time: 0:00:08\u001b[39m\n",
      "\u001b[32mloss: 1.14e-06: 100%|███████████████████████████████████| Time: 0:00:08\u001b[39m\n",
      "\u001b[32mloss: 1.14e-06: 100%|███████████████████████████████████| Time: 0:00:07\u001b[39m\n",
      "\u001b[32mloss: 2.07e-06: 100%|███████████████████████████████████| Time: 0:00:05\u001b[39m\n",
      "\u001b[32mloss: 1.44e-06: 100%|███████████████████████████████████| Time: 0:00:06\u001b[39m\n",
      "\u001b[32mloss: 1.25e-06: 100%|███████████████████████████████████| Time: 0:00:08\u001b[39m\n",
      "\u001b[32mloss: 1.24e-06: 100%|███████████████████████████████████| Time: 0:00:10\u001b[39m\n",
      "\u001b[32mloss: 4.61e-08: 100%|███████████████████████████████████| Time: 0:00:18\u001b[39m\n",
      "\u001b[32mloss: 5.57e-08: 100%|███████████████████████████████████| Time: 0:00:18\u001b[39m\n",
      "\u001b[32mloss: 5.38e-08: 100%|███████████████████████████████████| Time: 0:00:18\u001b[39m\n",
      "\u001b[32mloss: 5.37e-08: 100%|███████████████████████████████████| Time: 0:00:18\u001b[39m\n"
     ]
    },
    {
     "name": "stdout",
     "output_type": "stream",
     "text": [
      "Generating data for country: Bangladesh\n"
     ]
    },
    {
     "name": "stderr",
     "output_type": "stream",
     "text": [
      "\u001b[32mloss: 2.33e-07: 100%|███████████████████████████████████| Time: 0:00:17\u001b[39m\n",
      "┌ Info:  started timer at: 2021-04-07T20:08:05.06\n",
      "└ @ TickTock /home/ziyu/.julia/packages/TickTock/RsTHR/src/TickTock.jl:32\n",
      "\u001b[32mloss: 1.93e-07: 100%|███████████████████████████████████| Time: 0:00:33\u001b[39m\n",
      "\u001b[32mloss: 1.3e-07: 100%|████████████████████████████████████| Time: 0:00:16\u001b[39m\n"
     ]
    },
    {
     "name": "stdout",
     "output_type": "stream",
     "text": [
      "Generating data for country: Bangladesh\n"
     ]
    },
    {
     "name": "stderr",
     "output_type": "stream",
     "text": [
      "\u001b[32mloss: 0.223: 100%|██████████████████████████████████████| Time: 0:00:43\u001b[39m\n",
      "┌ Info:  started timer at: 2021-04-07T20:09:43.368\n",
      "└ @ TickTock /home/ziyu/.julia/packages/TickTock/RsTHR/src/TickTock.jl:32\n",
      "\u001b[32mloss: 0.00286: 100%|████████████████████████████████████| Time: 0:01:40\u001b[39m\n",
      "\u001b[32mloss: 0.00239: 100%|████████████████████████████████████| Time: 0:00:41\u001b[39m\n",
      "┌ Info:  started timer at: 2021-04-07T20:13:08.45\n",
      "└ @ TickTock /home/ziyu/.julia/packages/TickTock/RsTHR/src/TickTock.jl:32\n",
      "\u001b[32mloss: 0.00182: 100%|████████████████████████████████████| Time: 0:01:16\u001b[39m\n",
      "\u001b[32mloss: 0.00182: 100%|████████████████████████████████████| Time: 0:00:35\u001b[39m\n"
     ]
    },
    {
     "name": "stdout",
     "output_type": "stream",
     "text": [
      "Solving from initial conditions for country: Bangladesh\n",
      "Plotting graphs for country: Bangladesh\n",
      "Updating csv for parameters for country: Bangladesh\n",
      "Updating csv for differentiation parameters for country: Bangladesh\n",
      "Loading parameters\n",
      "Training neural network\n",
      "Generating data for country: Benin\n"
     ]
    },
    {
     "name": "stderr",
     "output_type": "stream",
     "text": [
      "\u001b[32mloss: 1.69e-06: 100%|███████████████████████████████████| Time: 0:00:08\u001b[39m\n",
      "\u001b[32mloss: 1.6e-06: 100%|████████████████████████████████████| Time: 0:00:09\u001b[39m\n",
      "\u001b[32mloss: 1.6e-06: 100%|████████████████████████████████████| Time: 0:00:08\u001b[39m\n",
      "\u001b[32mloss: 1.84e-06: 100%|███████████████████████████████████| Time: 0:00:05\u001b[39m\n",
      "\u001b[32mloss: 2.09e-06: 100%|███████████████████████████████████| Time: 0:00:07\u001b[39m\n",
      "\u001b[32mloss: 2.15e-06: 100%|███████████████████████████████████| Time: 0:00:09\u001b[39m\n",
      "\u001b[32mloss: 1.92e-06: 100%|███████████████████████████████████| Time: 0:00:11\u001b[39m\n",
      "\u001b[32mloss: 2.1e-07: 100%|████████████████████████████████████| Time: 0:00:19\u001b[39m\n",
      "\u001b[32mloss: 1.86e-07: 100%|███████████████████████████████████| Time: 0:00:19\u001b[39m\n",
      "\u001b[32mloss: 1.89e-07: 100%|███████████████████████████████████| Time: 0:00:19\u001b[39m\n",
      "\u001b[32mloss: 1.77e-07: 100%|███████████████████████████████████| Time: 0:00:20\u001b[39m\n"
     ]
    },
    {
     "name": "stdout",
     "output_type": "stream",
     "text": [
      "Generating data for country: Benin\n"
     ]
    },
    {
     "name": "stderr",
     "output_type": "stream",
     "text": [
      "\u001b[32mloss: 3.63e-07: 100%|███████████████████████████████████| Time: 0:00:19\u001b[39m\n",
      "┌ Info:  started timer at: 2021-04-07T20:18:50.319\n",
      "└ @ TickTock /home/ziyu/.julia/packages/TickTock/RsTHR/src/TickTock.jl:32\n",
      "\u001b[32mloss: 3.05e-07: 100%|███████████████████████████████████| Time: 0:00:38\u001b[39m\n",
      "\u001b[32mloss: 1.72e-07: 100%|███████████████████████████████████| Time: 0:00:18\u001b[39m\n"
     ]
    },
    {
     "name": "stdout",
     "output_type": "stream",
     "text": [
      "Generating data for country: Benin\n"
     ]
    },
    {
     "name": "stderr",
     "output_type": "stream",
     "text": [
      "\u001b[32mloss: 0.137: 100%|██████████████████████████████████████| Time: 0:01:24\u001b[39m\n",
      "┌ Info:  started timer at: 2021-04-07T20:21:26.599\n",
      "└ @ TickTock /home/ziyu/.julia/packages/TickTock/RsTHR/src/TickTock.jl:32\n",
      "\u001b[32mloss: 0.118: 100%|██████████████████████████████████████| Time: 0:02:46\u001b[39m\n",
      "\u001b[32mloss: 0.116: 100%|██████████████████████████████████████| Time: 0:01:25\u001b[39m\n",
      "┌ Info:  started timer at: 2021-04-07T20:28:42.85\n",
      "└ @ TickTock /home/ziyu/.julia/packages/TickTock/RsTHR/src/TickTock.jl:32\n",
      "\u001b[32mloss: 0.0983: 100%|█████████████████████████████████████| Time: 0:03:00\u001b[39m\n",
      "\u001b[32mloss: 0.0909: 100%|█████████████████████████████████████| Time: 0:01:18\u001b[39m\n",
      "┌ Info:  started timer at: 2021-04-07T20:36:20.456\n",
      "└ @ TickTock /home/ziyu/.julia/packages/TickTock/RsTHR/src/TickTock.jl:32\n",
      "\u001b[32mloss: 0.0767: 100%|█████████████████████████████████████| Time: 0:03:08\u001b[39m\n",
      "\u001b[32mloss: 0.0721: 100%|█████████████████████████████████████| Time: 0:01:23\u001b[39m\n",
      "┌ Info:  started timer at: 2021-04-07T20:44:02.734\n",
      "└ @ TickTock /home/ziyu/.julia/packages/TickTock/RsTHR/src/TickTock.jl:32\n",
      "\u001b[32mloss: 0.0605: 100%|█████████████████████████████████████| Time: 0:02:31\u001b[39m\n",
      "\u001b[32mloss: 0.0595: 100%|█████████████████████████████████████| Time: 0:01:19\u001b[39m\n",
      "┌ Info:  started timer at: 2021-04-07T20:50:39.646\n",
      "└ @ TickTock /home/ziyu/.julia/packages/TickTock/RsTHR/src/TickTock.jl:32\n",
      "\u001b[32mloss: 0.0491: 100%|█████████████████████████████████████| Time: 0:02:47\u001b[39m\n",
      "\u001b[32mloss: 0.0484: 100%|█████████████████████████████████████| Time: 0:01:28\u001b[39m\n",
      "┌ Info:  started timer at: 2021-04-07T20:57:13.972\n",
      "└ @ TickTock /home/ziyu/.julia/packages/TickTock/RsTHR/src/TickTock.jl:32\n",
      "\u001b[32mloss: 0.0411: 100%|█████████████████████████████████████| Time: 0:02:46\u001b[39m\n",
      "\u001b[32mloss: 0.0405: 100%|█████████████████████████████████████| Time: 0:01:17\u001b[39m\n",
      "┌ Info:  started timer at: 2021-04-07T21:04:31.715\n",
      "└ @ TickTock /home/ziyu/.julia/packages/TickTock/RsTHR/src/TickTock.jl:32\n",
      "\u001b[32mloss: 0.0369: 100%|█████████████████████████████████████| Time: 0:02:26\u001b[39m\n",
      "\u001b[32mloss: 0.0363: 100%|█████████████████████████████████████| Time: 0:01:03\u001b[39m\n",
      "┌ Info:  started timer at: 2021-04-07T21:10:32.996\n",
      "└ @ TickTock /home/ziyu/.julia/packages/TickTock/RsTHR/src/TickTock.jl:32\n",
      "\u001b[32mloss: 0.0349: 100%|█████████████████████████████████████| Time: 0:01:47\u001b[39m\n",
      "\u001b[32mloss: 0.0348: 100%|█████████████████████████████████████| Time: 0:00:45\u001b[39m\n",
      "┌ Info:  started timer at: 2021-04-07T21:14:35.893\n",
      "└ @ TickTock /home/ziyu/.julia/packages/TickTock/RsTHR/src/TickTock.jl:32\n",
      "\u001b[32mloss: 0.0337: 100%|█████████████████████████████████████| Time: 0:01:44\u001b[39m\n",
      "\u001b[32mloss: 0.0337: 100%|█████████████████████████████████████| Time: 0:00:44\u001b[39m\n",
      "┌ Info:  started timer at: 2021-04-07T21:18:38.031\n",
      "└ @ TickTock /home/ziyu/.julia/packages/TickTock/RsTHR/src/TickTock.jl:32\n",
      "\u001b[32mloss: 0.0332: 100%|█████████████████████████████████████| Time: 0:01:38\u001b[39m\n",
      "\u001b[32mloss: 0.0331: 100%|█████████████████████████████████████| Time: 0:00:53\u001b[39m\n"
     ]
    },
    {
     "name": "stdout",
     "output_type": "stream",
     "text": [
      "Solving from initial conditions for country: Benin\n",
      "Plotting graphs for country: Benin\n",
      "Updating csv for parameters for country: Benin\n",
      "Updating csv for differentiation parameters for country: Benin\n",
      "Loading parameters\n",
      "Training neural network\n",
      "Generating data for country: Botswana\n"
     ]
    },
    {
     "name": "stderr",
     "output_type": "stream",
     "text": [
      "\u001b[32mloss: 9.85e-05: 100%|███████████████████████████████████| Time: 0:00:08\u001b[39m\n",
      "\u001b[32mloss: 9.68e-05: 100%|███████████████████████████████████| Time: 0:00:08\u001b[39m\n",
      "\u001b[32mloss: 9.67e-05: 100%|███████████████████████████████████| Time: 0:00:08\u001b[39m\n",
      "\u001b[32mloss: 0.000162: 100%|███████████████████████████████████| Time: 0:00:05\u001b[39m\n",
      "\u001b[32mloss: 0.000113: 100%|███████████████████████████████████| Time: 0:00:07\u001b[39m\n",
      "\u001b[32mloss: 0.000111: 100%|███████████████████████████████████| Time: 0:00:09\u001b[39m\n",
      "\u001b[32mloss: 0.000107: 100%|███████████████████████████████████| Time: 0:00:10\u001b[39m\n",
      "\u001b[32mloss: 8e-06: 100%|██████████████████████████████████████| Time: 0:00:18\u001b[39m\n",
      "\u001b[32mloss: 2.93e-06: 100%|███████████████████████████████████| Time: 0:00:18\u001b[39m\n",
      "\u001b[32mloss: 1.81e-06: 100%|███████████████████████████████████| Time: 0:00:18\u001b[39m\n",
      "\u001b[32mloss: 1.77e-06: 100%|███████████████████████████████████| Time: 0:00:18\u001b[39m\n"
     ]
    },
    {
     "name": "stdout",
     "output_type": "stream",
     "text": [
      "Generating data for country: Botswana\n"
     ]
    },
    {
     "name": "stderr",
     "output_type": "stream",
     "text": [
      "\u001b[32mloss: 6.57e-06: 100%|███████████████████████████████████| Time: 0:00:19\u001b[39m\n",
      "┌ Info:  started timer at: 2021-04-07T21:26:25.269\n",
      "└ @ TickTock /home/ziyu/.julia/packages/TickTock/RsTHR/src/TickTock.jl:32\n",
      "\u001b[32mloss: 6.46e-06: 100%|███████████████████████████████████| Time: 0:00:39\u001b[39m\n",
      "\u001b[32mloss: 6.45e-06: 100%|███████████████████████████████████| Time: 0:00:19\u001b[39m\n",
      "┌ Info:  started timer at: 2021-04-07T21:27:47.444\n",
      "└ @ TickTock /home/ziyu/.julia/packages/TickTock/RsTHR/src/TickTock.jl:32\n",
      "\u001b[32mloss: 6.34e-06: 100%|███████████████████████████████████| Time: 0:00:40\u001b[39m\n",
      "\u001b[32mloss: 6.33e-06: 100%|███████████████████████████████████| Time: 0:00:19\u001b[39m\n"
     ]
    },
    {
     "name": "stdout",
     "output_type": "stream",
     "text": [
      "Generating data for country: Botswana\n"
     ]
    },
    {
     "name": "stderr",
     "output_type": "stream",
     "text": [
      "\u001b[32mloss: 94.2: 100%|███████████████████████████████████████| Time: 0:00:39\u001b[39m\n",
      "┌ Info:  started timer at: 2021-04-07T21:29:48.936\n",
      "└ @ TickTock /home/ziyu/.julia/packages/TickTock/RsTHR/src/TickTock.jl:32\n",
      "\u001b[32mloss: 57.6: 100%|███████████████████████████████████████| Time: 0:02:09\u001b[39m\n",
      "\u001b[32mloss: 14.7: 100%|███████████████████████████████████████| Time: 0:01:31\u001b[39m\n",
      "┌ Info:  started timer at: 2021-04-07T21:37:05.518\n",
      "└ @ TickTock /home/ziyu/.julia/packages/TickTock/RsTHR/src/TickTock.jl:32\n",
      "\u001b[32mloss: 7.29: 100%|███████████████████████████████████████| Time: 0:03:12\u001b[39m\n",
      "\u001b[32mloss: 3.06: 100%|███████████████████████████████████████| Time: 0:01:01\u001b[39m\n",
      "┌ Info:  started timer at: 2021-04-07T21:44:00.414\n",
      "└ @ TickTock /home/ziyu/.julia/packages/TickTock/RsTHR/src/TickTock.jl:32\n",
      "\u001b[32mloss: 2.88: 100%|███████████████████████████████████████| Time: 0:02:09\u001b[39m\n",
      "\u001b[32mloss: 2.8: 100%|████████████████████████████████████████| Time: 0:01:15\u001b[39m\n",
      "┌ Info:  started timer at: 2021-04-07T21:48:55.112\n",
      "└ @ TickTock /home/ziyu/.julia/packages/TickTock/RsTHR/src/TickTock.jl:32\n",
      "\u001b[32mloss: 2.61: 100%|███████████████████████████████████████| Time: 0:01:26\u001b[39m\n",
      "\u001b[32mloss: 2.51: 100%|███████████████████████████████████████| Time: 0:01:15\u001b[39m\n",
      "┌ Info:  started timer at: 2021-04-07T21:53:17.052\n",
      "└ @ TickTock /home/ziyu/.julia/packages/TickTock/RsTHR/src/TickTock.jl:32\n",
      "\u001b[32mloss: 2.43: 100%|███████████████████████████████████████| Time: 0:02:31\u001b[39m\n",
      "\u001b[32mloss: 2.31: 100%|███████████████████████████████████████| Time: 0:01:10\u001b[39m\n"
     ]
    },
    {
     "name": "stdout",
     "output_type": "stream",
     "text": [
      "Solving from initial conditions for country: Botswana\n",
      "Plotting graphs for country: Botswana\n",
      "Updating csv for parameters for country: Botswana\n",
      "Updating csv for differentiation parameters for country: Botswana\n",
      "Loading parameters\n",
      "Training neural network\n",
      "Generating data for country: Brazil\n"
     ]
    },
    {
     "name": "stderr",
     "output_type": "stream",
     "text": [
      "\u001b[32mloss: 7.6e-05: 100%|████████████████████████████████████| Time: 0:00:09\u001b[39m\n",
      "\u001b[32mloss: 7.52e-05: 100%|███████████████████████████████████| Time: 0:00:08\u001b[39m\n",
      "\u001b[32mloss: 7.5e-05: 100%|████████████████████████████████████| Time: 0:00:08\u001b[39m\n",
      "\u001b[32mloss: 0.000142: 100%|███████████████████████████████████| Time: 0:00:05\u001b[39m\n",
      "\u001b[32mloss: 9.59e-05: 100%|███████████████████████████████████| Time: 0:00:07\u001b[39m\n",
      "\u001b[32mloss: 7.48e-05: 100%|███████████████████████████████████| Time: 0:00:08\u001b[39m\n",
      "\u001b[32mloss: 7.4e-05: 100%|████████████████████████████████████| Time: 0:00:11\u001b[39m\n",
      "\u001b[32mloss: 5.68e-06: 100%|███████████████████████████████████| Time: 0:00:18\u001b[39m\n",
      "\u001b[32mloss: 6.05e-06: 100%|███████████████████████████████████| Time: 0:00:18\u001b[39m\n",
      "\u001b[32mloss: 5.38e-06: 100%|███████████████████████████████████| Time: 0:00:18\u001b[39m\n",
      "\u001b[32mloss: 6.03e-06: 100%|███████████████████████████████████| Time: 0:00:18\u001b[39m\n"
     ]
    },
    {
     "name": "stdout",
     "output_type": "stream",
     "text": [
      "Generating data for country: Brazil\n"
     ]
    },
    {
     "name": "stderr",
     "output_type": "stream",
     "text": [
      "\u001b[32mloss: 2.42e-06: 100%|███████████████████████████████████| Time: 0:00:18\u001b[39m\n",
      "┌ Info:  started timer at: 2021-04-07T22:03:24.884\n",
      "└ @ TickTock /home/ziyu/.julia/packages/TickTock/RsTHR/src/TickTock.jl:32\n",
      "\u001b[32mloss: 2.24e-06: 100%|███████████████████████████████████| Time: 0:00:34\u001b[39m\n",
      "\u001b[32mloss: 1.93e-06: 100%|███████████████████████████████████| Time: 0:00:17\u001b[39m\n",
      "┌ Info:  started timer at: 2021-04-07T22:04:52.689\n",
      "└ @ TickTock /home/ziyu/.julia/packages/TickTock/RsTHR/src/TickTock.jl:32\n",
      "\u001b[32mloss: 1.71e-06: 100%|███████████████████████████████████| Time: 0:00:33\u001b[39m\n",
      "\u001b[32mloss: 1.6e-06: 100%|████████████████████████████████████| Time: 0:00:17\u001b[39m\n",
      "┌ Info:  started timer at: 2021-04-07T22:06:07.814\n",
      "└ @ TickTock /home/ziyu/.julia/packages/TickTock/RsTHR/src/TickTock.jl:32\n",
      "\u001b[32mloss: 1.57e-06: 100%|███████████████████████████████████| Time: 0:00:34\u001b[39m\n",
      "\u001b[32mloss: 1.54e-06: 100%|███████████████████████████████████| Time: 0:00:16\u001b[39m\n"
     ]
    },
    {
     "name": "stdout",
     "output_type": "stream",
     "text": [
      "Generating data for country: Brazil\n"
     ]
    },
    {
     "name": "stderr",
     "output_type": "stream",
     "text": [
      "\u001b[32mloss: 0.69: 100%|███████████████████████████████████████| Time: 0:01:08\u001b[39m\n",
      "┌ Info:  started timer at: 2021-04-07T22:08:55.795\n",
      "└ @ TickTock /home/ziyu/.julia/packages/TickTock/RsTHR/src/TickTock.jl:32\n",
      "\u001b[32mloss: 0.61: 100%|███████████████████████████████████████| Time: 0:02:13\u001b[39m\n",
      "\u001b[32mloss: 0.477: 100%|██████████████████████████████████████| Time: 0:00:55\u001b[39m\n",
      "┌ Info:  started timer at: 2021-04-07T22:14:10.752\n",
      "└ @ TickTock /home/ziyu/.julia/packages/TickTock/RsTHR/src/TickTock.jl:32\n",
      "\u001b[32mloss: 0.398: 100%|██████████████████████████████████████| Time: 0:01:41\u001b[39m\n",
      "\u001b[32mloss: 0.378: 100%|██████████████████████████████████████| Time: 0:00:53\u001b[39m\n",
      "┌ Info:  started timer at: 2021-04-07T22:17:46.7\n",
      "└ @ TickTock /home/ziyu/.julia/packages/TickTock/RsTHR/src/TickTock.jl:32\n",
      "\u001b[32mloss: 0.333: 100%|██████████████████████████████████████| Time: 0:01:41\u001b[39m\n",
      "\u001b[32mloss: 0.328: 100%|██████████████████████████████████████| Time: 0:00:46\u001b[39m\n",
      "┌ Info:  started timer at: 2021-04-07T22:22:04.65\n",
      "└ @ TickTock /home/ziyu/.julia/packages/TickTock/RsTHR/src/TickTock.jl:32\n",
      "\u001b[32mloss: 0.309: 100%|██████████████████████████████████████| Time: 0:01:41\u001b[39m\n",
      "\u001b[32mloss: 0.309: 100%|██████████████████████████████████████| Time: 0:00:50\u001b[39m\n"
     ]
    },
    {
     "name": "stdout",
     "output_type": "stream",
     "text": [
      "Solving from initial conditions for country: Brazil\n",
      "Plotting graphs for country: Brazil\n",
      "Updating csv for parameters for country: Brazil\n",
      "Updating csv for differentiation parameters for country: Brazil\n",
      "Loading parameters\n",
      "Training neural network\n",
      "Generating data for country: Bulgaria\n"
     ]
    },
    {
     "name": "stderr",
     "output_type": "stream",
     "text": [
      "\u001b[32mloss: 3.32e-05: 100%|███████████████████████████████████| Time: 0:00:07\u001b[39m\n",
      "\u001b[32mloss: 3.27e-05: 100%|███████████████████████████████████| Time: 0:00:07\u001b[39m\n",
      "\u001b[32mloss: 3.22e-05: 100%|███████████████████████████████████| Time: 0:00:07\u001b[39m\n",
      "\u001b[32mloss: 7.58e-05: 100%|███████████████████████████████████| Time: 0:00:03\u001b[39m\n",
      "\u001b[32mloss: 5.53e-05: 100%|███████████████████████████████████| Time: 0:00:05\u001b[39m\n",
      "\u001b[32mloss: 4.41e-05: 100%|███████████████████████████████████| Time: 0:00:07\u001b[39m\n",
      "\u001b[32mloss: 3.47e-05: 100%|███████████████████████████████████| Time: 0:00:09\u001b[39m\n",
      "\u001b[32mloss: 3.97e-05: 100%|███████████████████████████████████| Time: 0:00:16\u001b[39m\n",
      "\u001b[32mloss: 1.26e-06: 100%|███████████████████████████████████| Time: 0:00:16\u001b[39m\n",
      "\u001b[32mloss: 7.07e-07: 100%|███████████████████████████████████| Time: 0:00:16\u001b[39m\n",
      "\u001b[32mloss: 5.62e-07: 100%|███████████████████████████████████| Time: 0:00:16\u001b[39m\n"
     ]
    },
    {
     "name": "stdout",
     "output_type": "stream",
     "text": [
      "Generating data for country: Bulgaria\n"
     ]
    },
    {
     "name": "stderr",
     "output_type": "stream",
     "text": [
      "\u001b[32mloss: 3.55e-05: 100%|███████████████████████████████████| Time: 0:00:19\u001b[39m\n",
      "┌ Info:  started timer at: 2021-04-07T22:29:42.519\n",
      "└ @ TickTock /home/ziyu/.julia/packages/TickTock/RsTHR/src/TickTock.jl:32\n",
      "\u001b[32mloss: 3.43e-05: 100%|███████████████████████████████████| Time: 0:00:36\u001b[39m\n",
      "\u001b[32mloss: 3.36e-05: 100%|███████████████████████████████████| Time: 0:00:18\u001b[39m\n",
      "┌ Info:  started timer at: 2021-04-07T22:31:25.865\n",
      "└ @ TickTock /home/ziyu/.julia/packages/TickTock/RsTHR/src/TickTock.jl:32\n",
      "\u001b[32mloss: 3.27e-05: 100%|███████████████████████████████████| Time: 0:00:33\u001b[39m\n",
      "\u001b[32mloss: 3.22e-05: 100%|███████████████████████████████████| Time: 0:00:16\u001b[39m\n"
     ]
    },
    {
     "name": "stdout",
     "output_type": "stream",
     "text": [
      "Generating data for country: Bulgaria\n"
     ]
    },
    {
     "name": "stderr",
     "output_type": "stream",
     "text": [
      "\u001b[32mloss: 45.8: 100%|███████████████████████████████████████| Time: 0:01:34\u001b[39m\n",
      "┌ Info:  started timer at: 2021-04-07T22:34:24.821\n",
      "└ @ TickTock /home/ziyu/.julia/packages/TickTock/RsTHR/src/TickTock.jl:32\n",
      "\u001b[32mloss: 42.9: 100%|███████████████████████████████████████| Time: 0:03:11\u001b[39m\n",
      "\u001b[32mloss: 37.3: 100%|███████████████████████████████████████| Time: 0:01:31\u001b[39m\n",
      "┌ Info:  started timer at: 2021-04-07T22:43:05.742\n",
      "└ @ TickTock /home/ziyu/.julia/packages/TickTock/RsTHR/src/TickTock.jl:32\n",
      "\u001b[32mloss: 34.6: 100%|███████████████████████████████████████| Time: 0:02:58\u001b[39m\n",
      "\u001b[32mloss: 29.6: 100%|███████████████████████████████████████| Time: 0:01:33\u001b[39m\n",
      "┌ Info:  started timer at: 2021-04-07T22:50:12.939\n",
      "└ @ TickTock /home/ziyu/.julia/packages/TickTock/RsTHR/src/TickTock.jl:32\n",
      "\u001b[32mloss: 27: 100%|█████████████████████████████████████████| Time: 0:03:17\u001b[39m\n",
      "\u001b[32mloss: 26.8: 100%|███████████████████████████████████████| Time: 0:01:39\u001b[39m\n",
      "┌ Info:  started timer at: 2021-04-07T22:58:26.899\n",
      "└ @ TickTock /home/ziyu/.julia/packages/TickTock/RsTHR/src/TickTock.jl:32\n",
      "\u001b[32mloss: 25.3: 100%|███████████████████████████████████████| Time: 0:03:17\u001b[39m\n",
      "\u001b[32mloss: 25.1: 100%|███████████████████████████████████████| Time: 0:01:37\u001b[39m\n",
      "┌ Info:  started timer at: 2021-04-07T23:07:00.189\n",
      "└ @ TickTock /home/ziyu/.julia/packages/TickTock/RsTHR/src/TickTock.jl:32\n",
      "\u001b[32mloss: 23.8: 100%|███████████████████████████████████████| Time: 0:03:16\u001b[39m\n",
      "\u001b[32mloss: 23.8: 100%|███████████████████████████████████████| Time: 0:01:37\u001b[39m\n",
      "┌ Info:  started timer at: 2021-04-07T23:15:20.061\n",
      "└ @ TickTock /home/ziyu/.julia/packages/TickTock/RsTHR/src/TickTock.jl:32\n",
      "\u001b[32mloss: 23.1: 100%|███████████████████████████████████████| Time: 0:03:20\u001b[39m\n",
      "\u001b[32mloss: 23: 100%|█████████████████████████████████████████| Time: 0:01:41\u001b[39m\n",
      "┌ Info:  started timer at: 2021-04-07T23:24:25.437\n",
      "└ @ TickTock /home/ziyu/.julia/packages/TickTock/RsTHR/src/TickTock.jl:32\n",
      "\u001b[32mloss: 22.5: 100%|███████████████████████████████████████| Time: 0:03:19\u001b[39m\n",
      "\u001b[32mloss: 22.5: 100%|███████████████████████████████████████| Time: 0:01:34\u001b[39m\n",
      "┌ Info:  started timer at: 2021-04-07T23:32:16.259\n",
      "└ @ TickTock /home/ziyu/.julia/packages/TickTock/RsTHR/src/TickTock.jl:32\n",
      "\u001b[32mloss: 22.1: 100%|███████████████████████████████████████| Time: 0:02:44\u001b[39m\n",
      "\u001b[32mloss: 22.1: 100%|███████████████████████████████████████| Time: 0:01:24\u001b[39m\n",
      "┌ Info:  started timer at: 2021-04-07T23:39:04.828\n",
      "└ @ TickTock /home/ziyu/.julia/packages/TickTock/RsTHR/src/TickTock.jl:32\n",
      "\u001b[32mloss: 21.9: 100%|███████████████████████████████████████| Time: 0:02:45\u001b[39m\n",
      "\u001b[32mloss: 21.8: 100%|███████████████████████████████████████| Time: 0:01:23\u001b[39m\n",
      "┌ Info:  started timer at: 2021-04-07T23:46:20.888\n",
      "└ @ TickTock /home/ziyu/.julia/packages/TickTock/RsTHR/src/TickTock.jl:32\n",
      "\u001b[32mloss: 21.6: 100%|███████████████████████████████████████| Time: 0:02:36\u001b[39m\n",
      "\u001b[32mloss: 21.6: 100%|███████████████████████████████████████| Time: 0:01:26\u001b[39m\n"
     ]
    },
    {
     "name": "stdout",
     "output_type": "stream",
     "text": [
      "Solving from initial conditions for country: Bulgaria\n",
      "Plotting graphs for country: Bulgaria\n",
      "Updating csv for parameters for country: Bulgaria\n",
      "Updating csv for differentiation parameters for country: Bulgaria\n",
      "Loading parameters\n",
      "Training neural network\n",
      "Generating data for country: Burundi\n"
     ]
    },
    {
     "name": "stderr",
     "output_type": "stream",
     "text": [
      "\u001b[32mloss: 1.03e-08: 100%|███████████████████████████████████| Time: 0:00:05\u001b[39m\n",
      "\u001b[32mloss: 1.03e-08: 100%|███████████████████████████████████| Time: 0:00:05\u001b[39m\n",
      "\u001b[32mloss: 1.05e-08: 100%|███████████████████████████████████| Time: 0:00:05\u001b[39m\n",
      "\u001b[32mloss: 1.68e-08: 100%|███████████████████████████████████| Time: 0:00:01\u001b[39m\n",
      "\u001b[32mloss: 8.02e-09: 100%|███████████████████████████████████| Time: 0:00:03\u001b[39m\n",
      "\u001b[32mloss: 6.72e-09: 100%|███████████████████████████████████| Time: 0:00:05\u001b[39m\n",
      "\u001b[32mloss: 9.51e-09: 100%|███████████████████████████████████| Time: 0:00:07\u001b[39m\n",
      "\u001b[32mloss: 3.55e-09: 100%|███████████████████████████████████| Time: 0:00:13\u001b[39m\n",
      "\u001b[32mloss: 2.81e-09: 100%|███████████████████████████████████| Time: 0:00:13\u001b[39m\n",
      "\u001b[32mloss: 2.36e-09: 100%|███████████████████████████████████| Time: 0:00:13\u001b[39m\n",
      "\u001b[32mloss: 4.32e-09: 100%|███████████████████████████████████| Time: 0:00:13\u001b[39m\n"
     ]
    },
    {
     "name": "stdout",
     "output_type": "stream",
     "text": [
      "Generating data for country: Burundi\n"
     ]
    },
    {
     "name": "stderr",
     "output_type": "stream",
     "text": [
      "\u001b[32mloss: 6.43e-08: 100%|███████████████████████████████████| Time: 0:00:13\u001b[39m\n"
     ]
    },
    {
     "name": "stdout",
     "output_type": "stream",
     "text": [
      "Generating data for country: Burundi\n"
     ]
    },
    {
     "name": "stderr",
     "output_type": "stream",
     "text": [
      "\u001b[32mloss: 0.0121: 100%|█████████████████████████████████████| Time: 0:00:26\u001b[39m\n",
      "┌ Info:  started timer at: 2021-04-07T23:54:36.247\n",
      "└ @ TickTock /home/ziyu/.julia/packages/TickTock/RsTHR/src/TickTock.jl:32\n",
      "\u001b[32mloss: 0.00537: 100%|████████████████████████████████████| Time: 0:00:42\u001b[39m\n",
      "\u001b[32mloss: 0.000435: 100%|███████████████████████████████████| Time: 0:00:19\u001b[39m\n",
      "┌ Info:  started timer at: 2021-04-07T23:55:58.832\n",
      "└ @ TickTock /home/ziyu/.julia/packages/TickTock/RsTHR/src/TickTock.jl:32\n",
      "\u001b[32mloss: 0.000408: 100%|███████████████████████████████████| Time: 0:00:39\u001b[39m\n",
      "\u001b[32mloss: 0.000388: 100%|███████████████████████████████████| Time: 0:00:19\u001b[39m\n",
      "┌ Info:  started timer at: 2021-04-07T23:57:34.421\n",
      "└ @ TickTock /home/ziyu/.julia/packages/TickTock/RsTHR/src/TickTock.jl:32\n",
      "\u001b[32mloss: 0.000371: 100%|███████████████████████████████████| Time: 0:00:40\u001b[39m\n",
      "\u001b[32mloss: 0.000369: 100%|███████████████████████████████████| Time: 0:00:19\u001b[39m\n",
      "┌ Info:  started timer at: 2021-04-07T23:58:51.375\n",
      "└ @ TickTock /home/ziyu/.julia/packages/TickTock/RsTHR/src/TickTock.jl:32\n",
      "\u001b[32mloss: 0.000355: 100%|███████████████████████████████████| Time: 0:00:40\u001b[39m\n",
      "\u001b[32mloss: 0.000354: 100%|███████████████████████████████████| Time: 0:00:19\u001b[39m\n"
     ]
    },
    {
     "name": "stdout",
     "output_type": "stream",
     "text": [
      "Solving from initial conditions for country: Burundi\n",
      "Plotting graphs for country: Burundi\n",
      "Updating csv for parameters for country: Burundi\n",
      "Updating csv for differentiation parameters for country: Burundi\n",
      "Loading parameters\n",
      "Training neural network\n",
      "Generating data for country: Cameroon\n"
     ]
    },
    {
     "name": "stderr",
     "output_type": "stream",
     "text": [
      "\u001b[32mloss: 8.18e-07: 100%|███████████████████████████████████| Time: 0:00:07\u001b[39m\n",
      "\u001b[32mloss: 8.05e-07: 100%|███████████████████████████████████| Time: 0:00:07\u001b[39m\n",
      "\u001b[32mloss: 8.03e-07: 100%|███████████████████████████████████| Time: 0:00:07\u001b[39m\n",
      "\u001b[32mloss: 1.18e-06: 100%|███████████████████████████████████| Time: 0:00:04\u001b[39m\n",
      "\u001b[32mloss: 1.07e-06: 100%|███████████████████████████████████| Time: 0:00:06\u001b[39m\n",
      "\u001b[32mloss: 8.88e-07: 100%|███████████████████████████████████| Time: 0:00:08\u001b[39m\n",
      "\u001b[32mloss: 8.64e-07: 100%|███████████████████████████████████| Time: 0:00:10\u001b[39m\n",
      "\u001b[32mloss: 7.16e-08: 100%|███████████████████████████████████| Time: 0:00:17\u001b[39m\n",
      "\u001b[32mloss: 6.11e-08: 100%|███████████████████████████████████| Time: 0:00:17\u001b[39m\n",
      "\u001b[32mloss: 6.14e-08: 100%|███████████████████████████████████| Time: 0:00:17\u001b[39m\n",
      "\u001b[32mloss: 6.16e-08: 100%|███████████████████████████████████| Time: 0:00:17\u001b[39m\n"
     ]
    },
    {
     "name": "stdout",
     "output_type": "stream",
     "text": [
      "Generating data for country: Cameroon\n"
     ]
    },
    {
     "name": "stderr",
     "output_type": "stream",
     "text": [
      "\u001b[32mloss: 1.65e-06: 100%|███████████████████████████████████| Time: 0:00:21\u001b[39m\n"
     ]
    },
    {
     "name": "stdout",
     "output_type": "stream",
     "text": [
      "Generating data for country: Cameroon\n"
     ]
    },
    {
     "name": "stderr",
     "output_type": "stream",
     "text": [
      "\u001b[32mloss: 1.44: 100%|███████████████████████████████████████| Time: 0:00:41\u001b[39m\n",
      "┌ Info:  started timer at: 2021-04-08T00:04:40.282\n",
      "└ @ TickTock /home/ziyu/.julia/packages/TickTock/RsTHR/src/TickTock.jl:32\n",
      "\u001b[32mloss: 1.38: 100%|███████████████████████████████████████| Time: 0:02:01\u001b[39m\n",
      "\u001b[32mloss: 1.33: 100%|███████████████████████████████████████| Time: 0:01:22\u001b[39m\n",
      "┌ Info:  started timer at: 2021-04-08T00:09:38.999\n",
      "└ @ TickTock /home/ziyu/.julia/packages/TickTock/RsTHR/src/TickTock.jl:32\n",
      "\u001b[32mloss: 1.31: 100%|███████████████████████████████████████| Time: 0:02:27\u001b[39m\n",
      "\u001b[32mloss: 1.3: 100%|████████████████████████████████████████| Time: 0:01:28\u001b[39m\n"
     ]
    },
    {
     "name": "stdout",
     "output_type": "stream",
     "text": [
      "Solving from initial conditions for country: Cameroon\n",
      "Plotting graphs for country: Cameroon\n",
      "Updating csv for parameters for country: Cameroon\n",
      "Updating csv for differentiation parameters for country: Cameroon\n",
      "Loading parameters\n",
      "Training neural network\n",
      "Generating data for country: Canada\n"
     ]
    },
    {
     "name": "stderr",
     "output_type": "stream",
     "text": [
      "\u001b[32mloss: 0.000882: 100%|███████████████████████████████████| Time: 0:00:09\u001b[39m\n",
      "\u001b[32mloss: 0.000843: 100%|███████████████████████████████████| Time: 0:00:09\u001b[39m\n",
      "\u001b[32mloss: 0.000836: 100%|███████████████████████████████████| Time: 0:00:09\u001b[39m\n",
      "\u001b[32mloss: 0.00117: 100%|████████████████████████████████████| Time: 0:00:07\u001b[39m\n",
      "\u001b[32mloss: 0.000717: 100%|███████████████████████████████████| Time: 0:00:09\u001b[39m\n",
      "\u001b[32mloss: 0.000693: 100%|███████████████████████████████████| Time: 0:00:11\u001b[39m\n",
      "\u001b[32mloss: 0.000784: 100%|███████████████████████████████████| Time: 0:00:13\u001b[39m\n",
      "\u001b[32mloss: 4.71e-05: 100%|███████████████████████████████████| Time: 0:00:21\u001b[39m\n",
      "\u001b[32mloss: 1.96e-05: 100%|███████████████████████████████████| Time: 0:00:21\u001b[39m\n",
      "\u001b[32mloss: 1.82e-05: 100%|███████████████████████████████████| Time: 0:00:21\u001b[39m\n",
      "\u001b[32mloss: 1.85e-05: 100%|███████████████████████████████████| Time: 0:00:21\u001b[39m\n"
     ]
    },
    {
     "name": "stdout",
     "output_type": "stream",
     "text": [
      "Generating data for country: Canada\n"
     ]
    },
    {
     "name": "stderr",
     "output_type": "stream",
     "text": [
      "\u001b[32mloss: 4.3e-05: 100%|████████████████████████████████████| Time: 0:00:22\u001b[39m\n",
      "┌ Info:  started timer at: 2021-04-08T00:20:18.493\n",
      "└ @ TickTock /home/ziyu/.julia/packages/TickTock/RsTHR/src/TickTock.jl:32\n",
      "\u001b[32mloss: 2.8e-05: 100%|████████████████████████████████████| Time: 0:00:42\u001b[39m\n",
      "\u001b[32mloss: 2.78e-05: 100%|███████████████████████████████████| Time: 0:00:20\u001b[39m\n",
      "┌ Info:  started timer at: 2021-04-08T00:22:11.892\n",
      "└ @ TickTock /home/ziyu/.julia/packages/TickTock/RsTHR/src/TickTock.jl:32\n",
      "\u001b[32mloss: 2.67e-05: 100%|███████████████████████████████████| Time: 0:00:42\u001b[39m\n",
      "\u001b[32mloss: 2.67e-05: 100%|███████████████████████████████████| Time: 0:00:20\u001b[39m\n",
      "┌ Info:  started timer at: 2021-04-08T00:24:05.852\n",
      "└ @ TickTock /home/ziyu/.julia/packages/TickTock/RsTHR/src/TickTock.jl:32\n",
      "\u001b[32mloss: 2.35e-05: 100%|███████████████████████████████████| Time: 0:00:42\u001b[39m\n",
      "\u001b[32mloss: 2.23e-05: 100%|███████████████████████████████████| Time: 0:00:21\u001b[39m\n",
      "┌ Info:  started timer at: 2021-04-08T00:26:00.413\n",
      "└ @ TickTock /home/ziyu/.julia/packages/TickTock/RsTHR/src/TickTock.jl:32\n",
      "\u001b[32mloss: 2.07e-05: 100%|███████████████████████████████████| Time: 0:00:42\u001b[39m\n",
      "\u001b[32mloss: 2.05e-05: 100%|███████████████████████████████████| Time: 0:00:21\u001b[39m\n",
      "┌ Info:  started timer at: 2021-04-08T00:27:59.187\n",
      "└ @ TickTock /home/ziyu/.julia/packages/TickTock/RsTHR/src/TickTock.jl:32\n",
      "\u001b[32mloss: 1.84e-05: 100%|███████████████████████████████████| Time: 0:00:42\u001b[39m\n",
      "\u001b[32mloss: 1.78e-05: 100%|███████████████████████████████████| Time: 0:00:20\u001b[39m\n",
      "┌ Info:  started timer at: 2021-04-08T00:29:50.557\n",
      "└ @ TickTock /home/ziyu/.julia/packages/TickTock/RsTHR/src/TickTock.jl:32\n",
      "\u001b[32mloss: 1.71e-05: 100%|███████████████████████████████████| Time: 0:00:44\u001b[39m\n",
      "\u001b[32mloss: 1.7e-05: 100%|████████████████████████████████████| Time: 0:00:21\u001b[39m\n"
     ]
    },
    {
     "name": "stdout",
     "output_type": "stream",
     "text": [
      "Generating data for country: Canada\n"
     ]
    },
    {
     "name": "stderr",
     "output_type": "stream",
     "text": [
      "\u001b[32mloss: 31.2: 100%|███████████████████████████████████████| Time: 0:01:54\u001b[39m\n",
      "┌ Info:  started timer at: 2021-04-08T00:33:45.03\n",
      "└ @ TickTock /home/ziyu/.julia/packages/TickTock/RsTHR/src/TickTock.jl:32\n",
      "\u001b[32mloss: 23: 100%|█████████████████████████████████████████| Time: 0:03:49\u001b[39m\n",
      "\u001b[32mloss: 20: 100%|█████████████████████████████████████████| Time: 0:01:40\u001b[39m\n",
      "┌ Info:  started timer at: 2021-04-08T00:43:04.009\n",
      "└ @ TickTock /home/ziyu/.julia/packages/TickTock/RsTHR/src/TickTock.jl:32\n",
      "\u001b[32mloss: 19.2: 100%|███████████████████████████████████████| Time: 0:03:12\u001b[39m\n",
      "\u001b[32mloss: 19.1: 100%|███████████████████████████████████████| Time: 0:01:26\u001b[39m\n",
      "┌ Info:  started timer at: 2021-04-08T00:50:09.144\n",
      "└ @ TickTock /home/ziyu/.julia/packages/TickTock/RsTHR/src/TickTock.jl:32\n",
      "\u001b[32mloss: 18.9: 100%|███████████████████████████████████████| Time: 0:03:13\u001b[39m\n",
      "\u001b[32mloss: 18.8: 100%|███████████████████████████████████████| Time: 0:01:33\u001b[39m\n",
      "┌ Info:  started timer at: 2021-04-08T00:59:02.467\n",
      "└ @ TickTock /home/ziyu/.julia/packages/TickTock/RsTHR/src/TickTock.jl:32\n",
      "\u001b[32mloss: 18.6: 100%|███████████████████████████████████████| Time: 0:03:07\u001b[39m\n",
      "\u001b[32mloss: 18.6: 100%|███████████████████████████████████████| Time: 0:01:43\u001b[39m\n",
      "┌ Info:  started timer at: 2021-04-08T01:06:36.224\n",
      "└ @ TickTock /home/ziyu/.julia/packages/TickTock/RsTHR/src/TickTock.jl:32\n",
      "\u001b[32mloss: 18.5: 100%|███████████████████████████████████████| Time: 0:03:07\u001b[39m\n",
      "\u001b[32mloss: 18.4: 100%|███████████████████████████████████████| Time: 0:01:22\u001b[39m\n"
     ]
    },
    {
     "name": "stdout",
     "output_type": "stream",
     "text": [
      "Solving from initial conditions for country: Canada\n",
      "Plotting graphs for country: Canada\n",
      "Updating csv for parameters for country: Canada\n",
      "Updating csv for differentiation parameters for country: Canada\n",
      "Loading parameters\n",
      "Training neural network\n",
      "Generating data for country: Chile\n"
     ]
    },
    {
     "name": "stderr",
     "output_type": "stream",
     "text": [
      "\u001b[32mloss: 0.000111: 100%|███████████████████████████████████| Time: 0:00:08\u001b[39m\n",
      "\u001b[32mloss: 0.00011: 100%|████████████████████████████████████| Time: 0:00:08\u001b[39m\n",
      "\u001b[32mloss: 0.00011: 100%|████████████████████████████████████| Time: 0:00:08\u001b[39m\n",
      "\u001b[32mloss: 0.000156: 100%|███████████████████████████████████| Time: 0:00:05\u001b[39m\n",
      "\u001b[32mloss: 0.000119: 100%|███████████████████████████████████| Time: 0:00:07\u001b[39m\n",
      "\u001b[32mloss: 0.000123: 100%|███████████████████████████████████| Time: 0:00:09\u001b[39m\n",
      "\u001b[32mloss: 0.000117: 100%|███████████████████████████████████| Time: 0:00:11\u001b[39m\n",
      "\u001b[32mloss: 1.59e-06: 100%|███████████████████████████████████| Time: 0:00:18\u001b[39m\n",
      "\u001b[32mloss: 1.46e-06: 100%|███████████████████████████████████| Time: 0:00:18\u001b[39m\n",
      "\u001b[32mloss: 1.45e-06: 100%|███████████████████████████████████| Time: 0:00:18\u001b[39m\n",
      "\u001b[32mloss: 1.38e-06: 100%|███████████████████████████████████| Time: 0:00:18\u001b[39m\n"
     ]
    },
    {
     "name": "stdout",
     "output_type": "stream",
     "text": [
      "Generating data for country: Chile\n"
     ]
    },
    {
     "name": "stderr",
     "output_type": "stream",
     "text": [
      "\u001b[32mloss: 9.63e-06: 100%|███████████████████████████████████| Time: 0:00:19\u001b[39m\n",
      "┌ Info:  started timer at: 2021-04-08T01:18:09.235\n",
      "└ @ TickTock /home/ziyu/.julia/packages/TickTock/RsTHR/src/TickTock.jl:32\n",
      "\u001b[32mloss: 9.26e-06: 100%|███████████████████████████████████| Time: 0:00:37\u001b[39m\n",
      "\u001b[32mloss: 9.01e-06: 100%|███████████████████████████████████| Time: 0:00:19\u001b[39m\n"
     ]
    },
    {
     "name": "stdout",
     "output_type": "stream",
     "text": [
      "Generating data for country: Chile\n"
     ]
    },
    {
     "name": "stderr",
     "output_type": "stream",
     "text": [
      "\u001b[32mloss: 28.2: 100%|███████████████████████████████████████| Time: 0:01:12\u001b[39m\n",
      "┌ Info:  started timer at: 2021-04-08T01:20:43.562\n",
      "└ @ TickTock /home/ziyu/.julia/packages/TickTock/RsTHR/src/TickTock.jl:32\n",
      "\u001b[32mloss: 9.5: 100%|████████████████████████████████████████| Time: 0:02:13\u001b[39m\n",
      "\u001b[32mloss: 8.85: 100%|███████████████████████████████████████| Time: 0:01:16\u001b[39m\n",
      "┌ Info:  started timer at: 2021-04-08T01:26:12.711\n",
      "└ @ TickTock /home/ziyu/.julia/packages/TickTock/RsTHR/src/TickTock.jl:32\n",
      "\u001b[32mloss: 5.29: 100%|███████████████████████████████████████| Time: 0:02:13\u001b[39m\n",
      "\u001b[32mloss: 5.24: 100%|███████████████████████████████████████| Time: 0:01:12\u001b[39m\n",
      "┌ Info:  started timer at: 2021-04-08T01:31:25.897\n",
      "└ @ TickTock /home/ziyu/.julia/packages/TickTock/RsTHR/src/TickTock.jl:32\n",
      "\u001b[32mloss: 4.43: 100%|███████████████████████████████████████| Time: 0:02:08\u001b[39m\n",
      "\u001b[32mloss: 3.98: 100%|███████████████████████████████████████| Time: 0:01:13\u001b[39m\n",
      "┌ Info:  started timer at: 2021-04-08T01:37:07.839\n",
      "└ @ TickTock /home/ziyu/.julia/packages/TickTock/RsTHR/src/TickTock.jl:32\n",
      "\u001b[32mloss: 3.5: 100%|████████████████████████████████████████| Time: 0:02:15\u001b[39m\n",
      "\u001b[32mloss: 3.48: 100%|███████████████████████████████████████| Time: 0:01:15\u001b[39m\n",
      "┌ Info:  started timer at: 2021-04-08T01:42:17.778\n",
      "└ @ TickTock /home/ziyu/.julia/packages/TickTock/RsTHR/src/TickTock.jl:32\n",
      "\u001b[32mloss: 3.28: 100%|███████████████████████████████████████| Time: 0:01:59\u001b[39m\n",
      "\u001b[32mloss: 3.2: 100%|████████████████████████████████████████| Time: 0:01:12\u001b[39m\n",
      "┌ Info:  started timer at: 2021-04-08T01:48:06.581\n",
      "└ @ TickTock /home/ziyu/.julia/packages/TickTock/RsTHR/src/TickTock.jl:32\n",
      "\u001b[32mloss: 3.12: 100%|███████████████████████████████████████| Time: 0:02:17\u001b[39m\n",
      "\u001b[32mloss: 3.12: 100%|███████████████████████████████████████| Time: 0:00:56\u001b[39m\n",
      "┌ Info:  started timer at: 2021-04-08T01:53:08.208\n",
      "└ @ TickTock /home/ziyu/.julia/packages/TickTock/RsTHR/src/TickTock.jl:32\n",
      "\u001b[32mloss: 3.06: 100%|███████████████████████████████████████| Time: 0:01:57\u001b[39m\n",
      "\u001b[32mloss: 3.06: 100%|███████████████████████████████████████| Time: 0:01:00\u001b[39m\n"
     ]
    },
    {
     "name": "stdout",
     "output_type": "stream",
     "text": [
      "Solving from initial conditions for country: Chile\n",
      "Plotting graphs for country: Chile\n",
      "Updating csv for parameters for country: Chile\n",
      "Updating csv for differentiation parameters for country: Chile\n",
      "Loading parameters\n",
      "Training neural network\n",
      "Generating data for country: China\n"
     ]
    },
    {
     "name": "stderr",
     "output_type": "stream",
     "text": [
      "\u001b[32mloss: 4.04e-05: 100%|███████████████████████████████████| Time: 0:00:06\u001b[39m\n",
      "\u001b[32mloss: 3.81e-05: 100%|███████████████████████████████████| Time: 0:00:06\u001b[39m\n",
      "\u001b[32mloss: 3.8e-05: 100%|████████████████████████████████████| Time: 0:00:06\u001b[39m\n",
      "\u001b[32mloss: 8.43e-05: 100%|███████████████████████████████████| Time: 0:00:03\u001b[39m\n",
      "\u001b[32mloss: 4.78e-05: 100%|███████████████████████████████████| Time: 0:00:05\u001b[39m\n",
      "\u001b[32mloss: 5.47e-05: 100%|███████████████████████████████████| Time: 0:00:06\u001b[39m\n",
      "\u001b[32mloss: 4.68e-05: 100%|███████████████████████████████████| Time: 0:00:09\u001b[39m\n",
      "\u001b[32mloss: 2.15e-06: 100%|███████████████████████████████████| Time: 0:00:15\u001b[39m\n",
      "\u001b[32mloss: 2.71e-08: 100%|███████████████████████████████████| Time: 0:00:15\u001b[39m\n",
      "\u001b[32mloss: 1.35e-08: 100%|███████████████████████████████████| Time: 0:00:15\u001b[39m\n",
      "\u001b[32mloss: 6.65e-09: 100%|███████████████████████████████████| Time: 0:00:15\u001b[39m\n"
     ]
    },
    {
     "name": "stdout",
     "output_type": "stream",
     "text": [
      "Generating data for country: China\n"
     ]
    },
    {
     "name": "stderr",
     "output_type": "stream",
     "text": [
      "\u001b[32mloss: 1.03e-06: 100%|███████████████████████████████████| Time: 0:00:16\u001b[39m\n",
      "┌ Info:  started timer at: 2021-04-08T02:01:34.046\n",
      "└ @ TickTock /home/ziyu/.julia/packages/TickTock/RsTHR/src/TickTock.jl:32\n",
      "\u001b[32mloss: 1.01e-06: 100%|███████████████████████████████████| Time: 0:00:35\u001b[39m\n",
      "\u001b[32mloss: 9.83e-07: 100%|███████████████████████████████████| Time: 0:00:17\u001b[39m\n",
      "┌ Info:  started timer at: 2021-04-08T02:02:56.908\n",
      "└ @ TickTock /home/ziyu/.julia/packages/TickTock/RsTHR/src/TickTock.jl:32\n",
      "\u001b[32mloss: 9.54e-07: 100%|███████████████████████████████████| Time: 0:00:35\u001b[39m\n",
      "\u001b[32mloss: 8.9e-07: 100%|████████████████████████████████████| Time: 0:00:16\u001b[39m\n",
      "┌ Info:  started timer at: 2021-04-08T02:04:15.12\n",
      "└ @ TickTock /home/ziyu/.julia/packages/TickTock/RsTHR/src/TickTock.jl:32\n",
      "\u001b[32mloss: 8.18e-07: 100%|███████████████████████████████████| Time: 0:00:32\u001b[39m\n",
      "\u001b[32mloss: 8.08e-07: 100%|███████████████████████████████████| Time: 0:00:16\u001b[39m\n",
      "┌ Info:  started timer at: 2021-04-08T02:05:37.986\n",
      "└ @ TickTock /home/ziyu/.julia/packages/TickTock/RsTHR/src/TickTock.jl:32\n",
      "\u001b[32mloss: 7.65e-07: 100%|███████████████████████████████████| Time: 0:00:32\u001b[39m\n",
      "\u001b[32mloss: 5.48e-07: 100%|███████████████████████████████████| Time: 0:00:16\u001b[39m\n"
     ]
    },
    {
     "name": "stdout",
     "output_type": "stream",
     "text": [
      "Generating data for country: China\n"
     ]
    },
    {
     "name": "stderr",
     "output_type": "stream",
     "text": [
      "\u001b[32mloss: 63: 100%|█████████████████████████████████████████| Time: 0:01:14\u001b[39m\n",
      "┌ Info:  started timer at: 2021-04-08T02:07:51.319\n",
      "└ @ TickTock /home/ziyu/.julia/packages/TickTock/RsTHR/src/TickTock.jl:32\n",
      "\u001b[32mloss: 13.1: 100%|███████████████████████████████████████| Time: 0:02:19\u001b[39m\n",
      "\u001b[32mloss: 2.6: 100%|████████████████████████████████████████| Time: 0:00:42\u001b[39m\n",
      "┌ Info:  started timer at: 2021-04-08T02:12:09.531\n",
      "└ @ TickTock /home/ziyu/.julia/packages/TickTock/RsTHR/src/TickTock.jl:32\n",
      "\u001b[32mloss: 2.44: 100%|███████████████████████████████████████| Time: 0:01:39\u001b[39m\n",
      "\u001b[32mloss: 2.32: 100%|███████████████████████████████████████| Time: 0:01:13\u001b[39m\n",
      "┌ Info:  started timer at: 2021-04-08T02:16:35.115\n",
      "└ @ TickTock /home/ziyu/.julia/packages/TickTock/RsTHR/src/TickTock.jl:32\n",
      "\u001b[32mloss: 2.17: 100%|███████████████████████████████████████| Time: 0:02:28\u001b[39m\n",
      "\u001b[32mloss: 2.16: 100%|███████████████████████████████████████| Time: 0:01:08\u001b[39m\n",
      "┌ Info:  started timer at: 2021-04-08T02:23:17.324\n",
      "└ @ TickTock /home/ziyu/.julia/packages/TickTock/RsTHR/src/TickTock.jl:32\n",
      "\u001b[32mloss: 1.97: 100%|███████████████████████████████████████| Time: 0:02:25\u001b[39m\n",
      "\u001b[32mloss: 1.86: 100%|███████████████████████████████████████| Time: 0:01:04\u001b[39m\n",
      "┌ Info:  started timer at: 2021-04-08T02:28:39.7\n",
      "└ @ TickTock /home/ziyu/.julia/packages/TickTock/RsTHR/src/TickTock.jl:32\n",
      "\u001b[32mloss: 1.76: 100%|███████████████████████████████████████| Time: 0:02:11\u001b[39m\n",
      "\u001b[32mloss: 0.841: 100%|██████████████████████████████████████| Time: 0:01:11\u001b[39m\n",
      "┌ Info:  started timer at: 2021-04-08T02:34:50.884\n",
      "└ @ TickTock /home/ziyu/.julia/packages/TickTock/RsTHR/src/TickTock.jl:32\n",
      "\u001b[32mloss: 0.824: 100%|██████████████████████████████████████| Time: 0:02:03\u001b[39m\n",
      "\u001b[32mloss: 0.823: 100%|██████████████████████████████████████| Time: 0:01:08\u001b[39m\n"
     ]
    },
    {
     "name": "stdout",
     "output_type": "stream",
     "text": [
      "Solving from initial conditions for country: China\n",
      "Plotting graphs for country: China\n",
      "Updating csv for parameters for country: China\n",
      "Updating csv for differentiation parameters for country: China\n",
      "Loading parameters\n",
      "Training neural network\n",
      "Generating data for country: Colombia\n"
     ]
    },
    {
     "name": "stderr",
     "output_type": "stream",
     "text": [
      "\u001b[32mloss: 1.3e-05: 100%|████████████████████████████████████| Time: 0:00:09\u001b[39m\n",
      "\u001b[32mloss: 1.26e-05: 100%|███████████████████████████████████| Time: 0:00:09\u001b[39m\n",
      "\u001b[32mloss: 1.25e-05: 100%|███████████████████████████████████| Time: 0:00:09\u001b[39m\n",
      "\u001b[32mloss: 1.69e-05: 100%|███████████████████████████████████| Time: 0:00:07\u001b[39m\n",
      "\u001b[32mloss: 1.38e-05: 100%|███████████████████████████████████| Time: 0:00:09\u001b[39m\n",
      "\u001b[32mloss: 1.26e-05: 100%|███████████████████████████████████| Time: 0:00:11\u001b[39m\n",
      "\u001b[32mloss: 1.24e-05: 100%|███████████████████████████████████| Time: 0:00:12\u001b[39m\n",
      "\u001b[32mloss: 2.01e-06: 100%|███████████████████████████████████| Time: 0:00:21\u001b[39m\n",
      "┌ Warning: Instability detected. Aborting\n",
      "└ @ DiffEqBase /home/ziyu/.julia/packages/DiffEqBase/V7P18/src/integrator_interface.jl:349\n",
      "┌ Warning: First function call produced NaNs. Exiting.\n",
      "└ @ OrdinaryDiffEq /home/ziyu/.julia/packages/OrdinaryDiffEq/VPJBD/src/initdt.jl:76\n",
      "┌ Warning: Automatic dt set the starting dt as NaN, causing instability.\n",
      "└ @ OrdinaryDiffEq /home/ziyu/.julia/packages/OrdinaryDiffEq/VPJBD/src/solve.jl:459\n",
      "┌ Warning: NaN dt detected. Likely a NaN value in the state, parameters, or derivative value caused this outcome.\n",
      "└ @ DiffEqBase /home/ziyu/.julia/packages/DiffEqBase/V7P18/src/integrator_interface.jl:323\n",
      "┌ Warning: Instability detected. Aborting\n",
      "└ @ DiffEqBase /home/ziyu/.julia/packages/DiffEqBase/V7P18/src/integrator_interface.jl:349\n",
      "┌ Warning: First function call produced NaNs. Exiting.\n",
      "└ @ OrdinaryDiffEq /home/ziyu/.julia/packages/OrdinaryDiffEq/VPJBD/src/initdt.jl:76\n",
      "┌ Warning: Automatic dt set the starting dt as NaN, causing instability.\n",
      "└ @ OrdinaryDiffEq /home/ziyu/.julia/packages/OrdinaryDiffEq/VPJBD/src/solve.jl:459\n",
      "┌ Warning: NaN dt detected. Likely a NaN value in the state, parameters, or derivative value caused this outcome.\n",
      "└ @ DiffEqBase /home/ziyu/.julia/packages/DiffEqBase/V7P18/src/integrator_interface.jl:323\n",
      "┌ Warning: Instability detected. Aborting\n",
      "└ @ DiffEqBase /home/ziyu/.julia/packages/DiffEqBase/V7P18/src/integrator_interface.jl:349\n",
      "┌ Warning: First function call produced NaNs. Exiting.\n",
      "└ @ OrdinaryDiffEq /home/ziyu/.julia/packages/OrdinaryDiffEq/VPJBD/src/initdt.jl:76\n",
      "┌ Warning: Automatic dt set the starting dt as NaN, causing instability.\n",
      "└ @ OrdinaryDiffEq /home/ziyu/.julia/packages/OrdinaryDiffEq/VPJBD/src/solve.jl:459\n",
      "┌ Warning: NaN dt detected. Likely a NaN value in the state, parameters, or derivative value caused this outcome.\n",
      "└ @ DiffEqBase /home/ziyu/.julia/packages/DiffEqBase/V7P18/src/integrator_interface.jl:323\n",
      "┌ Warning: Instability detected. Aborting\n",
      "└ @ DiffEqBase /home/ziyu/.julia/packages/DiffEqBase/V7P18/src/integrator_interface.jl:349\n",
      "┌ Warning: First function call produced NaNs. Exiting.\n",
      "└ @ OrdinaryDiffEq /home/ziyu/.julia/packages/OrdinaryDiffEq/VPJBD/src/initdt.jl:76\n",
      "┌ Warning: Automatic dt set the starting dt as NaN, causing instability.\n",
      "└ @ OrdinaryDiffEq /home/ziyu/.julia/packages/OrdinaryDiffEq/VPJBD/src/solve.jl:459\n",
      "┌ Warning: NaN dt detected. Likely a NaN value in the state, parameters, or derivative value caused this outcome.\n",
      "└ @ DiffEqBase /home/ziyu/.julia/packages/DiffEqBase/V7P18/src/integrator_interface.jl:323\n",
      "┌ Warning: Instability detected. Aborting\n",
      "└ @ DiffEqBase /home/ziyu/.julia/packages/DiffEqBase/V7P18/src/integrator_interface.jl:349\n",
      "┌ Warning: First function call produced NaNs. Exiting.\n",
      "└ @ OrdinaryDiffEq /home/ziyu/.julia/packages/OrdinaryDiffEq/VPJBD/src/initdt.jl:76\n",
      "┌ Warning: Automatic dt set the starting dt as NaN, causing instability.\n",
      "└ @ OrdinaryDiffEq /home/ziyu/.julia/packages/OrdinaryDiffEq/VPJBD/src/solve.jl:459\n",
      "┌ Warning: NaN dt detected. Likely a NaN value in the state, parameters, or derivative value caused this outcome.\n",
      "└ @ DiffEqBase /home/ziyu/.julia/packages/DiffEqBase/V7P18/src/integrator_interface.jl:323\n",
      "┌ Warning: Instability detected. Aborting\n",
      "└ @ DiffEqBase /home/ziyu/.julia/packages/DiffEqBase/V7P18/src/integrator_interface.jl:349\n",
      "┌ Warning: First function call produced NaNs. Exiting.\n",
      "└ @ OrdinaryDiffEq /home/ziyu/.julia/packages/OrdinaryDiffEq/VPJBD/src/initdt.jl:76\n",
      "┌ Warning: Automatic dt set the starting dt as NaN, causing instability.\n",
      "└ @ OrdinaryDiffEq /home/ziyu/.julia/packages/OrdinaryDiffEq/VPJBD/src/solve.jl:459\n",
      "┌ Warning: NaN dt detected. Likely a NaN value in the state, parameters, or derivative value caused this outcome.\n",
      "└ @ DiffEqBase /home/ziyu/.julia/packages/DiffEqBase/V7P18/src/integrator_interface.jl:323\n",
      "┌ Warning: dt <= dtmin. Aborting. There is either an error in your model specification or the true solution is unstable.\n",
      "└ @ DiffEqBase /home/ziyu/.julia/packages/DiffEqBase/V7P18/src/integrator_interface.jl:343\n",
      "┌ Warning: First function call produced NaNs. Exiting.\n",
      "└ @ OrdinaryDiffEq /home/ziyu/.julia/packages/OrdinaryDiffEq/VPJBD/src/initdt.jl:76\n",
      "┌ Warning: Automatic dt set the starting dt as NaN, causing instability.\n",
      "└ @ OrdinaryDiffEq /home/ziyu/.julia/packages/OrdinaryDiffEq/VPJBD/src/solve.jl:459\n",
      "┌ Warning: NaN dt detected. Likely a NaN value in the state, parameters, or derivative value caused this outcome.\n",
      "└ @ DiffEqBase /home/ziyu/.julia/packages/DiffEqBase/V7P18/src/integrator_interface.jl:323\n",
      "┌ Warning: dt <= dtmin. Aborting. There is either an error in your model specification or the true solution is unstable.\n",
      "└ @ DiffEqBase /home/ziyu/.julia/packages/DiffEqBase/V7P18/src/integrator_interface.jl:343\n",
      "┌ Warning: First function call produced NaNs. Exiting.\n",
      "└ @ OrdinaryDiffEq /home/ziyu/.julia/packages/OrdinaryDiffEq/VPJBD/src/initdt.jl:76\n",
      "┌ Warning: Automatic dt set the starting dt as NaN, causing instability.\n",
      "└ @ OrdinaryDiffEq /home/ziyu/.julia/packages/OrdinaryDiffEq/VPJBD/src/solve.jl:459\n",
      "┌ Warning: NaN dt detected. Likely a NaN value in the state, parameters, or derivative value caused this outcome.\n",
      "└ @ DiffEqBase /home/ziyu/.julia/packages/DiffEqBase/V7P18/src/integrator_interface.jl:323\n",
      "┌ Warning: Instability detected. Aborting\n",
      "└ @ DiffEqBase /home/ziyu/.julia/packages/DiffEqBase/V7P18/src/integrator_interface.jl:349\n",
      "┌ Warning: First function call produced NaNs. Exiting.\n",
      "└ @ OrdinaryDiffEq /home/ziyu/.julia/packages/OrdinaryDiffEq/VPJBD/src/initdt.jl:76\n",
      "┌ Warning: Automatic dt set the starting dt as NaN, causing instability.\n",
      "└ @ OrdinaryDiffEq /home/ziyu/.julia/packages/OrdinaryDiffEq/VPJBD/src/solve.jl:459\n",
      "┌ Warning: NaN dt detected. Likely a NaN value in the state, parameters, or derivative value caused this outcome.\n",
      "└ @ DiffEqBase /home/ziyu/.julia/packages/DiffEqBase/V7P18/src/integrator_interface.jl:323\n",
      "┌ Warning: Instability detected. Aborting\n",
      "└ @ DiffEqBase /home/ziyu/.julia/packages/DiffEqBase/V7P18/src/integrator_interface.jl:349\n",
      "┌ Warning: First function call produced NaNs. Exiting.\n",
      "└ @ OrdinaryDiffEq /home/ziyu/.julia/packages/OrdinaryDiffEq/VPJBD/src/initdt.jl:76\n",
      "┌ Warning: Automatic dt set the starting dt as NaN, causing instability.\n",
      "└ @ OrdinaryDiffEq /home/ziyu/.julia/packages/OrdinaryDiffEq/VPJBD/src/solve.jl:459\n",
      "┌ Warning: NaN dt detected. Likely a NaN value in the state, parameters, or derivative value caused this outcome.\n",
      "└ @ DiffEqBase /home/ziyu/.julia/packages/DiffEqBase/V7P18/src/integrator_interface.jl:323\n",
      "┌ Warning: Instability detected. Aborting\n",
      "└ @ DiffEqBase /home/ziyu/.julia/packages/DiffEqBase/V7P18/src/integrator_interface.jl:349\n",
      "┌ Warning: First function call produced NaNs. Exiting.\n",
      "└ @ OrdinaryDiffEq /home/ziyu/.julia/packages/OrdinaryDiffEq/VPJBD/src/initdt.jl:76\n",
      "┌ Warning: Automatic dt set the starting dt as NaN, causing instability.\n",
      "└ @ OrdinaryDiffEq /home/ziyu/.julia/packages/OrdinaryDiffEq/VPJBD/src/solve.jl:459\n",
      "┌ Warning: NaN dt detected. Likely a NaN value in the state, parameters, or derivative value caused this outcome.\n",
      "└ @ DiffEqBase /home/ziyu/.julia/packages/DiffEqBase/V7P18/src/integrator_interface.jl:323\n",
      "┌ Warning: Instability detected. Aborting\n",
      "└ @ DiffEqBase /home/ziyu/.julia/packages/DiffEqBase/V7P18/src/integrator_interface.jl:349\n",
      "┌ Warning: First function call produced NaNs. Exiting.\n",
      "└ @ OrdinaryDiffEq /home/ziyu/.julia/packages/OrdinaryDiffEq/VPJBD/src/initdt.jl:76\n",
      "┌ Warning: Automatic dt set the starting dt as NaN, causing instability.\n",
      "└ @ OrdinaryDiffEq /home/ziyu/.julia/packages/OrdinaryDiffEq/VPJBD/src/solve.jl:459\n",
      "┌ Warning: NaN dt detected. Likely a NaN value in the state, parameters, or derivative value caused this outcome.\n",
      "└ @ DiffEqBase /home/ziyu/.julia/packages/DiffEqBase/V7P18/src/integrator_interface.jl:323\n",
      "┌ Warning: Instability detected. Aborting\n",
      "└ @ DiffEqBase /home/ziyu/.julia/packages/DiffEqBase/V7P18/src/integrator_interface.jl:349\n",
      "┌ Warning: First function call produced NaNs. Exiting.\n",
      "└ @ OrdinaryDiffEq /home/ziyu/.julia/packages/OrdinaryDiffEq/VPJBD/src/initdt.jl:76\n",
      "┌ Warning: Automatic dt set the starting dt as NaN, causing instability.\n",
      "└ @ OrdinaryDiffEq /home/ziyu/.julia/packages/OrdinaryDiffEq/VPJBD/src/solve.jl:459\n",
      "┌ Warning: NaN dt detected. Likely a NaN value in the state, parameters, or derivative value caused this outcome.\n",
      "└ @ DiffEqBase /home/ziyu/.julia/packages/DiffEqBase/V7P18/src/integrator_interface.jl:323\n",
      "┌ Warning: Instability detected. Aborting\n",
      "└ @ DiffEqBase /home/ziyu/.julia/packages/DiffEqBase/V7P18/src/integrator_interface.jl:349\n",
      "┌ Warning: First function call produced NaNs. Exiting.\n",
      "└ @ OrdinaryDiffEq /home/ziyu/.julia/packages/OrdinaryDiffEq/VPJBD/src/initdt.jl:76\n",
      "┌ Warning: Automatic dt set the starting dt as NaN, causing instability.\n",
      "└ @ OrdinaryDiffEq /home/ziyu/.julia/packages/OrdinaryDiffEq/VPJBD/src/solve.jl:459\n",
      "┌ Warning: NaN dt detected. Likely a NaN value in the state, parameters, or derivative value caused this outcome.\n",
      "└ @ DiffEqBase /home/ziyu/.julia/packages/DiffEqBase/V7P18/src/integrator_interface.jl:323\n"
     ]
    },
    {
     "name": "stderr",
     "output_type": "stream",
     "text": [
      "┌ Warning: dt <= dtmin. Aborting. There is either an error in your model specification or the true solution is unstable.\n",
      "└ @ DiffEqBase /home/ziyu/.julia/packages/DiffEqBase/V7P18/src/integrator_interface.jl:343\n",
      "\u001b[32mloss: 1.89e-06: 100%|███████████████████████████████████| Time: 0:00:21\u001b[39m\n",
      "\u001b[32mloss: 1.92e-06: 100%|███████████████████████████████████| Time: 0:00:21\u001b[39m\n",
      "\u001b[32mloss: 1.9e-06: 100%|████████████████████████████████████| Time: 0:00:21\u001b[39m\n"
     ]
    },
    {
     "name": "stdout",
     "output_type": "stream",
     "text": [
      "Generating data for country: Colombia\n"
     ]
    },
    {
     "name": "stderr",
     "output_type": "stream",
     "text": [
      "\u001b[32mloss: 5.61e-06: 100%|███████████████████████████████████| Time: 0:00:22\u001b[39m\n",
      "┌ Info:  started timer at: 2021-04-08T02:43:34.188\n",
      "└ @ TickTock /home/ziyu/.julia/packages/TickTock/RsTHR/src/TickTock.jl:32\n",
      "\u001b[32mloss: 4.93e-06: 100%|███████████████████████████████████| Time: 0:00:42\u001b[39m\n",
      "\u001b[32mloss: 4.03e-06: 100%|███████████████████████████████████| Time: 0:00:21\u001b[39m\n"
     ]
    },
    {
     "name": "stdout",
     "output_type": "stream",
     "text": [
      "Generating data for country: Colombia\n"
     ]
    },
    {
     "name": "stderr",
     "output_type": "stream",
     "text": [
      "\u001b[32mloss: 1.58: 100%|███████████████████████████████████████| Time: 0:01:26\u001b[39m\n",
      "┌ Info:  started timer at: 2021-04-08T02:46:36.229\n",
      "└ @ TickTock /home/ziyu/.julia/packages/TickTock/RsTHR/src/TickTock.jl:32\n",
      "\u001b[32mloss: 1.48: 100%|███████████████████████████████████████| Time: 0:02:37\u001b[39m\n",
      "\u001b[32mloss: 1.44: 100%|███████████████████████████████████████| Time: 0:01:22\u001b[39m\n",
      "┌ Info:  started timer at: 2021-04-08T02:54:22.751\n",
      "└ @ TickTock /home/ziyu/.julia/packages/TickTock/RsTHR/src/TickTock.jl:32\n",
      "\u001b[32mloss: 1.33: 100%|███████████████████████████████████████| Time: 0:02:38\u001b[39m\n",
      "\u001b[32mloss: 1.3: 100%|████████████████████████████████████████| Time: 0:01:15\u001b[39m\n",
      "┌ Info:  started timer at: 2021-04-08T03:00:26.96\n",
      "└ @ TickTock /home/ziyu/.julia/packages/TickTock/RsTHR/src/TickTock.jl:32\n",
      "\u001b[32mloss: 1.18: 100%|███████████████████████████████████████| Time: 0:02:45\u001b[39m\n",
      "\u001b[32mloss: 0.322: 100%|██████████████████████████████████████| Time: 0:01:01\u001b[39m\n",
      "┌ Info:  started timer at: 2021-04-08T03:07:54.968\n",
      "└ @ TickTock /home/ziyu/.julia/packages/TickTock/RsTHR/src/TickTock.jl:32\n",
      "\u001b[32mloss: 0.29: 100%|███████████████████████████████████████| Time: 0:02:30\u001b[39m\n",
      "\u001b[32mloss: 0.29: 100%|███████████████████████████████████████| Time: 0:01:24\u001b[39m\n"
     ]
    },
    {
     "name": "stdout",
     "output_type": "stream",
     "text": [
      "Solving from initial conditions for country: Colombia\n",
      "Plotting graphs for country: Colombia\n",
      "Updating csv for parameters for country: Colombia\n",
      "Updating csv for differentiation parameters for country: Colombia\n",
      "Loading parameters\n",
      "Training neural network\n",
      "Generating data for country: Costa_Rica\n"
     ]
    },
    {
     "name": "stderr",
     "output_type": "stream",
     "text": [
      "\u001b[32mloss: 2.7e-05: 100%|████████████████████████████████████| Time: 0:00:07\u001b[39m\n",
      "\u001b[32mloss: 2.67e-05: 100%|███████████████████████████████████| Time: 0:00:07\u001b[39m\n",
      "\u001b[32mloss: 2.65e-05: 100%|███████████████████████████████████| Time: 0:00:07\u001b[39m\n",
      "\u001b[32mloss: 5.24e-05: 100%|███████████████████████████████████| Time: 0:00:04\u001b[39m\n",
      "\u001b[32mloss: 4.06e-05: 100%|███████████████████████████████████| Time: 0:00:06\u001b[39m\n",
      "\u001b[32mloss: 3.09e-05: 100%|███████████████████████████████████| Time: 0:00:08\u001b[39m\n",
      "\u001b[32mloss: 2.86e-05: 100%|███████████████████████████████████| Time: 0:00:10\u001b[39m\n",
      "┌ Warning: Instability detected. Aborting\n",
      "└ @ DiffEqBase /home/ziyu/.julia/packages/DiffEqBase/V7P18/src/integrator_interface.jl:349\n",
      "┌ Warning: First function call produced NaNs. Exiting.\n",
      "└ @ OrdinaryDiffEq /home/ziyu/.julia/packages/OrdinaryDiffEq/VPJBD/src/initdt.jl:76\n",
      "\u001b[32mloss: 2.83e-05: 100%|███████████████████████████████████| Time: 0:00:10\u001b[39m\n"
     ]
    },
    {
     "name": "stdout",
     "output_type": "stream",
     "text": [
      "Unable to train with BFGS (instability)"
     ]
    },
    {
     "name": "stderr",
     "output_type": "stream",
     "text": [
      "\u001b[32mloss: 3.91e-06: 100%|███████████████████████████████████| Time: 0:00:17\u001b[39m\n",
      "\u001b[32mloss: 2.86e-07: 100%|███████████████████████████████████| Time: 0:00:17\u001b[39m\n",
      "\u001b[32mloss: 1.16e-07: 100%|███████████████████████████████████| Time: 0:00:17\u001b[39m\n",
      "\u001b[32mloss: 1.18e-07: 100%|███████████████████████████████████| Time: 0:00:17\u001b[39m\n"
     ]
    },
    {
     "name": "stdout",
     "output_type": "stream",
     "text": [
      "Generating data for country: Costa_Rica\n"
     ]
    },
    {
     "name": "stderr",
     "output_type": "stream",
     "text": [
      "\u001b[32mloss: 1.33e-05: 100%|███████████████████████████████████| Time: 0:00:19\u001b[39m\n",
      "┌ Info:  started timer at: 2021-04-08T03:18:51.299\n",
      "└ @ TickTock /home/ziyu/.julia/packages/TickTock/RsTHR/src/TickTock.jl:32\n",
      "\u001b[32mloss: 1.3e-05: 100%|████████████████████████████████████| Time: 0:00:41\u001b[39m\n",
      "\u001b[32mloss: 1.26e-05: 100%|███████████████████████████████████| Time: 0:00:20\u001b[39m\n",
      "┌ Info:  started timer at: 2021-04-08T03:20:35.406\n",
      "└ @ TickTock /home/ziyu/.julia/packages/TickTock/RsTHR/src/TickTock.jl:32\n",
      "\u001b[32mloss: 1.22e-05: 100%|███████████████████████████████████| Time: 0:00:39\u001b[39m\n",
      "\u001b[32mloss: 1.18e-05: 100%|███████████████████████████████████| Time: 0:00:21\u001b[39m\n",
      "┌ Info:  started timer at: 2021-04-08T03:22:33.969\n",
      "└ @ TickTock /home/ziyu/.julia/packages/TickTock/RsTHR/src/TickTock.jl:32\n",
      "\u001b[32mloss: 1.15e-05: 100%|███████████████████████████████████| Time: 0:00:39\u001b[39m\n",
      "\u001b[32mloss: 1.14e-05: 100%|███████████████████████████████████| Time: 0:00:19\u001b[39m\n"
     ]
    },
    {
     "name": "stdout",
     "output_type": "stream",
     "text": [
      "Generating data for country: Costa_Rica\n"
     ]
    },
    {
     "name": "stderr",
     "output_type": "stream",
     "text": [
      "\u001b[32mloss: 2.79: 100%|███████████████████████████████████████| Time: 0:00:59\u001b[39m\n",
      "┌ Info:  started timer at: 2021-04-08T03:25:24.329\n",
      "└ @ TickTock /home/ziyu/.julia/packages/TickTock/RsTHR/src/TickTock.jl:32\n",
      "\u001b[32mloss: 2.08: 100%|███████████████████████████████████████| Time: 0:02:18\u001b[39m\n",
      "\u001b[32mloss: 1.8: 100%|████████████████████████████████████████| Time: 0:01:23\u001b[39m\n",
      "┌ Info:  started timer at: 2021-04-08T03:32:07.489\n",
      "└ @ TickTock /home/ziyu/.julia/packages/TickTock/RsTHR/src/TickTock.jl:32\n",
      "\u001b[32mloss: 1.73: 100%|███████████████████████████████████████| Time: 0:02:41\u001b[39m\n",
      "\u001b[32mloss: 1.57: 100%|███████████████████████████████████████| Time: 0:01:19\u001b[39m\n",
      "┌ Info:  started timer at: 2021-04-08T03:39:02.686\n",
      "└ @ TickTock /home/ziyu/.julia/packages/TickTock/RsTHR/src/TickTock.jl:32\n",
      "\u001b[32mloss: 1.46: 100%|███████████████████████████████████████| Time: 0:02:38\u001b[39m\n",
      "\u001b[32mloss: 1.38: 100%|███████████████████████████████████████| Time: 0:01:11\u001b[39m\n",
      "┌ Info:  started timer at: 2021-04-08T03:44:18.875\n",
      "└ @ TickTock /home/ziyu/.julia/packages/TickTock/RsTHR/src/TickTock.jl:32\n",
      "\u001b[32mloss: 1.29: 100%|███████████████████████████████████████| Time: 0:02:40\u001b[39m\n",
      "\u001b[32mloss: 0.777: 100%|██████████████████████████████████████| Time: 0:01:13\u001b[39m\n",
      "┌ Info:  started timer at: 2021-04-08T03:49:44.464\n",
      "└ @ TickTock /home/ziyu/.julia/packages/TickTock/RsTHR/src/TickTock.jl:32\n",
      "\u001b[32mloss: 0.621: 100%|██████████████████████████████████████| Time: 0:02:18\u001b[39m\n",
      "\u001b[32mloss: 0.616: 100%|██████████████████████████████████████| Time: 0:01:05\u001b[39m\n",
      "┌ Info:  started timer at: 2021-04-08T03:55:36.601\n",
      "└ @ TickTock /home/ziyu/.julia/packages/TickTock/RsTHR/src/TickTock.jl:32\n",
      "\u001b[32mloss: 0.546: 100%|██████████████████████████████████████| Time: 0:02:14\u001b[39m\n",
      "\u001b[32mloss: 0.543: 100%|██████████████████████████████████████| Time: 0:00:55\u001b[39m\n",
      "┌ Info:  started timer at: 2021-04-08T04:00:53.606\n",
      "└ @ TickTock /home/ziyu/.julia/packages/TickTock/RsTHR/src/TickTock.jl:32\n",
      "\u001b[32mloss: 0.418: 100%|██████████████████████████████████████| Time: 0:02:45\u001b[39m\n",
      "\u001b[32mloss: 0.416: 100%|██████████████████████████████████████| Time: 0:01:25\u001b[39m\n"
     ]
    },
    {
     "name": "stdout",
     "output_type": "stream",
     "text": [
      "Solving from initial conditions for country: Costa_Rica\n",
      "Plotting graphs for country: Costa_Rica\n",
      "Updating csv for parameters for country: Costa_Rica\n",
      "Updating csv for differentiation parameters for country: Costa_Rica\n",
      "Loading parameters\n",
      "Training neural network\n",
      "Generating data for country: Denmark\n"
     ]
    },
    {
     "name": "stderr",
     "output_type": "stream",
     "text": [
      "\u001b[32mloss: 0.000556: 100%|███████████████████████████████████| Time: 0:00:08\u001b[39m\n",
      "\u001b[32mloss: 0.000549: 100%|███████████████████████████████████| Time: 0:00:08\u001b[39m\n",
      "\u001b[32mloss: 0.000546: 100%|███████████████████████████████████| Time: 0:00:08\u001b[39m\n",
      "\u001b[32mloss: 0.000942: 100%|███████████████████████████████████| Time: 0:00:05\u001b[39m\n",
      "\u001b[32mloss: 0.00062: 100%|████████████████████████████████████| Time: 0:00:07\u001b[39m\n",
      "\u001b[32mloss: 0.00062: 100%|████████████████████████████████████| Time: 0:00:09\u001b[39m\n",
      "\u001b[32mloss: 0.000569: 100%|███████████████████████████████████| Time: 0:00:11\u001b[39m\n",
      "\u001b[32mloss: 3.1e-05: 100%|████████████████████████████████████| Time: 0:00:18\u001b[39m\n",
      "\u001b[32mloss: 2.89e-05: 100%|███████████████████████████████████| Time: 0:00:18\u001b[39m\n",
      "\u001b[32mloss: 8.55e-06: 100%|███████████████████████████████████| Time: 0:00:18\u001b[39m\n",
      "\u001b[32mloss: 8.72e-06: 100%|███████████████████████████████████| Time: 0:00:18\u001b[39m\n"
     ]
    },
    {
     "name": "stdout",
     "output_type": "stream",
     "text": [
      "Generating data for country: Denmark\n"
     ]
    },
    {
     "name": "stderr",
     "output_type": "stream",
     "text": [
      "\u001b[32mloss: 9.18e-06: 100%|███████████████████████████████████| Time: 0:00:18\u001b[39m\n",
      "┌ Info:  started timer at: 2021-04-08T04:12:35.579\n",
      "└ @ TickTock /home/ziyu/.julia/packages/TickTock/RsTHR/src/TickTock.jl:32\n",
      "\u001b[32mloss: 8.99e-06: 100%|███████████████████████████████████| Time: 0:00:36\u001b[39m\n",
      "\u001b[32mloss: 8.89e-06: 100%|███████████████████████████████████| Time: 0:00:18\u001b[39m\n",
      "┌ Info:  started timer at: 2021-04-08T04:14:04.071\n",
      "└ @ TickTock /home/ziyu/.julia/packages/TickTock/RsTHR/src/TickTock.jl:32\n",
      "\u001b[32mloss: 8.63e-06: 100%|███████████████████████████████████| Time: 0:00:36\u001b[39m\n",
      "\u001b[32mloss: 8.58e-06: 100%|███████████████████████████████████| Time: 0:00:19\u001b[39m\n"
     ]
    },
    {
     "name": "stdout",
     "output_type": "stream",
     "text": [
      "Generating data for country: Denmark\n"
     ]
    },
    {
     "name": "stderr",
     "output_type": "stream",
     "text": [
      "\u001b[32mloss: 36.3: 100%|███████████████████████████████████████| Time: 0:00:44\u001b[39m\n",
      "┌ Info:  started timer at: 2021-04-08T04:16:07.331\n",
      "└ @ TickTock /home/ziyu/.julia/packages/TickTock/RsTHR/src/TickTock.jl:32\n",
      "\u001b[32mloss: 34.5: 100%|███████████████████████████████████████| Time: 0:01:39\u001b[39m\n",
      "\u001b[32mloss: 34.1: 100%|███████████████████████████████████████| Time: 0:00:38\u001b[39m\n",
      "┌ Info:  started timer at: 2021-04-08T04:19:13.612\n",
      "└ @ TickTock /home/ziyu/.julia/packages/TickTock/RsTHR/src/TickTock.jl:32\n",
      "\u001b[32mloss: 33.4: 100%|███████████████████████████████████████| Time: 0:01:28\u001b[39m\n",
      "\u001b[32mloss: 32.7: 100%|███████████████████████████████████████| Time: 0:00:43\u001b[39m\n",
      "┌ Info:  started timer at: 2021-04-08T04:22:26.84\n",
      "└ @ TickTock /home/ziyu/.julia/packages/TickTock/RsTHR/src/TickTock.jl:32\n",
      "\u001b[32mloss: 32: 100%|█████████████████████████████████████████| Time: 0:01:25\u001b[39m\n",
      "\u001b[32mloss: 31.7: 100%|███████████████████████████████████████| Time: 0:00:52\u001b[39m\n",
      "┌ Info:  started timer at: 2021-04-08T04:26:00.574\n",
      "└ @ TickTock /home/ziyu/.julia/packages/TickTock/RsTHR/src/TickTock.jl:32\n",
      "\u001b[32mloss: 31: 100%|█████████████████████████████████████████| Time: 0:01:42\u001b[39m\n",
      "\u001b[32mloss: 30.8: 100%|███████████████████████████████████████| Time: 0:00:44\u001b[39m\n",
      "┌ Info:  started timer at: 2021-04-08T04:29:18.702\n",
      "└ @ TickTock /home/ziyu/.julia/packages/TickTock/RsTHR/src/TickTock.jl:32\n",
      "\u001b[32mloss: 30.4: 100%|███████████████████████████████████████| Time: 0:01:34\u001b[39m\n",
      "\u001b[32mloss: 30.2: 100%|███████████████████████████████████████| Time: 0:00:43\u001b[39m\n",
      "┌ Info:  started timer at: 2021-04-08T04:32:32.72\n",
      "└ @ TickTock /home/ziyu/.julia/packages/TickTock/RsTHR/src/TickTock.jl:32\n",
      "\u001b[32mloss: 29.9: 100%|███████████████████████████████████████| Time: 0:01:31\u001b[39m\n",
      "\u001b[32mloss: 29.6: 100%|███████████████████████████████████████| Time: 0:00:48\u001b[39m\n",
      "┌ Info:  started timer at: 2021-04-08T04:35:53.765\n",
      "└ @ TickTock /home/ziyu/.julia/packages/TickTock/RsTHR/src/TickTock.jl:32\n",
      "\u001b[32mloss: 29.3: 100%|███████████████████████████████████████| Time: 0:01:26\u001b[39m\n",
      "\u001b[32mloss: 29.3: 100%|███████████████████████████████████████| Time: 0:00:34\u001b[39m\n",
      "┌ Info:  started timer at: 2021-04-08T04:38:12.808\n",
      "└ @ TickTock /home/ziyu/.julia/packages/TickTock/RsTHR/src/TickTock.jl:32\n",
      "\u001b[32mloss: 29.1: 100%|███████████████████████████████████████| Time: 0:01:11\u001b[39m\n",
      "\u001b[32mloss: 27.4: 100%|███████████████████████████████████████| Time: 0:01:08\u001b[39m\n",
      "┌ Info:  started timer at: 2021-04-08T04:41:49.186\n",
      "└ @ TickTock /home/ziyu/.julia/packages/TickTock/RsTHR/src/TickTock.jl:32\n",
      "\u001b[32mloss: 27: 100%|█████████████████████████████████████████| Time: 0:01:57\u001b[39m\n",
      "\u001b[32mloss: 27: 100%|█████████████████████████████████████████| Time: 0:01:01\u001b[39m\n",
      "┌ Info:  started timer at: 2021-04-08T04:46:07.382\n",
      "└ @ TickTock /home/ziyu/.julia/packages/TickTock/RsTHR/src/TickTock.jl:32\n",
      "\u001b[32mloss: 26.8: 100%|███████████████████████████████████████| Time: 0:02:00\u001b[39m\n",
      "\u001b[32mloss: 26.7: 100%|███████████████████████████████████████| Time: 0:00:56\u001b[39m\n"
     ]
    },
    {
     "name": "stdout",
     "output_type": "stream",
     "text": [
      "Solving from initial conditions for country: Denmark\n",
      "Plotting graphs for country: Denmark\n",
      "Updating csv for parameters for country: Denmark\n",
      "Updating csv for differentiation parameters for country: Denmark\n",
      "Loading parameters\n",
      "Training neural network\n",
      "Generating data for country: Dominican_Republic\n"
     ]
    },
    {
     "name": "stderr",
     "output_type": "stream",
     "text": [
      "\u001b[32mloss: 8.45e-05: 100%|███████████████████████████████████| Time: 0:00:09\u001b[39m\n",
      "\u001b[32mloss: 8.25e-05: 100%|███████████████████████████████████| Time: 0:00:09\u001b[39m\n",
      "\u001b[32mloss: 8.23e-05: 100%|███████████████████████████████████| Time: 0:00:09\u001b[39m\n",
      "\u001b[32mloss: 0.000115: 100%|███████████████████████████████████| Time: 0:00:07\u001b[39m\n",
      "\u001b[32mloss: 9.66e-05: 100%|███████████████████████████████████| Time: 0:00:09\u001b[39m\n",
      "\u001b[32mloss: 8.72e-05: 100%|███████████████████████████████████| Time: 0:00:11\u001b[39m\n",
      "\u001b[32mloss: 8.17e-05: 100%|███████████████████████████████████| Time: 0:00:12\u001b[39m\n",
      "\u001b[32mloss: 1.73e-06: 100%|███████████████████████████████████| Time: 0:00:20\u001b[39m\n",
      "\u001b[32mloss: 1.17e-06: 100%|███████████████████████████████████| Time: 0:00:20\u001b[39m\n",
      "\u001b[32mloss: 9.96e-07: 100%|███████████████████████████████████| Time: 0:00:20\u001b[39m\n",
      "\u001b[32mloss: 1.02e-06: 100%|███████████████████████████████████| Time: 0:00:20\u001b[39m\n"
     ]
    },
    {
     "name": "stdout",
     "output_type": "stream",
     "text": [
      "Generating data for country: Dominican_Republic\n"
     ]
    },
    {
     "name": "stderr",
     "output_type": "stream",
     "text": [
      "\u001b[32mloss: 2.32e-06: 100%|███████████████████████████████████| Time: 0:00:20\u001b[39m\n",
      "┌ Info:  started timer at: 2021-04-08T04:54:31.95\n",
      "└ @ TickTock /home/ziyu/.julia/packages/TickTock/RsTHR/src/TickTock.jl:32\n",
      "\u001b[32mloss: 1.97e-06: 100%|███████████████████████████████████| Time: 0:00:39\u001b[39m\n",
      "\u001b[32mloss: 1.95e-06: 100%|███████████████████████████████████| Time: 0:00:19\u001b[39m\n"
     ]
    },
    {
     "name": "stdout",
     "output_type": "stream",
     "text": [
      "Generating data for country: Dominican_Republic\n"
     ]
    },
    {
     "name": "stderr",
     "output_type": "stream",
     "text": [
      "\u001b[32mloss: 599: 100%|████████████████████████████████████████| Time: 0:01:39\u001b[39m\n",
      "┌ Info:  started timer at: 2021-04-08T04:57:50.159\n",
      "└ @ TickTock /home/ziyu/.julia/packages/TickTock/RsTHR/src/TickTock.jl:32\n",
      "\u001b[32mloss: 28.8: 100%|███████████████████████████████████████| Time: 0:02:52\u001b[39m\n",
      "\u001b[32mloss: 19.1: 100%|███████████████████████████████████████| Time: 0:01:18\u001b[39m\n",
      "┌ Info:  started timer at: 2021-04-08T05:04:13.09\n",
      "└ @ TickTock /home/ziyu/.julia/packages/TickTock/RsTHR/src/TickTock.jl:32\n",
      "\u001b[32mloss: 2.55: 100%|███████████████████████████████████████| Time: 0:02:36\u001b[39m\n",
      "\u001b[32mloss: 2.41: 100%|███████████████████████████████████████| Time: 0:01:19\u001b[39m\n",
      "┌ Info:  started timer at: 2021-04-08T05:11:35.282\n",
      "└ @ TickTock /home/ziyu/.julia/packages/TickTock/RsTHR/src/TickTock.jl:32\n",
      "\u001b[32mloss: 1.67: 100%|███████████████████████████████████████| Time: 0:02:33\u001b[39m\n",
      "\u001b[32mloss: 1.66: 100%|███████████████████████████████████████| Time: 0:01:14\u001b[39m\n"
     ]
    },
    {
     "name": "stdout",
     "output_type": "stream",
     "text": [
      "Solving from initial conditions for country: Dominican_Republic\n",
      "Plotting graphs for country: Dominican_Republic\n",
      "Updating csv for parameters for country: Dominican_Republic\n",
      "Updating csv for differentiation parameters for country: Dominican_Republic\n",
      "Loading parameters\n",
      "Training neural network\n",
      "Generating data for country: Ecuador\n"
     ]
    },
    {
     "name": "stderr",
     "output_type": "stream",
     "text": [
      "\u001b[32mloss: 3.04e-05: 100%|███████████████████████████████████| Time: 0:00:07\u001b[39m\n",
      "\u001b[32mloss: 3.02e-05: 100%|███████████████████████████████████| Time: 0:00:07\u001b[39m\n",
      "\u001b[32mloss: 3.01e-05: 100%|███████████████████████████████████| Time: 0:00:07\u001b[39m\n",
      "\u001b[32mloss: 6.07e-05: 100%|███████████████████████████████████| Time: 0:00:05\u001b[39m\n",
      "\u001b[32mloss: 4.78e-05: 100%|███████████████████████████████████| Time: 0:00:06\u001b[39m\n",
      "\u001b[32mloss: 3.78e-05: 100%|███████████████████████████████████| Time: 0:00:08\u001b[39m\n",
      "\u001b[32mloss: 3.31e-05: 100%|███████████████████████████████████| Time: 0:00:10\u001b[39m\n",
      "\u001b[32mloss: 4.85e-07: 100%|███████████████████████████████████| Time: 0:00:18\u001b[39m\n",
      "\u001b[32mloss: 3.99e-07: 100%|███████████████████████████████████| Time: 0:00:18\u001b[39m\n",
      "\u001b[32mloss: 3.3e-07: 100%|████████████████████████████████████| Time: 0:00:18\u001b[39m\n",
      "\u001b[32mloss: 4.56e-07: 100%|███████████████████████████████████| Time: 0:00:18\u001b[39m\n"
     ]
    },
    {
     "name": "stdout",
     "output_type": "stream",
     "text": [
      "Generating data for country: Ecuador\n"
     ]
    },
    {
     "name": "stderr",
     "output_type": "stream",
     "text": [
      "\u001b[32mloss: 4.08e-06: 100%|███████████████████████████████████| Time: 0:00:17\u001b[39m\n",
      "┌ Info:  started timer at: 2021-04-08T05:21:18.622\n",
      "└ @ TickTock /home/ziyu/.julia/packages/TickTock/RsTHR/src/TickTock.jl:32\n",
      "\u001b[32mloss: 3.7e-06: 100%|████████████████████████████████████| Time: 0:00:32\u001b[39m\n",
      "\u001b[32mloss: 2.57e-06: 100%|███████████████████████████████████| Time: 0:00:18\u001b[39m\n",
      "┌ Info:  started timer at: 2021-04-08T05:22:53.317\n",
      "└ @ TickTock /home/ziyu/.julia/packages/TickTock/RsTHR/src/TickTock.jl:32\n",
      "\u001b[32mloss: 2.29e-06: 100%|███████████████████████████████████| Time: 0:00:36\u001b[39m\n",
      "\u001b[32mloss: 2.28e-06: 100%|███████████████████████████████████| Time: 0:00:17\u001b[39m\n",
      "┌ Info:  started timer at: 2021-04-08T05:24:24.033\n",
      "└ @ TickTock /home/ziyu/.julia/packages/TickTock/RsTHR/src/TickTock.jl:32\n",
      "\u001b[32mloss: 2.2e-06: 100%|████████████████████████████████████| Time: 0:00:35\u001b[39m\n",
      "\u001b[32mloss: 2.13e-06: 100%|███████████████████████████████████| Time: 0:00:17\u001b[39m\n",
      "┌ Info:  started timer at: 2021-04-08T05:25:32.806\n",
      "└ @ TickTock /home/ziyu/.julia/packages/TickTock/RsTHR/src/TickTock.jl:32\n",
      "\u001b[32mloss: 2.1e-06: 100%|████████████████████████████████████| Time: 0:00:36\u001b[39m\n",
      "\u001b[32mloss: 2.08e-06: 100%|███████████████████████████████████| Time: 0:00:17\u001b[39m\n",
      "┌ Info:  started timer at: 2021-04-08T05:26:46.052\n",
      "└ @ TickTock /home/ziyu/.julia/packages/TickTock/RsTHR/src/TickTock.jl:32\n",
      "\u001b[32mloss: 2.06e-06: 100%|███████████████████████████████████| Time: 0:00:36\u001b[39m\n",
      "\u001b[32mloss: 2.06e-06: 100%|███████████████████████████████████| Time: 0:00:17\u001b[39m\n"
     ]
    },
    {
     "name": "stdout",
     "output_type": "stream",
     "text": [
      "Generating data for country: Ecuador\n"
     ]
    },
    {
     "name": "stderr",
     "output_type": "stream",
     "text": [
      "\u001b[32mloss: 6.46: 100%|███████████████████████████████████████| Time: 0:01:13\u001b[39m\n",
      "┌ Info:  started timer at: 2021-04-08T05:29:26.714\n",
      "└ @ TickTock /home/ziyu/.julia/packages/TickTock/RsTHR/src/TickTock.jl:32\n",
      "\u001b[32mloss: 4.94: 100%|███████████████████████████████████████| Time: 0:02:14\u001b[39m\n",
      "\u001b[32mloss: 4.91: 100%|███████████████████████████████████████| Time: 0:01:12\u001b[39m\n",
      "┌ Info:  started timer at: 2021-04-08T05:35:38.214\n",
      "└ @ TickTock /home/ziyu/.julia/packages/TickTock/RsTHR/src/TickTock.jl:32\n",
      "\u001b[32mloss: 4.68: 100%|███████████████████████████████████████| Time: 0:02:01\u001b[39m\n",
      "\u001b[32mloss: 4.66: 100%|███████████████████████████████████████| Time: 0:01:03\u001b[39m\n",
      "┌ Info:  started timer at: 2021-04-08T05:40:55.842\n",
      "└ @ TickTock /home/ziyu/.julia/packages/TickTock/RsTHR/src/TickTock.jl:32\n",
      "\u001b[32mloss: 4.36: 100%|███████████████████████████████████████| Time: 0:02:20\u001b[39m\n",
      "\u001b[32mloss: 4.35: 100%|███████████████████████████████████████| Time: 0:01:19\u001b[39m\n",
      "┌ Info:  started timer at: 2021-04-08T05:47:18.124\n",
      "└ @ TickTock /home/ziyu/.julia/packages/TickTock/RsTHR/src/TickTock.jl:32\n",
      "\u001b[32mloss: 4.04: 100%|███████████████████████████████████████| Time: 0:02:20\u001b[39m\n",
      "\u001b[32mloss: 3.71: 100%|███████████████████████████████████████| Time: 0:01:14\u001b[39m\n",
      "┌ Info:  started timer at: 2021-04-08T05:53:53.656\n",
      "└ @ TickTock /home/ziyu/.julia/packages/TickTock/RsTHR/src/TickTock.jl:32\n",
      "\u001b[32mloss: 3.46: 100%|███████████████████████████████████████| Time: 0:02:24\u001b[39m\n",
      "\u001b[32mloss: 3.45: 100%|███████████████████████████████████████| Time: 0:01:10\u001b[39m\n",
      "┌ Info:  started timer at: 2021-04-08T06:00:04.314\n",
      "└ @ TickTock /home/ziyu/.julia/packages/TickTock/RsTHR/src/TickTock.jl:32\n",
      "\u001b[32mloss: 2.86: 100%|███████████████████████████████████████| Time: 0:02:18\u001b[39m\n",
      "\u001b[32mloss: 2.85: 100%|███████████████████████████████████████| Time: 0:01:08\u001b[39m\n",
      "┌ Info:  started timer at: 2021-04-08T06:05:09.677\n",
      "└ @ TickTock /home/ziyu/.julia/packages/TickTock/RsTHR/src/TickTock.jl:32\n",
      "\u001b[32mloss: 2.73: 100%|███████████████████████████████████████| Time: 0:02:22\u001b[39m\n",
      "\u001b[32mloss: 2.72: 100%|███████████████████████████████████████| Time: 0:01:07\u001b[39m\n",
      "┌ Info:  started timer at: 2021-04-08T06:11:07.392\n",
      "└ @ TickTock /home/ziyu/.julia/packages/TickTock/RsTHR/src/TickTock.jl:32\n",
      "\u001b[32mloss: 2.64: 100%|███████████████████████████████████████| Time: 0:02:20\u001b[39m\n",
      "\u001b[32mloss: 2.63: 100%|███████████████████████████████████████| Time: 0:01:00\u001b[39m\n"
     ]
    },
    {
     "name": "stdout",
     "output_type": "stream",
     "text": [
      "Solving from initial conditions for country: Ecuador\n",
      "Plotting graphs for country: Ecuador\n",
      "Updating csv for parameters for country: Ecuador\n",
      "Updating csv for differentiation parameters for country: Ecuador\n",
      "Loading parameters\n",
      "Training neural network\n",
      "Generating data for country: El_Salvador\n"
     ]
    },
    {
     "name": "stderr",
     "output_type": "stream",
     "text": [
      "\u001b[32mloss: 3.79e-06: 100%|███████████████████████████████████| Time: 0:00:07\u001b[39m\n",
      "\u001b[32mloss: 3.69e-06: 100%|███████████████████████████████████| Time: 0:00:07\u001b[39m\n",
      "\u001b[32mloss: 3.69e-06: 100%|███████████████████████████████████| Time: 0:00:07\u001b[39m\n",
      "\u001b[32mloss: 6.12e-06: 100%|███████████████████████████████████| Time: 0:00:05\u001b[39m\n",
      "\u001b[32mloss: 5.14e-06: 100%|███████████████████████████████████| Time: 0:00:06\u001b[39m\n",
      "\u001b[32mloss: 4.42e-06: 100%|███████████████████████████████████| Time: 0:00:08\u001b[39m\n",
      "\u001b[32mloss: 3.98e-06: 100%|███████████████████████████████████| Time: 0:00:10\u001b[39m\n",
      "\u001b[32mloss: 1.82e-06: 100%|███████████████████████████████████| Time: 0:00:18\u001b[39m\n",
      "\u001b[32mloss: 1.33e-07: 100%|███████████████████████████████████| Time: 0:00:18\u001b[39m\n",
      "\u001b[32mloss: 4.22e-08: 100%|███████████████████████████████████| Time: 0:00:18\u001b[39m\n",
      "\u001b[32mloss: 3.3e-08: 100%|████████████████████████████████████| Time: 0:00:18\u001b[39m\n"
     ]
    },
    {
     "name": "stdout",
     "output_type": "stream",
     "text": [
      "Generating data for country: El_Salvador\n"
     ]
    },
    {
     "name": "stderr",
     "output_type": "stream",
     "text": [
      "\u001b[32mloss: 5.57e-06: 100%|███████████████████████████████████| Time: 0:00:17\u001b[39m\n",
      "┌ Info:  started timer at: 2021-04-08T06:20:52.926\n",
      "└ @ TickTock /home/ziyu/.julia/packages/TickTock/RsTHR/src/TickTock.jl:32\n",
      "\u001b[32mloss: 4.56e-06: 100%|███████████████████████████████████| Time: 0:00:35\u001b[39m\n",
      "\u001b[32mloss: 4.23e-06: 100%|███████████████████████████████████| Time: 0:00:18\u001b[39m\n",
      "┌ Info:  started timer at: 2021-04-08T06:22:25.719\n",
      "└ @ TickTock /home/ziyu/.julia/packages/TickTock/RsTHR/src/TickTock.jl:32\n",
      "\u001b[32mloss: 4.02e-06: 100%|███████████████████████████████████| Time: 0:00:36\u001b[39m\n",
      "\u001b[32mloss: 1.88e-06: 100%|███████████████████████████████████| Time: 0:00:18\u001b[39m\n",
      "┌ Info:  started timer at: 2021-04-08T06:24:05.04\n",
      "└ @ TickTock /home/ziyu/.julia/packages/TickTock/RsTHR/src/TickTock.jl:32\n",
      "\u001b[32mloss: 1.14e-06: 100%|███████████████████████████████████| Time: 0:00:35\u001b[39m\n",
      "\u001b[32mloss: 1.09e-06: 100%|███████████████████████████████████| Time: 0:00:17\u001b[39m\n",
      "┌ Info:  started timer at: 2021-04-08T06:25:35.545\n",
      "└ @ TickTock /home/ziyu/.julia/packages/TickTock/RsTHR/src/TickTock.jl:32\n",
      "\u001b[32mloss: 1.07e-06: 100%|███████████████████████████████████| Time: 0:00:35\u001b[39m\n",
      "\u001b[32mloss: 1.07e-06: 100%|███████████████████████████████████| Time: 0:00:17\u001b[39m\n"
     ]
    },
    {
     "name": "stdout",
     "output_type": "stream",
     "text": [
      "Generating data for country: El_Salvador\n"
     ]
    },
    {
     "name": "stderr",
     "output_type": "stream",
     "text": [
      "\u001b[32mloss: 7.06: 100%|███████████████████████████████████████| Time: 0:01:18\u001b[39m\n",
      "┌ Info:  started timer at: 2021-04-08T06:28:29.389\n",
      "└ @ TickTock /home/ziyu/.julia/packages/TickTock/RsTHR/src/TickTock.jl:32\n",
      "\u001b[32mloss: 3.87: 100%|███████████████████████████████████████| Time: 0:02:55\u001b[39m\n",
      "\u001b[32mloss: 0.422: 100%|██████████████████████████████████████| Time: 0:01:30\u001b[39m\n",
      "┌ Info:  started timer at: 2021-04-08T06:36:03.619\n",
      "└ @ TickTock /home/ziyu/.julia/packages/TickTock/RsTHR/src/TickTock.jl:32\n",
      "\u001b[32mloss: 0.401: 100%|██████████████████████████████████████| Time: 0:02:54\u001b[39m\n",
      "\u001b[32mloss: 0.396: 100%|██████████████████████████████████████| Time: 0:01:28\u001b[39m\n",
      "┌ Info:  started timer at: 2021-04-08T06:44:07.641\n",
      "└ @ TickTock /home/ziyu/.julia/packages/TickTock/RsTHR/src/TickTock.jl:32\n",
      "\u001b[32mloss: 0.381: 100%|██████████████████████████████████████| Time: 0:02:50\u001b[39m\n",
      "\u001b[32mloss: 0.38: 100%|███████████████████████████████████████| Time: 0:01:18\u001b[39m\n"
     ]
    },
    {
     "name": "stdout",
     "output_type": "stream",
     "text": [
      "Solving from initial conditions for country: El_Salvador\n",
      "Plotting graphs for country: El_Salvador\n",
      "Updating csv for parameters for country: El_Salvador\n",
      "Updating csv for differentiation parameters for country: El_Salvador\n",
      "Loading parameters\n",
      "Training neural network\n",
      "Generating data for country: Finland\n"
     ]
    },
    {
     "name": "stderr",
     "output_type": "stream",
     "text": [
      "\u001b[32mloss: 0.000708: 100%|███████████████████████████████████| Time: 0:00:08\u001b[39m\n",
      "\u001b[32mloss: 0.000693: 100%|███████████████████████████████████| Time: 0:00:08\u001b[39m\n",
      "\u001b[32mloss: 0.000688: 100%|███████████████████████████████████| Time: 0:00:08\u001b[39m\n",
      "\u001b[32mloss: 0.00144: 100%|████████████████████████████████████| Time: 0:00:05\u001b[39m\n",
      "\u001b[32mloss: 0.000671: 100%|███████████████████████████████████| Time: 0:00:07\u001b[39m\n",
      "\u001b[32mloss: 0.000752: 100%|███████████████████████████████████| Time: 0:00:09\u001b[39m\n",
      "\u001b[32mloss: 0.000738: 100%|███████████████████████████████████| Time: 0:00:11\u001b[39m\n",
      "\u001b[32mloss: 6.27e-05: 100%|███████████████████████████████████| Time: 0:00:18\u001b[39m\n",
      "\u001b[32mloss: 6.28e-05: 100%|███████████████████████████████████| Time: 0:00:18\u001b[39m\n",
      "\u001b[32mloss: 6.15e-05: 100%|███████████████████████████████████| Time: 0:00:18\u001b[39m\n",
      "\u001b[32mloss: 6.23e-05: 100%|███████████████████████████████████| Time: 0:00:18\u001b[39m\n"
     ]
    },
    {
     "name": "stdout",
     "output_type": "stream",
     "text": [
      "Generating data for country: Finland\n"
     ]
    },
    {
     "name": "stderr",
     "output_type": "stream",
     "text": [
      "\u001b[32mloss: 3.03e-05: 100%|███████████████████████████████████| Time: 0:00:18\u001b[39m\n",
      "┌ Info:  started timer at: 2021-04-08T06:55:20.539\n",
      "└ @ TickTock /home/ziyu/.julia/packages/TickTock/RsTHR/src/TickTock.jl:32\n",
      "\u001b[32mloss: 2.81e-05: 100%|███████████████████████████████████| Time: 0:00:37\u001b[39m\n",
      "\u001b[32mloss: 2.76e-05: 100%|███████████████████████████████████| Time: 0:00:19\u001b[39m\n",
      "┌ Info:  started timer at: 2021-04-08T06:56:51.871\n",
      "└ @ TickTock /home/ziyu/.julia/packages/TickTock/RsTHR/src/TickTock.jl:32\n",
      "\u001b[32mloss: 2.66e-05: 100%|███████████████████████████████████| Time: 0:00:38\u001b[39m\n",
      "\u001b[32mloss: 2.65e-05: 100%|███████████████████████████████████| Time: 0:00:19\u001b[39m\n"
     ]
    },
    {
     "name": "stdout",
     "output_type": "stream",
     "text": [
      "Generating data for country: Finland\n"
     ]
    },
    {
     "name": "stderr",
     "output_type": "stream",
     "text": [
      "\u001b[32mloss: 67.3: 100%|███████████████████████████████████████| Time: 0:01:05\u001b[39m\n",
      "┌ Info:  started timer at: 2021-04-08T06:59:22.845\n",
      "└ @ TickTock /home/ziyu/.julia/packages/TickTock/RsTHR/src/TickTock.jl:32\n",
      "\u001b[32mloss: 41.9: 100%|███████████████████████████████████████| Time: 0:02:07\u001b[39m\n",
      "\u001b[32mloss: 40.9: 100%|███████████████████████████████████████| Time: 0:01:06\u001b[39m\n",
      "┌ Info:  started timer at: 2021-04-08T07:03:34.274\n",
      "└ @ TickTock /home/ziyu/.julia/packages/TickTock/RsTHR/src/TickTock.jl:32\n",
      "\u001b[32mloss: 32.9: 100%|███████████████████████████████████████| Time: 0:01:25\u001b[39m\n",
      "\u001b[32mloss: 32.7: 100%|███████████████████████████████████████| Time: 0:01:03\u001b[39m\n",
      "┌ Info:  started timer at: 2021-04-08T07:08:00.171\n",
      "└ @ TickTock /home/ziyu/.julia/packages/TickTock/RsTHR/src/TickTock.jl:32\n",
      "\u001b[32mloss: 32.5: 100%|███████████████████████████████████████| Time: 0:01:20\u001b[39m\n",
      "\u001b[32mloss: 32.3: 100%|███████████████████████████████████████| Time: 0:00:50\u001b[39m\n",
      "┌ Info:  started timer at: 2021-04-08T07:11:29.09\n",
      "└ @ TickTock /home/ziyu/.julia/packages/TickTock/RsTHR/src/TickTock.jl:32\n",
      "\u001b[32mloss: 32: 100%|█████████████████████████████████████████| Time: 0:01:49\u001b[39m\n",
      "\u001b[32mloss: 32: 100%|█████████████████████████████████████████| Time: 0:01:07\u001b[39m\n",
      "┌ Info:  started timer at: 2021-04-08T07:17:08.599\n",
      "└ @ TickTock /home/ziyu/.julia/packages/TickTock/RsTHR/src/TickTock.jl:32\n",
      "\u001b[32mloss: 31.9: 100%|███████████████████████████████████████| Time: 0:02:06\u001b[39m\n",
      "\u001b[32mloss: 31.8: 100%|███████████████████████████████████████| Time: 0:01:01\u001b[39m\n",
      "┌ Info:  started timer at: 2021-04-08T07:22:10.727\n",
      "└ @ TickTock /home/ziyu/.julia/packages/TickTock/RsTHR/src/TickTock.jl:32\n",
      "\u001b[32mloss: 31.7: 100%|███████████████████████████████████████| Time: 0:02:04\u001b[39m\n",
      "\u001b[32mloss: 31.4: 100%|███████████████████████████████████████| Time: 0:01:03\u001b[39m\n",
      "┌ Info:  started timer at: 2021-04-08T07:26:33.787\n",
      "└ @ TickTock /home/ziyu/.julia/packages/TickTock/RsTHR/src/TickTock.jl:32\n",
      "\u001b[32mloss: 31.2: 100%|███████████████████████████████████████| Time: 0:02:12\u001b[39m\n",
      "\u001b[32mloss: 29.8: 100%|███████████████████████████████████████| Time: 0:00:55\u001b[39m\n",
      "┌ Info:  started timer at: 2021-04-08T07:31:23.175\n",
      "└ @ TickTock /home/ziyu/.julia/packages/TickTock/RsTHR/src/TickTock.jl:32\n",
      "\u001b[32mloss: 29.2: 100%|███████████████████████████████████████| Time: 0:02:08\u001b[39m\n",
      "\u001b[32mloss: 29.1: 100%|███████████████████████████████████████| Time: 0:01:12\u001b[39m\n",
      "┌ Info:  started timer at: 2021-04-08T07:36:15.032\n",
      "└ @ TickTock /home/ziyu/.julia/packages/TickTock/RsTHR/src/TickTock.jl:32\n",
      "\u001b[32mloss: 28.9: 100%|███████████████████████████████████████| Time: 0:02:09\u001b[39m\n",
      "\u001b[32mloss: 28.9: 100%|███████████████████████████████████████| Time: 0:01:09\u001b[39m\n",
      "┌ Info:  started timer at: 2021-04-08T07:41:49.353\n",
      "└ @ TickTock /home/ziyu/.julia/packages/TickTock/RsTHR/src/TickTock.jl:32\n",
      "\u001b[32mloss: 28.7: 100%|███████████████████████████████████████| Time: 0:02:04\u001b[39m\n",
      "\u001b[32mloss: 28.6: 100%|███████████████████████████████████████| Time: 0:01:09\u001b[39m\n"
     ]
    },
    {
     "name": "stdout",
     "output_type": "stream",
     "text": [
      "Solving from initial conditions for country: Finland\n",
      "Plotting graphs for country: Finland\n",
      "Updating csv for parameters for country: Finland\n",
      "Updating csv for differentiation parameters for country: Finland\n",
      "Loading parameters\n",
      "Training neural network\n",
      "Generating data for country: France\n"
     ]
    },
    {
     "name": "stderr",
     "output_type": "stream",
     "text": [
      "\u001b[32mloss: 0.000487: 100%|███████████████████████████████████| Time: 0:00:08\u001b[39m\n",
      "\u001b[32mloss: 0.000479: 100%|███████████████████████████████████| Time: 0:00:07\u001b[39m\n",
      "\u001b[32mloss: 0.000476: 100%|███████████████████████████████████| Time: 0:00:08\u001b[39m\n",
      "\u001b[32mloss: 0.000967: 100%|███████████████████████████████████| Time: 0:00:05\u001b[39m\n",
      "\u001b[32mloss: 0.000642: 100%|███████████████████████████████████| Time: 0:00:07\u001b[39m\n",
      "\u001b[32mloss: 0.00057: 100%|████████████████████████████████████| Time: 0:00:09\u001b[39m\n",
      "\u001b[32mloss: 0.000491: 100%|███████████████████████████████████| Time: 0:00:10\u001b[39m\n",
      "\u001b[32mloss: 0.000139: 100%|███████████████████████████████████| Time: 0:00:18\u001b[39m\n",
      "\u001b[32mloss: 7.11e-05: 100%|███████████████████████████████████| Time: 0:00:18\u001b[39m\n",
      "\u001b[32mloss: 4.29e-05: 100%|███████████████████████████████████| Time: 0:00:18\u001b[39m\n",
      "\u001b[32mloss: 4.18e-05: 100%|███████████████████████████████████| Time: 0:00:18\u001b[39m\n"
     ]
    },
    {
     "name": "stdout",
     "output_type": "stream",
     "text": [
      "Generating data for country: France\n"
     ]
    },
    {
     "name": "stderr",
     "output_type": "stream",
     "text": [
      "\u001b[32mloss: 1.1e-05: 100%|████████████████████████████████████| Time: 0:00:17\u001b[39m\n",
      "┌ Info:  started timer at: 2021-04-08T07:51:53.92\n",
      "└ @ TickTock /home/ziyu/.julia/packages/TickTock/RsTHR/src/TickTock.jl:32\n",
      "\u001b[32mloss: 7.92e-06: 100%|███████████████████████████████████| Time: 0:00:33\u001b[39m\n",
      "\u001b[32mloss: 6.59e-06: 100%|███████████████████████████████████| Time: 0:00:18\u001b[39m\n",
      "┌ Info:  started timer at: 2021-04-08T07:53:33.442\n",
      "└ @ TickTock /home/ziyu/.julia/packages/TickTock/RsTHR/src/TickTock.jl:32\n",
      "\u001b[32mloss: 5.68e-06: 100%|███████████████████████████████████| Time: 0:00:38\u001b[39m\n",
      "\u001b[32mloss: 5.66e-06: 100%|███████████████████████████████████| Time: 0:00:21\u001b[39m\n",
      "┌ Info:  started timer at: 2021-04-08T07:55:21.053\n",
      "└ @ TickTock /home/ziyu/.julia/packages/TickTock/RsTHR/src/TickTock.jl:32\n",
      "\u001b[32mloss: 5.19e-06: 100%|███████████████████████████████████| Time: 0:00:39\u001b[39m\n",
      "\u001b[32mloss: 4.31e-06: 100%|███████████████████████████████████| Time: 0:00:19\u001b[39m\n",
      "┌ Info:  started timer at: 2021-04-08T07:57:03.516\n",
      "└ @ TickTock /home/ziyu/.julia/packages/TickTock/RsTHR/src/TickTock.jl:32\n",
      "\u001b[32mloss: 3.71e-06: 100%|███████████████████████████████████| Time: 0:00:34\u001b[39m\n",
      "\u001b[32mloss: 3.11e-06: 100%|███████████████████████████████████| Time: 0:00:17\u001b[39m\n",
      "┌ Info:  started timer at: 2021-04-08T07:58:36.371\n",
      "└ @ TickTock /home/ziyu/.julia/packages/TickTock/RsTHR/src/TickTock.jl:32\n",
      "\u001b[32mloss: 2.76e-06: 100%|███████████████████████████████████| Time: 0:00:33\u001b[39m\n",
      "\u001b[32mloss: 2.29e-06: 100%|███████████████████████████████████| Time: 0:00:16\u001b[39m\n"
     ]
    },
    {
     "name": "stdout",
     "output_type": "stream",
     "text": [
      "Generating data for country: France\n"
     ]
    },
    {
     "name": "stderr",
     "output_type": "stream",
     "text": [
      "\u001b[32mloss: 102: 100%|████████████████████████████████████████| Time: 0:00:52\u001b[39m\n",
      "┌ Info:  started timer at: 2021-04-08T08:00:50.392\n",
      "└ @ TickTock /home/ziyu/.julia/packages/TickTock/RsTHR/src/TickTock.jl:32\n",
      "\u001b[32mloss: 32.5: 100%|███████████████████████████████████████| Time: 0:01:43\u001b[39m\n",
      "\u001b[32mloss: 30.1: 100%|███████████████████████████████████████| Time: 0:00:29\u001b[39m\n",
      "┌ Info:  started timer at: 2021-04-08T08:03:24.824\n",
      "└ @ TickTock /home/ziyu/.julia/packages/TickTock/RsTHR/src/TickTock.jl:32\n",
      "\u001b[32mloss: 11.4: 100%|███████████████████████████████████████| Time: 0:01:12\u001b[39m\n",
      "\u001b[32mloss: 11.3: 100%|███████████████████████████████████████| Time: 0:00:36\u001b[39m\n",
      "┌ Info:  started timer at: 2021-04-08T08:06:20.642\n",
      "└ @ TickTock /home/ziyu/.julia/packages/TickTock/RsTHR/src/TickTock.jl:32\n",
      "\u001b[32mloss: 10.7: 100%|███████████████████████████████████████| Time: 0:01:26\u001b[39m\n",
      "\u001b[32mloss: 10.5: 100%|███████████████████████████████████████| Time: 0:00:48\u001b[39m\n",
      "┌ Info:  started timer at: 2021-04-08T08:09:18.906\n",
      "└ @ TickTock /home/ziyu/.julia/packages/TickTock/RsTHR/src/TickTock.jl:32\n",
      "\u001b[32mloss: 10: 100%|█████████████████████████████████████████| Time: 0:01:12\u001b[39m\n",
      "\u001b[32mloss: 9.9: 100%|████████████████████████████████████████| Time: 0:00:34\u001b[39m\n",
      "┌ Info:  started timer at: 2021-04-08T08:12:20.711\n",
      "└ @ TickTock /home/ziyu/.julia/packages/TickTock/RsTHR/src/TickTock.jl:32\n",
      "\u001b[32mloss: 9.51: 100%|███████████████████████████████████████| Time: 0:01:12\u001b[39m\n",
      "\u001b[32mloss: 9.49: 100%|███████████████████████████████████████| Time: 0:00:31\u001b[39m\n",
      "┌ Info:  started timer at: 2021-04-08T08:14:41.876\n",
      "└ @ TickTock /home/ziyu/.julia/packages/TickTock/RsTHR/src/TickTock.jl:32\n",
      "\u001b[32mloss: 9.16: 100%|███████████████████████████████████████| Time: 0:01:28\u001b[39m\n",
      "\u001b[32mloss: 9.12: 100%|███████████████████████████████████████| Time: 0:00:39\u001b[39m\n",
      "┌ Info:  started timer at: 2021-04-08T08:17:12.96\n",
      "└ @ TickTock /home/ziyu/.julia/packages/TickTock/RsTHR/src/TickTock.jl:32\n",
      "\u001b[32mloss: 8.77: 100%|███████████████████████████████████████| Time: 0:01:09\u001b[39m\n",
      "\u001b[32mloss: 8.55: 100%|███████████████████████████████████████| Time: 0:00:34\u001b[39m\n",
      "┌ Info:  started timer at: 2021-04-08T08:20:04.697\n",
      "└ @ TickTock /home/ziyu/.julia/packages/TickTock/RsTHR/src/TickTock.jl:32\n",
      "\u001b[32mloss: 8.25: 100%|███████████████████████████████████████| Time: 0:01:16\u001b[39m\n",
      "\u001b[32mloss: 8.21: 100%|███████████████████████████████████████| Time: 0:00:35\u001b[39m\n",
      "┌ Info:  started timer at: 2021-04-08T08:23:01.344\n",
      "└ @ TickTock /home/ziyu/.julia/packages/TickTock/RsTHR/src/TickTock.jl:32\n",
      "\u001b[32mloss: 7.45: 100%|███████████████████████████████████████| Time: 0:01:37\u001b[39m\n",
      "\u001b[32mloss: 7.42: 100%|███████████████████████████████████████| Time: 0:00:47\u001b[39m\n",
      "┌ Info:  started timer at: 2021-04-08T08:26:37.57\n",
      "└ @ TickTock /home/ziyu/.julia/packages/TickTock/RsTHR/src/TickTock.jl:32\n",
      "\u001b[32mloss: 7.05: 100%|███████████████████████████████████████| Time: 0:01:45\u001b[39m\n",
      "\u001b[32mloss: 3.41: 100%|███████████████████████████████████████| Time: 0:00:44\u001b[39m\n"
     ]
    },
    {
     "name": "stdout",
     "output_type": "stream",
     "text": [
      "Solving from initial conditions for country: France\n",
      "Plotting graphs for country: France\n",
      "Updating csv for parameters for country: France\n",
      "Updating csv for differentiation parameters for country: France\n",
      "Loading parameters\n",
      "Training neural network\n",
      "Generating data for country: Gabon\n"
     ]
    },
    {
     "name": "stderr",
     "output_type": "stream",
     "text": [
      "\u001b[32mloss: 8.53e-05: 100%|███████████████████████████████████| Time: 0:00:07\u001b[39m\n",
      "\u001b[32mloss: 8.49e-05: 100%|███████████████████████████████████| Time: 0:00:07\u001b[39m\n",
      "\u001b[32mloss: 8.48e-05: 100%|███████████████████████████████████| Time: 0:00:07\u001b[39m\n",
      "\u001b[32mloss: 0.000175: 100%|███████████████████████████████████| Time: 0:00:04\u001b[39m\n",
      "\u001b[32mloss: 0.000149: 100%|███████████████████████████████████| Time: 0:00:05\u001b[39m\n",
      "\u001b[32mloss: 0.000122: 100%|███████████████████████████████████| Time: 0:00:07\u001b[39m\n",
      "\u001b[32mloss: 9.61e-05: 100%|███████████████████████████████████| Time: 0:00:09\u001b[39m\n",
      "\u001b[32mloss: 0.000307: 100%|███████████████████████████████████| Time: 0:00:18\u001b[39m\n",
      "┌ Warning: dt <= dtmin. Aborting. There is either an error in your model specification or the true solution is unstable.\n",
      "└ @ DiffEqBase /home/ziyu/.julia/packages/DiffEqBase/V7P18/src/integrator_interface.jl:343\n",
      "┌ Warning: Instability detected. Aborting\n",
      "└ @ DiffEqBase /home/ziyu/.julia/packages/DiffEqBase/V7P18/src/integrator_interface.jl:349\n",
      "┌ Warning: First function call produced NaNs. Exiting.\n",
      "└ @ OrdinaryDiffEq /home/ziyu/.julia/packages/OrdinaryDiffEq/VPJBD/src/initdt.jl:76\n",
      "┌ Warning: Automatic dt set the starting dt as NaN, causing instability.\n",
      "└ @ OrdinaryDiffEq /home/ziyu/.julia/packages/OrdinaryDiffEq/VPJBD/src/solve.jl:459\n",
      "┌ Warning: NaN dt detected. Likely a NaN value in the state, parameters, or derivative value caused this outcome.\n",
      "└ @ DiffEqBase /home/ziyu/.julia/packages/DiffEqBase/V7P18/src/integrator_interface.jl:323\n",
      "┌ Warning: Instability detected. Aborting\n",
      "└ @ DiffEqBase /home/ziyu/.julia/packages/DiffEqBase/V7P18/src/integrator_interface.jl:349\n",
      "┌ Warning: First function call produced NaNs. Exiting.\n",
      "└ @ OrdinaryDiffEq /home/ziyu/.julia/packages/OrdinaryDiffEq/VPJBD/src/initdt.jl:76\n",
      "┌ Warning: Automatic dt set the starting dt as NaN, causing instability.\n",
      "└ @ OrdinaryDiffEq /home/ziyu/.julia/packages/OrdinaryDiffEq/VPJBD/src/solve.jl:459\n",
      "┌ Warning: NaN dt detected. Likely a NaN value in the state, parameters, or derivative value caused this outcome.\n",
      "└ @ DiffEqBase /home/ziyu/.julia/packages/DiffEqBase/V7P18/src/integrator_interface.jl:323\n",
      "┌ Warning: Instability detected. Aborting\n",
      "└ @ DiffEqBase /home/ziyu/.julia/packages/DiffEqBase/V7P18/src/integrator_interface.jl:349\n",
      "┌ Warning: First function call produced NaNs. Exiting.\n",
      "└ @ OrdinaryDiffEq /home/ziyu/.julia/packages/OrdinaryDiffEq/VPJBD/src/initdt.jl:76\n",
      "┌ Warning: Automatic dt set the starting dt as NaN, causing instability.\n",
      "└ @ OrdinaryDiffEq /home/ziyu/.julia/packages/OrdinaryDiffEq/VPJBD/src/solve.jl:459\n",
      "┌ Warning: NaN dt detected. Likely a NaN value in the state, parameters, or derivative value caused this outcome.\n",
      "└ @ DiffEqBase /home/ziyu/.julia/packages/DiffEqBase/V7P18/src/integrator_interface.jl:323\n",
      "\u001b[32mloss: 9.68e-05: 100%|███████████████████████████████████| Time: 0:00:16\u001b[39m\n",
      "\u001b[32mloss: 9.38e-05: 100%|███████████████████████████████████| Time: 0:00:16\u001b[39m\n",
      "\u001b[32mloss: 9.53e-05: 100%|███████████████████████████████████| Time: 0:00:16\u001b[39m\n"
     ]
    },
    {
     "name": "stdout",
     "output_type": "stream",
     "text": [
      "Generating data for country: Gabon\n"
     ]
    },
    {
     "name": "stderr",
     "output_type": "stream",
     "text": [
      "\u001b[32mloss: 4.72e-06: 100%|███████████████████████████████████| Time: 0:00:16\u001b[39m\n",
      "┌ Info:  started timer at: 2021-04-08T08:34:47.865\n",
      "└ @ TickTock /home/ziyu/.julia/packages/TickTock/RsTHR/src/TickTock.jl:32\n",
      "\u001b[32mloss: 4.18e-06: 100%|███████████████████████████████████| Time: 0:00:32\u001b[39m\n",
      "\u001b[32mloss: 3.91e-06: 100%|███████████████████████████████████| Time: 0:00:16\u001b[39m\n"
     ]
    },
    {
     "name": "stdout",
     "output_type": "stream",
     "text": [
      "Generating data for country: Gabon\n"
     ]
    },
    {
     "name": "stderr",
     "output_type": "stream",
     "text": [
      "\u001b[32mloss: 310: 100%|████████████████████████████████████████| Time: 0:01:22\u001b[39m\n",
      "┌ Info:  started timer at: 2021-04-08T08:37:47.801\n",
      "└ @ TickTock /home/ziyu/.julia/packages/TickTock/RsTHR/src/TickTock.jl:32\n",
      "\u001b[32mloss: 53.3: 100%|███████████████████████████████████████| Time: 0:02:30\u001b[39m\n",
      "\u001b[32mloss: 45.9: 100%|███████████████████████████████████████| Time: 0:01:15\u001b[39m\n",
      "┌ Info:  started timer at: 2021-04-08T08:43:32.161\n",
      "└ @ TickTock /home/ziyu/.julia/packages/TickTock/RsTHR/src/TickTock.jl:32\n",
      "\u001b[32mloss: 13.4: 100%|███████████████████████████████████████| Time: 0:02:35\u001b[39m\n",
      "\u001b[32mloss: 7.39: 100%|███████████████████████████████████████| Time: 0:01:08\u001b[39m\n",
      "┌ Info:  started timer at: 2021-04-08T08:49:38.099\n",
      "└ @ TickTock /home/ziyu/.julia/packages/TickTock/RsTHR/src/TickTock.jl:32\n",
      "\u001b[32mloss: 6.96: 100%|███████████████████████████████████████| Time: 0:02:27\u001b[39m\n",
      "\u001b[32mloss: 6.75: 100%|███████████████████████████████████████| Time: 0:01:11\u001b[39m\n",
      "┌ Info:  started timer at: 2021-04-08T08:56:17.392\n",
      "└ @ TickTock /home/ziyu/.julia/packages/TickTock/RsTHR/src/TickTock.jl:32\n",
      "\u001b[32mloss: 6.64: 100%|███████████████████████████████████████| Time: 0:02:30\u001b[39m\n",
      "\u001b[32mloss: 6.63: 100%|███████████████████████████████████████| Time: 0:01:16\u001b[39m\n"
     ]
    },
    {
     "name": "stdout",
     "output_type": "stream",
     "text": [
      "Solving from initial conditions for country: Gabon\n",
      "Plotting graphs for country: Gabon\n",
      "Updating csv for parameters for country: Gabon\n",
      "Updating csv for differentiation parameters for country: Gabon\n",
      "Loading parameters\n",
      "Training neural network\n",
      "Generating data for country: Ghana\n"
     ]
    },
    {
     "name": "stderr",
     "output_type": "stream",
     "text": [
      "\u001b[32mloss: 1.16e-06: 100%|███████████████████████████████████| Time: 0:00:08\u001b[39m\n",
      "\u001b[32mloss: 1.19e-06: 100%|███████████████████████████████████| Time: 0:00:08\u001b[39m\n",
      "\u001b[32mloss: 1.12e-06: 100%|███████████████████████████████████| Time: 0:00:08\u001b[39m\n",
      "\u001b[32mloss: 9.5e-07: 100%|████████████████████████████████████| Time: 0:00:05\u001b[39m\n",
      "\u001b[32mloss: 7.24e-07: 100%|███████████████████████████████████| Time: 0:00:07\u001b[39m\n",
      "\u001b[32mloss: 5.83e-07: 100%|███████████████████████████████████| Time: 0:00:09\u001b[39m\n",
      "\u001b[32mloss: 1.1e-06: 100%|████████████████████████████████████| Time: 0:00:10\u001b[39m\n",
      "\u001b[32mloss: 1.3e-07: 100%|████████████████████████████████████| Time: 0:00:18\u001b[39m\n",
      "\u001b[32mloss: 1.29e-07: 100%|███████████████████████████████████| Time: 0:00:18\u001b[39m\n",
      "\u001b[32mloss: 1.24e-07: 100%|███████████████████████████████████| Time: 0:00:18\u001b[39m\n",
      "\u001b[32mloss: 1.2e-07: 100%|████████████████████████████████████| Time: 0:00:18\u001b[39m\n"
     ]
    },
    {
     "name": "stdout",
     "output_type": "stream",
     "text": [
      "Generating data for country: Ghana\n"
     ]
    },
    {
     "name": "stderr",
     "output_type": "stream",
     "text": [
      "\u001b[32mloss: 1.07e-06: 100%|███████████████████████████████████| Time: 0:00:16\u001b[39m\n",
      "┌ Info:  started timer at: 2021-04-08T09:04:29.615\n",
      "└ @ TickTock /home/ziyu/.julia/packages/TickTock/RsTHR/src/TickTock.jl:32\n",
      "\u001b[32mloss: 1.05e-06: 100%|███████████████████████████████████| Time: 0:00:36\u001b[39m\n",
      "\u001b[32mloss: 9.95e-07: 100%|███████████████████████████████████| Time: 0:00:18\u001b[39m\n"
     ]
    },
    {
     "name": "stdout",
     "output_type": "stream",
     "text": [
      "Generating data for country: Ghana\n"
     ]
    },
    {
     "name": "stderr",
     "output_type": "stream",
     "text": [
      "\u001b[32mloss: 0.108: 100%|██████████████████████████████████████| Time: 0:00:41\u001b[39m\n",
      "┌ Info:  started timer at: 2021-04-08T09:06:34.448\n",
      "└ @ TickTock /home/ziyu/.julia/packages/TickTock/RsTHR/src/TickTock.jl:32\n",
      "\u001b[32mloss: 0.0593: 100%|█████████████████████████████████████| Time: 0:02:11\u001b[39m\n",
      "\u001b[32mloss: 0.0576: 100%|█████████████████████████████████████| Time: 0:01:02\u001b[39m\n",
      "┌ Info:  started timer at: 2021-04-08T09:11:39.505\n",
      "└ @ TickTock /home/ziyu/.julia/packages/TickTock/RsTHR/src/TickTock.jl:32\n",
      "\u001b[32mloss: 0.0399: 100%|█████████████████████████████████████| Time: 0:01:43\u001b[39m\n",
      "\u001b[32mloss: 0.0357: 100%|█████████████████████████████████████| Time: 0:00:49\u001b[39m\n",
      "┌ Info:  started timer at: 2021-04-08T09:16:07.226\n",
      "└ @ TickTock /home/ziyu/.julia/packages/TickTock/RsTHR/src/TickTock.jl:32\n",
      "\u001b[32mloss: 0.0307: 100%|█████████████████████████████████████| Time: 0:01:20\u001b[39m\n",
      "\u001b[32mloss: 0.0304: 100%|█████████████████████████████████████| Time: 0:00:42\u001b[39m\n",
      "┌ Info:  started timer at: 2021-04-08T09:19:55.14\n",
      "└ @ TickTock /home/ziyu/.julia/packages/TickTock/RsTHR/src/TickTock.jl:32\n",
      "\u001b[32mloss: 0.0243: 100%|█████████████████████████████████████| Time: 0:01:42\u001b[39m\n",
      "\u001b[32mloss: 0.0241: 100%|█████████████████████████████████████| Time: 0:00:56\u001b[39m\n",
      "┌ Info:  started timer at: 2021-04-08T09:24:15.258\n",
      "└ @ TickTock /home/ziyu/.julia/packages/TickTock/RsTHR/src/TickTock.jl:32\n",
      "\u001b[32mloss: 0.022: 100%|██████████████████████████████████████| Time: 0:02:01\u001b[39m\n",
      "\u001b[32mloss: 0.0219: 100%|█████████████████████████████████████| Time: 0:01:02\u001b[39m\n",
      "┌ Info:  started timer at: 2021-04-08T09:29:42.743\n",
      "└ @ TickTock /home/ziyu/.julia/packages/TickTock/RsTHR/src/TickTock.jl:32\n",
      "\u001b[32mloss: 0.0218: 100%|█████████████████████████████████████| Time: 0:02:08\u001b[39m\n",
      "\u001b[32mloss: 0.0219: 100%|█████████████████████████████████████| Time: 0:01:00\u001b[39m\n"
     ]
    },
    {
     "name": "stdout",
     "output_type": "stream",
     "text": [
      "Solving from initial conditions for country: Ghana\n",
      "Plotting graphs for country: Ghana\n",
      "Updating csv for parameters for country: Ghana\n",
      "Updating csv for differentiation parameters for country: Ghana\n",
      "Loading parameters\n",
      "Training neural network\n",
      "Generating data for country: Greece\n"
     ]
    },
    {
     "name": "stderr",
     "output_type": "stream",
     "text": [
      "\u001b[32mloss: 0.00107: 100%|████████████████████████████████████| Time: 0:00:07\u001b[39m\n",
      "\u001b[32mloss: 0.00107: 100%|████████████████████████████████████| Time: 0:00:08\u001b[39m\n",
      "\u001b[32mloss: 0.00108: 100%|████████████████████████████████████| Time: 0:00:08\u001b[39m\n",
      "\u001b[32mloss: 0.00472: 100%|████████████████████████████████████| Time: 0:00:04\u001b[39m\n",
      "\u001b[32mloss: 0.00218: 100%|████████████████████████████████████| Time: 0:00:06\u001b[39m\n",
      "\u001b[32mloss: 0.00155: 100%|████████████████████████████████████| Time: 0:00:08\u001b[39m\n",
      "\u001b[32mloss: 0.00136: 100%|████████████████████████████████████| Time: 0:00:10\u001b[39m\n",
      "\u001b[32mloss: 7.5e-05: 100%|████████████████████████████████████| Time: 0:00:17\u001b[39m\n",
      "\u001b[32mloss: 7.47e-05: 100%|███████████████████████████████████| Time: 0:00:17\u001b[39m\n",
      "\u001b[32mloss: 7.54e-05: 100%|███████████████████████████████████| Time: 0:00:17\u001b[39m\n",
      "\u001b[32mloss: 7.47e-05: 100%|███████████████████████████████████| Time: 0:00:17\u001b[39m\n"
     ]
    },
    {
     "name": "stdout",
     "output_type": "stream",
     "text": [
      "Generating data for country: Greece\n"
     ]
    },
    {
     "name": "stderr",
     "output_type": "stream",
     "text": [
      "\u001b[32mloss: 2.15e-05: 100%|███████████████████████████████████| Time: 0:00:16\u001b[39m\n",
      "┌ Info:  started timer at: 2021-04-08T09:38:38.305\n",
      "└ @ TickTock /home/ziyu/.julia/packages/TickTock/RsTHR/src/TickTock.jl:32\n",
      "\u001b[32mloss: 2.08e-05: 100%|███████████████████████████████████| Time: 0:00:35\u001b[39m\n",
      "\u001b[32mloss: 1.98e-05: 100%|███████████████████████████████████| Time: 0:00:18\u001b[39m\n",
      "┌ Info:  started timer at: 2021-04-08T09:40:11.933\n",
      "└ @ TickTock /home/ziyu/.julia/packages/TickTock/RsTHR/src/TickTock.jl:32\n",
      "\u001b[32mloss: 1.94e-05: 100%|███████████████████████████████████| Time: 0:00:37\u001b[39m\n",
      "\u001b[32mloss: 1.93e-05: 100%|███████████████████████████████████| Time: 0:00:18\u001b[39m\n"
     ]
    },
    {
     "name": "stdout",
     "output_type": "stream",
     "text": [
      "Generating data for country: Greece\n"
     ]
    },
    {
     "name": "stderr",
     "output_type": "stream",
     "text": [
      "\u001b[32mloss: 7.89: 100%|███████████████████████████████████████| Time: 0:00:59\u001b[39m\n",
      "┌ Info:  started timer at: 2021-04-08T09:42:30.546\n",
      "└ @ TickTock /home/ziyu/.julia/packages/TickTock/RsTHR/src/TickTock.jl:32\n",
      "\u001b[32mloss: 5.66: 100%|███████████████████████████████████████| Time: 0:02:04\u001b[39m\n",
      "\u001b[32mloss: 5.56: 100%|███████████████████████████████████████| Time: 0:00:48\u001b[39m\n",
      "┌ Info:  started timer at: 2021-04-08T09:47:08.033\n",
      "└ @ TickTock /home/ziyu/.julia/packages/TickTock/RsTHR/src/TickTock.jl:32\n",
      "\u001b[32mloss: 3.81: 100%|███████████████████████████████████████| Time: 0:01:39\u001b[39m\n",
      "\u001b[32mloss: 3.72: 100%|███████████████████████████████████████| Time: 0:01:00\u001b[39m\n",
      "┌ Info:  started timer at: 2021-04-08T09:51:54.225\n",
      "└ @ TickTock /home/ziyu/.julia/packages/TickTock/RsTHR/src/TickTock.jl:32\n",
      "\u001b[32mloss: 2.42: 100%|███████████████████████████████████████| Time: 0:01:42\u001b[39m\n",
      "\u001b[32mloss: 2.36: 100%|███████████████████████████████████████| Time: 0:00:49\u001b[39m\n",
      "┌ Info:  started timer at: 2021-04-08T09:55:57.264\n",
      "└ @ TickTock /home/ziyu/.julia/packages/TickTock/RsTHR/src/TickTock.jl:32\n",
      "\u001b[32mloss: 1.83: 100%|███████████████████████████████████████| Time: 0:01:17\u001b[39m\n",
      "\u001b[32mloss: 1.81: 100%|███████████████████████████████████████| Time: 0:00:38\u001b[39m\n",
      "┌ Info:  started timer at: 2021-04-08T09:59:07.916\n",
      "└ @ TickTock /home/ziyu/.julia/packages/TickTock/RsTHR/src/TickTock.jl:32\n",
      "\u001b[32mloss: 1.67: 100%|███████████████████████████████████████| Time: 0:01:35\u001b[39m\n",
      "\u001b[32mloss: 1.65: 100%|███████████████████████████████████████| Time: 0:00:59\u001b[39m\n",
      "┌ Info:  started timer at: 2021-04-08T10:03:16.999\n",
      "└ @ TickTock /home/ziyu/.julia/packages/TickTock/RsTHR/src/TickTock.jl:32\n",
      "\u001b[32mloss: 1.59: 100%|███████████████████████████████████████| Time: 0:01:37\u001b[39m\n",
      "\u001b[32mloss: 1.52: 100%|███████████████████████████████████████| Time: 0:00:55\u001b[39m\n",
      "┌ Info:  started timer at: 2021-04-08T10:07:15.036\n",
      "└ @ TickTock /home/ziyu/.julia/packages/TickTock/RsTHR/src/TickTock.jl:32\n",
      "\u001b[32mloss: 1.5: 100%|████████████████████████████████████████| Time: 0:01:59\u001b[39m\n",
      "\u001b[32mloss: 1.5: 100%|████████████████████████████████████████| Time: 0:00:50\u001b[39m\n"
     ]
    },
    {
     "name": "stdout",
     "output_type": "stream",
     "text": [
      "Solving from initial conditions for country: Greece\n",
      "Plotting graphs for country: Greece\n",
      "Updating csv for parameters for country: Greece\n",
      "Updating csv for differentiation parameters for country: Greece\n",
      "Loading parameters\n",
      "Training neural network\n",
      "Generating data for country: Guatemala\n"
     ]
    },
    {
     "name": "stderr",
     "output_type": "stream",
     "text": [
      "\u001b[32mloss: 1.16e-05: 100%|███████████████████████████████████| Time: 0:00:07\u001b[39m\n",
      "\u001b[32mloss: 1.16e-05: 100%|███████████████████████████████████| Time: 0:00:07\u001b[39m\n",
      "\u001b[32mloss: 1.15e-05: 100%|███████████████████████████████████| Time: 0:00:07\u001b[39m\n",
      "\u001b[32mloss: 2.23e-05: 100%|███████████████████████████████████| Time: 0:00:04\u001b[39m\n",
      "\u001b[32mloss: 1.69e-05: 100%|███████████████████████████████████| Time: 0:00:06\u001b[39m\n",
      "\u001b[32mloss: 1.38e-05: 100%|███████████████████████████████████| Time: 0:00:08\u001b[39m\n",
      "\u001b[32mloss: 1.28e-05: 100%|███████████████████████████████████| Time: 0:00:10\u001b[39m\n",
      "\u001b[32mloss: 4.57e-07: 100%|███████████████████████████████████| Time: 0:00:17\u001b[39m\n",
      "\u001b[32mloss: 1.87e-07: 100%|███████████████████████████████████| Time: 0:00:17\u001b[39m\n",
      "\u001b[32mloss: 1.05e-07: 100%|███████████████████████████████████| Time: 0:00:17\u001b[39m\n",
      "\u001b[32mloss: 9.65e-08: 100%|███████████████████████████████████| Time: 0:00:17\u001b[39m\n"
     ]
    },
    {
     "name": "stdout",
     "output_type": "stream",
     "text": [
      "Generating data for country: Guatemala\n"
     ]
    },
    {
     "name": "stderr",
     "output_type": "stream",
     "text": [
      "\u001b[32mloss: 5.37e-06: 100%|███████████████████████████████████| Time: 0:00:16\u001b[39m\n",
      "┌ Info:  started timer at: 2021-04-08T10:14:49.188\n",
      "└ @ TickTock /home/ziyu/.julia/packages/TickTock/RsTHR/src/TickTock.jl:32\n",
      "\u001b[32mloss: 5.17e-06: 100%|███████████████████████████████████| Time: 0:00:33\u001b[39m\n",
      "\u001b[32mloss: 5.16e-06: 100%|███████████████████████████████████| Time: 0:00:17\u001b[39m\n",
      "┌ Info:  started timer at: 2021-04-08T10:16:09.451\n",
      "└ @ TickTock /home/ziyu/.julia/packages/TickTock/RsTHR/src/TickTock.jl:32\n",
      "\u001b[32mloss: 4.83e-06: 100%|███████████████████████████████████| Time: 0:00:35\u001b[39m\n",
      "\u001b[32mloss: 4.83e-06: 100%|███████████████████████████████████| Time: 0:00:17\u001b[39m\n",
      "┌ Info:  started timer at: 2021-04-08T10:17:41.695\n",
      "└ @ TickTock /home/ziyu/.julia/packages/TickTock/RsTHR/src/TickTock.jl:32\n",
      "\u001b[32mloss: 3.75e-06: 100%|███████████████████████████████████| Time: 0:00:34\u001b[39m\n",
      "\u001b[32mloss: 3.71e-06: 100%|███████████████████████████████████| Time: 0:00:18\u001b[39m\n",
      "┌ Info:  started timer at: 2021-04-08T10:18:57.508\n",
      "└ @ TickTock /home/ziyu/.julia/packages/TickTock/RsTHR/src/TickTock.jl:32\n",
      "\u001b[32mloss: 3.18e-06: 100%|███████████████████████████████████| Time: 0:00:34\u001b[39m\n",
      "\u001b[32mloss: 3.13e-06: 100%|███████████████████████████████████| Time: 0:00:17\u001b[39m\n",
      "┌ Info:  started timer at: 2021-04-08T10:20:20.569\n",
      "└ @ TickTock /home/ziyu/.julia/packages/TickTock/RsTHR/src/TickTock.jl:32\n",
      "\u001b[32mloss: 2.87e-06: 100%|███████████████████████████████████| Time: 0:00:34\u001b[39m\n",
      "\u001b[32mloss: 2.65e-06: 100%|███████████████████████████████████| Time: 0:00:17\u001b[39m\n",
      "┌ Info:  started timer at: 2021-04-08T10:21:58.13\n",
      "└ @ TickTock /home/ziyu/.julia/packages/TickTock/RsTHR/src/TickTock.jl:32\n",
      "\u001b[32mloss: 2.32e-06: 100%|███████████████████████████████████| Time: 0:00:34\u001b[39m\n",
      "\u001b[32mloss: 2.31e-06: 100%|███████████████████████████████████| Time: 0:00:17\u001b[39m\n",
      "┌ Info:  started timer at: 2021-04-08T10:23:25.198\n",
      "└ @ TickTock /home/ziyu/.julia/packages/TickTock/RsTHR/src/TickTock.jl:32\n",
      "\u001b[32mloss: 1.79e-06: 100%|███████████████████████████████████| Time: 0:00:34\u001b[39m\n",
      "\u001b[32mloss: 1.66e-06: 100%|███████████████████████████████████| Time: 0:00:17\u001b[39m\n",
      "┌ Info:  started timer at: 2021-04-08T10:24:48.735\n",
      "└ @ TickTock /home/ziyu/.julia/packages/TickTock/RsTHR/src/TickTock.jl:32\n",
      "\u001b[32mloss: 1.58e-06: 100%|███████████████████████████████████| Time: 0:00:34\u001b[39m\n",
      "\u001b[32mloss: 1.55e-06: 100%|███████████████████████████████████| Time: 0:00:17\u001b[39m\n",
      "┌ Info:  started timer at: 2021-04-08T10:26:09.453\n",
      "└ @ TickTock /home/ziyu/.julia/packages/TickTock/RsTHR/src/TickTock.jl:32\n",
      "\u001b[32mloss: 1.47e-06: 100%|███████████████████████████████████| Time: 0:00:34\u001b[39m\n",
      "\u001b[32mloss: 1.41e-06: 100%|███████████████████████████████████| Time: 0:00:17\u001b[39m\n",
      "┌ Info:  started timer at: 2021-04-08T10:27:32.75\n",
      "└ @ TickTock /home/ziyu/.julia/packages/TickTock/RsTHR/src/TickTock.jl:32\n",
      "\u001b[32mloss: 1.38e-06: 100%|███████████████████████████████████| Time: 0:00:35\u001b[39m\n",
      "\u001b[32mloss: 1.36e-06: 100%|███████████████████████████████████| Time: 0:00:16\u001b[39m\n"
     ]
    },
    {
     "name": "stdout",
     "output_type": "stream",
     "text": [
      "Generating data for country: Guatemala\n"
     ]
    },
    {
     "name": "stderr",
     "output_type": "stream",
     "text": [
      "\u001b[32mloss: 0.335: 100%|██████████████████████████████████████| Time: 0:01:00\u001b[39m\n",
      "┌ Info:  started timer at: 2021-04-08T10:30:06.196\n",
      "└ @ TickTock /home/ziyu/.julia/packages/TickTock/RsTHR/src/TickTock.jl:32\n",
      "\u001b[32mloss: 0.256: 100%|██████████████████████████████████████| Time: 0:01:54\u001b[39m\n",
      "\u001b[32mloss: 0.255: 100%|██████████████████████████████████████| Time: 0:00:56\u001b[39m\n",
      "┌ Info:  started timer at: 2021-04-08T10:34:47.028\n",
      "└ @ TickTock /home/ziyu/.julia/packages/TickTock/RsTHR/src/TickTock.jl:32\n",
      "\u001b[32mloss: 0.241: 100%|██████████████████████████████████████| Time: 0:01:52\u001b[39m\n",
      "\u001b[32mloss: 0.241: 100%|██████████████████████████████████████| Time: 0:01:07\u001b[39m\n"
     ]
    },
    {
     "name": "stdout",
     "output_type": "stream",
     "text": [
      "Solving from initial conditions for country: Guatemala\n",
      "Plotting graphs for country: Guatemala\n",
      "Updating csv for parameters for country: Guatemala\n",
      "Updating csv for differentiation parameters for country: Guatemala\n",
      "Loading parameters\n",
      "Training neural network\n",
      "Generating data for country: Guinea\n"
     ]
    },
    {
     "name": "stderr",
     "output_type": "stream",
     "text": [
      "\u001b[32mloss: 2.72e-08: 100%|███████████████████████████████████| Time: 0:00:05\u001b[39m\n",
      "\u001b[32mloss: 2.73e-08: 100%|███████████████████████████████████| Time: 0:00:05\u001b[39m\n",
      "\u001b[32mloss: 2.72e-08: 100%|███████████████████████████████████| Time: 0:00:05\u001b[39m\n",
      "\u001b[32mloss: 3.85e-08: 100%|███████████████████████████████████| Time: 0:00:01\u001b[39m\n",
      "\u001b[32mloss: 4.79e-08: 100%|███████████████████████████████████| Time: 0:00:03\u001b[39m\n",
      "\u001b[32mloss: 3.5e-08: 100%|████████████████████████████████████| Time: 0:00:05\u001b[39m\n",
      "\u001b[32mloss: 2.61e-08: 100%|███████████████████████████████████| Time: 0:00:06\u001b[39m\n",
      "\u001b[32mloss: 1.66e-08: 100%|███████████████████████████████████| Time: 0:00:13\u001b[39m\n",
      "\u001b[32mloss: 4.5e-09: 100%|████████████████████████████████████| Time: 0:00:13\u001b[39m\n",
      "\u001b[32mloss: 4.23e-09: 100%|███████████████████████████████████| Time: 0:00:13\u001b[39m\n",
      "\u001b[32mloss: 4.21e-09: 100%|███████████████████████████████████| Time: 0:00:13\u001b[39m\n"
     ]
    },
    {
     "name": "stdout",
     "output_type": "stream",
     "text": [
      "Generating data for country: Guinea\n"
     ]
    },
    {
     "name": "stderr",
     "output_type": "stream",
     "text": [
      "\u001b[32mloss: 5.19e-09: 100%|███████████████████████████████████| Time: 0:00:11\u001b[39m\n"
     ]
    },
    {
     "name": "stdout",
     "output_type": "stream",
     "text": [
      "Generating data for country: Guinea\n"
     ]
    },
    {
     "name": "stderr",
     "output_type": "stream",
     "text": [
      "\u001b[32mloss: 0.0174: 100%|█████████████████████████████████████| Time: 0:00:39\u001b[39m\n",
      "┌ Info:  started timer at: 2021-04-08T10:41:53.953\n",
      "└ @ TickTock /home/ziyu/.julia/packages/TickTock/RsTHR/src/TickTock.jl:32\n",
      "\u001b[32mloss: 0.00973: 100%|████████████████████████████████████| Time: 0:00:54\u001b[39m\n",
      "\u001b[32mloss: 0.00422: 100%|████████████████████████████████████| Time: 0:00:36\u001b[39m\n",
      "┌ Info:  started timer at: 2021-04-08T10:44:42.517\n",
      "└ @ TickTock /home/ziyu/.julia/packages/TickTock/RsTHR/src/TickTock.jl:32\n",
      "\u001b[32mloss: 0.00347: 100%|████████████████████████████████████| Time: 0:01:12\u001b[39m\n",
      "\u001b[32mloss: 0.00319: 100%|████████████████████████████████████| Time: 0:00:32\u001b[39m\n",
      "┌ Info:  started timer at: 2021-04-08T10:47:12.967\n",
      "└ @ TickTock /home/ziyu/.julia/packages/TickTock/RsTHR/src/TickTock.jl:32\n",
      "\u001b[32mloss: 0.00283: 100%|████████████████████████████████████| Time: 0:00:44\u001b[39m\n",
      "\u001b[32mloss: 0.0026: 100%|█████████████████████████████████████| Time: 0:00:25\u001b[39m\n",
      "┌ Info:  started timer at: 2021-04-08T10:49:32.164\n",
      "└ @ TickTock /home/ziyu/.julia/packages/TickTock/RsTHR/src/TickTock.jl:32\n",
      "\u001b[32mloss: 0.00226: 100%|████████████████████████████████████| Time: 0:00:52\u001b[39m\n",
      "\u001b[32mloss: 0.00224: 100%|████████████████████████████████████| Time: 0:00:19\u001b[39m\n",
      "┌ Info:  started timer at: 2021-04-08T10:51:17.306\n",
      "└ @ TickTock /home/ziyu/.julia/packages/TickTock/RsTHR/src/TickTock.jl:32\n",
      "\u001b[32mloss: 0.00199: 100%|████████████████████████████████████| Time: 0:00:41\u001b[39m\n",
      "\u001b[32mloss: 0.00191: 100%|████████████████████████████████████| Time: 0:00:24\u001b[39m\n",
      "┌ Info:  started timer at: 2021-04-08T10:53:47.731\n",
      "└ @ TickTock /home/ziyu/.julia/packages/TickTock/RsTHR/src/TickTock.jl:32\n",
      "\u001b[32mloss: 0.00175: 100%|████████████████████████████████████| Time: 0:01:06\u001b[39m\n",
      "\u001b[32mloss: 0.0015: 100%|█████████████████████████████████████| Time: 0:00:33\u001b[39m\n"
     ]
    },
    {
     "name": "stdout",
     "output_type": "stream",
     "text": [
      "Solving from initial conditions for country: Guinea\n",
      "Plotting graphs for country: Guinea\n",
      "Updating csv for parameters for country: Guinea\n",
      "Updating csv for differentiation parameters for country: Guinea\n",
      "Loading parameters\n",
      "Training neural network\n",
      "Generating data for country: Honduras\n"
     ]
    },
    {
     "name": "stderr",
     "output_type": "stream",
     "text": [
      "\u001b[32mloss: 5.95e-06: 100%|███████████████████████████████████| Time: 0:00:08\u001b[39m\n",
      "\u001b[32mloss: 5.84e-06: 100%|███████████████████████████████████| Time: 0:00:08\u001b[39m\n",
      "\u001b[32mloss: 5.82e-06: 100%|███████████████████████████████████| Time: 0:00:08\u001b[39m\n",
      "\u001b[32mloss: 8.88e-06: 100%|███████████████████████████████████| Time: 0:00:05\u001b[39m\n",
      "\u001b[32mloss: 7.77e-06: 100%|███████████████████████████████████| Time: 0:00:07\u001b[39m\n",
      "\u001b[32mloss: 6.78e-06: 100%|███████████████████████████████████| Time: 0:00:09\u001b[39m\n",
      "\u001b[32mloss: 6.1e-06: 100%|████████████████████████████████████| Time: 0:00:11\u001b[39m\n",
      "\u001b[32mloss: 3.4e-07: 100%|████████████████████████████████████| Time: 0:00:19\u001b[39m\n",
      "\u001b[32mloss: 3e-07: 100%|██████████████████████████████████████| Time: 0:00:19\u001b[39m\n",
      "\u001b[32mloss: 1.39e-07: 100%|███████████████████████████████████| Time: 0:00:19\u001b[39m\n",
      "\u001b[32mloss: 1.5e-07: 100%|████████████████████████████████████| Time: 0:00:19\u001b[39m\n"
     ]
    },
    {
     "name": "stdout",
     "output_type": "stream",
     "text": [
      "Generating data for country: Honduras\n"
     ]
    },
    {
     "name": "stderr",
     "output_type": "stream",
     "text": [
      "\u001b[32mloss: 6.38e-07: 100%|███████████████████████████████████| Time: 0:00:18\u001b[39m\n",
      "┌ Info:  started timer at: 2021-04-08T11:00:59.217\n",
      "└ @ TickTock /home/ziyu/.julia/packages/TickTock/RsTHR/src/TickTock.jl:32\n",
      "\u001b[32mloss: 5.94e-07: 100%|███████████████████████████████████| Time: 0:00:36\u001b[39m\n",
      "\u001b[32mloss: 5.55e-07: 100%|███████████████████████████████████| Time: 0:00:18\u001b[39m\n"
     ]
    },
    {
     "name": "stdout",
     "output_type": "stream",
     "text": [
      "Generating data for country: Honduras\n"
     ]
    },
    {
     "name": "stderr",
     "output_type": "stream",
     "text": [
      "\u001b[32mloss: 0.964: 100%|██████████████████████████████████████| Time: 0:01:07\u001b[39m\n",
      "┌ Info:  started timer at: 2021-04-08T11:03:25.227\n",
      "└ @ TickTock /home/ziyu/.julia/packages/TickTock/RsTHR/src/TickTock.jl:32\n",
      "\u001b[32mloss: 0.367: 100%|██████████████████████████████████████| Time: 0:02:13\u001b[39m\n",
      "\u001b[32mloss: 0.333: 100%|██████████████████████████████████████| Time: 0:01:12\u001b[39m\n",
      "┌ Info:  started timer at: 2021-04-08T11:08:53.965\n",
      "└ @ TickTock /home/ziyu/.julia/packages/TickTock/RsTHR/src/TickTock.jl:32\n",
      "\u001b[32mloss: 0.266: 100%|██████████████████████████████████████| Time: 0:02:28\u001b[39m\n",
      "\u001b[32mloss: 0.258: 100%|██████████████████████████████████████| Time: 0:01:04\u001b[39m\n",
      "┌ Info:  started timer at: 2021-04-08T11:14:18.734\n",
      "└ @ TickTock /home/ziyu/.julia/packages/TickTock/RsTHR/src/TickTock.jl:32\n",
      "\u001b[32mloss: 0.22: 100%|███████████████████████████████████████| Time: 0:02:20\u001b[39m\n",
      "\u001b[32mloss: 0.174: 100%|██████████████████████████████████████| Time: 0:01:04\u001b[39m\n",
      "┌ Info:  started timer at: 2021-04-08T11:20:52.214\n",
      "└ @ TickTock /home/ziyu/.julia/packages/TickTock/RsTHR/src/TickTock.jl:32\n",
      "\u001b[32mloss: 0.138: 100%|██████████████████████████████████████| Time: 0:02:14\u001b[39m\n",
      "\u001b[32mloss: 0.134: 100%|██████████████████████████████████████| Time: 0:00:59\u001b[39m\n",
      "┌ Info:  started timer at: 2021-04-08T11:26:59.579\n",
      "└ @ TickTock /home/ziyu/.julia/packages/TickTock/RsTHR/src/TickTock.jl:32\n",
      "\u001b[32mloss: 0.115: 100%|██████████████████████████████████████| Time: 0:01:55\u001b[39m\n",
      "\u001b[32mloss: 0.114: 100%|██████████████████████████████████████| Time: 0:01:01\u001b[39m\n",
      "┌ Info:  started timer at: 2021-04-08T11:32:37.667\n",
      "└ @ TickTock /home/ziyu/.julia/packages/TickTock/RsTHR/src/TickTock.jl:32\n",
      "\u001b[32mloss: 0.093: 100%|██████████████████████████████████████| Time: 0:01:48\u001b[39m\n",
      "\u001b[32mloss: 0.0927: 100%|█████████████████████████████████████| Time: 0:00:53\u001b[39m\n",
      "┌ Info:  started timer at: 2021-04-08T11:36:14.559\n",
      "└ @ TickTock /home/ziyu/.julia/packages/TickTock/RsTHR/src/TickTock.jl:32\n",
      "\u001b[32mloss: 0.0853: 100%|█████████████████████████████████████| Time: 0:01:37\u001b[39m\n",
      "\u001b[32mloss: 0.0849: 100%|█████████████████████████████████████| Time: 0:00:58\u001b[39m\n",
      "┌ Info:  started timer at: 2021-04-08T11:40:25.218\n",
      "└ @ TickTock /home/ziyu/.julia/packages/TickTock/RsTHR/src/TickTock.jl:32\n",
      "\u001b[32mloss: 0.082: 100%|██████████████████████████████████████| Time: 0:02:03\u001b[39m\n",
      "\u001b[32mloss: 0.0818: 100%|█████████████████████████████████████| Time: 0:01:03\u001b[39m\n",
      "┌ Info:  started timer at: 2021-04-08T11:46:17.079\n",
      "└ @ TickTock /home/ziyu/.julia/packages/TickTock/RsTHR/src/TickTock.jl:32\n",
      "\u001b[32mloss: 0.0808: 100%|█████████████████████████████████████| Time: 0:01:40\u001b[39m\n",
      "\u001b[32mloss: 0.0807: 100%|█████████████████████████████████████| Time: 0:00:42\u001b[39m\n"
     ]
    },
    {
     "name": "stdout",
     "output_type": "stream",
     "text": [
      "Solving from initial conditions for country: Honduras\n",
      "Plotting graphs for country: Honduras\n",
      "Updating csv for parameters for country: Honduras\n",
      "Updating csv for differentiation parameters for country: Honduras\n",
      "Loading parameters\n",
      "Training neural network\n",
      "Generating data for country: India\n"
     ]
    },
    {
     "name": "stderr",
     "output_type": "stream",
     "text": [
      "\u001b[32mloss: 4.36e-06: 100%|███████████████████████████████████| Time: 0:00:08\u001b[39m\n",
      "\u001b[32mloss: 4.32e-06: 100%|███████████████████████████████████| Time: 0:00:08\u001b[39m\n",
      "\u001b[32mloss: 4.3e-06: 100%|████████████████████████████████████| Time: 0:00:08\u001b[39m\n",
      "\u001b[32mloss: 5.86e-06: 100%|███████████████████████████████████| Time: 0:00:05\u001b[39m\n",
      "\u001b[32mloss: 5.54e-06: 100%|███████████████████████████████████| Time: 0:00:07\u001b[39m\n",
      "\u001b[32mloss: 5.42e-06: 100%|███████████████████████████████████| Time: 0:00:09\u001b[39m\n",
      "\u001b[32mloss: 4.8e-06: 100%|████████████████████████████████████| Time: 0:00:10\u001b[39m\n",
      "\u001b[32mloss: 6.77e-08: 100%|███████████████████████████████████| Time: 0:00:18\u001b[39m\n",
      "\u001b[32mloss: 2.1e-08: 100%|████████████████████████████████████| Time: 0:00:18\u001b[39m\n",
      "\u001b[32mloss: 2.06e-08: 100%|███████████████████████████████████| Time: 0:00:18\u001b[39m\n",
      "\u001b[32mloss: 1.99e-08: 100%|███████████████████████████████████| Time: 0:00:18\u001b[39m\n"
     ]
    },
    {
     "name": "stdout",
     "output_type": "stream",
     "text": [
      "Generating data for country: India\n"
     ]
    },
    {
     "name": "stderr",
     "output_type": "stream",
     "text": [
      "\u001b[32mloss: 8.65e-07: 100%|███████████████████████████████████| Time: 0:00:17\u001b[39m\n",
      "┌ Info:  started timer at: 2021-04-08T11:54:06.604\n",
      "└ @ TickTock /home/ziyu/.julia/packages/TickTock/RsTHR/src/TickTock.jl:32\n",
      "\u001b[32mloss: 7.52e-07: 100%|███████████████████████████████████| Time: 0:00:35\u001b[39m\n",
      "\u001b[32mloss: 3.5e-07: 100%|████████████████████████████████████| Time: 0:00:18\u001b[39m\n",
      "┌ Info:  started timer at: 2021-04-08T11:55:42.044\n",
      "└ @ TickTock /home/ziyu/.julia/packages/TickTock/RsTHR/src/TickTock.jl:32\n",
      "\u001b[32mloss: 3.39e-07: 100%|███████████████████████████████████| Time: 0:00:36\u001b[39m\n",
      "\u001b[32mloss: 3.34e-07: 100%|███████████████████████████████████| Time: 0:00:17\u001b[39m\n",
      "┌ Info:  started timer at: 2021-04-08T11:57:26.954\n",
      "└ @ TickTock /home/ziyu/.julia/packages/TickTock/RsTHR/src/TickTock.jl:32\n",
      "\u001b[32mloss: 3.24e-07: 100%|███████████████████████████████████| Time: 0:00:35\u001b[39m\n",
      "\u001b[32mloss: 2.74e-07: 100%|███████████████████████████████████| Time: 0:00:17\u001b[39m\n",
      "┌ Info:  started timer at: 2021-04-08T11:58:53.174\n",
      "└ @ TickTock /home/ziyu/.julia/packages/TickTock/RsTHR/src/TickTock.jl:32\n",
      "\u001b[32mloss: 2.45e-07: 100%|███████████████████████████████████| Time: 0:00:35\u001b[39m\n",
      "\u001b[32mloss: 2.37e-07: 100%|███████████████████████████████████| Time: 0:00:17\u001b[39m\n",
      "┌ Info:  started timer at: 2021-04-08T12:00:26.672\n",
      "└ @ TickTock /home/ziyu/.julia/packages/TickTock/RsTHR/src/TickTock.jl:32\n",
      "\u001b[32mloss: 2.3e-07: 100%|████████████████████████████████████| Time: 0:00:38\u001b[39m\n",
      "\u001b[32mloss: 2.1e-07: 100%|████████████████████████████████████| Time: 0:00:19\u001b[39m\n",
      "┌ Info:  started timer at: 2021-04-08T12:01:53.122\n",
      "└ @ TickTock /home/ziyu/.julia/packages/TickTock/RsTHR/src/TickTock.jl:32\n",
      "\u001b[32mloss: 1.98e-07: 100%|███████████████████████████████████| Time: 0:00:38\u001b[39m\n",
      "\u001b[32mloss: 6.28e-08: 100%|███████████████████████████████████| Time: 0:00:18\u001b[39m\n",
      "┌ Info:  started timer at: 2021-04-08T12:03:09.323\n",
      "└ @ TickTock /home/ziyu/.julia/packages/TickTock/RsTHR/src/TickTock.jl:32\n",
      "\u001b[32mloss: 4.8e-08: 100%|████████████████████████████████████| Time: 0:00:38\u001b[39m\n",
      "\u001b[32mloss: 4.79e-08: 100%|███████████████████████████████████| Time: 0:00:18\u001b[39m\n"
     ]
    },
    {
     "name": "stdout",
     "output_type": "stream",
     "text": [
      "Generating data for country: India\n"
     ]
    },
    {
     "name": "stderr",
     "output_type": "stream",
     "text": [
      "\u001b[32mloss: 0.253: 100%|██████████████████████████████████████| Time: 0:01:01\u001b[39m\n",
      "┌ Info:  started timer at: 2021-04-08T12:05:08.683\n",
      "└ @ TickTock /home/ziyu/.julia/packages/TickTock/RsTHR/src/TickTock.jl:32\n",
      "\u001b[32mloss: 0.176: 100%|██████████████████████████████████████| Time: 0:02:10\u001b[39m\n",
      "\u001b[32mloss: 0.169: 100%|██████████████████████████████████████| Time: 0:00:53\u001b[39m\n",
      "┌ Info:  started timer at: 2021-04-08T12:10:30.237\n",
      "└ @ TickTock /home/ziyu/.julia/packages/TickTock/RsTHR/src/TickTock.jl:32\n",
      "\u001b[32mloss: 0.119: 100%|██████████████████████████████████████| Time: 0:01:53\u001b[39m\n",
      "\u001b[32mloss: 0.0821: 100%|█████████████████████████████████████| Time: 0:01:07\u001b[39m\n",
      "┌ Info:  started timer at: 2021-04-08T12:15:21.329\n",
      "└ @ TickTock /home/ziyu/.julia/packages/TickTock/RsTHR/src/TickTock.jl:32\n",
      "\u001b[32mloss: 0.0549: 100%|█████████████████████████████████████| Time: 0:01:41\u001b[39m\n",
      "\u001b[32mloss: 0.0524: 100%|█████████████████████████████████████| Time: 0:00:55\u001b[39m\n",
      "┌ Info:  started timer at: 2021-04-08T12:20:06.587\n",
      "└ @ TickTock /home/ziyu/.julia/packages/TickTock/RsTHR/src/TickTock.jl:32\n",
      "\u001b[32mloss: 0.0388: 100%|█████████████████████████████████████| Time: 0:01:42\u001b[39m\n",
      "\u001b[32mloss: 0.038: 100%|██████████████████████████████████████| Time: 0:00:33\u001b[39m\n",
      "┌ Info:  started timer at: 2021-04-08T12:23:28.262\n",
      "└ @ TickTock /home/ziyu/.julia/packages/TickTock/RsTHR/src/TickTock.jl:32\n",
      "\u001b[32mloss: 0.0346: 100%|█████████████████████████████████████| Time: 0:01:28\u001b[39m\n",
      "\u001b[32mloss: 0.0344: 100%|█████████████████████████████████████| Time: 0:00:38\u001b[39m\n",
      "┌ Info:  started timer at: 2021-04-08T12:27:05.953\n",
      "└ @ TickTock /home/ziyu/.julia/packages/TickTock/RsTHR/src/TickTock.jl:32\n",
      "\u001b[32mloss: 0.0339: 100%|█████████████████████████████████████| Time: 0:01:18\u001b[39m\n",
      "\u001b[32mloss: 0.0339: 100%|█████████████████████████████████████| Time: 0:00:38\u001b[39m\n"
     ]
    },
    {
     "name": "stdout",
     "output_type": "stream",
     "text": [
      "Solving from initial conditions for country: India\n",
      "Plotting graphs for country: India\n",
      "Updating csv for parameters for country: India\n",
      "Updating csv for differentiation parameters for country: India\n",
      "Loading parameters\n",
      "Training neural network\n",
      "Generating data for country: Israel\n"
     ]
    },
    {
     "name": "stderr",
     "output_type": "stream",
     "text": [
      "\u001b[32mloss: 0.000784: 100%|███████████████████████████████████| Time: 0:00:09\u001b[39m\n",
      "\u001b[32mloss: 0.000756: 100%|███████████████████████████████████| Time: 0:00:09\u001b[39m\n",
      "\u001b[32mloss: 0.000753: 100%|███████████████████████████████████| Time: 0:00:09\u001b[39m\n",
      "\u001b[32mloss: 0.00121: 100%|████████████████████████████████████| Time: 0:00:07\u001b[39m\n",
      "\u001b[32mloss: 0.00122: 100%|████████████████████████████████████| Time: 0:00:09\u001b[39m\n",
      "\u001b[32mloss: 0.00106: 100%|████████████████████████████████████| Time: 0:00:11\u001b[39m\n",
      "\u001b[32mloss: 0.000766: 100%|███████████████████████████████████| Time: 0:00:13\u001b[39m\n",
      "\u001b[32mloss: 2.87e-05: 100%|███████████████████████████████████| Time: 0:00:21\u001b[39m\n",
      "\u001b[32mloss: 2.9e-05: 100%|████████████████████████████████████| Time: 0:00:21\u001b[39m\n",
      "\u001b[32mloss: 2.92e-05: 100%|███████████████████████████████████| Time: 0:00:20\u001b[39m\n",
      "\u001b[32mloss: 2.91e-05: 100%|███████████████████████████████████| Time: 0:00:21\u001b[39m\n"
     ]
    },
    {
     "name": "stdout",
     "output_type": "stream",
     "text": [
      "Generating data for country: Israel\n"
     ]
    },
    {
     "name": "stderr",
     "output_type": "stream",
     "text": [
      "\u001b[32mloss: 1.8e-05: 100%|████████████████████████████████████| Time: 0:00:25\u001b[39m\n",
      "┌ Info:  started timer at: 2021-04-08T12:34:38.41\n",
      "└ @ TickTock /home/ziyu/.julia/packages/TickTock/RsTHR/src/TickTock.jl:32\n",
      "\u001b[32mloss: 1.73e-05: 100%|███████████████████████████████████| Time: 0:00:48\u001b[39m\n",
      "\u001b[32mloss: 5.14e-06: 100%|███████████████████████████████████| Time: 0:00:22\u001b[39m\n"
     ]
    },
    {
     "name": "stdout",
     "output_type": "stream",
     "text": [
      "Generating data for country: Israel\n"
     ]
    },
    {
     "name": "stderr",
     "output_type": "stream",
     "text": [
      "\u001b[32mloss: 813: 100%|████████████████████████████████████████| Time: 0:02:05\u001b[39m\n",
      "┌ Info:  started timer at: 2021-04-08T12:39:01.007\n",
      "└ @ TickTock /home/ziyu/.julia/packages/TickTock/RsTHR/src/TickTock.jl:32\n",
      "\u001b[32mloss: 662: 100%|████████████████████████████████████████| Time: 0:04:19\u001b[39m\n",
      "\u001b[32mloss: 36.4: 100%|███████████████████████████████████████| Time: 0:01:50\u001b[39m\n",
      "┌ Info:  started timer at: 2021-04-08T12:48:35.834\n",
      "└ @ TickTock /home/ziyu/.julia/packages/TickTock/RsTHR/src/TickTock.jl:32\n",
      "\u001b[32mloss: 31.7: 100%|███████████████████████████████████████| Time: 0:03:03\u001b[39m\n",
      "\u001b[32mloss: 29.7: 100%|███████████████████████████████████████| Time: 0:01:27\u001b[39m\n",
      "┌ Info:  started timer at: 2021-04-08T12:57:35.332\n",
      "└ @ TickTock /home/ziyu/.julia/packages/TickTock/RsTHR/src/TickTock.jl:32\n",
      "\u001b[32mloss: 26: 100%|█████████████████████████████████████████| Time: 0:02:56\u001b[39m\n",
      "\u001b[32mloss: 20.5: 100%|███████████████████████████████████████| Time: 0:01:32\u001b[39m\n",
      "┌ Info:  started timer at: 2021-04-08T13:05:58.637\n",
      "└ @ TickTock /home/ziyu/.julia/packages/TickTock/RsTHR/src/TickTock.jl:32\n",
      "\u001b[32mloss: 18.1: 100%|███████████████████████████████████████| Time: 0:03:05\u001b[39m\n",
      "\u001b[32mloss: 17.9: 100%|███████████████████████████████████████| Time: 0:01:25\u001b[39m\n",
      "┌ Info:  started timer at: 2021-04-08T13:14:00.192\n",
      "└ @ TickTock /home/ziyu/.julia/packages/TickTock/RsTHR/src/TickTock.jl:32\n",
      "\u001b[32mloss: 17.1: 100%|███████████████████████████████████████| Time: 0:03:13\u001b[39m\n",
      "\u001b[32mloss: 17.1: 100%|███████████████████████████████████████| Time: 0:01:29\u001b[39m\n",
      "┌ Info:  started timer at: 2021-04-08T13:21:03.499\n",
      "└ @ TickTock /home/ziyu/.julia/packages/TickTock/RsTHR/src/TickTock.jl:32\n",
      "\u001b[32mloss: 16.7: 100%|███████████████████████████████████████| Time: 0:03:16\u001b[39m\n",
      "\u001b[32mloss: 16.7: 100%|███████████████████████████████████████| Time: 0:01:22\u001b[39m\n",
      "┌ Info:  started timer at: 2021-04-08T13:29:23.487\n",
      "└ @ TickTock /home/ziyu/.julia/packages/TickTock/RsTHR/src/TickTock.jl:32\n",
      "\u001b[32mloss: 16.6: 100%|███████████████████████████████████████| Time: 0:02:29\u001b[39m\n",
      "\u001b[32mloss: 16.6: 100%|███████████████████████████████████████| Time: 0:01:11\u001b[39m\n",
      "┌ Info:  started timer at: 2021-04-08T13:35:56.839\n",
      "└ @ TickTock /home/ziyu/.julia/packages/TickTock/RsTHR/src/TickTock.jl:32\n",
      "\u001b[32mloss: 16.4: 100%|███████████████████████████████████████| Time: 0:02:25\u001b[39m\n",
      "\u001b[32mloss: 16.4: 100%|███████████████████████████████████████| Time: 0:01:13\u001b[39m\n",
      "┌ Info:  started timer at: 2021-04-08T13:42:08.113\n",
      "└ @ TickTock /home/ziyu/.julia/packages/TickTock/RsTHR/src/TickTock.jl:32\n",
      "\u001b[32mloss: 16.3: 100%|███████████████████████████████████████| Time: 0:03:03\u001b[39m\n",
      "\u001b[32mloss: 16.3: 100%|███████████████████████████████████████| Time: 0:01:35\u001b[39m\n",
      "┌ Info:  started timer at: 2021-04-08T13:50:06.149\n",
      "└ @ TickTock /home/ziyu/.julia/packages/TickTock/RsTHR/src/TickTock.jl:32\n",
      "\u001b[32mloss: 16.2: 100%|███████████████████████████████████████| Time: 0:03:10\u001b[39m\n",
      "\u001b[32mloss: 16.2: 100%|███████████████████████████████████████| Time: 0:01:36\u001b[39m\n"
     ]
    },
    {
     "name": "stdout",
     "output_type": "stream",
     "text": [
      "Solving from initial conditions for country: Israel\n",
      "Plotting graphs for country: Israel\n",
      "Updating csv for parameters for country: Israel\n",
      "Updating csv for differentiation parameters for country: Israel\n",
      "Loading parameters\n",
      "Training neural network\n",
      "Generating data for country: Italy\n"
     ]
    },
    {
     "name": "stderr",
     "output_type": "stream",
     "text": [
      "\u001b[32mloss: 0.00148: 100%|████████████████████████████████████| Time: 0:00:09\u001b[39m\n",
      "\u001b[32mloss: 0.00145: 100%|████████████████████████████████████| Time: 0:00:09\u001b[39m\n",
      "\u001b[32mloss: 0.00145: 100%|████████████████████████████████████| Time: 0:00:09\u001b[39m\n",
      "\u001b[32mloss: 0.00245: 100%|████████████████████████████████████| Time: 0:00:07\u001b[39m\n",
      "\u001b[32mloss: 0.00175: 100%|████████████████████████████████████| Time: 0:00:09\u001b[39m\n",
      "\u001b[32mloss: 0.00151: 100%|████████████████████████████████████| Time: 0:00:11\u001b[39m\n",
      "\u001b[32mloss: 0.00152: 100%|████████████████████████████████████| Time: 0:00:13\u001b[39m\n",
      "\u001b[32mloss: 8.03e-05: 100%|███████████████████████████████████| Time: 0:00:21\u001b[39m\n",
      "\u001b[32mloss: 7.88e-05: 100%|███████████████████████████████████| Time: 0:00:21\u001b[39m\n",
      "┌ Warning: Instability detected. Aborting\n",
      "└ @ DiffEqBase /home/ziyu/.julia/packages/DiffEqBase/V7P18/src/integrator_interface.jl:349\n",
      "┌ Warning: First function call produced NaNs. Exiting.\n",
      "└ @ OrdinaryDiffEq /home/ziyu/.julia/packages/OrdinaryDiffEq/VPJBD/src/initdt.jl:76\n",
      "┌ Warning: Automatic dt set the starting dt as NaN, causing instability.\n",
      "└ @ OrdinaryDiffEq /home/ziyu/.julia/packages/OrdinaryDiffEq/VPJBD/src/solve.jl:459\n",
      "┌ Warning: NaN dt detected. Likely a NaN value in the state, parameters, or derivative value caused this outcome.\n",
      "└ @ DiffEqBase /home/ziyu/.julia/packages/DiffEqBase/V7P18/src/integrator_interface.jl:323\n",
      "┌ Warning: dt <= dtmin. Aborting. There is either an error in your model specification or the true solution is unstable.\n",
      "└ @ DiffEqBase /home/ziyu/.julia/packages/DiffEqBase/V7P18/src/integrator_interface.jl:343\n",
      "┌ Warning: First function call produced NaNs. Exiting.\n",
      "└ @ OrdinaryDiffEq /home/ziyu/.julia/packages/OrdinaryDiffEq/VPJBD/src/initdt.jl:76\n",
      "┌ Warning: Automatic dt set the starting dt as NaN, causing instability.\n",
      "└ @ OrdinaryDiffEq /home/ziyu/.julia/packages/OrdinaryDiffEq/VPJBD/src/solve.jl:459\n",
      "┌ Warning: NaN dt detected. Likely a NaN value in the state, parameters, or derivative value caused this outcome.\n",
      "└ @ DiffEqBase /home/ziyu/.julia/packages/DiffEqBase/V7P18/src/integrator_interface.jl:323\n",
      "┌ Warning: dt <= dtmin. Aborting. There is either an error in your model specification or the true solution is unstable.\n",
      "└ @ DiffEqBase /home/ziyu/.julia/packages/DiffEqBase/V7P18/src/integrator_interface.jl:343\n",
      "┌ Warning: First function call produced NaNs. Exiting.\n",
      "└ @ OrdinaryDiffEq /home/ziyu/.julia/packages/OrdinaryDiffEq/VPJBD/src/initdt.jl:76\n",
      "┌ Warning: Automatic dt set the starting dt as NaN, causing instability.\n",
      "└ @ OrdinaryDiffEq /home/ziyu/.julia/packages/OrdinaryDiffEq/VPJBD/src/solve.jl:459\n",
      "┌ Warning: NaN dt detected. Likely a NaN value in the state, parameters, or derivative value caused this outcome.\n",
      "└ @ DiffEqBase /home/ziyu/.julia/packages/DiffEqBase/V7P18/src/integrator_interface.jl:323\n",
      "┌ Warning: Instability detected. Aborting\n",
      "└ @ DiffEqBase /home/ziyu/.julia/packages/DiffEqBase/V7P18/src/integrator_interface.jl:349\n",
      "┌ Warning: First function call produced NaNs. Exiting.\n",
      "└ @ OrdinaryDiffEq /home/ziyu/.julia/packages/OrdinaryDiffEq/VPJBD/src/initdt.jl:76\n",
      "┌ Warning: Automatic dt set the starting dt as NaN, causing instability.\n",
      "└ @ OrdinaryDiffEq /home/ziyu/.julia/packages/OrdinaryDiffEq/VPJBD/src/solve.jl:459\n",
      "┌ Warning: NaN dt detected. Likely a NaN value in the state, parameters, or derivative value caused this outcome.\n",
      "└ @ DiffEqBase /home/ziyu/.julia/packages/DiffEqBase/V7P18/src/integrator_interface.jl:323\n",
      "┌ Warning: dt <= dtmin. Aborting. There is either an error in your model specification or the true solution is unstable.\n",
      "└ @ DiffEqBase /home/ziyu/.julia/packages/DiffEqBase/V7P18/src/integrator_interface.jl:343\n",
      "┌ Warning: First function call produced NaNs. Exiting.\n",
      "└ @ OrdinaryDiffEq /home/ziyu/.julia/packages/OrdinaryDiffEq/VPJBD/src/initdt.jl:76\n",
      "┌ Warning: Automatic dt set the starting dt as NaN, causing instability.\n",
      "└ @ OrdinaryDiffEq /home/ziyu/.julia/packages/OrdinaryDiffEq/VPJBD/src/solve.jl:459\n",
      "┌ Warning: NaN dt detected. Likely a NaN value in the state, parameters, or derivative value caused this outcome.\n",
      "└ @ DiffEqBase /home/ziyu/.julia/packages/DiffEqBase/V7P18/src/integrator_interface.jl:323\n",
      "┌ Warning: Instability detected. Aborting\n",
      "└ @ DiffEqBase /home/ziyu/.julia/packages/DiffEqBase/V7P18/src/integrator_interface.jl:349\n",
      "┌ Warning: First function call produced NaNs. Exiting.\n",
      "└ @ OrdinaryDiffEq /home/ziyu/.julia/packages/OrdinaryDiffEq/VPJBD/src/initdt.jl:76\n",
      "┌ Warning: Automatic dt set the starting dt as NaN, causing instability.\n",
      "└ @ OrdinaryDiffEq /home/ziyu/.julia/packages/OrdinaryDiffEq/VPJBD/src/solve.jl:459\n",
      "┌ Warning: NaN dt detected. Likely a NaN value in the state, parameters, or derivative value caused this outcome.\n",
      "└ @ DiffEqBase /home/ziyu/.julia/packages/DiffEqBase/V7P18/src/integrator_interface.jl:323\n",
      "┌ Warning: Instability detected. Aborting\n",
      "└ @ DiffEqBase /home/ziyu/.julia/packages/DiffEqBase/V7P18/src/integrator_interface.jl:349\n",
      "┌ Warning: First function call produced NaNs. Exiting.\n",
      "└ @ OrdinaryDiffEq /home/ziyu/.julia/packages/OrdinaryDiffEq/VPJBD/src/initdt.jl:76\n",
      "┌ Warning: Automatic dt set the starting dt as NaN, causing instability.\n",
      "└ @ OrdinaryDiffEq /home/ziyu/.julia/packages/OrdinaryDiffEq/VPJBD/src/solve.jl:459\n",
      "┌ Warning: NaN dt detected. Likely a NaN value in the state, parameters, or derivative value caused this outcome.\n",
      "└ @ DiffEqBase /home/ziyu/.julia/packages/DiffEqBase/V7P18/src/integrator_interface.jl:323\n",
      "┌ Warning: Instability detected. Aborting\n",
      "└ @ DiffEqBase /home/ziyu/.julia/packages/DiffEqBase/V7P18/src/integrator_interface.jl:349\n",
      "┌ Warning: First function call produced NaNs. Exiting.\n",
      "└ @ OrdinaryDiffEq /home/ziyu/.julia/packages/OrdinaryDiffEq/VPJBD/src/initdt.jl:76\n",
      "┌ Warning: Automatic dt set the starting dt as NaN, causing instability.\n",
      "└ @ OrdinaryDiffEq /home/ziyu/.julia/packages/OrdinaryDiffEq/VPJBD/src/solve.jl:459\n",
      "┌ Warning: NaN dt detected. Likely a NaN value in the state, parameters, or derivative value caused this outcome.\n",
      "└ @ DiffEqBase /home/ziyu/.julia/packages/DiffEqBase/V7P18/src/integrator_interface.jl:323\n",
      "\u001b[32mloss: 8.07e-05: 100%|███████████████████████████████████| Time: 0:00:21\u001b[39m\n",
      "\u001b[32mloss: 7.96e-05: 100%|███████████████████████████████████| Time: 0:00:21\u001b[39m\n"
     ]
    },
    {
     "name": "stdout",
     "output_type": "stream",
     "text": [
      "Generating data for country: Italy\n"
     ]
    },
    {
     "name": "stderr",
     "output_type": "stream",
     "text": [
      "\u001b[32mloss: 2.41e-05: 100%|███████████████████████████████████| Time: 0:00:23\u001b[39m\n",
      "┌ Info:  started timer at: 2021-04-08T14:04:05.29\n",
      "└ @ TickTock /home/ziyu/.julia/packages/TickTock/RsTHR/src/TickTock.jl:32\n",
      "\u001b[32mloss: 2.26e-05: 100%|███████████████████████████████████| Time: 0:00:46\u001b[39m\n",
      "\u001b[32mloss: 2.25e-05: 100%|███████████████████████████████████| Time: 0:00:21\u001b[39m\n",
      "┌ Info:  started timer at: 2021-04-08T14:06:08.258\n",
      "└ @ TickTock /home/ziyu/.julia/packages/TickTock/RsTHR/src/TickTock.jl:32\n",
      "\u001b[32mloss: 1.6e-05: 100%|████████████████████████████████████| Time: 0:00:46\u001b[39m\n",
      "\u001b[32mloss: 1.52e-05: 100%|███████████████████████████████████| Time: 0:00:22\u001b[39m\n",
      "┌ Info:  started timer at: 2021-04-08T14:08:17.689\n",
      "└ @ TickTock /home/ziyu/.julia/packages/TickTock/RsTHR/src/TickTock.jl:32\n",
      "\u001b[32mloss: 1.28e-05: 100%|███████████████████████████████████| Time: 0:00:44\u001b[39m\n",
      "\u001b[32mloss: 1.23e-05: 100%|███████████████████████████████████| Time: 0:00:21\u001b[39m\n",
      "┌ Info:  started timer at: 2021-04-08T14:10:15.367\n",
      "└ @ TickTock /home/ziyu/.julia/packages/TickTock/RsTHR/src/TickTock.jl:32\n",
      "\u001b[32mloss: 1.03e-05: 100%|███████████████████████████████████| Time: 0:00:45\u001b[39m\n",
      "\u001b[32mloss: 4.45e-06: 100%|███████████████████████████████████| Time: 0:00:22\u001b[39m\n",
      "┌ Info:  started timer at: 2021-04-08T14:12:19.241\n",
      "└ @ TickTock /home/ziyu/.julia/packages/TickTock/RsTHR/src/TickTock.jl:32\n",
      "\u001b[32mloss: 3.96e-06: 100%|███████████████████████████████████| Time: 0:00:45\u001b[39m\n",
      "\u001b[32mloss: 3.93e-06: 100%|███████████████████████████████████| Time: 0:00:23\u001b[39m\n",
      "┌ Info:  started timer at: 2021-04-08T14:13:49.901\n",
      "└ @ TickTock /home/ziyu/.julia/packages/TickTock/RsTHR/src/TickTock.jl:32\n",
      "\u001b[32mloss: 3.6e-06: 100%|████████████████████████████████████| Time: 0:00:46\u001b[39m\n",
      "\u001b[32mloss: 3.54e-06: 100%|███████████████████████████████████| Time: 0:00:23\u001b[39m\n",
      "┌ Info:  started timer at: 2021-04-08T14:15:54.586\n",
      "└ @ TickTock /home/ziyu/.julia/packages/TickTock/RsTHR/src/TickTock.jl:32\n",
      "\u001b[32mloss: 3.33e-06: 100%|███████████████████████████████████| Time: 0:00:47\u001b[39m\n",
      "\u001b[32mloss: 3.32e-06: 100%|███████████████████████████████████| Time: 0:00:22\u001b[39m\n",
      "┌ Info:  started timer at: 2021-04-08T14:17:52.787\n",
      "└ @ TickTock /home/ziyu/.julia/packages/TickTock/RsTHR/src/TickTock.jl:32\n",
      "\u001b[32mloss: 3.13e-06: 100%|███████████████████████████████████| Time: 0:00:41\u001b[39m\n",
      "\u001b[32mloss: 3.14e-06: 100%|███████████████████████████████████| Time: 0:00:20\u001b[39m\n"
     ]
    },
    {
     "name": "stdout",
     "output_type": "stream",
     "text": [
      "Generating data for country: Italy\n"
     ]
    },
    {
     "name": "stderr",
     "output_type": "stream",
     "text": [
      "\u001b[32mloss: 7.28: 100%|███████████████████████████████████████| Time: 0:01:41\u001b[39m\n",
      "┌ Info:  started timer at: 2021-04-08T14:21:09.299\n",
      "└ @ TickTock /home/ziyu/.julia/packages/TickTock/RsTHR/src/TickTock.jl:32\n",
      "\u001b[32mloss: 3.37: 100%|███████████████████████████████████████| Time: 0:02:05\u001b[39m\n",
      "\u001b[32mloss: 3.36: 100%|███████████████████████████████████████| Time: 0:00:51\u001b[39m\n",
      "┌ Info:  started timer at: 2021-04-08T14:25:50.687\n",
      "└ @ TickTock /home/ziyu/.julia/packages/TickTock/RsTHR/src/TickTock.jl:32\n",
      "\u001b[32mloss: 3.17: 100%|███████████████████████████████████████| Time: 0:01:38\u001b[39m\n",
      "\u001b[32mloss: 2.95: 100%|███████████████████████████████████████| Time: 0:01:07\u001b[39m\n",
      "┌ Info:  started timer at: 2021-04-08T14:30:49.144\n",
      "└ @ TickTock /home/ziyu/.julia/packages/TickTock/RsTHR/src/TickTock.jl:32\n",
      "\u001b[32mloss: 2.78: 100%|███████████████████████████████████████| Time: 0:02:08\u001b[39m\n",
      "\u001b[32mloss: 2.68: 100%|███████████████████████████████████████| Time: 0:00:57\u001b[39m\n",
      "┌ Info:  started timer at: 2021-04-08T14:36:59.82\n",
      "└ @ TickTock /home/ziyu/.julia/packages/TickTock/RsTHR/src/TickTock.jl:32\n",
      "\u001b[32mloss: 2.53: 100%|███████████████████████████████████████| Time: 0:02:00\u001b[39m\n",
      "\u001b[32mloss: 2.52: 100%|███████████████████████████████████████| Time: 0:01:02\u001b[39m\n",
      "┌ Info:  started timer at: 2021-04-08T14:42:23.408\n",
      "└ @ TickTock /home/ziyu/.julia/packages/TickTock/RsTHR/src/TickTock.jl:32\n",
      "\u001b[32mloss: 2.37: 100%|███████████████████████████████████████| Time: 0:02:11\u001b[39m\n",
      "\u001b[32mloss: 2.3: 100%|████████████████████████████████████████| Time: 0:01:06\u001b[39m\n",
      "┌ Info:  started timer at: 2021-04-08T14:47:42.045\n",
      "└ @ TickTock /home/ziyu/.julia/packages/TickTock/RsTHR/src/TickTock.jl:32\n",
      "\u001b[32mloss: 2.14: 100%|███████████████████████████████████████| Time: 0:02:15\u001b[39m\n",
      "\u001b[32mloss: 2.13: 100%|███████████████████████████████████████| Time: 0:00:59\u001b[39m\n",
      "┌ Info:  started timer at: 2021-04-08T14:52:05.587\n",
      "└ @ TickTock /home/ziyu/.julia/packages/TickTock/RsTHR/src/TickTock.jl:32\n",
      "\u001b[32mloss: 2: 100%|██████████████████████████████████████████| Time: 0:01:26\u001b[39m\n",
      "\u001b[32mloss: 1.98: 100%|███████████████████████████████████████| Time: 0:00:39\u001b[39m\n",
      "┌ Info:  started timer at: 2021-04-08T14:55:34.488\n",
      "└ @ TickTock /home/ziyu/.julia/packages/TickTock/RsTHR/src/TickTock.jl:32\n",
      "\u001b[32mloss: 1.88: 100%|███████████████████████████████████████| Time: 0:01:28\u001b[39m\n",
      "\u001b[32mloss: 1.87: 100%|███████████████████████████████████████| Time: 0:00:51\u001b[39m\n",
      "┌ Info:  started timer at: 2021-04-08T14:59:43.892\n",
      "└ @ TickTock /home/ziyu/.julia/packages/TickTock/RsTHR/src/TickTock.jl:32\n",
      "\u001b[32mloss: 1.79: 100%|███████████████████████████████████████| Time: 0:01:32\u001b[39m\n",
      "\u001b[32mloss: 1.79: 100%|███████████████████████████████████████| Time: 0:00:51\u001b[39m\n",
      "┌ Info:  started timer at: 2021-04-08T15:04:09.101\n",
      "└ @ TickTock /home/ziyu/.julia/packages/TickTock/RsTHR/src/TickTock.jl:32\n",
      "\u001b[32mloss: 1.73: 100%|███████████████████████████████████████| Time: 0:02:15\u001b[39m\n",
      "\u001b[32mloss: 1.73: 100%|███████████████████████████████████████| Time: 0:01:13\u001b[39m\n"
     ]
    },
    {
     "name": "stdout",
     "output_type": "stream",
     "text": [
      "Solving from initial conditions for country: Italy\n",
      "Plotting graphs for country: Italy\n",
      "Updating csv for parameters for country: Italy\n",
      "Updating csv for differentiation parameters for country: Italy\n",
      "Loading parameters\n",
      "Training neural network\n",
      "Generating data for country: Jamaica\n"
     ]
    },
    {
     "name": "stderr",
     "output_type": "stream",
     "text": [
      "\u001b[32mloss: 2.23e-05: 100%|███████████████████████████████████| Time: 0:00:08\u001b[39m\n",
      "\u001b[32mloss: 2.17e-05: 100%|███████████████████████████████████| Time: 0:00:08\u001b[39m\n",
      "\u001b[32mloss: 2.16e-05: 100%|███████████████████████████████████| Time: 0:00:08\u001b[39m\n",
      "\u001b[32mloss: 3.6e-05: 100%|████████████████████████████████████| Time: 0:00:05\u001b[39m\n",
      "\u001b[32mloss: 3.36e-05: 100%|███████████████████████████████████| Time: 0:00:06\u001b[39m\n",
      "\u001b[32mloss: 2.92e-05: 100%|███████████████████████████████████| Time: 0:00:08\u001b[39m\n",
      "\u001b[32mloss: 2.45e-05: 100%|███████████████████████████████████| Time: 0:00:10\u001b[39m\n",
      "\u001b[32mloss: 2.11e-05: 100%|███████████████████████████████████| Time: 0:00:18\u001b[39m\n",
      "\u001b[32mloss: 2.67e-07: 100%|███████████████████████████████████| Time: 0:00:18\u001b[39m\n",
      "\u001b[32mloss: 2.5e-07: 100%|████████████████████████████████████| Time: 0:00:18\u001b[39m\n",
      "\u001b[32mloss: 1.19e-07: 100%|███████████████████████████████████| Time: 0:00:18\u001b[39m\n"
     ]
    },
    {
     "name": "stdout",
     "output_type": "stream",
     "text": [
      "Generating data for country: Jamaica\n"
     ]
    },
    {
     "name": "stderr",
     "output_type": "stream",
     "text": [
      "\u001b[32mloss: 2.17e-06: 100%|███████████████████████████████████| Time: 0:00:17\u001b[39m\n",
      "┌ Info:  started timer at: 2021-04-08T15:14:28.278\n",
      "└ @ TickTock /home/ziyu/.julia/packages/TickTock/RsTHR/src/TickTock.jl:32\n",
      "\u001b[32mloss: 2.16e-06: 100%|███████████████████████████████████| Time: 0:00:37\u001b[39m\n",
      "\u001b[32mloss: 2.16e-06: 100%|███████████████████████████████████| Time: 0:00:19\u001b[39m\n",
      "┌ Info:  started timer at: 2021-04-08T15:16:13.15\n",
      "└ @ TickTock /home/ziyu/.julia/packages/TickTock/RsTHR/src/TickTock.jl:32\n",
      "\u001b[32mloss: 2.15e-06: 100%|███████████████████████████████████| Time: 0:00:39\u001b[39m\n",
      "\u001b[32mloss: 2.13e-06: 100%|███████████████████████████████████| Time: 0:00:18\u001b[39m\n"
     ]
    },
    {
     "name": "stdout",
     "output_type": "stream",
     "text": [
      "Generating data for country: Jamaica\n"
     ]
    },
    {
     "name": "stderr",
     "output_type": "stream",
     "text": [
      "\u001b[32mloss: 15.1: 100%|███████████████████████████████████████| Time: 0:01:22\u001b[39m\n",
      "┌ Info:  started timer at: 2021-04-08T15:19:27.272\n",
      "└ @ TickTock /home/ziyu/.julia/packages/TickTock/RsTHR/src/TickTock.jl:32\n",
      "\u001b[32mloss: 14.8: 100%|███████████████████████████████████████| Time: 0:02:50\u001b[39m\n",
      "\u001b[32mloss: 14.5: 100%|███████████████████████████████████████| Time: 0:01:33\u001b[39m\n",
      "┌ Info:  started timer at: 2021-04-08T15:27:39.883\n",
      "└ @ TickTock /home/ziyu/.julia/packages/TickTock/RsTHR/src/TickTock.jl:32\n",
      "\u001b[32mloss: 13.6: 100%|███████████████████████████████████████| Time: 0:02:49\u001b[39m\n",
      "\u001b[32mloss: 11.9: 100%|███████████████████████████████████████| Time: 0:01:32\u001b[39m\n",
      "┌ Info:  started timer at: 2021-04-08T15:35:35.11\n",
      "└ @ TickTock /home/ziyu/.julia/packages/TickTock/RsTHR/src/TickTock.jl:32\n",
      "\u001b[32mloss: 11.3: 100%|███████████████████████████████████████| Time: 0:02:52\u001b[39m\n",
      "\u001b[32mloss: 11.1: 100%|███████████████████████████████████████| Time: 0:01:33\u001b[39m\n",
      "┌ Info:  started timer at: 2021-04-08T15:43:36.501\n",
      "└ @ TickTock /home/ziyu/.julia/packages/TickTock/RsTHR/src/TickTock.jl:32\n",
      "\u001b[32mloss: 10.8: 100%|███████████████████████████████████████| Time: 0:02:49\u001b[39m\n",
      "\u001b[32mloss: 10.8: 100%|███████████████████████████████████████| Time: 0:01:26\u001b[39m\n",
      "┌ Info:  started timer at: 2021-04-08T15:51:06.415\n",
      "└ @ TickTock /home/ziyu/.julia/packages/TickTock/RsTHR/src/TickTock.jl:32\n",
      "\u001b[32mloss: 10.5: 100%|███████████████████████████████████████| Time: 0:02:56\u001b[39m\n",
      "\u001b[32mloss: 10.5: 100%|███████████████████████████████████████| Time: 0:01:36\u001b[39m\n",
      "┌ Info:  started timer at: 2021-04-08T15:58:08.327\n",
      "└ @ TickTock /home/ziyu/.julia/packages/TickTock/RsTHR/src/TickTock.jl:32\n",
      "\u001b[32mloss: 10.3: 100%|███████████████████████████████████████| Time: 0:03:06\u001b[39m\n",
      "\u001b[32mloss: 10.3: 100%|███████████████████████████████████████| Time: 0:01:30\u001b[39m\n",
      "┌ Info:  started timer at: 2021-04-08T16:06:10.806\n",
      "└ @ TickTock /home/ziyu/.julia/packages/TickTock/RsTHR/src/TickTock.jl:32\n",
      "\u001b[32mloss: 10.2: 100%|███████████████████████████████████████| Time: 0:02:58\u001b[39m\n",
      "\u001b[32mloss: 10.2: 100%|███████████████████████████████████████| Time: 0:01:28\u001b[39m\n",
      "┌ Info:  started timer at: 2021-04-08T16:14:21.478\n",
      "└ @ TickTock /home/ziyu/.julia/packages/TickTock/RsTHR/src/TickTock.jl:32\n",
      "\u001b[32mloss: 9.14: 100%|███████████████████████████████████████| Time: 0:03:16\u001b[39m\n",
      "\u001b[32mloss: 9.13: 100%|███████████████████████████████████████| Time: 0:01:32\u001b[39m\n",
      "┌ Info:  started timer at: 2021-04-08T16:22:48.878\n",
      "└ @ TickTock /home/ziyu/.julia/packages/TickTock/RsTHR/src/TickTock.jl:32\n",
      "\u001b[32mloss: 9.04: 100%|███████████████████████████████████████| Time: 0:03:22\u001b[39m\n",
      "\u001b[32mloss: 9.03: 100%|███████████████████████████████████████| Time: 0:01:41\u001b[39m\n"
     ]
    },
    {
     "name": "stdout",
     "output_type": "stream",
     "text": [
      "Solving from initial conditions for country: Jamaica\n",
      "Plotting graphs for country: Jamaica\n",
      "Updating csv for parameters for country: Jamaica\n",
      "Updating csv for differentiation parameters for country: Jamaica\n",
      "Loading parameters\n",
      "Training neural network\n",
      "Generating data for country: Jordan\n"
     ]
    },
    {
     "name": "stderr",
     "output_type": "stream",
     "text": [
      "\u001b[32mloss: 3.28e-05: 100%|███████████████████████████████████| Time: 0:00:08\u001b[39m\n",
      "\u001b[32mloss: 3.14e-05: 100%|███████████████████████████████████| Time: 0:00:08\u001b[39m\n",
      "\u001b[32mloss: 3.13e-05: 100%|███████████████████████████████████| Time: 0:00:08\u001b[39m\n",
      "\u001b[32mloss: 6e-05: 100%|██████████████████████████████████████| Time: 0:00:05\u001b[39m\n",
      "\u001b[32mloss: 4.93e-05: 100%|███████████████████████████████████| Time: 0:00:06\u001b[39m\n",
      "\u001b[32mloss: 3.82e-05: 100%|███████████████████████████████████| Time: 0:00:08\u001b[39m\n",
      "\u001b[32mloss: 3.17e-05: 100%|███████████████████████████████████| Time: 0:00:10\u001b[39m\n",
      "\u001b[32mloss: 1.45e-05: 100%|███████████████████████████████████| Time: 0:00:18\u001b[39m\n",
      "\u001b[32mloss: 1.39e-05: 100%|███████████████████████████████████| Time: 0:00:18\u001b[39m\n",
      "\u001b[32mloss: 1.37e-05: 100%|███████████████████████████████████| Time: 0:00:18\u001b[39m\n",
      "\u001b[32mloss: 1.38e-05: 100%|███████████████████████████████████| Time: 0:00:18\u001b[39m\n"
     ]
    },
    {
     "name": "stdout",
     "output_type": "stream",
     "text": [
      "Generating data for country: Jordan\n"
     ]
    },
    {
     "name": "stderr",
     "output_type": "stream",
     "text": [
      "\u001b[32mloss: 1.75e-05: 100%|███████████████████████████████████| Time: 0:00:21\u001b[39m\n",
      "┌ Info:  started timer at: 2021-04-08T16:35:34.786\n",
      "└ @ TickTock /home/ziyu/.julia/packages/TickTock/RsTHR/src/TickTock.jl:32\n",
      "\u001b[32mloss: 1.65e-05: 100%|███████████████████████████████████| Time: 0:00:44\u001b[39m\n",
      "\u001b[32mloss: 1.43e-05: 100%|███████████████████████████████████| Time: 0:00:19\u001b[39m\n"
     ]
    },
    {
     "name": "stdout",
     "output_type": "stream",
     "text": [
      "Generating data for country: Jordan\n"
     ]
    },
    {
     "name": "stderr",
     "output_type": "stream",
     "text": [
      "\u001b[32mloss: 129: 100%|████████████████████████████████████████| Time: 0:01:37\u001b[39m\n",
      "┌ Info:  started timer at: 2021-04-08T16:39:11.304\n",
      "└ @ TickTock /home/ziyu/.julia/packages/TickTock/RsTHR/src/TickTock.jl:32\n",
      "\u001b[32mloss: 76.3: 100%|███████████████████████████████████████| Time: 0:03:28\u001b[39m\n",
      "\u001b[32mloss: 73.2: 100%|███████████████████████████████████████| Time: 0:01:43\u001b[39m\n",
      "┌ Info:  started timer at: 2021-04-08T16:47:44.63\n",
      "└ @ TickTock /home/ziyu/.julia/packages/TickTock/RsTHR/src/TickTock.jl:32\n",
      "\u001b[32mloss: 6.43: 100%|███████████████████████████████████████| Time: 0:03:14\u001b[39m\n",
      "\u001b[32mloss: 3.02: 100%|███████████████████████████████████████| Time: 0:01:39\u001b[39m\n",
      "┌ Info:  started timer at: 2021-04-08T16:56:24.183\n",
      "└ @ TickTock /home/ziyu/.julia/packages/TickTock/RsTHR/src/TickTock.jl:32\n",
      "\u001b[32mloss: 2.03: 100%|███████████████████████████████████████| Time: 0:03:11\u001b[39m\n",
      "\u001b[32mloss: 1.99: 100%|███████████████████████████████████████| Time: 0:01:28\u001b[39m\n",
      "┌ Info:  started timer at: 2021-04-08T17:02:37.194\n",
      "└ @ TickTock /home/ziyu/.julia/packages/TickTock/RsTHR/src/TickTock.jl:32\n",
      "\u001b[32mloss: 1.49: 100%|███████████████████████████████████████| Time: 0:03:16\u001b[39m\n",
      "\u001b[32mloss: 1.47: 100%|███████████████████████████████████████| Time: 0:01:37\u001b[39m\n",
      "┌ Info:  started timer at: 2021-04-08T17:10:11.873\n",
      "└ @ TickTock /home/ziyu/.julia/packages/TickTock/RsTHR/src/TickTock.jl:32\n",
      "\u001b[32mloss: 1.26: 100%|███████████████████████████████████████| Time: 0:03:15\u001b[39m\n",
      "\u001b[32mloss: 1.25: 100%|███████████████████████████████████████| Time: 0:01:33\u001b[39m\n",
      "┌ Info:  started timer at: 2021-04-08T17:18:22.959\n",
      "└ @ TickTock /home/ziyu/.julia/packages/TickTock/RsTHR/src/TickTock.jl:32\n",
      "\u001b[32mloss: 1.17: 100%|███████████████████████████████████████| Time: 0:02:47\u001b[39m\n",
      "\u001b[32mloss: 1.16: 100%|███████████████████████████████████████| Time: 0:01:19\u001b[39m\n",
      "┌ Info:  started timer at: 2021-04-08T17:24:49.098\n",
      "└ @ TickTock /home/ziyu/.julia/packages/TickTock/RsTHR/src/TickTock.jl:32\n",
      "\u001b[32mloss: 1.13: 100%|███████████████████████████████████████| Time: 0:02:48\u001b[39m\n",
      "\u001b[32mloss: 1.13: 100%|███████████████████████████████████████| Time: 0:01:27\u001b[39m\n"
     ]
    },
    {
     "name": "stdout",
     "output_type": "stream",
     "text": [
      "Solving from initial conditions for country: Jordan\n",
      "Plotting graphs for country: Jordan\n",
      "Updating csv for parameters for country: Jordan\n",
      "Updating csv for differentiation parameters for country: Jordan\n",
      "Loading parameters\n",
      "Training neural network\n",
      "Generating data for country: Kenya\n"
     ]
    },
    {
     "name": "stderr",
     "output_type": "stream",
     "text": [
      "\u001b[32mloss: 3e-07: 100%|██████████████████████████████████████| Time: 0:00:08\u001b[39m\n",
      "\u001b[32mloss: 3.03e-07: 100%|███████████████████████████████████| Time: 0:00:08\u001b[39m\n",
      "\u001b[32mloss: 2.99e-07: 100%|███████████████████████████████████| Time: 0:00:08\u001b[39m\n",
      "\u001b[32mloss: 1.8e-07: 100%|████████████████████████████████████| Time: 0:00:05\u001b[39m\n",
      "\u001b[32mloss: 2.93e-07: 100%|███████████████████████████████████| Time: 0:00:07\u001b[39m\n",
      "\u001b[32mloss: 4.06e-07: 100%|███████████████████████████████████| Time: 0:00:09\u001b[39m\n",
      "\u001b[32mloss: 3.15e-07: 100%|███████████████████████████████████| Time: 0:00:11\u001b[39m\n",
      "\u001b[32mloss: 1.8e-07: 100%|████████████████████████████████████| Time: 0:00:18\u001b[39m\n",
      "\u001b[32mloss: 9.01e-08: 100%|███████████████████████████████████| Time: 0:00:18\u001b[39m\n",
      "\u001b[32mloss: 7.8e-08: 100%|████████████████████████████████████| Time: 0:00:18\u001b[39m\n",
      "\u001b[32mloss: 7.36e-08: 100%|███████████████████████████████████| Time: 0:00:18\u001b[39m\n"
     ]
    },
    {
     "name": "stdout",
     "output_type": "stream",
     "text": [
      "Generating data for country: Kenya\n"
     ]
    },
    {
     "name": "stderr",
     "output_type": "stream",
     "text": [
      "\u001b[32mloss: 1.18e-07: 100%|███████████████████████████████████| Time: 0:00:16\u001b[39m\n",
      "┌ Info:  started timer at: 2021-04-08T17:35:06.229\n",
      "└ @ TickTock /home/ziyu/.julia/packages/TickTock/RsTHR/src/TickTock.jl:32\n",
      "\u001b[32mloss: 1.16e-07: 100%|███████████████████████████████████| Time: 0:00:32\u001b[39m\n",
      "\u001b[32mloss: 9.95e-08: 100%|███████████████████████████████████| Time: 0:00:18\u001b[39m\n",
      "┌ Info:  started timer at: 2021-04-08T17:35:59.608\n",
      "└ @ TickTock /home/ziyu/.julia/packages/TickTock/RsTHR/src/TickTock.jl:32\n",
      "\u001b[32mloss: 9.71e-08: 100%|███████████████████████████████████| Time: 0:00:36\u001b[39m\n",
      "\u001b[32mloss: 9.83e-08: 100%|███████████████████████████████████| Time: 0:00:18\u001b[39m\n"
     ]
    },
    {
     "name": "stdout",
     "output_type": "stream",
     "text": [
      "Generating data for country: Kenya\n"
     ]
    },
    {
     "name": "stderr",
     "output_type": "stream",
     "text": [
      "\u001b[32mloss: 0.421: 100%|██████████████████████████████████████| Time: 0:01:11\u001b[39m\n",
      "┌ Info:  started timer at: 2021-04-08T17:38:07.156\n",
      "└ @ TickTock /home/ziyu/.julia/packages/TickTock/RsTHR/src/TickTock.jl:32\n",
      "\u001b[32mloss: 0.196: 100%|██████████████████████████████████████| Time: 0:02:22\u001b[39m\n",
      "\u001b[32mloss: 0.166: 100%|██████████████████████████████████████| Time: 0:01:24\u001b[39m\n",
      "┌ Info:  started timer at: 2021-04-08T17:44:29.398\n",
      "└ @ TickTock /home/ziyu/.julia/packages/TickTock/RsTHR/src/TickTock.jl:32\n",
      "\u001b[32mloss: 0.143: 100%|██████████████████████████████████████| Time: 0:02:47\u001b[39m\n",
      "\u001b[32mloss: 0.138: 100%|██████████████████████████████████████| Time: 0:01:10\u001b[39m\n",
      "┌ Info:  started timer at: 2021-04-08T17:51:27.017\n",
      "└ @ TickTock /home/ziyu/.julia/packages/TickTock/RsTHR/src/TickTock.jl:32\n",
      "\u001b[32mloss: 0.121: 100%|██████████████████████████████████████| Time: 0:02:36\u001b[39m\n",
      "\u001b[32mloss: 0.108: 100%|██████████████████████████████████████| Time: 0:00:59\u001b[39m\n",
      "┌ Info:  started timer at: 2021-04-08T17:57:35.928\n",
      "└ @ TickTock /home/ziyu/.julia/packages/TickTock/RsTHR/src/TickTock.jl:32\n",
      "\u001b[32mloss: 0.0961: 100%|█████████████████████████████████████| Time: 0:02:34\u001b[39m\n",
      "\u001b[32mloss: 0.0868: 100%|█████████████████████████████████████| Time: 0:01:03\u001b[39m\n",
      "┌ Info:  started timer at: 2021-04-08T18:03:09.05\n",
      "└ @ TickTock /home/ziyu/.julia/packages/TickTock/RsTHR/src/TickTock.jl:32\n",
      "\u001b[32mloss: 0.079: 100%|██████████████████████████████████████| Time: 0:02:01\u001b[39m\n",
      "\u001b[32mloss: 0.0684: 100%|█████████████████████████████████████| Time: 0:00:59\u001b[39m\n",
      "┌ Info:  started timer at: 2021-04-08T18:08:57.132\n",
      "└ @ TickTock /home/ziyu/.julia/packages/TickTock/RsTHR/src/TickTock.jl:32\n",
      "\u001b[32mloss: 0.067: 100%|██████████████████████████████████████| Time: 0:02:00\u001b[39m\n",
      "\u001b[32mloss: 0.067: 100%|██████████████████████████████████████| Time: 0:00:59\u001b[39m\n"
     ]
    },
    {
     "name": "stdout",
     "output_type": "stream",
     "text": [
      "Solving from initial conditions for country: Kenya\n",
      "Plotting graphs for country: Kenya\n",
      "Updating csv for parameters for country: Kenya\n",
      "Updating csv for differentiation parameters for country: Kenya\n",
      "Loading parameters\n",
      "Training neural network\n",
      "Generating data for country: Kuwait\n"
     ]
    },
    {
     "name": "stderr",
     "output_type": "stream",
     "text": [
      "\u001b[32mloss: 0.000573: 100%|███████████████████████████████████| Time: 0:00:07\u001b[39m\n",
      "\u001b[32mloss: 0.000557: 100%|███████████████████████████████████| Time: 0:00:07\u001b[39m\n",
      "\u001b[32mloss: 0.000558: 100%|███████████████████████████████████| Time: 0:00:07\u001b[39m\n",
      "\u001b[32mloss: 0.000613: 100%|███████████████████████████████████| Time: 0:00:04\u001b[39m\n",
      "\u001b[32mloss: 0.000858: 100%|███████████████████████████████████| Time: 0:00:06\u001b[39m\n",
      "\u001b[32mloss: 0.000614: 100%|███████████████████████████████████| Time: 0:00:08\u001b[39m\n",
      "\u001b[32mloss: 0.000639: 100%|███████████████████████████████████| Time: 0:00:10\u001b[39m\n",
      "\u001b[32mloss: 0.000357: 100%|███████████████████████████████████| Time: 0:00:17\u001b[39m\n",
      "\u001b[32mloss: 0.000282: 100%|███████████████████████████████████| Time: 0:00:16\u001b[39m\n",
      "\u001b[32mloss: 0.000286: 100%|███████████████████████████████████| Time: 0:00:16\u001b[39m\n",
      "\u001b[32mloss: 0.000281: 100%|███████████████████████████████████| Time: 0:00:16\u001b[39m\n"
     ]
    },
    {
     "name": "stdout",
     "output_type": "stream",
     "text": [
      "Generating data for country: Kuwait\n"
     ]
    },
    {
     "name": "stderr",
     "output_type": "stream",
     "text": [
      "\u001b[32mloss: 0.000395: 100%|███████████████████████████████████| Time: 0:00:19\u001b[39m\n",
      "┌ Info:  started timer at: 2021-04-08T18:17:29.927\n",
      "└ @ TickTock /home/ziyu/.julia/packages/TickTock/RsTHR/src/TickTock.jl:32\n",
      "\u001b[32mloss: 0.000393: 100%|███████████████████████████████████| Time: 0:00:39\u001b[39m\n",
      "\u001b[32mloss: 0.000363: 100%|███████████████████████████████████| Time: 0:00:18\u001b[39m\n"
     ]
    },
    {
     "name": "stdout",
     "output_type": "stream",
     "text": [
      "Generating data for country: Kuwait\n"
     ]
    },
    {
     "name": "stderr",
     "output_type": "stream",
     "text": [
      "\u001b[32mloss: 2.14e+03: 100%|███████████████████████████████████| Time: 0:02:01\u001b[39m\n",
      "┌ Info:  started timer at: 2021-04-08T18:21:03.926\n",
      "└ @ TickTock /home/ziyu/.julia/packages/TickTock/RsTHR/src/TickTock.jl:32\n",
      "\u001b[32mloss: 1.3e+03: 100%|████████████████████████████████████| Time: 0:03:55\u001b[39m\n",
      "\u001b[32mloss: 597: 100%|████████████████████████████████████████| Time: 0:01:51\u001b[39m\n",
      "┌ Info:  started timer at: 2021-04-08T18:30:02.632\n",
      "└ @ TickTock /home/ziyu/.julia/packages/TickTock/RsTHR/src/TickTock.jl:32\n",
      "\u001b[32mloss: 583: 100%|████████████████████████████████████████| Time: 0:03:54\u001b[39m\n",
      "\u001b[32mloss: 582: 100%|████████████████████████████████████████| Time: 0:02:00\u001b[39m\n",
      "┌ Info:  started timer at: 2021-04-08T18:39:12.786\n",
      "└ @ TickTock /home/ziyu/.julia/packages/TickTock/RsTHR/src/TickTock.jl:32\n",
      "\u001b[32mloss: 562: 100%|████████████████████████████████████████| Time: 0:03:53\u001b[39m\n",
      "\u001b[32mloss: 559: 100%|████████████████████████████████████████| Time: 0:02:03\u001b[39m\n",
      "┌ Info:  started timer at: 2021-04-08T18:50:44.983\n",
      "└ @ TickTock /home/ziyu/.julia/packages/TickTock/RsTHR/src/TickTock.jl:32\n",
      "\u001b[32mloss: 549: 100%|████████████████████████████████████████| Time: 0:03:53\u001b[39m\n",
      "\u001b[32mloss: 535: 100%|████████████████████████████████████████| Time: 0:01:51\u001b[39m\n",
      "┌ Info:  started timer at: 2021-04-08T19:01:49.522\n",
      "└ @ TickTock /home/ziyu/.julia/packages/TickTock/RsTHR/src/TickTock.jl:32\n",
      "\u001b[32mloss: 532: 100%|████████████████████████████████████████| Time: 0:03:47\u001b[39m\n",
      "\u001b[32mloss: 531: 100%|████████████████████████████████████████| Time: 0:01:50\u001b[39m\n",
      "┌ Info:  started timer at: 2021-04-08T19:11:20.083\n",
      "└ @ TickTock /home/ziyu/.julia/packages/TickTock/RsTHR/src/TickTock.jl:32\n",
      "\u001b[32mloss: 530: 100%|████████████████████████████████████████| Time: 0:03:48\u001b[39m\n",
      "\u001b[32mloss: 529: 100%|████████████████████████████████████████| Time: 0:01:52\u001b[39m\n",
      "┌ Info:  started timer at: 2021-04-08T19:21:16.126\n",
      "└ @ TickTock /home/ziyu/.julia/packages/TickTock/RsTHR/src/TickTock.jl:32\n",
      "\u001b[32mloss: 529: 100%|████████████████████████████████████████| Time: 0:03:54\u001b[39m\n",
      "\u001b[32mloss: 529: 100%|████████████████████████████████████████| Time: 0:01:52\u001b[39m\n",
      "┌ Info:  started timer at: 2021-04-08T19:31:40.766\n",
      "└ @ TickTock /home/ziyu/.julia/packages/TickTock/RsTHR/src/TickTock.jl:32\n",
      "\u001b[32mloss: 528: 100%|████████████████████████████████████████| Time: 0:03:42\u001b[39m\n",
      "\u001b[32mloss: 528: 100%|████████████████████████████████████████| Time: 0:01:49\u001b[39m\n",
      "┌ Info:  started timer at: 2021-04-08T19:40:10.493\n",
      "└ @ TickTock /home/ziyu/.julia/packages/TickTock/RsTHR/src/TickTock.jl:32\n",
      "\u001b[32mloss: 527: 100%|████████████████████████████████████████| Time: 0:03:22\u001b[39m\n",
      "\u001b[32mloss: 527: 100%|████████████████████████████████████████| Time: 0:01:34\u001b[39m\n",
      "┌ Info:  started timer at: 2021-04-08T19:48:55.545\n",
      "└ @ TickTock /home/ziyu/.julia/packages/TickTock/RsTHR/src/TickTock.jl:32\n",
      "\u001b[32mloss: 527: 100%|████████████████████████████████████████| Time: 0:03:14\u001b[39m\n",
      "\u001b[32mloss: 527: 100%|████████████████████████████████████████| Time: 0:01:44\u001b[39m\n"
     ]
    },
    {
     "name": "stdout",
     "output_type": "stream",
     "text": [
      "Solving from initial conditions for country: Kuwait\n",
      "Plotting graphs for country: Kuwait\n",
      "Updating csv for parameters for country: Kuwait\n",
      "Updating csv for differentiation parameters for country: Kuwait\n",
      "Loading parameters\n",
      "Training neural network\n",
      "Generating data for country: Madagascar\n"
     ]
    },
    {
     "name": "stderr",
     "output_type": "stream",
     "text": [
      "\u001b[32mloss: 2.45e-07: 100%|███████████████████████████████████| Time: 0:00:08\u001b[39m\n",
      "\u001b[32mloss: 2.44e-07: 100%|███████████████████████████████████| Time: 0:00:08\u001b[39m\n",
      "\u001b[32mloss: 2.37e-07: 100%|███████████████████████████████████| Time: 0:00:08\u001b[39m\n",
      "\u001b[32mloss: 1.74e-07: 100%|███████████████████████████████████| Time: 0:00:05\u001b[39m\n",
      "\u001b[32mloss: 2.48e-07: 100%|███████████████████████████████████| Time: 0:00:07\u001b[39m\n",
      "\u001b[32mloss: 3.11e-07: 100%|███████████████████████████████████| Time: 0:00:09\u001b[39m\n",
      "\u001b[32mloss: 2.72e-07: 100%|███████████████████████████████████| Time: 0:00:11\u001b[39m\n",
      "\u001b[32mloss: 3.84e-08: 100%|███████████████████████████████████| Time: 0:00:19\u001b[39m\n",
      "\u001b[32mloss: 2.44e-08: 100%|███████████████████████████████████| Time: 0:00:19\u001b[39m\n",
      "\u001b[32mloss: 3.46e-08: 100%|███████████████████████████████████| Time: 0:00:19\u001b[39m\n",
      "\u001b[32mloss: 2.79e-08: 100%|███████████████████████████████████| Time: 0:00:19\u001b[39m\n"
     ]
    },
    {
     "name": "stdout",
     "output_type": "stream",
     "text": [
      "Generating data for country: Madagascar\n"
     ]
    },
    {
     "name": "stderr",
     "output_type": "stream",
     "text": [
      "\u001b[32mloss: 1.97e-07: 100%|███████████████████████████████████| Time: 0:00:18\u001b[39m\n",
      "┌ Info:  started timer at: 2021-04-08T20:00:42.426\n",
      "└ @ TickTock /home/ziyu/.julia/packages/TickTock/RsTHR/src/TickTock.jl:32\n",
      "\u001b[32mloss: 1.84e-07: 100%|███████████████████████████████████| Time: 0:00:35\u001b[39m\n",
      "\u001b[32mloss: 6.91e-08: 100%|███████████████████████████████████| Time: 0:00:18\u001b[39m\n"
     ]
    },
    {
     "name": "stdout",
     "output_type": "stream",
     "text": [
      "Generating data for country: Madagascar\n"
     ]
    },
    {
     "name": "stderr",
     "output_type": "stream",
     "text": [
      "\u001b[32mloss: 0.101: 100%|██████████████████████████████████████| Time: 0:01:04\u001b[39m\n",
      "┌ Info:  started timer at: 2021-04-08T20:02:45.259\n",
      "└ @ TickTock /home/ziyu/.julia/packages/TickTock/RsTHR/src/TickTock.jl:32\n",
      "\u001b[32mloss: 0.043: 100%|██████████████████████████████████████| Time: 0:02:27\u001b[39m\n",
      "\u001b[32mloss: 0.0198: 100%|█████████████████████████████████████| Time: 0:01:03\u001b[39m\n"
     ]
    },
    {
     "name": "stdout",
     "output_type": "stream",
     "text": [
      "Solving from initial conditions for country: Madagascar\n",
      "Plotting graphs for country: Madagascar\n",
      "Updating csv for parameters for country: Madagascar\n",
      "Updating csv for differentiation parameters for country: Madagascar\n",
      "Loading parameters\n",
      "Training neural network\n",
      "Generating data for country: Malawi\n"
     ]
    },
    {
     "name": "stderr",
     "output_type": "stream",
     "text": [
      "\u001b[32mloss: 6.73e-07: 100%|███████████████████████████████████| Time: 0:00:07\u001b[39m\n",
      "\u001b[32mloss: 6.49e-07: 100%|███████████████████████████████████| Time: 0:00:07\u001b[39m\n",
      "\u001b[32mloss: 6.66e-07: 100%|███████████████████████████████████| Time: 0:00:07\u001b[39m\n",
      "\u001b[32mloss: 1.47e-06: 100%|███████████████████████████████████| Time: 0:00:04\u001b[39m\n",
      "\u001b[32mloss: 1.12e-06: 100%|███████████████████████████████████| Time: 0:00:06\u001b[39m\n",
      "\u001b[32mloss: 7.73e-07: 100%|███████████████████████████████████| Time: 0:00:08\u001b[39m\n",
      "\u001b[32mloss: 7.05e-07: 100%|███████████████████████████████████| Time: 0:00:10\u001b[39m\n",
      "\u001b[32mloss: 3.42e-07: 100%|███████████████████████████████████| Time: 0:00:17\u001b[39m\n",
      "\u001b[32mloss: 3.26e-07: 100%|███████████████████████████████████| Time: 0:00:17\u001b[39m\n",
      "\u001b[32mloss: 3.09e-07: 100%|███████████████████████████████████| Time: 0:00:17\u001b[39m\n",
      "\u001b[32mloss: 3.42e-07: 100%|███████████████████████████████████| Time: 0:00:17\u001b[39m\n"
     ]
    },
    {
     "name": "stdout",
     "output_type": "stream",
     "text": [
      "Generating data for country: Malawi\n"
     ]
    },
    {
     "name": "stderr",
     "output_type": "stream",
     "text": [
      "\u001b[32mloss: 7.96e-08: 100%|███████████████████████████████████| Time: 0:00:15\u001b[39m\n",
      "┌ Info:  started timer at: 2021-04-08T20:12:08.914\n",
      "└ @ TickTock /home/ziyu/.julia/packages/TickTock/RsTHR/src/TickTock.jl:32\n",
      "\u001b[32mloss: 7.64e-08: 100%|███████████████████████████████████| Time: 0:00:32\u001b[39m\n",
      "\u001b[32mloss: 7.12e-08: 100%|███████████████████████████████████| Time: 0:00:16\u001b[39m\n"
     ]
    },
    {
     "name": "stdout",
     "output_type": "stream",
     "text": [
      "Generating data for country: Malawi\n"
     ]
    },
    {
     "name": "stderr",
     "output_type": "stream",
     "text": [
      "\u001b[32mloss: 0.116: 100%|██████████████████████████████████████| Time: 0:01:03\u001b[39m\n",
      "┌ Info:  started timer at: 2021-04-08T20:14:05.322\n",
      "└ @ TickTock /home/ziyu/.julia/packages/TickTock/RsTHR/src/TickTock.jl:32\n",
      "\u001b[32mloss: 0.0504: 100%|█████████████████████████████████████| Time: 0:01:57\u001b[39m\n",
      "\u001b[32mloss: 0.00555: 100%|████████████████████████████████████| Time: 0:00:40\u001b[39m\n",
      "┌ Info:  started timer at: 2021-04-08T20:18:31.947\n",
      "└ @ TickTock /home/ziyu/.julia/packages/TickTock/RsTHR/src/TickTock.jl:32\n",
      "\u001b[32mloss: 0.00498: 100%|████████████████████████████████████| Time: 0:01:24\u001b[39m\n",
      "\u001b[32mloss: 0.00306: 100%|████████████████████████████████████| Time: 0:00:31\u001b[39m\n",
      "┌ Info:  started timer at: 2021-04-08T20:21:33.47\n",
      "└ @ TickTock /home/ziyu/.julia/packages/TickTock/RsTHR/src/TickTock.jl:32\n",
      "\u001b[32mloss: 0.00288: 100%|████████████████████████████████████| Time: 0:00:55\u001b[39m\n",
      "\u001b[32mloss: 0.00288: 100%|████████████████████████████████████| Time: 0:00:29\u001b[39m\n"
     ]
    },
    {
     "name": "stdout",
     "output_type": "stream",
     "text": [
      "Solving from initial conditions for country: Malawi\n",
      "Plotting graphs for country: Malawi\n",
      "Updating csv for parameters for country: Malawi\n",
      "Updating csv for differentiation parameters for country: Malawi\n",
      "Loading parameters\n",
      "Training neural network\n",
      "Generating data for country: Malaysia\n"
     ]
    },
    {
     "name": "stderr",
     "output_type": "stream",
     "text": [
      "\u001b[32mloss: 0.000152: 100%|███████████████████████████████████| Time: 0:00:08\u001b[39m\n",
      "\u001b[32mloss: 0.000147: 100%|███████████████████████████████████| Time: 0:00:08\u001b[39m\n",
      "\u001b[32mloss: 0.000147: 100%|███████████████████████████████████| Time: 0:00:08\u001b[39m\n",
      "\u001b[32mloss: 0.000202: 100%|███████████████████████████████████| Time: 0:00:06\u001b[39m\n",
      "\u001b[32mloss: 0.000162: 100%|███████████████████████████████████| Time: 0:00:08\u001b[39m\n",
      "\u001b[32mloss: 0.000154: 100%|███████████████████████████████████| Time: 0:00:09\u001b[39m\n",
      "\u001b[32mloss: 0.000173: 100%|███████████████████████████████████| Time: 0:00:11\u001b[39m\n",
      "\u001b[32mloss: 3.05e-06: 100%|███████████████████████████████████| Time: 0:00:19\u001b[39m\n",
      "\u001b[32mloss: 1.96e-06: 100%|███████████████████████████████████| Time: 0:00:19\u001b[39m\n",
      "\u001b[32mloss: 1.92e-06: 100%|███████████████████████████████████| Time: 0:00:19\u001b[39m\n",
      "\u001b[32mloss: 1.9e-06: 100%|████████████████████████████████████| Time: 0:00:19\u001b[39m\n"
     ]
    },
    {
     "name": "stdout",
     "output_type": "stream",
     "text": [
      "Generating data for country: Malaysia\n"
     ]
    },
    {
     "name": "stderr",
     "output_type": "stream",
     "text": [
      "\u001b[32mloss: 1.24e-05: 100%|███████████████████████████████████| Time: 0:00:19\u001b[39m\n",
      "┌ Info:  started timer at: 2021-04-08T20:27:44.432\n",
      "└ @ TickTock /home/ziyu/.julia/packages/TickTock/RsTHR/src/TickTock.jl:32\n",
      "\u001b[32mloss: 8.14e-06: 100%|███████████████████████████████████| Time: 0:00:38\u001b[39m\n",
      "\u001b[32mloss: 5.56e-06: 100%|███████████████████████████████████| Time: 0:00:19\u001b[39m\n",
      "┌ Info:  started timer at: 2021-04-08T20:29:35.787\n",
      "└ @ TickTock /home/ziyu/.julia/packages/TickTock/RsTHR/src/TickTock.jl:32\n",
      "\u001b[32mloss: 5.43e-06: 100%|███████████████████████████████████| Time: 0:00:39\u001b[39m\n",
      "\u001b[32mloss: 5.31e-06: 100%|███████████████████████████████████| Time: 0:00:19\u001b[39m\n",
      "┌ Info:  started timer at: 2021-04-08T20:31:23.22\n",
      "└ @ TickTock /home/ziyu/.julia/packages/TickTock/RsTHR/src/TickTock.jl:32\n",
      "\u001b[32mloss: 4.96e-06: 100%|███████████████████████████████████| Time: 0:00:39\u001b[39m\n",
      "\u001b[32mloss: 4.96e-06: 100%|███████████████████████████████████| Time: 0:00:19\u001b[39m\n",
      "┌ Info:  started timer at: 2021-04-08T20:32:50.864\n",
      "└ @ TickTock /home/ziyu/.julia/packages/TickTock/RsTHR/src/TickTock.jl:32\n",
      "\u001b[32mloss: 4.83e-06: 100%|███████████████████████████████████| Time: 0:00:39\u001b[39m\n",
      "\u001b[32mloss: 4.7e-06: 100%|████████████████████████████████████| Time: 0:00:21\u001b[39m\n",
      "┌ Info:  started timer at: 2021-04-08T20:34:47.446\n",
      "└ @ TickTock /home/ziyu/.julia/packages/TickTock/RsTHR/src/TickTock.jl:32\n",
      "\u001b[32mloss: 4.59e-06: 100%|███████████████████████████████████| Time: 0:00:41\u001b[39m\n",
      "\u001b[32mloss: 4.59e-06: 100%|███████████████████████████████████| Time: 0:00:21\u001b[39m\n",
      "┌ Info:  started timer at: 2021-04-08T20:36:40.905\n",
      "└ @ TickTock /home/ziyu/.julia/packages/TickTock/RsTHR/src/TickTock.jl:32\n",
      "\u001b[32mloss: 4.18e-06: 100%|███████████████████████████████████| Time: 0:00:36\u001b[39m\n",
      "\u001b[32mloss: 4.17e-06: 100%|███████████████████████████████████| Time: 0:00:18\u001b[39m\n"
     ]
    },
    {
     "name": "stdout",
     "output_type": "stream",
     "text": [
      "Generating data for country: Malaysia\n"
     ]
    },
    {
     "name": "stderr",
     "output_type": "stream",
     "text": [
      "\u001b[32mloss: 356: 100%|████████████████████████████████████████| Time: 0:01:14\u001b[39m\n",
      "┌ Info:  started timer at: 2021-04-08T20:39:20.815\n",
      "└ @ TickTock /home/ziyu/.julia/packages/TickTock/RsTHR/src/TickTock.jl:32\n",
      "\u001b[32mloss: 102: 100%|████████████████████████████████████████| Time: 0:02:42\u001b[39m\n",
      "\u001b[32mloss: 9.16: 100%|███████████████████████████████████████| Time: 0:00:46\u001b[39m\n",
      "┌ Info:  started timer at: 2021-04-08T20:45:27.751\n",
      "└ @ TickTock /home/ziyu/.julia/packages/TickTock/RsTHR/src/TickTock.jl:32\n",
      "\u001b[32mloss: 8.54: 100%|███████████████████████████████████████| Time: 0:02:02\u001b[39m\n",
      "\u001b[32mloss: 8.41: 100%|███████████████████████████████████████| Time: 0:00:53\u001b[39m\n",
      "┌ Info:  started timer at: 2021-04-08T20:50:35.03\n",
      "└ @ TickTock /home/ziyu/.julia/packages/TickTock/RsTHR/src/TickTock.jl:32\n",
      "\u001b[32mloss: 7.38: 100%|███████████████████████████████████████| Time: 0:02:18\u001b[39m\n",
      "\u001b[32mloss: 7.34: 100%|███████████████████████████████████████| Time: 0:01:09\u001b[39m\n",
      "┌ Info:  started timer at: 2021-04-08T20:55:51.969\n",
      "└ @ TickTock /home/ziyu/.julia/packages/TickTock/RsTHR/src/TickTock.jl:32\n",
      "\u001b[32mloss: 6.83: 100%|███████████████████████████████████████| Time: 0:02:21\u001b[39m\n",
      "\u001b[32mloss: 6.54: 100%|███████████████████████████████████████| Time: 0:01:00\u001b[39m\n",
      "┌ Info:  started timer at: 2021-04-08T21:00:40.428\n",
      "└ @ TickTock /home/ziyu/.julia/packages/TickTock/RsTHR/src/TickTock.jl:32\n",
      "\u001b[32mloss: 6.29: 100%|███████████████████████████████████████| Time: 0:02:11\u001b[39m\n",
      "\u001b[32mloss: 6.27: 100%|███████████████████████████████████████| Time: 0:01:06\u001b[39m\n",
      "┌ Info:  started timer at: 2021-04-08T21:05:04.055\n",
      "└ @ TickTock /home/ziyu/.julia/packages/TickTock/RsTHR/src/TickTock.jl:32\n",
      "\u001b[32mloss: 6.1: 100%|████████████████████████████████████████| Time: 0:02:16\u001b[39m\n",
      "\u001b[32mloss: 6.09: 100%|███████████████████████████████████████| Time: 0:01:05\u001b[39m\n",
      "┌ Info:  started timer at: 2021-04-08T21:09:07.027\n",
      "└ @ TickTock /home/ziyu/.julia/packages/TickTock/RsTHR/src/TickTock.jl:32\n",
      "\u001b[32mloss: 6.01: 100%|███████████████████████████████████████| Time: 0:02:09\u001b[39m\n",
      "\u001b[32mloss: 6.01: 100%|███████████████████████████████████████| Time: 0:01:06\u001b[39m\n",
      "┌ Info:  started timer at: 2021-04-08T21:13:55.468\n",
      "└ @ TickTock /home/ziyu/.julia/packages/TickTock/RsTHR/src/TickTock.jl:32\n",
      "\u001b[32mloss: 5.94: 100%|███████████████████████████████████████| Time: 0:02:13\u001b[39m\n",
      "\u001b[32mloss: 5.93: 100%|███████████████████████████████████████| Time: 0:01:05\u001b[39m\n",
      "┌ Info:  started timer at: 2021-04-08T21:18:17.736\n",
      "└ @ TickTock /home/ziyu/.julia/packages/TickTock/RsTHR/src/TickTock.jl:32\n",
      "\u001b[32mloss: 5.76: 100%|███████████████████████████████████████| Time: 0:02:12\u001b[39m\n",
      "\u001b[32mloss: 5.75: 100%|███████████████████████████████████████| Time: 0:01:14\u001b[39m\n",
      "┌ Info:  started timer at: 2021-04-08T21:23:22.669\n",
      "└ @ TickTock /home/ziyu/.julia/packages/TickTock/RsTHR/src/TickTock.jl:32\n",
      "\u001b[32mloss: 5.64: 100%|███████████████████████████████████████| Time: 0:02:15\u001b[39m\n",
      "\u001b[32mloss: 5.61: 100%|███████████████████████████████████████| Time: 0:01:15\u001b[39m\n"
     ]
    },
    {
     "name": "stdout",
     "output_type": "stream",
     "text": [
      "Solving from initial conditions for country: Malaysia\n",
      "Plotting graphs for country: Malaysia\n",
      "Updating csv for parameters for country: Malaysia\n",
      "Updating csv for differentiation parameters for country: Malaysia\n",
      "Loading parameters\n",
      "Training neural network\n",
      "Generating data for country: Mali\n"
     ]
    },
    {
     "name": "stderr",
     "output_type": "stream",
     "text": [
      "\u001b[32mloss: 3.52e-07: 100%|███████████████████████████████████| Time: 0:00:08\u001b[39m\n",
      "\u001b[32mloss: 3.45e-07: 100%|███████████████████████████████████| Time: 0:00:08\u001b[39m\n",
      "\u001b[32mloss: 3.47e-07: 100%|███████████████████████████████████| Time: 0:00:08\u001b[39m\n",
      "\u001b[32mloss: 4.67e-07: 100%|███████████████████████████████████| Time: 0:00:05\u001b[39m\n",
      "\u001b[32mloss: 3.61e-07: 100%|███████████████████████████████████| Time: 0:00:07\u001b[39m\n",
      "\u001b[32mloss: 4.16e-07: 100%|███████████████████████████████████| Time: 0:00:09\u001b[39m\n",
      "\u001b[32mloss: 4.67e-07: 100%|███████████████████████████████████| Time: 0:00:11\u001b[39m\n",
      "\u001b[32mloss: 2.69e-08: 100%|███████████████████████████████████| Time: 0:00:18\u001b[39m\n",
      "\u001b[32mloss: 2.01e-08: 100%|███████████████████████████████████| Time: 0:00:18\u001b[39m\n",
      "\u001b[32mloss: 2.06e-08: 100%|███████████████████████████████████| Time: 0:00:18\u001b[39m\n",
      "\u001b[32mloss: 2.92e-08: 100%|███████████████████████████████████| Time: 0:00:18\u001b[39m\n"
     ]
    },
    {
     "name": "stdout",
     "output_type": "stream",
     "text": [
      "Generating data for country: Mali\n"
     ]
    },
    {
     "name": "stderr",
     "output_type": "stream",
     "text": [
      "\u001b[32mloss: 6.58e-07: 100%|███████████████████████████████████| Time: 0:00:18\u001b[39m\n",
      "┌ Info:  started timer at: 2021-04-08T21:32:40.312\n",
      "└ @ TickTock /home/ziyu/.julia/packages/TickTock/RsTHR/src/TickTock.jl:32\n",
      "\u001b[32mloss: 2.4e-07: 100%|████████████████████████████████████| Time: 0:00:36\u001b[39m\n",
      "\u001b[32mloss: 1.02e-07: 100%|███████████████████████████████████| Time: 0:00:18\u001b[39m\n",
      "┌ Info:  started timer at: 2021-04-08T21:33:57.519\n",
      "└ @ TickTock /home/ziyu/.julia/packages/TickTock/RsTHR/src/TickTock.jl:32\n",
      "\u001b[32mloss: 8.63e-08: 100%|███████████████████████████████████| Time: 0:00:36\u001b[39m\n",
      "\u001b[32mloss: 8.77e-08: 100%|███████████████████████████████████| Time: 0:00:18\u001b[39m\n"
     ]
    },
    {
     "name": "stdout",
     "output_type": "stream",
     "text": [
      "Generating data for country: Mali\n"
     ]
    },
    {
     "name": "stderr",
     "output_type": "stream",
     "text": [
      "\u001b[32mloss: 0.0112: 100%|█████████████████████████████████████| Time: 0:01:08\u001b[39m\n",
      "┌ Info:  started timer at: 2021-04-08T21:36:01.345\n",
      "└ @ TickTock /home/ziyu/.julia/packages/TickTock/RsTHR/src/TickTock.jl:32\n",
      "\u001b[32mloss: 0.00628: 100%|████████████████████████████████████| Time: 0:02:03\u001b[39m\n",
      "\u001b[32mloss: 0.00149: 100%|████████████████████████████████████| Time: 0:01:04\u001b[39m\n",
      "┌ Info:  started timer at: 2021-04-08T21:42:05.014\n",
      "└ @ TickTock /home/ziyu/.julia/packages/TickTock/RsTHR/src/TickTock.jl:32\n",
      "\u001b[32mloss: 0.0014: 100%|█████████████████████████████████████| Time: 0:02:06\u001b[39m\n",
      "\u001b[32mloss: 0.00139: 100%|████████████████████████████████████| Time: 0:01:00\u001b[39m\n",
      "┌ Info:  started timer at: 2021-04-08T21:47:31.985\n",
      "└ @ TickTock /home/ziyu/.julia/packages/TickTock/RsTHR/src/TickTock.jl:32\n",
      "\u001b[32mloss: 0.00137: 100%|████████████████████████████████████| Time: 0:02:09\u001b[39m\n",
      "\u001b[32mloss: 0.00142: 100%|████████████████████████████████████| Time: 0:01:04\u001b[39m\n"
     ]
    },
    {
     "name": "stdout",
     "output_type": "stream",
     "text": [
      "Solving from initial conditions for country: Mali\n",
      "Plotting graphs for country: Mali\n",
      "Updating csv for parameters for country: Mali\n",
      "Updating csv for differentiation parameters for country: Mali\n",
      "Loading parameters\n",
      "Training neural network\n",
      "Generating data for country: Mauritania\n"
     ]
    },
    {
     "name": "stderr",
     "output_type": "stream",
     "text": [
      "\u001b[32mloss: 2.63e-07: 100%|███████████████████████████████████| Time: 0:00:05\u001b[39m\n",
      "\u001b[32mloss: 1.96e-07: 100%|███████████████████████████████████| Time: 0:00:05\u001b[39m\n",
      "\u001b[32mloss: 1.99e-07: 100%|███████████████████████████████████| Time: 0:00:05\u001b[39m\n",
      "\u001b[32mloss: 9.14e-08: 100%|███████████████████████████████████| Time: 0:00:01\u001b[39m\n",
      "\u001b[32mloss: 1.63e-07: 100%|███████████████████████████████████| Time: 0:00:03\u001b[39m\n",
      "\u001b[32mloss: 1.7e-07: 100%|████████████████████████████████████| Time: 0:00:05\u001b[39m\n",
      "\u001b[32mloss: 1.84e-07: 100%|███████████████████████████████████| Time: 0:00:07\u001b[39m\n",
      "\u001b[32mloss: 6.85e-08: 100%|███████████████████████████████████| Time: 0:00:13\u001b[39m\n",
      "\u001b[32mloss: 3.38e-08: 100%|███████████████████████████████████| Time: 0:00:14\u001b[39m\n",
      "\u001b[32mloss: 5.01e-08: 100%|███████████████████████████████████| Time: 0:00:13\u001b[39m\n",
      "\u001b[32mloss: 5.49e-08: 100%|███████████████████████████████████| Time: 0:00:14\u001b[39m\n"
     ]
    },
    {
     "name": "stdout",
     "output_type": "stream",
     "text": [
      "Generating data for country: Mauritania\n"
     ]
    },
    {
     "name": "stderr",
     "output_type": "stream",
     "text": [
      "\u001b[32mloss: 3.12e-08: 100%|███████████████████████████████████| Time: 0:00:12\u001b[39m\n"
     ]
    },
    {
     "name": "stdout",
     "output_type": "stream",
     "text": [
      "Generating data for country: Mauritania\n"
     ]
    },
    {
     "name": "stderr",
     "output_type": "stream",
     "text": [
      "\u001b[32mloss: 4.07: 100%|███████████████████████████████████████| Time: 0:01:09\u001b[39m\n",
      "┌ Info:  started timer at: 2021-04-08T21:57:05.698\n",
      "└ @ TickTock /home/ziyu/.julia/packages/TickTock/RsTHR/src/TickTock.jl:32\n",
      "\u001b[32mloss: 4.01: 100%|███████████████████████████████████████| Time: 0:02:11\u001b[39m\n",
      "\u001b[32mloss: 4: 100%|██████████████████████████████████████████| Time: 0:00:59\u001b[39m\n"
     ]
    },
    {
     "name": "stdout",
     "output_type": "stream",
     "text": [
      "Solving from initial conditions for country: Mauritania\n",
      "Plotting graphs for country: Mauritania\n",
      "Updating csv for parameters for country: Mauritania\n",
      "Updating csv for differentiation parameters for country: Mauritania\n",
      "Loading parameters\n",
      "Training neural network\n",
      "Generating data for country: Mauritius\n"
     ]
    },
    {
     "name": "stderr",
     "output_type": "stream",
     "text": [
      "\u001b[32mloss: 0.000127: 100%|███████████████████████████████████| Time: 0:00:08\u001b[39m\n",
      "\u001b[32mloss: 0.000126: 100%|███████████████████████████████████| Time: 0:00:08\u001b[39m\n",
      "\u001b[32mloss: 0.000126: 100%|███████████████████████████████████| Time: 0:00:08\u001b[39m\n",
      "\u001b[32mloss: 0.000168: 100%|███████████████████████████████████| Time: 0:00:05\u001b[39m\n",
      "\u001b[32mloss: 0.000114: 100%|███████████████████████████████████| Time: 0:00:07\u001b[39m\n",
      "\u001b[32mloss: 0.000131: 100%|███████████████████████████████████| Time: 0:00:09\u001b[39m\n",
      "\u001b[32mloss: 0.000133: 100%|███████████████████████████████████| Time: 0:00:11\u001b[39m\n",
      "\u001b[32mloss: 1.55e-05: 100%|███████████████████████████████████| Time: 0:00:19\u001b[39m\n",
      "\u001b[32mloss: 1.33e-05: 100%|███████████████████████████████████| Time: 0:00:18\u001b[39m\n",
      "\u001b[32mloss: 9.74e-06: 100%|███████████████████████████████████| Time: 0:00:18\u001b[39m\n",
      "\u001b[32mloss: 9.31e-06: 100%|███████████████████████████████████| Time: 0:00:18\u001b[39m\n"
     ]
    },
    {
     "name": "stdout",
     "output_type": "stream",
     "text": [
      "Generating data for country: Mauritius\n"
     ]
    },
    {
     "name": "stderr",
     "output_type": "stream",
     "text": [
      "\u001b[32mloss: 1.17e-05: 100%|███████████████████████████████████| Time: 0:00:19\u001b[39m\n",
      "┌ Info:  started timer at: 2021-04-08T22:05:50.674\n",
      "└ @ TickTock /home/ziyu/.julia/packages/TickTock/RsTHR/src/TickTock.jl:32\n",
      "\u001b[32mloss: 9.24e-06: 100%|███████████████████████████████████| Time: 0:00:38\u001b[39m\n",
      "\u001b[32mloss: 7.84e-06: 100%|███████████████████████████████████| Time: 0:00:19\u001b[39m\n"
     ]
    },
    {
     "name": "stdout",
     "output_type": "stream",
     "text": [
      "Generating data for country: Mauritius\n"
     ]
    },
    {
     "name": "stderr",
     "output_type": "stream",
     "text": [
      "\u001b[32mloss: 38.9: 100%|███████████████████████████████████████| Time: 0:00:51\u001b[39m\n",
      "┌ Info:  started timer at: 2021-04-08T22:08:20.135\n",
      "└ @ TickTock /home/ziyu/.julia/packages/TickTock/RsTHR/src/TickTock.jl:32\n",
      "\u001b[32mloss: 6.88: 100%|███████████████████████████████████████| Time: 0:01:19\u001b[39m\n",
      "\u001b[32mloss: 0.748: 100%|██████████████████████████████████████| Time: 0:00:46\u001b[39m\n",
      "┌ Info:  started timer at: 2021-04-08T22:12:03.511\n",
      "└ @ TickTock /home/ziyu/.julia/packages/TickTock/RsTHR/src/TickTock.jl:32\n",
      "\u001b[32mloss: 0.645: 100%|██████████████████████████████████████| Time: 0:01:14\u001b[39m\n",
      "\u001b[32mloss: 0.597: 100%|██████████████████████████████████████| Time: 0:00:45\u001b[39m\n",
      "┌ Info:  started timer at: 2021-04-08T22:14:55.356\n",
      "└ @ TickTock /home/ziyu/.julia/packages/TickTock/RsTHR/src/TickTock.jl:32\n",
      "\u001b[32mloss: 0.517: 100%|██████████████████████████████████████| Time: 0:01:20\u001b[39m\n",
      "\u001b[32mloss: 0.349: 100%|██████████████████████████████████████| Time: 0:00:42\u001b[39m\n",
      "┌ Info:  started timer at: 2021-04-08T22:17:54.853\n",
      "└ @ TickTock /home/ziyu/.julia/packages/TickTock/RsTHR/src/TickTock.jl:32\n",
      "\u001b[32mloss: 0.343: 100%|██████████████████████████████████████| Time: 0:01:09\u001b[39m\n",
      "\u001b[32mloss: 0.342: 100%|██████████████████████████████████████| Time: 0:00:32\u001b[39m\n",
      "┌ Info:  started timer at: 2021-04-08T22:20:22.294\n",
      "└ @ TickTock /home/ziyu/.julia/packages/TickTock/RsTHR/src/TickTock.jl:32\n",
      "\u001b[32mloss: 0.332: 100%|██████████████████████████████████████| Time: 0:01:07\u001b[39m\n",
      "\u001b[32mloss: 0.331: 100%|██████████████████████████████████████| Time: 0:00:35\u001b[39m\n"
     ]
    },
    {
     "name": "stdout",
     "output_type": "stream",
     "text": [
      "Solving from initial conditions for country: Mauritius\n",
      "Plotting graphs for country: Mauritius\n",
      "Updating csv for parameters for country: Mauritius\n",
      "Updating csv for differentiation parameters for country: Mauritius\n",
      "Loading parameters\n",
      "Training neural network\n",
      "Generating data for country: Mexico\n"
     ]
    },
    {
     "name": "stderr",
     "output_type": "stream",
     "text": [
      "\u001b[32mloss: 2.2e-05: 100%|████████████████████████████████████| Time: 0:00:07\u001b[39m\n",
      "\u001b[32mloss: 2.17e-05: 100%|███████████████████████████████████| Time: 0:00:07\u001b[39m\n",
      "\u001b[32mloss: 2.15e-05: 100%|███████████████████████████████████| Time: 0:00:07\u001b[39m\n",
      "\u001b[32mloss: 4.9e-05: 100%|████████████████████████████████████| Time: 0:00:03\u001b[39m\n",
      "\u001b[32mloss: 3.57e-05: 100%|███████████████████████████████████| Time: 0:00:05\u001b[39m\n",
      "\u001b[32mloss: 3.64e-05: 100%|███████████████████████████████████| Time: 0:00:07\u001b[39m\n",
      "\u001b[32mloss: 4.67e-05: 100%|███████████████████████████████████| Time: 0:00:09\u001b[39m\n",
      "\u001b[32mloss: 4.39e-06: 100%|███████████████████████████████████| Time: 0:00:16\u001b[39m\n",
      "\u001b[32mloss: 4.11e-06: 100%|███████████████████████████████████| Time: 0:00:16\u001b[39m\n",
      "\u001b[32mloss: 4.29e-06: 100%|███████████████████████████████████| Time: 0:00:16\u001b[39m\n",
      "\u001b[32mloss: 4.34e-06: 100%|███████████████████████████████████| Time: 0:00:16\u001b[39m\n"
     ]
    },
    {
     "name": "stdout",
     "output_type": "stream",
     "text": [
      "Generating data for country: Mexico\n"
     ]
    },
    {
     "name": "stderr",
     "output_type": "stream",
     "text": [
      "\u001b[32mloss: 4.38e-06: 100%|███████████████████████████████████| Time: 0:00:15\u001b[39m\n",
      "┌ Info:  started timer at: 2021-04-08T22:26:11.317\n",
      "└ @ TickTock /home/ziyu/.julia/packages/TickTock/RsTHR/src/TickTock.jl:32\n",
      "\u001b[32mloss: 4.33e-06: 100%|███████████████████████████████████| Time: 0:00:30\u001b[39m\n",
      "\u001b[32mloss: 4.3e-06: 100%|████████████████████████████████████| Time: 0:00:15\u001b[39m\n"
     ]
    },
    {
     "name": "stdout",
     "output_type": "stream",
     "text": [
      "Generating data for country: Mexico\n"
     ]
    },
    {
     "name": "stderr",
     "output_type": "stream",
     "text": [
      "\u001b[32mloss: 9.26: 100%|███████████████████████████████████████| Time: 0:00:47\u001b[39m\n",
      "┌ Info:  started timer at: 2021-04-08T22:28:01.736\n",
      "└ @ TickTock /home/ziyu/.julia/packages/TickTock/RsTHR/src/TickTock.jl:32\n",
      "\u001b[32mloss: 4.65: 100%|███████████████████████████████████████| Time: 0:01:34\u001b[39m\n",
      "\u001b[32mloss: 1.33: 100%|███████████████████████████████████████| Time: 0:00:38\u001b[39m\n",
      "┌ Info:  started timer at: 2021-04-08T22:31:47.749\n",
      "└ @ TickTock /home/ziyu/.julia/packages/TickTock/RsTHR/src/TickTock.jl:32\n",
      "\u001b[32mloss: 1.3: 100%|████████████████████████████████████████| Time: 0:01:10\u001b[39m\n",
      "\u001b[32mloss: 1.29: 100%|███████████████████████████████████████| Time: 0:00:37\u001b[39m\n"
     ]
    },
    {
     "name": "stdout",
     "output_type": "stream",
     "text": [
      "Solving from initial conditions for country: Mexico\n",
      "Plotting graphs for country: Mexico\n",
      "Updating csv for parameters for country: Mexico\n",
      "Updating csv for differentiation parameters for country: Mexico\n",
      "Loading parameters\n",
      "Training neural network\n",
      "Generating data for country: Mongolia\n"
     ]
    },
    {
     "name": "stderr",
     "output_type": "stream",
     "text": [
      "\u001b[32mloss: 7.43e-05: 100%|███████████████████████████████████| Time: 0:00:06\u001b[39m\n",
      "\u001b[32mloss: 7.38e-05: 100%|███████████████████████████████████| Time: 0:00:06\u001b[39m\n",
      "\u001b[32mloss: 7.37e-05: 100%|███████████████████████████████████| Time: 0:00:06\u001b[39m\n",
      "\u001b[32mloss: 0.000185: 100%|███████████████████████████████████| Time: 0:00:03\u001b[39m\n",
      "\u001b[32mloss: 0.000129: 100%|███████████████████████████████████| Time: 0:00:05\u001b[39m\n",
      "\u001b[32mloss: 9.95e-05: 100%|███████████████████████████████████| Time: 0:00:07\u001b[39m\n",
      "\u001b[32mloss: 8.43e-05: 100%|███████████████████████████████████| Time: 0:00:09\u001b[39m\n",
      "\u001b[32mloss: 2.25e-06: 100%|███████████████████████████████████| Time: 0:00:15\u001b[39m\n",
      "\u001b[32mloss: 2.31e-06: 100%|███████████████████████████████████| Time: 0:00:15\u001b[39m\n",
      "\u001b[32mloss: 2.11e-06: 100%|███████████████████████████████████| Time: 0:00:15\u001b[39m\n",
      "\u001b[32mloss: 2.08e-06: 100%|███████████████████████████████████| Time: 0:00:15\u001b[39m\n"
     ]
    },
    {
     "name": "stdout",
     "output_type": "stream",
     "text": [
      "Generating data for country: Mongolia\n"
     ]
    },
    {
     "name": "stderr",
     "output_type": "stream",
     "text": [
      "\u001b[32mloss: 4.95e-07: 100%|███████████████████████████████████| Time: 0:00:12\u001b[39m\n"
     ]
    },
    {
     "name": "stdout",
     "output_type": "stream",
     "text": [
      "Generating data for country: Mongolia\n"
     ]
    },
    {
     "name": "stderr",
     "output_type": "stream",
     "text": [
      "\u001b[32mloss: 17.1: 100%|███████████████████████████████████████| Time: 0:00:38\u001b[39m\n",
      "┌ Info:  started timer at: 2021-04-08T22:39:12.214\n",
      "└ @ TickTock /home/ziyu/.julia/packages/TickTock/RsTHR/src/TickTock.jl:32\n",
      "\u001b[32mloss: 16.9: 100%|███████████████████████████████████████| Time: 0:01:08\u001b[39m\n",
      "\u001b[32mloss: 11.5: 100%|███████████████████████████████████████| Time: 0:00:54\u001b[39m\n",
      "┌ Info:  started timer at: 2021-04-08T22:43:49.789\n",
      "└ @ TickTock /home/ziyu/.julia/packages/TickTock/RsTHR/src/TickTock.jl:32\n",
      "\u001b[32mloss: 11.3: 100%|███████████████████████████████████████| Time: 0:01:48\u001b[39m\n",
      "\u001b[32mloss: 11.3: 100%|███████████████████████████████████████| Time: 0:00:58\u001b[39m\n",
      "┌ Info:  started timer at: 2021-04-08T22:47:46.705\n",
      "└ @ TickTock /home/ziyu/.julia/packages/TickTock/RsTHR/src/TickTock.jl:32\n",
      "\u001b[32mloss: 11.1: 100%|███████████████████████████████████████| Time: 0:01:50\u001b[39m\n",
      "\u001b[32mloss: 11.1: 100%|███████████████████████████████████████| Time: 0:00:55\u001b[39m\n"
     ]
    },
    {
     "name": "stdout",
     "output_type": "stream",
     "text": [
      "Solving from initial conditions for country: Mongolia\n",
      "Plotting graphs for country: Mongolia\n",
      "Updating csv for parameters for country: Mongolia\n",
      "Updating csv for differentiation parameters for country: Mongolia\n",
      "Loading parameters\n",
      "Training neural network\n",
      "Generating data for country: Morocco\n"
     ]
    },
    {
     "name": "stderr",
     "output_type": "stream",
     "text": [
      "\u001b[32mloss: 3.3e-05: 100%|████████████████████████████████████| Time: 0:00:08\u001b[39m\n",
      "\u001b[32mloss: 3.24e-05: 100%|███████████████████████████████████| Time: 0:00:07\u001b[39m\n",
      "\u001b[32mloss: 3.21e-05: 100%|███████████████████████████████████| Time: 0:00:07\u001b[39m\n",
      "\u001b[32mloss: 5.61e-05: 100%|███████████████████████████████████| Time: 0:00:05\u001b[39m\n",
      "\u001b[32mloss: 3.66e-05: 100%|███████████████████████████████████| Time: 0:00:07\u001b[39m\n",
      "\u001b[32mloss: 2.79e-05: 100%|███████████████████████████████████| Time: 0:00:08\u001b[39m\n",
      "\u001b[32mloss: 3.43e-05: 100%|███████████████████████████████████| Time: 0:00:10\u001b[39m\n",
      "\u001b[32mloss: 6.11e-06: 100%|███████████████████████████████████| Time: 0:00:18\u001b[39m\n",
      "\u001b[32mloss: 6.05e-06: 100%|███████████████████████████████████| Time: 0:00:18\u001b[39m\n",
      "\u001b[32mloss: 6.24e-06: 100%|███████████████████████████████████| Time: 0:00:18\u001b[39m\n",
      "\u001b[32mloss: 5.94e-06: 100%|███████████████████████████████████| Time: 0:00:18\u001b[39m\n"
     ]
    },
    {
     "name": "stdout",
     "output_type": "stream",
     "text": [
      "Generating data for country: Morocco\n"
     ]
    },
    {
     "name": "stderr",
     "output_type": "stream",
     "text": [
      "\u001b[32mloss: 1.21e-06: 100%|███████████████████████████████████| Time: 0:00:17\u001b[39m\n",
      "┌ Info:  started timer at: 2021-04-08T22:55:56.904\n",
      "└ @ TickTock /home/ziyu/.julia/packages/TickTock/RsTHR/src/TickTock.jl:32\n",
      "\u001b[32mloss: 8.11e-07: 100%|███████████████████████████████████| Time: 0:00:34\u001b[39m\n",
      "\u001b[32mloss: 6.9e-07: 100%|████████████████████████████████████| Time: 0:00:16\u001b[39m\n",
      "┌ Info:  started timer at: 2021-04-08T22:57:30.421\n",
      "└ @ TickTock /home/ziyu/.julia/packages/TickTock/RsTHR/src/TickTock.jl:32\n",
      "\u001b[32mloss: 6.21e-07: 100%|███████████████████████████████████| Time: 0:00:33\u001b[39m\n",
      "\u001b[32mloss: 6.06e-07: 100%|███████████████████████████████████| Time: 0:00:16\u001b[39m\n"
     ]
    },
    {
     "name": "stdout",
     "output_type": "stream",
     "text": [
      "Generating data for country: Morocco\n"
     ]
    },
    {
     "name": "stderr",
     "output_type": "stream",
     "text": [
      "\u001b[32mloss: 11.1: 100%|███████████████████████████████████████| Time: 0:01:00\u001b[39m\n",
      "┌ Info:  started timer at: 2021-04-08T22:59:40.803\n",
      "└ @ TickTock /home/ziyu/.julia/packages/TickTock/RsTHR/src/TickTock.jl:32\n",
      "\u001b[32mloss: 2.82: 100%|███████████████████████████████████████| Time: 0:01:37\u001b[39m\n",
      "\u001b[32mloss: 2.46: 100%|███████████████████████████████████████| Time: 0:00:53\u001b[39m\n",
      "┌ Info:  started timer at: 2021-04-08T23:03:17.954\n",
      "└ @ TickTock /home/ziyu/.julia/packages/TickTock/RsTHR/src/TickTock.jl:32\n",
      "\u001b[32mloss: 0.121: 100%|██████████████████████████████████████| Time: 0:01:17\u001b[39m\n",
      "\u001b[32mloss: 0.108: 100%|██████████████████████████████████████| Time: 0:00:38\u001b[39m\n",
      "┌ Info:  started timer at: 2021-04-08T23:06:29.372\n",
      "└ @ TickTock /home/ziyu/.julia/packages/TickTock/RsTHR/src/TickTock.jl:32\n",
      "\u001b[32mloss: 0.0658: 100%|█████████████████████████████████████| Time: 0:01:16\u001b[39m\n",
      "\u001b[32mloss: 0.0647: 100%|█████████████████████████████████████| Time: 0:00:36\u001b[39m\n",
      "┌ Info:  started timer at: 2021-04-08T23:09:41.436\n",
      "└ @ TickTock /home/ziyu/.julia/packages/TickTock/RsTHR/src/TickTock.jl:32\n",
      "\u001b[32mloss: 0.0582: 100%|█████████████████████████████████████| Time: 0:01:22\u001b[39m\n",
      "\u001b[32mloss: 0.0579: 100%|█████████████████████████████████████| Time: 0:00:44\u001b[39m\n",
      "┌ Info:  started timer at: 2021-04-08T23:13:27.022\n",
      "└ @ TickTock /home/ziyu/.julia/packages/TickTock/RsTHR/src/TickTock.jl:32\n",
      "\u001b[32mloss: 0.0559: 100%|█████████████████████████████████████| Time: 0:01:25\u001b[39m\n",
      "\u001b[32mloss: 0.0557: 100%|█████████████████████████████████████| Time: 0:00:37\u001b[39m\n",
      "┌ Info:  started timer at: 2021-04-08T23:16:59.811\n",
      "└ @ TickTock /home/ziyu/.julia/packages/TickTock/RsTHR/src/TickTock.jl:32\n",
      "\u001b[32mloss: 0.0554: 100%|█████████████████████████████████████| Time: 0:01:22\u001b[39m\n",
      "\u001b[32mloss: 0.0553: 100%|█████████████████████████████████████| Time: 0:00:43\u001b[39m\n"
     ]
    },
    {
     "name": "stdout",
     "output_type": "stream",
     "text": [
      "Solving from initial conditions for country: Morocco\n",
      "Plotting graphs for country: Morocco\n",
      "Updating csv for parameters for country: Morocco\n",
      "Updating csv for differentiation parameters for country: Morocco\n",
      "Loading parameters\n",
      "Training neural network\n",
      "Generating data for country: Nepal\n"
     ]
    },
    {
     "name": "stderr",
     "output_type": "stream",
     "text": [
      "\u001b[32mloss: 1.98e-06: 100%|███████████████████████████████████| Time: 0:00:08\u001b[39m\n",
      "\u001b[32mloss: 1.94e-06: 100%|███████████████████████████████████| Time: 0:00:08\u001b[39m\n",
      "\u001b[32mloss: 1.92e-06: 100%|███████████████████████████████████| Time: 0:00:08\u001b[39m\n",
      "\u001b[32mloss: 3.16e-06: 100%|███████████████████████████████████| Time: 0:00:05\u001b[39m\n",
      "\u001b[32mloss: 1.98e-06: 100%|███████████████████████████████████| Time: 0:00:06\u001b[39m\n",
      "\u001b[32mloss: 1.92e-06: 100%|███████████████████████████████████| Time: 0:00:08\u001b[39m\n",
      "\u001b[32mloss: 2.35e-06: 100%|███████████████████████████████████| Time: 0:00:10\u001b[39m\n",
      "\u001b[32mloss: 1.57e-07: 100%|███████████████████████████████████| Time: 0:00:18\u001b[39m\n",
      "\u001b[32mloss: 1.71e-07: 100%|███████████████████████████████████| Time: 0:00:18\u001b[39m\n",
      "\u001b[32mloss: 1.57e-07: 100%|███████████████████████████████████| Time: 0:00:18\u001b[39m\n",
      "\u001b[32mloss: 1.67e-07: 100%|███████████████████████████████████| Time: 0:00:18\u001b[39m\n"
     ]
    },
    {
     "name": "stdout",
     "output_type": "stream",
     "text": [
      "Generating data for country: Nepal\n"
     ]
    },
    {
     "name": "stderr",
     "output_type": "stream",
     "text": [
      "\u001b[32mloss: 1.7e-07: 100%|████████████████████████████████████| Time: 0:00:17\u001b[39m\n",
      "┌ Info:  started timer at: 2021-04-08T23:25:52.263\n",
      "└ @ TickTock /home/ziyu/.julia/packages/TickTock/RsTHR/src/TickTock.jl:32\n",
      "\u001b[32mloss: 8.88e-08: 100%|███████████████████████████████████| Time: 0:00:33\u001b[39m\n",
      "\u001b[32mloss: 3.51e-08: 100%|███████████████████████████████████| Time: 0:00:15\u001b[39m\n"
     ]
    },
    {
     "name": "stdout",
     "output_type": "stream",
     "text": [
      "Generating data for country: Nepal\n"
     ]
    },
    {
     "name": "stderr",
     "output_type": "stream",
     "text": [
      "\u001b[32mloss: 0.0784: 100%|█████████████████████████████████████| Time: 0:00:26\u001b[39m\n",
      "┌ Info:  started timer at: 2021-04-08T23:27:09.821\n",
      "└ @ TickTock /home/ziyu/.julia/packages/TickTock/RsTHR/src/TickTock.jl:32\n",
      "\u001b[32mloss: 0.0153: 100%|█████████████████████████████████████| Time: 0:00:55\u001b[39m\n",
      "\u001b[32mloss: 0.0136: 100%|█████████████████████████████████████| Time: 0:00:29\u001b[39m\n",
      "┌ Info:  started timer at: 2021-04-08T23:29:36.508\n",
      "└ @ TickTock /home/ziyu/.julia/packages/TickTock/RsTHR/src/TickTock.jl:32\n",
      "\u001b[32mloss: 0.0118: 100%|█████████████████████████████████████| Time: 0:00:57\u001b[39m\n",
      "\u001b[32mloss: 0.0116: 100%|█████████████████████████████████████| Time: 0:00:27\u001b[39m\n",
      "┌ Info:  started timer at: 2021-04-08T23:32:10.35\n",
      "└ @ TickTock /home/ziyu/.julia/packages/TickTock/RsTHR/src/TickTock.jl:32\n",
      "\u001b[32mloss: 0.00749: 100%|████████████████████████████████████| Time: 0:00:52\u001b[39m\n",
      "\u001b[32mloss: 0.00747: 100%|████████████████████████████████████| Time: 0:00:26\u001b[39m\n",
      "┌ Info:  started timer at: 2021-04-08T23:34:09.426\n",
      "└ @ TickTock /home/ziyu/.julia/packages/TickTock/RsTHR/src/TickTock.jl:32\n",
      "\u001b[32mloss: 0.00638: 100%|████████████████████████████████████| Time: 0:00:50\u001b[39m\n",
      "\u001b[32mloss: 0.00635: 100%|████████████████████████████████████| Time: 0:00:25\u001b[39m\n",
      "┌ Info:  started timer at: 2021-04-08T23:36:08.714\n",
      "└ @ TickTock /home/ziyu/.julia/packages/TickTock/RsTHR/src/TickTock.jl:32\n",
      "\u001b[32mloss: 0.00621: 100%|████████████████████████████████████| Time: 0:00:50\u001b[39m\n",
      "\u001b[32mloss: 0.00614: 100%|████████████████████████████████████| Time: 0:00:24\u001b[39m\n",
      "┌ Info:  started timer at: 2021-04-08T23:37:57.979\n",
      "└ @ TickTock /home/ziyu/.julia/packages/TickTock/RsTHR/src/TickTock.jl:32\n",
      "\u001b[32mloss: 0.00596: 100%|████████████████████████████████████| Time: 0:00:50\u001b[39m\n",
      "\u001b[32mloss: 0.00561: 100%|████████████████████████████████████| Time: 0:00:24\u001b[39m\n",
      "┌ Info:  started timer at: 2021-04-08T23:39:52.622\n",
      "└ @ TickTock /home/ziyu/.julia/packages/TickTock/RsTHR/src/TickTock.jl:32\n",
      "\u001b[32mloss: 0.00538: 100%|████████████████████████████████████| Time: 0:00:50\u001b[39m\n",
      "\u001b[32mloss: 0.00534: 100%|████████████████████████████████████| Time: 0:00:25\u001b[39m\n",
      "┌ Info:  started timer at: 2021-04-08T23:41:48.828\n",
      "└ @ TickTock /home/ziyu/.julia/packages/TickTock/RsTHR/src/TickTock.jl:32\n",
      "\u001b[32mloss: 0.00515: 100%|████████████████████████████████████| Time: 0:00:50\u001b[39m\n",
      "\u001b[32mloss: 0.00513: 100%|████████████████████████████████████| Time: 0:00:25\u001b[39m\n",
      "┌ Info:  started timer at: 2021-04-08T23:43:46.742\n",
      "└ @ TickTock /home/ziyu/.julia/packages/TickTock/RsTHR/src/TickTock.jl:32\n",
      "\u001b[32mloss: 0.00499: 100%|████████████████████████████████████| Time: 0:00:50\u001b[39m\n",
      "\u001b[32mloss: 0.00499: 100%|████████████████████████████████████| Time: 0:00:25\u001b[39m\n"
     ]
    },
    {
     "name": "stdout",
     "output_type": "stream",
     "text": [
      "Solving from initial conditions for country: Nepal\n",
      "Plotting graphs for country: Nepal\n",
      "Updating csv for parameters for country: Nepal\n",
      "Updating csv for differentiation parameters for country: Nepal\n",
      "Loading parameters\n",
      "Training neural network\n",
      "Generating data for country: Netherlands\n"
     ]
    },
    {
     "name": "stderr",
     "output_type": "stream",
     "text": [
      "\u001b[32mloss: 0.000686: 100%|███████████████████████████████████| Time: 0:00:09\u001b[39m\n",
      "\u001b[32mloss: 0.000683: 100%|███████████████████████████████████| Time: 0:00:09\u001b[39m\n",
      "\u001b[32mloss: 0.000678: 100%|███████████████████████████████████| Time: 0:00:09\u001b[39m\n",
      "\u001b[32mloss: 0.000994: 100%|███████████████████████████████████| Time: 0:00:07\u001b[39m\n",
      "\u001b[32mloss: 0.00081: 100%|████████████████████████████████████| Time: 0:00:09\u001b[39m\n",
      "\u001b[32mloss: 0.000711: 100%|███████████████████████████████████| Time: 0:00:11\u001b[39m\n",
      "\u001b[32mloss: 0.000676: 100%|███████████████████████████████████| Time: 0:00:12\u001b[39m\n",
      "\u001b[32mloss: 9e-05: 100%|██████████████████████████████████████| Time: 0:00:21\u001b[39m\n",
      "\u001b[32mloss: 3.31e-05: 100%|███████████████████████████████████| Time: 0:00:21\u001b[39m\n",
      "\u001b[32mloss: 2.5e-05: 100%|████████████████████████████████████| Time: 0:00:21\u001b[39m\n",
      "\u001b[32mloss: 2.6e-05: 100%|████████████████████████████████████| Time: 0:00:21\u001b[39m\n"
     ]
    },
    {
     "name": "stdout",
     "output_type": "stream",
     "text": [
      "Generating data for country: Netherlands\n"
     ]
    },
    {
     "name": "stderr",
     "output_type": "stream",
     "text": [
      "\u001b[32mloss: 1.32e-05: 100%|███████████████████████████████████| Time: 0:00:21\u001b[39m\n",
      "┌ Info:  started timer at: 2021-04-08T23:50:36.052\n",
      "└ @ TickTock /home/ziyu/.julia/packages/TickTock/RsTHR/src/TickTock.jl:32\n",
      "\u001b[32mloss: 1.04e-05: 100%|███████████████████████████████████| Time: 0:00:40\u001b[39m\n",
      "\u001b[32mloss: 9.89e-06: 100%|███████████████████████████████████| Time: 0:00:19\u001b[39m\n"
     ]
    },
    {
     "name": "stdout",
     "output_type": "stream",
     "text": [
      "Generating data for country: Netherlands\n"
     ]
    },
    {
     "name": "stderr",
     "output_type": "stream",
     "text": [
      "\u001b[32mloss: 28.4: 100%|███████████████████████████████████████| Time: 0:00:33\u001b[39m\n",
      "┌ Info:  started timer at: 2021-04-08T23:52:48.235\n",
      "└ @ TickTock /home/ziyu/.julia/packages/TickTock/RsTHR/src/TickTock.jl:32\n",
      "\u001b[32mloss: 27.9: 100%|███████████████████████████████████████| Time: 0:01:19\u001b[39m\n",
      "\u001b[32mloss: 27.3: 100%|███████████████████████████████████████| Time: 0:01:03\u001b[39m\n",
      "┌ Info:  started timer at: 2021-04-08T23:57:36.748\n",
      "└ @ TickTock /home/ziyu/.julia/packages/TickTock/RsTHR/src/TickTock.jl:32\n",
      "\u001b[32mloss: 27.3: 100%|███████████████████████████████████████| Time: 0:01:50\u001b[39m\n",
      "\u001b[32mloss: 27.3: 100%|███████████████████████████████████████| Time: 0:00:44\u001b[39m\n"
     ]
    },
    {
     "name": "stdout",
     "output_type": "stream",
     "text": [
      "Solving from initial conditions for country: Netherlands\n",
      "Plotting graphs for country: Netherlands\n",
      "Updating csv for parameters for country: Netherlands\n",
      "Updating csv for differentiation parameters for country: Netherlands\n",
      "Loading parameters\n",
      "Training neural network\n",
      "Generating data for country: Niger\n"
     ]
    },
    {
     "name": "stderr",
     "output_type": "stream",
     "text": [
      "\u001b[32mloss: 6.28e-07: 100%|███████████████████████████████████| Time: 0:00:08\u001b[39m\n",
      "\u001b[32mloss: 6.28e-07: 100%|███████████████████████████████████| Time: 0:00:08\u001b[39m\n",
      "\u001b[32mloss: 6.23e-07: 100%|███████████████████████████████████| Time: 0:00:08\u001b[39m\n",
      "\u001b[32mloss: 5.16e-07: 100%|███████████████████████████████████| Time: 0:00:05\u001b[39m\n",
      "\u001b[32mloss: 3.6e-07: 100%|████████████████████████████████████| Time: 0:00:07\u001b[39m\n",
      "\u001b[32mloss: 4.71e-07: 100%|███████████████████████████████████| Time: 0:00:09\u001b[39m\n",
      "\u001b[32mloss: 6.68e-07: 100%|███████████████████████████████████| Time: 0:00:11\u001b[39m\n",
      "\u001b[32mloss: 5.97e-08: 100%|███████████████████████████████████| Time: 0:00:19\u001b[39m\n",
      "\u001b[32mloss: 5.3e-08: 100%|████████████████████████████████████| Time: 0:00:19\u001b[39m\n",
      "\u001b[32mloss: 6.28e-08: 100%|███████████████████████████████████| Time: 0:00:19\u001b[39m\n",
      "\u001b[32mloss: 5.67e-08: 100%|███████████████████████████████████| Time: 0:00:19\u001b[39m\n"
     ]
    },
    {
     "name": "stdout",
     "output_type": "stream",
     "text": [
      "Generating data for country: Niger\n"
     ]
    },
    {
     "name": "stderr",
     "output_type": "stream",
     "text": [
      "\u001b[32mloss: 1.48e-07: 100%|███████████████████████████████████| Time: 0:00:15\u001b[39m\n"
     ]
    },
    {
     "name": "stdout",
     "output_type": "stream",
     "text": [
      "Generating data for country: Niger\n"
     ]
    },
    {
     "name": "stderr",
     "output_type": "stream",
     "text": [
      "\u001b[32mloss: 0.0534: 100%|█████████████████████████████████████| Time: 0:00:39\u001b[39m\n",
      "┌ Info:  started timer at: 2021-04-09T00:06:43.579\n",
      "└ @ TickTock /home/ziyu/.julia/packages/TickTock/RsTHR/src/TickTock.jl:32\n",
      "\u001b[32mloss: 0.0496: 100%|█████████████████████████████████████| Time: 0:01:07\u001b[39m\n",
      "\u001b[32mloss: 0.007: 100%|██████████████████████████████████████| Time: 0:00:33\u001b[39m\n",
      "┌ Info:  started timer at: 2021-04-09T00:09:23.044\n",
      "└ @ TickTock /home/ziyu/.julia/packages/TickTock/RsTHR/src/TickTock.jl:32\n",
      "\u001b[32mloss: 0.0057: 100%|█████████████████████████████████████| Time: 0:00:58\u001b[39m\n",
      "\u001b[32mloss: 0.00562: 100%|████████████████████████████████████| Time: 0:00:27\u001b[39m\n",
      "┌ Info:  started timer at: 2021-04-09T00:11:38.92\n",
      "└ @ TickTock /home/ziyu/.julia/packages/TickTock/RsTHR/src/TickTock.jl:32\n",
      "\u001b[32mloss: 0.00506: 100%|████████████████████████████████████| Time: 0:00:56\u001b[39m\n",
      "\u001b[32mloss: 0.00504: 100%|████████████████████████████████████| Time: 0:00:26\u001b[39m\n",
      "┌ Info:  started timer at: 2021-04-09T00:13:46.396\n",
      "└ @ TickTock /home/ziyu/.julia/packages/TickTock/RsTHR/src/TickTock.jl:32\n",
      "\u001b[32mloss: 0.00483: 100%|████████████████████████████████████| Time: 0:00:54\u001b[39m\n",
      "\u001b[32mloss: 0.0048: 100%|█████████████████████████████████████| Time: 0:00:27\u001b[39m\n"
     ]
    },
    {
     "name": "stdout",
     "output_type": "stream",
     "text": [
      "Solving from initial conditions for country: Niger\n",
      "Plotting graphs for country: Niger\n",
      "Updating csv for parameters for country: Niger\n",
      "Updating csv for differentiation parameters for country: Niger\n",
      "Loading parameters\n",
      "Training neural network\n",
      "Generating data for country: Nigeria\n"
     ]
    },
    {
     "name": "stderr",
     "output_type": "stream",
     "text": [
      "\u001b[32mloss: 8.42e-06: 100%|███████████████████████████████████| Time: 0:00:06\u001b[39m\n",
      "\u001b[32mloss: 7.51e-06: 100%|███████████████████████████████████| Time: 0:00:06\u001b[39m\n",
      "\u001b[32mloss: 7.46e-06: 100%|███████████████████████████████████| Time: 0:00:06\u001b[39m\n",
      "\u001b[32mloss: 9.06e-06: 100%|███████████████████████████████████| Time: 0:00:03\u001b[39m\n",
      "\u001b[32mloss: 9.42e-06: 100%|███████████████████████████████████| Time: 0:00:05\u001b[39m\n",
      "\u001b[32mloss: 7.86e-06: 100%|███████████████████████████████████| Time: 0:00:06\u001b[39m\n",
      "\u001b[32mloss: 6.6e-06: 100%|████████████████████████████████████| Time: 0:00:08\u001b[39m\n",
      "\u001b[32mloss: 5.24e-06: 100%|███████████████████████████████████| Time: 0:00:15\u001b[39m\n",
      "\u001b[32mloss: 7.72e-07: 100%|███████████████████████████████████| Time: 0:00:15\u001b[39m\n",
      "\u001b[32mloss: 6.98e-07: 100%|███████████████████████████████████| Time: 0:00:15\u001b[39m\n",
      "\u001b[32mloss: 6.79e-07: 100%|███████████████████████████████████| Time: 0:00:15\u001b[39m\n"
     ]
    },
    {
     "name": "stdout",
     "output_type": "stream",
     "text": [
      "Generating data for country: Nigeria\n"
     ]
    },
    {
     "name": "stderr",
     "output_type": "stream",
     "text": [
      "\u001b[32mloss: 4.47e-07: 100%|███████████████████████████████████| Time: 0:00:15\u001b[39m\n",
      "┌ Info:  started timer at: 2021-04-09T00:18:59.904\n",
      "└ @ TickTock /home/ziyu/.julia/packages/TickTock/RsTHR/src/TickTock.jl:32\n",
      "\u001b[32mloss: 3.64e-07: 100%|███████████████████████████████████| Time: 0:00:32\u001b[39m\n",
      "\u001b[32mloss: 2.74e-07: 100%|███████████████████████████████████| Time: 0:00:16\u001b[39m\n",
      "┌ Info:  started timer at: 2021-04-09T00:20:25.557\n",
      "└ @ TickTock /home/ziyu/.julia/packages/TickTock/RsTHR/src/TickTock.jl:32\n",
      "\u001b[32mloss: 2.33e-07: 100%|███████████████████████████████████| Time: 0:00:33\u001b[39m\n",
      "\u001b[32mloss: 2.15e-07: 100%|███████████████████████████████████| Time: 0:00:16\u001b[39m\n",
      "┌ Info:  started timer at: 2021-04-09T00:21:50.869\n",
      "└ @ TickTock /home/ziyu/.julia/packages/TickTock/RsTHR/src/TickTock.jl:32\n",
      "\u001b[32mloss: 1.84e-07: 100%|███████████████████████████████████| Time: 0:00:32\u001b[39m\n",
      "\u001b[32mloss: 2.04e-07: 100%|███████████████████████████████████| Time: 0:00:16\u001b[39m\n",
      "┌ Info:  started timer at: 2021-04-09T00:23:13.015\n",
      "└ @ TickTock /home/ziyu/.julia/packages/TickTock/RsTHR/src/TickTock.jl:32\n",
      "\u001b[32mloss: 1.77e-07: 100%|███████████████████████████████████| Time: 0:00:32\u001b[39m\n",
      "\u001b[32mloss: 1.75e-07: 100%|███████████████████████████████████| Time: 0:00:16\u001b[39m\n"
     ]
    },
    {
     "name": "stdout",
     "output_type": "stream",
     "text": [
      "Generating data for country: Nigeria\n"
     ]
    },
    {
     "name": "stderr",
     "output_type": "stream",
     "text": [
      "\u001b[32mloss: 3.6: 100%|████████████████████████████████████████| Time: 0:01:22\u001b[39m\n",
      "┌ Info:  started timer at: 2021-04-09T00:26:00.054\n",
      "└ @ TickTock /home/ziyu/.julia/packages/TickTock/RsTHR/src/TickTock.jl:32\n",
      "\u001b[32mloss: 2.24: 100%|███████████████████████████████████████| Time: 0:02:43\u001b[39m\n",
      "\u001b[32mloss: 0.601: 100%|██████████████████████████████████████| Time: 0:01:28\u001b[39m\n",
      "┌ Info:  started timer at: 2021-04-09T00:33:42.218\n",
      "└ @ TickTock /home/ziyu/.julia/packages/TickTock/RsTHR/src/TickTock.jl:32\n",
      "\u001b[32mloss: 0.6: 100%|████████████████████████████████████████| Time: 0:03:04\u001b[39m\n",
      "\u001b[32mloss: 0.601: 100%|██████████████████████████████████████| Time: 0:01:30\u001b[39m\n"
     ]
    },
    {
     "name": "stdout",
     "output_type": "stream",
     "text": [
      "Solving from initial conditions for country: Nigeria\n",
      "Plotting graphs for country: Nigeria\n",
      "Updating csv for parameters for country: Nigeria\n",
      "Updating csv for differentiation parameters for country: Nigeria\n",
      "Loading parameters\n",
      "Training neural network\n",
      "Generating data for country: Norway\n"
     ]
    },
    {
     "name": "stderr",
     "output_type": "stream",
     "text": [
      "\u001b[32mloss: 0.00106: 100%|████████████████████████████████████| Time: 0:00:08\u001b[39m\n",
      "\u001b[32mloss: 0.00102: 100%|████████████████████████████████████| Time: 0:00:08\u001b[39m\n",
      "\u001b[32mloss: 0.00102: 100%|████████████████████████████████████| Time: 0:00:08\u001b[39m\n",
      "\u001b[32mloss: 0.00222: 100%|████████████████████████████████████| Time: 0:00:05\u001b[39m\n",
      "\u001b[32mloss: 0.00133: 100%|████████████████████████████████████| Time: 0:00:07\u001b[39m\n",
      "\u001b[32mloss: 0.00115: 100%|████████████████████████████████████| Time: 0:00:09\u001b[39m\n",
      "\u001b[32mloss: 0.00115: 100%|████████████████████████████████████| Time: 0:00:11\u001b[39m\n",
      "\u001b[32mloss: 0.000103: 100%|███████████████████████████████████| Time: 0:00:18\u001b[39m\n",
      "\u001b[32mloss: 0.000103: 100%|███████████████████████████████████| Time: 0:00:19\u001b[39m\n",
      "\u001b[32mloss: 0.000104: 100%|███████████████████████████████████| Time: 0:00:18\u001b[39m\n",
      "\u001b[32mloss: 0.000104: 100%|███████████████████████████████████| Time: 0:00:19\u001b[39m\n"
     ]
    },
    {
     "name": "stdout",
     "output_type": "stream",
     "text": [
      "Generating data for country: Norway\n"
     ]
    },
    {
     "name": "stderr",
     "output_type": "stream",
     "text": [
      "\u001b[32mloss: 2.56e-05: 100%|███████████████████████████████████| Time: 0:00:19\u001b[39m\n",
      "┌ Info:  started timer at: 2021-04-09T00:45:52.513\n",
      "└ @ TickTock /home/ziyu/.julia/packages/TickTock/RsTHR/src/TickTock.jl:32\n",
      "\u001b[32mloss: 2.03e-05: 100%|███████████████████████████████████| Time: 0:00:38\u001b[39m\n",
      "\u001b[32mloss: 1.96e-05: 100%|███████████████████████████████████| Time: 0:00:18\u001b[39m\n",
      "┌ Info:  started timer at: 2021-04-09T00:47:22.121\n",
      "└ @ TickTock /home/ziyu/.julia/packages/TickTock/RsTHR/src/TickTock.jl:32\n",
      "\u001b[32mloss: 1.57e-05: 100%|███████████████████████████████████| Time: 0:00:37\u001b[39m\n",
      "\u001b[32mloss: 1.44e-05: 100%|███████████████████████████████████| Time: 0:00:18\u001b[39m\n",
      "┌ Info:  started timer at: 2021-04-09T00:48:32.095\n",
      "└ @ TickTock /home/ziyu/.julia/packages/TickTock/RsTHR/src/TickTock.jl:32\n",
      "\u001b[32mloss: 1.26e-05: 100%|███████████████████████████████████| Time: 0:00:37\u001b[39m\n",
      "\u001b[32mloss: 1.07e-05: 100%|███████████████████████████████████| Time: 0:00:18\u001b[39m\n",
      "┌ Info:  started timer at: 2021-04-09T00:50:13.962\n",
      "└ @ TickTock /home/ziyu/.julia/packages/TickTock/RsTHR/src/TickTock.jl:32\n",
      "\u001b[32mloss: 8.72e-06: 100%|███████████████████████████████████| Time: 0:00:38\u001b[39m\n",
      "\u001b[32mloss: 8.06e-06: 100%|███████████████████████████████████| Time: 0:00:19\u001b[39m\n",
      "┌ Info:  started timer at: 2021-04-09T00:51:51.768\n",
      "└ @ TickTock /home/ziyu/.julia/packages/TickTock/RsTHR/src/TickTock.jl:32\n",
      "\u001b[32mloss: 7.42e-06: 100%|███████████████████████████████████| Time: 0:00:39\u001b[39m\n",
      "\u001b[32mloss: 7.37e-06: 100%|███████████████████████████████████| Time: 0:00:19\u001b[39m\n",
      "┌ Info:  started timer at: 2021-04-09T00:53:27.591\n",
      "└ @ TickTock /home/ziyu/.julia/packages/TickTock/RsTHR/src/TickTock.jl:32\n",
      "\u001b[32mloss: 6.99e-06: 100%|███████████████████████████████████| Time: 0:00:40\u001b[39m\n",
      "\u001b[32mloss: 6.98e-06: 100%|███████████████████████████████████| Time: 0:00:20\u001b[39m\n"
     ]
    },
    {
     "name": "stdout",
     "output_type": "stream",
     "text": [
      "Generating data for country: Norway\n"
     ]
    },
    {
     "name": "stderr",
     "output_type": "stream",
     "text": [
      "\u001b[32mloss: 114: 100%|████████████████████████████████████████| Time: 0:01:22\u001b[39m\n",
      "┌ Info:  started timer at: 2021-04-09T00:56:30.421\n",
      "└ @ TickTock /home/ziyu/.julia/packages/TickTock/RsTHR/src/TickTock.jl:32\n",
      "\u001b[32mloss: 62.2: 100%|███████████████████████████████████████| Time: 0:02:44\u001b[39m\n",
      "\u001b[32mloss: 51: 100%|█████████████████████████████████████████| Time: 0:01:12\u001b[39m\n",
      "┌ Info:  started timer at: 2021-04-09T01:03:05.723\n",
      "└ @ TickTock /home/ziyu/.julia/packages/TickTock/RsTHR/src/TickTock.jl:32\n",
      "\u001b[32mloss: 43.4: 100%|███████████████████████████████████████| Time: 0:02:28\u001b[39m\n",
      "\u001b[32mloss: 42.1: 100%|███████████████████████████████████████| Time: 0:01:15\u001b[39m\n",
      "┌ Info:  started timer at: 2021-04-09T01:09:13.703\n",
      "└ @ TickTock /home/ziyu/.julia/packages/TickTock/RsTHR/src/TickTock.jl:32\n",
      "\u001b[32mloss: 40.9: 100%|███████████████████████████████████████| Time: 0:02:34\u001b[39m\n",
      "\u001b[32mloss: 40.9: 100%|███████████████████████████████████████| Time: 0:01:18\u001b[39m\n",
      "┌ Info:  started timer at: 2021-04-09T01:14:16.196\n",
      "└ @ TickTock /home/ziyu/.julia/packages/TickTock/RsTHR/src/TickTock.jl:32\n",
      "\u001b[32mloss: 40.3: 100%|███████████████████████████████████████| Time: 0:02:25\u001b[39m\n",
      "\u001b[32mloss: 40.2: 100%|███████████████████████████████████████| Time: 0:01:10\u001b[39m\n",
      "┌ Info:  started timer at: 2021-04-09T01:19:31.666\n",
      "└ @ TickTock /home/ziyu/.julia/packages/TickTock/RsTHR/src/TickTock.jl:32\n",
      "\u001b[32mloss: 40.1: 100%|███████████████████████████████████████| Time: 0:02:31\u001b[39m\n",
      "\u001b[32mloss: 40.1: 100%|███████████████████████████████████████| Time: 0:01:11\u001b[39m\n",
      "┌ Info:  started timer at: 2021-04-09T01:26:18.308\n",
      "└ @ TickTock /home/ziyu/.julia/packages/TickTock/RsTHR/src/TickTock.jl:32\n",
      "\u001b[32mloss: 40: 100%|█████████████████████████████████████████| Time: 0:02:18\u001b[39m\n",
      "\u001b[32mloss: 40: 100%|█████████████████████████████████████████| Time: 0:01:11\u001b[39m\n",
      "┌ Info:  started timer at: 2021-04-09T01:32:44.418\n",
      "└ @ TickTock /home/ziyu/.julia/packages/TickTock/RsTHR/src/TickTock.jl:32\n",
      "\u001b[32mloss: 39.9: 100%|███████████████████████████████████████| Time: 0:02:16\u001b[39m\n",
      "\u001b[32mloss: 39.9: 100%|███████████████████████████████████████| Time: 0:01:03\u001b[39m\n",
      "┌ Info:  started timer at: 2021-04-09T01:37:37.858\n",
      "└ @ TickTock /home/ziyu/.julia/packages/TickTock/RsTHR/src/TickTock.jl:32\n",
      "\u001b[32mloss: 39.9: 100%|███████████████████████████████████████| Time: 0:02:08\u001b[39m\n",
      "\u001b[32mloss: 39.9: 100%|███████████████████████████████████████| Time: 0:01:13\u001b[39m\n",
      "┌ Info:  started timer at: 2021-04-09T01:42:51.133\n",
      "└ @ TickTock /home/ziyu/.julia/packages/TickTock/RsTHR/src/TickTock.jl:32\n",
      "\u001b[32mloss: 39.8: 100%|███████████████████████████████████████| Time: 0:02:12\u001b[39m\n",
      "\u001b[32mloss: 39.8: 100%|███████████████████████████████████████| Time: 0:01:05\u001b[39m\n",
      "┌ Info:  started timer at: 2021-04-09T01:48:05.644\n",
      "└ @ TickTock /home/ziyu/.julia/packages/TickTock/RsTHR/src/TickTock.jl:32\n",
      "\u001b[32mloss: 39.8: 100%|███████████████████████████████████████| Time: 0:02:23\u001b[39m\n",
      "\u001b[32mloss: 39.8: 100%|███████████████████████████████████████| Time: 0:01:09\u001b[39m\n"
     ]
    },
    {
     "name": "stdout",
     "output_type": "stream",
     "text": [
      "Solving from initial conditions for country: Norway\n",
      "Plotting graphs for country: Norway\n",
      "Updating csv for parameters for country: Norway\n",
      "Updating csv for differentiation parameters for country: Norway\n",
      "Loading parameters\n",
      "Training neural network\n",
      "Generating data for country: Oman\n"
     ]
    },
    {
     "name": "stderr",
     "output_type": "stream",
     "text": [
      "\u001b[32mloss: 0.00027: 100%|████████████████████████████████████| Time: 0:00:08\u001b[39m\n",
      "\u001b[32mloss: 0.000268: 100%|███████████████████████████████████| Time: 0:00:08\u001b[39m\n",
      "\u001b[32mloss: 0.000268: 100%|███████████████████████████████████| Time: 0:00:08\u001b[39m\n",
      "\u001b[32mloss: 0.000551: 100%|███████████████████████████████████| Time: 0:00:05\u001b[39m\n",
      "\u001b[32mloss: 0.000377: 100%|███████████████████████████████████| Time: 0:00:08\u001b[39m\n",
      "\u001b[32mloss: 0.000323: 100%|███████████████████████████████████| Time: 0:00:09\u001b[39m\n",
      "\u001b[32mloss: 0.000294: 100%|███████████████████████████████████| Time: 0:00:11\u001b[39m\n",
      "\u001b[32mloss: 0.000124: 100%|███████████████████████████████████| Time: 0:00:18\u001b[39m\n",
      "\u001b[32mloss: 2.09e-06: 100%|███████████████████████████████████| Time: 0:00:18\u001b[39m\n",
      "\u001b[32mloss: 1.76e-06: 100%|███████████████████████████████████| Time: 0:00:19\u001b[39m\n",
      "\u001b[32mloss: 1.45e-06: 100%|███████████████████████████████████| Time: 0:00:18\u001b[39m\n"
     ]
    },
    {
     "name": "stdout",
     "output_type": "stream",
     "text": [
      "Generating data for country: Oman\n"
     ]
    },
    {
     "name": "stderr",
     "output_type": "stream",
     "text": [
      "\u001b[32mloss: 2.67e-05: 100%|███████████████████████████████████| Time: 0:00:18\u001b[39m\n"
     ]
    },
    {
     "name": "stdout",
     "output_type": "stream",
     "text": [
      "Generating data for country: Oman\n"
     ]
    },
    {
     "name": "stderr",
     "output_type": "stream",
     "text": [
      "\u001b[32mloss: 1.39e+03: 100%|███████████████████████████████████| Time: 0:01:35\u001b[39m\n",
      "┌ Info:  started timer at: 2021-04-09T01:59:55.795\n",
      "└ @ TickTock /home/ziyu/.julia/packages/TickTock/RsTHR/src/TickTock.jl:32\n",
      "\u001b[32mloss: 197: 100%|████████████████████████████████████████| Time: 0:03:00\u001b[39m\n",
      "\u001b[32mloss: 164: 100%|████████████████████████████████████████| Time: 0:01:24\u001b[39m\n",
      "┌ Info:  started timer at: 2021-04-09T02:07:22.556\n",
      "└ @ TickTock /home/ziyu/.julia/packages/TickTock/RsTHR/src/TickTock.jl:32\n",
      "\u001b[32mloss: 159: 100%|████████████████████████████████████████| Time: 0:02:44\u001b[39m\n",
      "\u001b[32mloss: 144: 100%|████████████████████████████████████████| Time: 0:01:29\u001b[39m\n",
      "┌ Info:  started timer at: 2021-04-09T02:13:26.722\n",
      "└ @ TickTock /home/ziyu/.julia/packages/TickTock/RsTHR/src/TickTock.jl:32\n",
      "\u001b[32mloss: 140: 100%|████████████████████████████████████████| Time: 0:02:45\u001b[39m\n",
      "\u001b[32mloss: 140: 100%|████████████████████████████████████████| Time: 0:01:24\u001b[39m\n",
      "┌ Info:  started timer at: 2021-04-09T02:20:23.882\n",
      "└ @ TickTock /home/ziyu/.julia/packages/TickTock/RsTHR/src/TickTock.jl:32\n",
      "\u001b[32mloss: 138: 100%|████████████████████████████████████████| Time: 0:02:49\u001b[39m\n",
      "\u001b[32mloss: 138: 100%|████████████████████████████████████████| Time: 0:01:23\u001b[39m\n",
      "┌ Info:  started timer at: 2021-04-09T02:27:34.155\n",
      "└ @ TickTock /home/ziyu/.julia/packages/TickTock/RsTHR/src/TickTock.jl:32\n",
      "\u001b[32mloss: 132: 100%|████████████████████████████████████████| Time: 0:02:34\u001b[39m\n",
      "\u001b[32mloss: 132: 100%|████████████████████████████████████████| Time: 0:01:23\u001b[39m\n",
      "┌ Info:  started timer at: 2021-04-09T02:33:36.69\n",
      "└ @ TickTock /home/ziyu/.julia/packages/TickTock/RsTHR/src/TickTock.jl:32\n",
      "\u001b[32mloss: 129: 100%|████████████████████████████████████████| Time: 0:02:42\u001b[39m\n",
      "\u001b[32mloss: 129: 100%|████████████████████████████████████████| Time: 0:01:18\u001b[39m\n",
      "┌ Info:  started timer at: 2021-04-09T02:39:20.453\n",
      "└ @ TickTock /home/ziyu/.julia/packages/TickTock/RsTHR/src/TickTock.jl:32\n",
      "\u001b[32mloss: 127: 100%|████████████████████████████████████████| Time: 0:02:36\u001b[39m\n",
      "\u001b[32mloss: 65.6: 100%|███████████████████████████████████████| Time: 0:01:27\u001b[39m\n",
      "┌ Info:  started timer at: 2021-04-09T02:46:29.755\n",
      "└ @ TickTock /home/ziyu/.julia/packages/TickTock/RsTHR/src/TickTock.jl:32\n",
      "\u001b[32mloss: 61.7: 100%|███████████████████████████████████████| Time: 0:02:34\u001b[39m\n",
      "\u001b[32mloss: 61.5: 100%|███████████████████████████████████████| Time: 0:01:26\u001b[39m\n",
      "┌ Info:  started timer at: 2021-04-09T02:52:39.511\n",
      "└ @ TickTock /home/ziyu/.julia/packages/TickTock/RsTHR/src/TickTock.jl:32\n",
      "\u001b[32mloss: 58.5: 100%|███████████████████████████████████████| Time: 0:02:33\u001b[39m\n"
     ]
    }
   ],
   "source": [
    "for i in country_list\n",
    "    try\n",
    "    i = replace(i, \" \" => \"_\")\n",
    "    ann = FastChain(FastDense(1, 12, tanh),FastDense(12, 12, tanh),\n",
    "        FastDense(12, 1)) \n",
    "    ann12 = FastChain(FastDense(1, 12, tanh),FastDense(12,12, tanh),\n",
    "        FastDense(12, 1)) \n",
    "    ann123 = FastChain(FastDense(1, 12, tanh),FastDense(12,12, tanh),\n",
    "        FastDense(12, 1)) \n",
    "\n",
    "    println(\"Loading parameters\")\n",
    "\n",
    "    paras1 = CSV.read(string(@__DIR__, \"/model3_fullparams/\",i,\"model3full.csv\"),\n",
    "        normalizenames = true, \n",
    "        DataFrame)\n",
    "    set1 = Array(paras1[!,i]) #α,δ,gᵦ,gₐ\n",
    "             \n",
    "    println(\"Training neural network\")\n",
    "    years_available, st, nt, kdata, ydata, edata, kic, yic, eic, kt, yt, et, df8, df5, df7, res1minimizer = \n",
    "        generate_parameters_and_predictions_eqn1(ann,i,set1)\n",
    "    writedlm(string(@__DIR__, \"/all_countries/GivenParams/\",i,\"res1minimizer.csv\"),  res1minimizer, ',')\n",
    "        \n",
    "    res2minimizer = \n",
    "        generate_parameters_and_predictions_eqn2(ann, ann12, i,\n",
    "            set1, res1minimizer, years_available, st, nt, kdata, ydata, edata, kic, yic, eic, kt, yt, et)\n",
    "    writedlm(string(@__DIR__, \"/all_countries/GivenParams/\",i,\"res2minimizer.csv\"),  res2minimizer, ',')\n",
    "\n",
    "\n",
    "    res3minimizer = \n",
    "        generate_parameters_and_predictions_eqn3(ann, ann12, ann123, i,\n",
    "            set1, res1minimizer, res2minimizer, years_available, st, nt, kdata, ydata, edata, kic, yic, eic, kt, yt, et)\n",
    "    writedlm(string(@__DIR__, \"/all_countries/GivenParams/\",i,\"res3minimizer.csv\"),  res3minimizer, ',')\n",
    "        \n",
    "    println(\"Solving from initial conditions for country: \", i)\n",
    "    pred = solve_from_initial_conditions(ann, ann12, ann123, res1minimizer, res2minimizer, \n",
    "            res3minimizer, set1, st, nt, years_available, kic, yic, eic) \n",
    "\n",
    "    println(\"Plotting graphs for country: \", i)\n",
    "    timesteps = range(1.0e0, years_available*1.0, length=years_available)\n",
    "    plot_graph(pred,i,timesteps,kdata,ydata,edata)\n",
    "        \n",
    "    println(\"Updating csv for parameters for country: \", i)\n",
    "    push!(store_parameters_and_metrics, (vcat([i], \n",
    "            calculate_metrics(pred, kdata, ydata, edata))))\n",
    "    CSV.write(string(@__DIR__,\"/all_countries/GivenParams/parameters_and_metrics.csv\"), store_parameters_and_metrics)\n",
    "        \n",
    "    println(\"Updating csv for differentiation parameters for country: \", i)\n",
    "    pred_k = convert(Array{Float64},pred[1,:])\n",
    "    pred_y = convert(Array{Float64},pred[2,:])\n",
    "    pred_e = convert(Array{Float64},pred[3,:])\n",
    "    dk = pred_k[2:end-1] .- pred_k[1:end-2]\n",
    "    dy = pred_y[2:end-1] .- pred_y[1:end-2]\n",
    "    de = pred_e[2:end-1] .- pred_e[1:end-2]\n",
    "    dpred = transpose(hcat(dk, dy, de))\n",
    "    dkdata = identity.(kdata[2:end-1].-kdata[1:end-2])\n",
    "    dydata = identity.(ydata[2:end-1].-ydata[1:end-2])\n",
    "    dedata = identity.(edata[2:end-1].-edata[1:end-2])\n",
    "    push!(store_parameters_and_differentiation_metrics, (vcat([i], \n",
    "            calculate_metrics(dpred, dkdata, dydata, dedata))))\n",
    "        \n",
    "    CSV.write(string(@__DIR__,\"/all_countries/GivenParams/diff_parameters_and_metrics.csv\"), store_parameters_and_differentiation_metrics)\n",
    "\n",
    "    catch e\n",
    "        println(\"Error with country \", i, \": \", e)\n",
    "    end  \n",
    "        \n",
    "end\n"
   ]
  },
  {
   "cell_type": "code",
   "execution_count": null,
   "metadata": {},
   "outputs": [],
   "source": []
  }
 ],
 "metadata": {
  "kernelspec": {
   "display_name": "Julia 1.4.2",
   "language": "julia",
   "name": "julia-1.4"
  },
  "language_info": {
   "file_extension": ".jl",
   "mimetype": "application/julia",
   "name": "julia",
   "version": "1.4.2"
  }
 },
 "nbformat": 4,
 "nbformat_minor": 4
}
