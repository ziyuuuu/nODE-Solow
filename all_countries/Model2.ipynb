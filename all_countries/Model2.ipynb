{
 "cells": [
  {
   "cell_type": "code",
   "execution_count": 1,
   "metadata": {},
   "outputs": [],
   "source": [
    "# using Pkg\n",
    "# Pkg.generate(\"model2\")"
   ]
  },
  {
   "cell_type": "code",
   "execution_count": 3,
   "metadata": {
    "scrolled": true
   },
   "outputs": [
    {
     "name": "stderr",
     "output_type": "stream",
     "text": [
      "\u001b[32m\u001b[1m   Updating\u001b[22m\u001b[39m registry at `~/.julia/registries/General`\n"
     ]
    },
    {
     "name": "stdout",
     "output_type": "stream",
     "text": [
      "\u001b[?25l\u001b[2K"
     ]
    },
    {
     "name": "stderr",
     "output_type": "stream",
     "text": [
      "\u001b[32m\u001b[1m   Updating\u001b[22m\u001b[39m git-repo `https://github.com/JuliaRegistries/General.git`\n"
     ]
    },
    {
     "name": "stdout",
     "output_type": "stream",
     "text": [
      "\u001b[?25h"
     ]
    },
    {
     "name": "stderr",
     "output_type": "stream",
     "text": [
      "\u001b[32m\u001b[1m  Resolving\u001b[22m\u001b[39m package versions...\n",
      "\u001b[32m\u001b[1m   Updating\u001b[22m\u001b[39m `~/solow/NODE/Neural Ordinary Differential Equations for the Regression and Prediction of Macroeconomics Data under the Green Solow Model/Model 5/Kang Hao/model5/Project.toml`\n",
      " \u001b[90m [9ff05d80]\u001b[39m\u001b[92m + TickTock v1.1.0\u001b[39m\n",
      "\u001b[32m\u001b[1m   Updating\u001b[22m\u001b[39m `~/solow/NODE/Neural Ordinary Differential Equations for the Regression and Prediction of Macroeconomics Data under the Green Solow Model/Model 5/Kang Hao/model5/Manifest.toml`\n",
      " \u001b[90m [f50d1b31]\u001b[39m\u001b[93m ↑ Rmath_jll v0.2.2+1 ⇒ v0.2.2+2\u001b[39m\n",
      " \u001b[90m [9ff05d80]\u001b[39m\u001b[92m + TickTock v1.1.0\u001b[39m\n"
     ]
    }
   ],
   "source": [
    "# using Pkg\n",
    "# Pkg.add(\"OrdinaryDiffEq\")\n",
    "# Pkg.add(\"DifferentialEquations\")\n",
    "# Pkg.add(\"ModelingToolkit\")\n",
    "# Pkg.add(\"DataDrivenDiffEq\")\n",
    "# Pkg.add(\"LinearAlgebra\")\n",
    "# Pkg.add(\"DiffEqSensitivity\")\n",
    "# Pkg.add(\"Optim\")\n",
    "# Pkg.add(\"DiffEqFlux\")\n",
    "# Pkg.add(\"Flux\")\n",
    "# Pkg.add(\"Plots\")\n",
    "# Pkg.add(\"DataFrames\")\n",
    "# Pkg.add(\"GLM\")\n",
    "# Pkg.add(\"StatsModels\")\n",
    "# Pkg.add(\"CSV\")\n",
    "# Pkg.add(\"Interpolations\")\n",
    "# Pkg.add(\"JLD2\")\n",
    "# Pkg.add(\"Suppressor\")\n",
    "# Pkg.add(\"Distributed\")\n",
    "# Pkg.add(\"ParallelDataTransfer\")\n",
    "# Pkg.add(\"LaTeXStrings\")\n",
    "# Pkg.add(\"Statistics\")\n",
    "# Pkg.add(\"StatsBase\")\n",
    "# Pkg.add(\"TickTock\")"
   ]
  },
  {
   "cell_type": "code",
   "execution_count": 1,
   "metadata": {},
   "outputs": [
    {
     "name": "stdout",
     "output_type": "stream",
     "text": [
      "/home/ziyu/solow/NODE/Neural Ordinary Differential Equations for the Regression and Prediction of Macroeconomics Data under the Green Solow Model/Upload/all_countries\n"
     ]
    },
    {
     "name": "stderr",
     "output_type": "stream",
     "text": [
      "\u001b[32m\u001b[1m Activating\u001b[22m\u001b[39m environment at `~/solow/NODE/Neural Ordinary Differential Equations for the Regression and Prediction of Macroeconomics Data under the Green Solow Model/Upload/all_countries/model0/Project.toml`\n"
     ]
    },
    {
     "name": "stdout",
     "output_type": "stream",
     "text": [
      "\u001b[36m\u001b[1mProject \u001b[22m\u001b[39mmodel0 v0.1.0\n",
      "\u001b[32m\u001b[1mStatus\u001b[22m\u001b[39m `~/solow/NODE/Neural Ordinary Differential Equations for the Regression and Prediction of Macroeconomics Data under the Green Solow Model/Upload/all_countries/model0/Project.toml`\n",
      " \u001b[90m [336ed68f]\u001b[39m\u001b[37m CSV v0.8.4\u001b[39m\n",
      " \u001b[90m [2445eb08]\u001b[39m\u001b[37m DataDrivenDiffEq v0.5.5\u001b[39m\n",
      " \u001b[90m [a93c6f00]\u001b[39m\u001b[37m DataFrames v0.22.5\u001b[39m\n",
      " \u001b[90m [aae7a2af]\u001b[39m\u001b[37m DiffEqFlux v1.23.0\u001b[39m\n",
      " \u001b[90m [41bf760c]\u001b[39m\u001b[37m DiffEqSensitivity v6.33.0\u001b[39m\n",
      " \u001b[90m [0c46a032]\u001b[39m\u001b[37m DifferentialEquations v6.16.0\u001b[39m\n",
      " \u001b[90m [587475ba]\u001b[39m\u001b[37m Flux v0.11.1\u001b[39m\n",
      " \u001b[90m [38e38edf]\u001b[39m\u001b[37m GLM v1.4.0\u001b[39m\n",
      " \u001b[90m [a98d9a8b]\u001b[39m\u001b[37m Interpolations v0.13.1\u001b[39m\n",
      " \u001b[90m [033835bb]\u001b[39m\u001b[37m JLD2 v0.4.2\u001b[39m\n",
      " \u001b[90m [b964fa9f]\u001b[39m\u001b[37m LaTeXStrings v1.2.1\u001b[39m\n",
      " \u001b[90m [961ee093]\u001b[39m\u001b[37m ModelingToolkit v5.11.0\u001b[39m\n",
      " \u001b[90m [429524aa]\u001b[39m\u001b[37m Optim v1.2.4\u001b[39m\n",
      " \u001b[90m [1dea7af3]\u001b[39m\u001b[37m OrdinaryDiffEq v5.51.1\u001b[39m\n",
      " \u001b[90m [2dcacdae]\u001b[39m\u001b[37m ParallelDataTransfer v0.5.0\u001b[39m\n",
      " \u001b[90m [91a5bcdd]\u001b[39m\u001b[37m Plots v1.6.12\u001b[39m\n",
      " \u001b[90m [2913bbd2]\u001b[39m\u001b[37m StatsBase v0.33.3\u001b[39m\n",
      " \u001b[90m [3eaba693]\u001b[39m\u001b[37m StatsModels v0.6.21\u001b[39m\n",
      " \u001b[90m [fd094767]\u001b[39m\u001b[37m Suppressor v0.2.0\u001b[39m\n",
      " \u001b[90m [9ff05d80]\u001b[39m\u001b[37m TickTock v1.1.0\u001b[39m\n",
      " \u001b[90m [8ba89e20]\u001b[39m\u001b[37m Distributed \u001b[39m\n",
      " \u001b[90m [37e2e46d]\u001b[39m\u001b[37m LinearAlgebra \u001b[39m\n",
      " \u001b[90m [10745b16]\u001b[39m\u001b[37m Statistics \u001b[39m\n"
     ]
    }
   ],
   "source": [
    "println(@__DIR__)\n",
    "using Pkg\n",
    "# Pkg.update()\n",
    "Pkg.activate(string(@__DIR__, \"/model0/Project.toml\"))\n",
    "Pkg.status()\n",
    "# Pkg.instantiate()"
   ]
  },
  {
   "cell_type": "code",
   "execution_count": 2,
   "metadata": {},
   "outputs": [
    {
     "data": {
      "text/plain": [
       "Plots.GRBackend()"
      ]
     },
     "execution_count": 2,
     "metadata": {},
     "output_type": "execute_result"
    }
   ],
   "source": [
    "# cd(@__DIR__)\n",
    "# using Pkg; Pkg.activate(\".\"); Pkg.instantiate()\n",
    "using OrdinaryDiffEq, DifferentialEquations\n",
    "using ModelingToolkit\n",
    "using DataDrivenDiffEq\n",
    "using LinearAlgebra, DiffEqSensitivity, Optim\n",
    "using DiffEqFlux, Flux\n",
    "using Plots\n",
    "using DataFrames, GLM, StatsModels\n",
    "using CSV\n",
    "using Interpolations\n",
    "using JLD2\n",
    "using Suppressor\n",
    "using Distributed\n",
    "using ParallelDataTransfer\n",
    "using LaTeXStrings, Statistics\n",
    "using StatsBase\n",
    "using TickTock\n",
    "gr()"
   ]
  },
  {
   "cell_type": "markdown",
   "metadata": {},
   "source": [
    "# Getting parameters for all countries"
   ]
  },
  {
   "cell_type": "code",
   "execution_count": 3,
   "metadata": {},
   "outputs": [
    {
     "data": {
      "text/plain": [
       "73-element Array{String,1}:\n",
       " \"Albania\"\n",
       " \"Argentina\"\n",
       " \"Australia\"\n",
       " \"Bahrain\"\n",
       " \"Bangladesh\"\n",
       " \"Benin\"\n",
       " \"Botswana\"\n",
       " \"Brazil\"\n",
       " \"Bulgaria\"\n",
       " \"Burundi\"\n",
       " \"Cameroon\"\n",
       " \"Canada\"\n",
       " \"Chile\"\n",
       " ⋮\n",
       " \"Sri Lanka\"\n",
       " \"Sudan\"\n",
       " \"Sweden\"\n",
       " \"Switzerland\"\n",
       " \"Thailand\"\n",
       " \"Togo\"\n",
       " \"Tunisia\"\n",
       " \"Turkey\"\n",
       " \"Uganda\"\n",
       " \"United Kingdom\"\n",
       " \"United States\"\n",
       " \"Uruguay\""
      ]
     },
     "execution_count": 3,
     "metadata": {},
     "output_type": "execute_result"
    }
   ],
   "source": [
    "country_list = [\"Albania\", \"Argentina\", \"Australia\", \"Bahrain\", \"Bangladesh\", \"Benin\", \"Botswana\", \"Brazil\", \"Bulgaria\", \"Burundi\", \"Cameroon\", \"Canada\", \"Chile\", \"China\", \"Colombia\", \"Costa Rica\", \"Denmark\", \"Dominican Republic\", \"Ecuador\", \"El Salvador\", \"Finland\", \"France\", \"Gabon\", \"Ghana\", \"Greece\", \"Guatemala\", \"Guinea\", \"Honduras\", \"India\", \"Israel\", \"Italy\", \"Jamaica\", \"Jordan\", \"Kenya\", \"Kuwait\", \"Madagascar\", \"Malawi\", \"Malaysia\", \"Mali\", \"Mauritania\", \"Mauritius\", \"Mexico\", \"Mongolia\", \"Morocco\", \"Nepal\", \"Netherlands\", \"Niger\", \"Nigeria\", \"Norway\", \"Oman\", \"Pakistan\", \"Panama\", \"Peru\", \"Philippines\", \"Portugal\", \"Saudi Arabia\", \"Senegal\", \"Sierra Leone\", \"Singapore\", \"South Africa\", \"Spain\", \"Sri Lanka\", \"Sudan\", \"Sweden\", \"Switzerland\", \"Thailand\", \"Togo\", \"Tunisia\", \"Turkey\", \"Uganda\", \"United Kingdom\", \"United States\", \"Uruguay\"]"
   ]
  },
  {
   "cell_type": "code",
   "execution_count": 5,
   "metadata": {},
   "outputs": [
    {
     "data": {
      "text/html": [
       "<table class=\"data-frame\"><thead><tr><th></th><th>country</th><th>delta</th><th>gB</th><th>alpha</th><th>gA</th></tr><tr><th></th><th>String</th><th>Float64</th><th>Float64</th><th>Float64</th><th>Float64</th></tr></thead><tbody><p>73 rows × 5 columns</p><tr><th>1</th><td>Albania</td><td>0.0251693</td><td>0.149951</td><td>-0.0333388</td><td>-0.0335379</td></tr><tr><th>2</th><td>Argentina</td><td>0.0264447</td><td>0.0963903</td><td>-0.014503</td><td>-0.00314593</td></tr><tr><th>3</th><td>Australia</td><td>1.75072</td><td>0.0264707</td><td>0.0293717</td><td>-0.0144757</td></tr><tr><th>4</th><td>Bahrain</td><td>0.0266854</td><td>0.134506</td><td>-0.0229987</td><td>-0.00344599</td></tr><tr><th>5</th><td>Bangladesh</td><td>0.0376508</td><td>0.16348</td><td>-0.0272689</td><td>0.0159941</td></tr><tr><th>6</th><td>Benin</td><td>0.0378512</td><td>0.0433266</td><td>-0.00992922</td><td>0.0670078</td></tr><tr><th>7</th><td>Botswana</td><td>0.0265171</td><td>0.173734</td><td>-0.0276872</td><td>0.00798208</td></tr><tr><th>8</th><td>Brazil</td><td>0.0260612</td><td>0.0953117</td><td>-0.012378</td><td>-0.00114704</td></tr><tr><th>9</th><td>Bulgaria</td><td>0.0251016</td><td>0.244261</td><td>-0.019629</td><td>-0.0107768</td></tr><tr><th>10</th><td>Burundi</td><td>0.0377361</td><td>-0.0136378</td><td>0.0129164</td><td>-0.0042402</td></tr><tr><th>11</th><td>Cameroon</td><td>0.0382141</td><td>0.0659656</td><td>-0.00428567</td><td>0.0926899</td></tr><tr><th>12</th><td>Canada</td><td>1.5965</td><td>0.0334077</td><td>0.0288181</td><td>-0.0177756</td></tr><tr><th>13</th><td>Chile</td><td>0.0259524</td><td>0.169099</td><td>-0.032485</td><td>-0.00662852</td></tr><tr><th>14</th><td>China</td><td>0.0377908</td><td>0.328329</td><td>-0.0646719</td><td>-0.00255209</td></tr><tr><th>15</th><td>Colombia</td><td>0.0262348</td><td>0.0651638</td><td>-0.0176577</td><td>-0.013386</td></tr><tr><th>16</th><td>Costa Rica</td><td>0.0262602</td><td>0.0978952</td><td>-0.0214601</td><td>-0.00182106</td></tr><tr><th>17</th><td>Denmark</td><td>1.55804</td><td>0.0515376</td><td>0.0334839</td><td>-0.0204448</td></tr><tr><th>18</th><td>Dominican Republic</td><td>0.0259535</td><td>0.100795</td><td>-0.0272827</td><td>-0.00681406</td></tr><tr><th>19</th><td>Ecuador</td><td>0.0252078</td><td>0.0893847</td><td>-0.00247492</td><td>0.0296388</td></tr><tr><th>20</th><td>El Salvador</td><td>0.0377302</td><td>0.205196</td><td>-0.00331014</td><td>0.0141085</td></tr><tr><th>21</th><td>Finland</td><td>0.0231016</td><td>0.102908</td><td>-0.0236334</td><td>-0.0169557</td></tr><tr><th>22</th><td>France</td><td>0.0260003</td><td>0.100989</td><td>-0.0144615</td><td>-0.0273103</td></tr><tr><th>23</th><td>Gabon</td><td>0.0253723</td><td>0.136897</td><td>0.0203988</td><td>-0.0320444</td></tr><tr><th>24</th><td>Ghana</td><td>0.0264517</td><td>0.0130474</td><td>-0.0125817</td><td>0.00523373</td></tr><tr><th>25</th><td>Greece</td><td>0.0282059</td><td>0.0913928</td><td>-0.0251516</td><td>-0.00883088</td></tr><tr><th>26</th><td>Guatemala</td><td>0.0262625</td><td>0.102575</td><td>-0.00571236</td><td>0.00286494</td></tr><tr><th>27</th><td>Guinea</td><td>0.0377515</td><td>0.0158749</td><td>-0.00948831</td><td>0.0037453</td></tr><tr><th>28</th><td>Honduras</td><td>0.0263986</td><td>0.0778298</td><td>-0.00855565</td><td>0.017384</td></tr><tr><th>29</th><td>India</td><td>0.0378888</td><td>0.208094</td><td>-0.0435672</td><td>-0.006297</td></tr><tr><th>30</th><td>Israel</td><td>1.42952</td><td>0.0196351</td><td>0.0271388</td><td>-0.004097</td></tr><tr><th>&vellip;</th><td>&vellip;</td><td>&vellip;</td><td>&vellip;</td><td>&vellip;</td><td>&vellip;</td></tr></tbody></table>"
      ],
      "text/latex": [
       "\\begin{tabular}{r|ccccc}\n",
       "\t& country & delta & gB & alpha & gA\\\\\n",
       "\t\\hline\n",
       "\t& String & Float64 & Float64 & Float64 & Float64\\\\\n",
       "\t\\hline\n",
       "\t1 & Albania & 0.0251693 & 0.149951 & -0.0333388 & -0.0335379 \\\\\n",
       "\t2 & Argentina & 0.0264447 & 0.0963903 & -0.014503 & -0.00314593 \\\\\n",
       "\t3 & Australia & 1.75072 & 0.0264707 & 0.0293717 & -0.0144757 \\\\\n",
       "\t4 & Bahrain & 0.0266854 & 0.134506 & -0.0229987 & -0.00344599 \\\\\n",
       "\t5 & Bangladesh & 0.0376508 & 0.16348 & -0.0272689 & 0.0159941 \\\\\n",
       "\t6 & Benin & 0.0378512 & 0.0433266 & -0.00992922 & 0.0670078 \\\\\n",
       "\t7 & Botswana & 0.0265171 & 0.173734 & -0.0276872 & 0.00798208 \\\\\n",
       "\t8 & Brazil & 0.0260612 & 0.0953117 & -0.012378 & -0.00114704 \\\\\n",
       "\t9 & Bulgaria & 0.0251016 & 0.244261 & -0.019629 & -0.0107768 \\\\\n",
       "\t10 & Burundi & 0.0377361 & -0.0136378 & 0.0129164 & -0.0042402 \\\\\n",
       "\t11 & Cameroon & 0.0382141 & 0.0659656 & -0.00428567 & 0.0926899 \\\\\n",
       "\t12 & Canada & 1.5965 & 0.0334077 & 0.0288181 & -0.0177756 \\\\\n",
       "\t13 & Chile & 0.0259524 & 0.169099 & -0.032485 & -0.00662852 \\\\\n",
       "\t14 & China & 0.0377908 & 0.328329 & -0.0646719 & -0.00255209 \\\\\n",
       "\t15 & Colombia & 0.0262348 & 0.0651638 & -0.0176577 & -0.013386 \\\\\n",
       "\t16 & Costa Rica & 0.0262602 & 0.0978952 & -0.0214601 & -0.00182106 \\\\\n",
       "\t17 & Denmark & 1.55804 & 0.0515376 & 0.0334839 & -0.0204448 \\\\\n",
       "\t18 & Dominican Republic & 0.0259535 & 0.100795 & -0.0272827 & -0.00681406 \\\\\n",
       "\t19 & Ecuador & 0.0252078 & 0.0893847 & -0.00247492 & 0.0296388 \\\\\n",
       "\t20 & El Salvador & 0.0377302 & 0.205196 & -0.00331014 & 0.0141085 \\\\\n",
       "\t21 & Finland & 0.0231016 & 0.102908 & -0.0236334 & -0.0169557 \\\\\n",
       "\t22 & France & 0.0260003 & 0.100989 & -0.0144615 & -0.0273103 \\\\\n",
       "\t23 & Gabon & 0.0253723 & 0.136897 & 0.0203988 & -0.0320444 \\\\\n",
       "\t24 & Ghana & 0.0264517 & 0.0130474 & -0.0125817 & 0.00523373 \\\\\n",
       "\t25 & Greece & 0.0282059 & 0.0913928 & -0.0251516 & -0.00883088 \\\\\n",
       "\t26 & Guatemala & 0.0262625 & 0.102575 & -0.00571236 & 0.00286494 \\\\\n",
       "\t27 & Guinea & 0.0377515 & 0.0158749 & -0.00948831 & 0.0037453 \\\\\n",
       "\t28 & Honduras & 0.0263986 & 0.0778298 & -0.00855565 & 0.017384 \\\\\n",
       "\t29 & India & 0.0378888 & 0.208094 & -0.0435672 & -0.006297 \\\\\n",
       "\t30 & Israel & 1.42952 & 0.0196351 & 0.0271388 & -0.004097 \\\\\n",
       "\t$\\dots$ & $\\dots$ & $\\dots$ & $\\dots$ & $\\dots$ & $\\dots$ \\\\\n",
       "\\end{tabular}\n"
      ],
      "text/plain": [
       "\u001b[1m73×5 DataFrame\u001b[0m\n",
       "\u001b[1m Row \u001b[0m│\u001b[1m country        \u001b[0m\u001b[1m delta     \u001b[0m\u001b[1m gB          \u001b[0m\u001b[1m alpha       \u001b[0m\u001b[1m gA          \u001b[0m\n",
       "\u001b[1m     \u001b[0m│\u001b[90m String         \u001b[0m\u001b[90m Float64   \u001b[0m\u001b[90m Float64     \u001b[0m\u001b[90m Float64     \u001b[0m\u001b[90m Float64     \u001b[0m\n",
       "─────┼──────────────────────────────────────────────────────────────────\n",
       "   1 │ Albania         0.0251693   0.149951    -0.0333388   -0.0335379\n",
       "   2 │ Argentina       0.0264447   0.0963903   -0.014503    -0.00314593\n",
       "   3 │ Australia       1.75072     0.0264707    0.0293717   -0.0144757\n",
       "   4 │ Bahrain         0.0266854   0.134506    -0.0229987   -0.00344599\n",
       "   5 │ Bangladesh      0.0376508   0.16348     -0.0272689    0.0159941\n",
       "   6 │ Benin           0.0378512   0.0433266   -0.00992922   0.0670078\n",
       "   7 │ Botswana        0.0265171   0.173734    -0.0276872    0.00798208\n",
       "   8 │ Brazil          0.0260612   0.0953117   -0.012378    -0.00114704\n",
       "   9 │ Bulgaria        0.0251016   0.244261    -0.019629    -0.0107768\n",
       "  10 │ Burundi         0.0377361  -0.0136378    0.0129164   -0.0042402\n",
       "  11 │ Cameroon        0.0382141   0.0659656   -0.00428567   0.0926899\n",
       "  ⋮  │       ⋮             ⋮           ⋮            ⋮            ⋮\n",
       "  64 │ Sweden          1.49702     0.0479679    0.0309406   -0.0374172\n",
       "  65 │ Switzerland     1.48059     0.0532675    0.0237066   -0.0168139\n",
       "  66 │ Thailand        0.0257442   0.157614    -0.0364408    0.00535821\n",
       "  67 │ Togo            0.0381406   0.00600776   0.0170512    0.0911933\n",
       "  68 │ Tunisia         0.0262625   0.146899    -0.0288995   -0.00549147\n",
       "  69 │ Turkey          0.0253518   0.132728    -0.0237953    0.00313726\n",
       "  70 │ Uganda          0.0377361   0.136169    -0.0230084    0.0267479\n",
       "  71 │ United Kingdom  0.0276338   0.0983985   -0.0199752   -0.029021\n",
       "  72 │ United States   1.86233     0.0275156    0.0284931   -0.0224776\n",
       "  73 │ Uruguay         0.0262085   0.0871606   -0.0210017    0.00223141\n",
       "\u001b[36m                                                         52 rows omitted\u001b[0m"
      ]
     },
     "execution_count": 5,
     "metadata": {},
     "output_type": "execute_result"
    }
   ],
   "source": [
    "paras2 = CSV.read(string(@__DIR__, \"/model2_initialisation/Nelder_Mead_parameters.csv\"),\n",
    "    normalizenames = true, \n",
    "    DataFrame)"
   ]
  },
  {
   "cell_type": "markdown",
   "metadata": {},
   "source": [
    "Getting time series data"
   ]
  },
  {
   "cell_type": "code",
   "execution_count": 5,
   "metadata": {},
   "outputs": [
    {
     "data": {
      "text/plain": [
       "getCleandataFrame (generic function with 1 method)"
      ]
     },
     "execution_count": 5,
     "metadata": {},
     "output_type": "execute_result"
    }
   ],
   "source": [
    "function getCleandataFrame(country)\n",
    "    df_year=df[!,\"Year\"][2:end]\n",
    "    df1=df[!,string(country,\"_yt\")]  #GDP\n",
    "    df2=df[!,string(country,\"_kt\")] #capital per capita\n",
    "    df3=df[!,string(country,\"_srate\")][2:end] # savig rate\n",
    "    df6= df[!,string(country,\"_et\")] #population\n",
    "    df4= df[!,string(country,\"_nt\")][2:end] #population\n",
    "    df8=df6[1:end-1] .-df6[2:end]#de\n",
    "    df6=df6[2:end]\n",
    "    df5=df2[1:end-1] .-df2[2:end] #dk\n",
    "    df2=df2[2:end]\n",
    "    df7= df1[1:end-1] .-df1[2:end] # dydt\n",
    "    df1=df1[2:end]\n",
    "    newdf= DataFrame(Year=df_year,yt=df1, k=df2, srate=df3,nt=df4,dkdt=df5,dydt=df7,dedt=df8,et=df6)\n",
    "    newdf=newdf[completecases(newdf), :]\n",
    "    return newdf, df8, df5, df7\n",
    "end\n"
   ]
  },
  {
   "cell_type": "code",
   "execution_count": 6,
   "metadata": {},
   "outputs": [
    {
     "data": {
      "text/plain": [
       "generate_data (generic function with 1 method)"
      ]
     },
     "execution_count": 6,
     "metadata": {},
     "output_type": "execute_result"
    }
   ],
   "source": [
    "df = CSV.read(string(@__DIR__, \"/compileddf.csv\"),\n",
    "    normalizenames = true, \n",
    "    DataFrame)\n",
    "\n",
    "function generate_data(country)\n",
    "    newdf, df8, df5, df7=getCleandataFrame(country)\n",
    "    years_available=size(newdf)[1]\n",
    "\n",
    "    st = interpolate(newdf[!,\"srate\"], BSpline(Quadratic(Free(OnCell()))))\n",
    "    nt = interpolate(newdf[!,\"nt\"], BSpline(Quadratic(Free(OnCell()))))\n",
    "    kdata= newdf[!,\"k\"]\n",
    "    ydata=newdf[!,\"yt\"]\n",
    "    edata=newdf[!,\"et\"]\n",
    "    kic= newdf[!,\"k\"][1]\n",
    "    yic=newdf[!,\"yt\"][1]\n",
    "    eic=newdf[!,\"et\"][1]\n",
    "    kₜ= kdata\n",
    "    yₜ = ydata\n",
    "    eₜ = edata\n",
    "    s = st\n",
    "    n = nt\n",
    "return years_available, st, nt, kdata, ydata, edata, kic, yic, eic, kₜ, yₜ, eₜ, s, n, df8, df5, df7\n",
    "end"
   ]
  },
  {
   "cell_type": "markdown",
   "metadata": {},
   "source": [
    "Using the parameters to solve the ODEs as a coupled system. \n",
    "\n",
    "The ODEs are solved using TRBDF2 because the problem is stiff. The solver is robust to oscillations and massive stiffness. \n",
    "\n",
    "We see if training with a neural network can reduce losses"
   ]
  },
  {
   "cell_type": "code",
   "execution_count": 18,
   "metadata": {},
   "outputs": [
    {
     "data": {
      "text/plain": [
       "generate_parameters_and_predictions (generic function with 2 methods)"
      ]
     },
     "execution_count": 18,
     "metadata": {},
     "output_type": "execute_result"
    }
   ],
   "source": [
    "function generate_parameters_and_predictions(ann,country)\n",
    "    println(\"Generating data for country: \", country)\n",
    "    \n",
    "    function get_parameters(country_input)\n",
    "    set2 = values(paras2[paras2.country .== country_input,2:5])\n",
    "    # set2 = paras2[paras2.country == \"Albania\",:]\n",
    "    return set2[!,1], set2[!,2], set2[!,3], set2[!,4]\n",
    "    end\n",
    "    \n",
    "    nnparas = CSV.read(string(@__DIR__, \"/model2_initialisation/tanh3kye/\", country, \"parameterstanh3kye.csv\"), \n",
    "        normalizenames = true, \n",
    "        DataFrame)\n",
    "\n",
    "    nnp = Array(nnparas[!,country])\n",
    "    \n",
    "#     NM_parameters = get_parameters(country)\n",
    "    \n",
    "#     nnp[end-3] = NM_parameters[1][1]\n",
    "#     nnp[end-2] = NM_parameters[2][1]\n",
    "#     nnp[end-1] = NM_parameters[3][1]\n",
    "#     nnp[end] = NM_parameters[3][1]\n",
    "    \n",
    "    years_available, st, nt, kdata, ydata, edata, kic, yic, eic, kₜ, yₜ, eₜ, s, n, df8, df5, df7 = generate_data(country)  \n",
    "    \n",
    "    function solownneqn1(du,u,p,t)\n",
    "        sₜ = st(t) #savings rate\n",
    "        nₜ = nt(t)\n",
    "\n",
    "        k = u[1]\n",
    "        y=u[2]\n",
    "        e=u[3]\n",
    "        α,δ,gᵦ,gₐ= ann([k,y,e],p)\n",
    "        du[1] = sₜ*y-(δ+nₜ+gᵦ)*k # rate of change of kt\n",
    "        du[2] = y*(gᵦ+α*du[1]/k) # rate of change of yt\n",
    "        du[3] = e*(-gₐ+du[2]/y)\n",
    "        return du\n",
    "    end\n",
    "    \n",
    "    nntspan = (1.0e0,years_available*1.0) ## the year is hard coded, to be changed later\n",
    "    nndatasize = years_available\n",
    "    nntsteps = range(nntspan[1], nntspan[2], length=nndatasize)\n",
    "    u0 = Float32[kic,yic,eic] ## kt initial\n",
    "    prob_solownneqn = ODEProblem(solownneqn1, u0, nntspan, nnp)\n",
    "    pred = solve(prob_solownneqn, TRBDF2(),p=nnp, abstol=1e-4, reltol=1e-4, saveat = nntsteps)\n",
    "\n",
    "    function predicts(θ)\n",
    "        Array(solve(prob_solownneqn,TRBDF2(),p=θ, abstol=1e-4, reltol=1e-4, saveat = nntsteps))\n",
    "    end\n",
    "\n",
    "    losses=[]\n",
    "    \n",
    "    function loss(θ)\n",
    "        pred = predicts(θ)\n",
    "        kloss=sum(abs,(pred[1,:].-kdata))./ sum(pred[1,:].+ kdata)\n",
    "        yloss=sum(abs, (pred[2,:].-ydata))./sum(pred[2,:].+ydata)\n",
    "        eloss=sum(abs,(pred[3,:].-edata))./sum(pred[3,:].+edata)\n",
    "        return ((kloss+eloss+yloss)), pred\n",
    "    end      \n",
    "\n",
    "    callback(θ,l,pred) = begin\n",
    "            push!(losses, l)\n",
    "            false\n",
    "    end\n",
    "    tick()\n",
    "    res1= DiffEqFlux.sciml_train(loss, nnp, ADAM(0.001),cb=callback, maxiters=100)\n",
    "    res1= DiffEqFlux.sciml_train(loss, res1.minimizer, BFGS(initial_stepnorm=0.000001/100),cb=callback, maxiters=100)\n",
    "        timed = tok()\n",
    "        if timed > 900\n",
    "            println(\"Took too long\", timed)\n",
    "            pred = Array{Float64}(undef, 3, getfield(size(kdata), 1))\n",
    "            return years_available, kdata, ydata, edata, res1.minimizer, pred, df8, df5, df7\n",
    "        end  \n",
    "\n",
    "    while ((mean(losses[end-100:end-50])>=(1.001*mean(losses[end-49:end]))) || std(losses[end-49:end]) >=0.001) && length(losses) <3000\n",
    "       tick()\n",
    "        res1= DiffEqFlux.sciml_train(loss, res1.minimizer, ADAM(0.0001),cb=callback, maxiters=200)\n",
    "\n",
    "        \n",
    "        try\n",
    "            res1= DiffEqFlux.sciml_train(loss, res1.minimizer, BFGS(initial_stepnorm=0.000001/100),cb=callback, maxiters=100)\n",
    "\n",
    "        catch e\n",
    "            res1= DiffEqFlux.sciml_train(loss, res1.minimizer, ADAM(0.0001),cb=callback, maxiters=100)\n",
    "        end\n",
    "\n",
    "        res1= DiffEqFlux.sciml_train(loss, res1.minimizer, ADAM(0.00001),cb=callback, maxiters=100)\n",
    "\n",
    "        try\n",
    "            res1= DiffEqFlux.sciml_train(loss, res1.minimizer, BFGS(initial_stepnorm=0.000001/100),cb=callback, maxiters=100)\n",
    "        catch e\n",
    "            res1= DiffEqFlux.sciml_train(loss, res1.minimizer, ADAM(0.00001),cb=callback, maxiters=100)\n",
    "        end\n",
    "    timed = tok()\n",
    "        if timed > 1800\n",
    "            println(\"Took too long\", timed)\n",
    "            pred = Array{Float64}(undef, 3, getfield(size(kdata), 1))\n",
    "            return years_available, kdata, ydata, edata, res1.minimizer, pred, df8, df5, df7\n",
    "        end \n",
    "    end\n",
    "\n",
    "    return years_available, kdata, ydata, edata, res1.minimizer, pred, df8, df5, df7\n",
    "    end"
   ]
  },
  {
   "cell_type": "code",
   "execution_count": 8,
   "metadata": {},
   "outputs": [],
   "source": [
    "# ann = FastChain(FastDense(1, 12, tanh),FastDense(12, 12, tanh),\n",
    "#                     FastDense(12, 4))\n",
    "\n",
    "# generate_parameters_and_predictions(ann, \"Botswana\", nnparas)"
   ]
  },
  {
   "cell_type": "code",
   "execution_count": 9,
   "metadata": {},
   "outputs": [
    {
     "data": {
      "text/plain": [
       "plot_graph (generic function with 1 method)"
      ]
     },
     "execution_count": 9,
     "metadata": {},
     "output_type": "execute_result"
    }
   ],
   "source": [
    " function plot_graph(nnpred,country,nntstepsfull,kdata,ydata,edata)\n",
    "    upscale = 1 #8x upscaling in resolution\n",
    "    fntsm = Plots.font(\"sans-serif\", pointsize=round(12.0*upscale))\n",
    "    fntlg = Plots.font(\"sans-serif\", pointsize=round(16.0*upscale))\n",
    "    default(titlefont=fntlg, guidefont=fntlg, tickfont=fntsm, legendfont=fntsm)\n",
    "    default(size=(550*upscale,400*upscale)) #Plot canvas size\n",
    "    default(dpi=300)\n",
    "    \n",
    "#     fctime = collect(Int(floor(size(nntstepsfull,1)*0.8))+1:1:size(nntstepsfull,1)) \n",
    "# #             println(fctime)\n",
    "#             println(nntstepsfull)\n",
    "    plotkyenn12ic= scatter(xaxis=nntstepsfull,nnpred[1:2,:]',\n",
    "        label=[L\"k_{sol}\" L\"y_{sol}\"],color=[:red :blue],legend=(0.102,0.955),\n",
    "        markershape=[:circle :diamond],markersize=4,\n",
    "        ylabel=L\"k^c_t,y^t_c\",right_margin = 15Plots.mm)\n",
    "            \n",
    "    plot!(plotkyenn12ic,[kdata,ydata],label=[L\"k_{data}\" L\"y_{data}\"],linestyle=[:solid :dash],\n",
    "        color=[:red :blue],ylim=(0,1.5.*round(maximum(kdata);sigdigits=1)),foreground_color_legend = nothing)\n",
    "\n",
    "#     scatter!(plotkyenn12ic,nntstepsfull,nnpred[1:2,:]',\n",
    "#         color=[:red :blue],markershape=[:circle :diamond], markersize=4,label=nothing)\n",
    "\n",
    "    pr = twinx()\n",
    "    \n",
    "#     scatter!(pr,nntstepsfull,nnpred[3,:],\n",
    "#         color=:green,legend=(0.89,0.954), markershape = [:utriangle], markersize=4, label=nothing)\n",
    "\n",
    "    scatter!(pr,nntstepsfull,nnpred[3,:],\n",
    "        label=L\"e_{sol}\",color=:green,legend=(0.89,0.954), markershape = [:utriangle], markersize=4,\n",
    "        ylabel=L\"e^t_c\",right_margin = 15Plots.mm,\n",
    "        foreground_color_legend = nothing,background_color_legend = nothing)\n",
    "            \n",
    "    plot!(pr,edata,label=L\"e_{data}\",color=:green,ylim=(0,1.5.*round(maximum(edata);sigdigits=1)),\n",
    "                linestyle=:dot)\n",
    "    \n",
    " xpts = collect(0:5:5*ceil(length(nntstepsfull)/5))\n",
    "#     if xpts[end] != length(nntsteps)\n",
    "#         push!(xpts,length(nntsteps))\n",
    "        xpts[1]=1\n",
    "#     end\n",
    "    \n",
    "   plot(plotkyenn12ic,xlabel = \"years\",xticks=xpts,box=:on,linewidth=2*upscale)\n",
    "#     display(StatsPlots.plot(pl,xlabel = \"Days post 21 March 2020\",xticks=0:10:110,tickfont=12,\n",
    "#         guidefont = 16,legendfontsize=12,legend=(0.1,0.92),\n",
    "#         dpi=300,box=:on,linewidth=2*upscale))\n",
    "\n",
    "    savefig(string(@__DIR__,\"/all_countries/GivenParams/model5_\",country))\n",
    "end\n"
   ]
  },
  {
   "cell_type": "code",
   "execution_count": 10,
   "metadata": {},
   "outputs": [
    {
     "data": {
      "text/plain": [
       "calculate_metrics (generic function with 1 method)"
      ]
     },
     "execution_count": 10,
     "metadata": {},
     "output_type": "execute_result"
    }
   ],
   "source": [
    "function calculate_metrics(pred,kdata, ydata, edata)\n",
    "    Botswana_k_pred = convert(Array{Float64},pred[1,:])\n",
    "    Botswana_y_pred = convert(Array{Float64},pred[2,:])\n",
    "    Botswana_e_pred = convert(Array{Float64},pred[3,:])\n",
    "    kdata = identity.(kdata)\n",
    "    ydata = identity.(ydata)\n",
    "    edata = identity.(edata)\n",
    "\n",
    "    metrics = Float64[]\n",
    "    push!(metrics,sqL2dist(Botswana_k_pred, identity.(kdata))/length(kdata))\n",
    "    push!(metrics,sqL2dist(Botswana_y_pred, identity.(ydata))/length(ydata)) \n",
    "    push!(metrics,sqL2dist(Botswana_e_pred, identity.(edata))/length(edata))\n",
    "    push!(metrics,L2dist(Botswana_k_pred, identity.(kdata))/length(kdata))\n",
    "    push!(metrics,L2dist(Botswana_y_pred, identity.(ydata))/length(ydata))\n",
    "    push!(metrics,L2dist(Botswana_e_pred, identity.(edata))/length(edata))\n",
    "    push!(metrics,L1dist(convert(Array{Float64},Botswana_k_pred),identity.(kdata))/length(kdata))\n",
    "    push!(metrics,L1dist(convert(Array{Float64},Botswana_y_pred),identity.(ydata))/length(ydata))\n",
    "    push!(metrics,L1dist(convert(Array{Float64},Botswana_e_pred),identity.(edata))/length(edata))\n",
    "\n",
    "    function r2_impl(data,pred)\n",
    "    tss = sum((data .-mean(data)).^2)\n",
    "    rss = sum((data .-pred).^2)\n",
    "    r2 = 1- rss/tss\n",
    "    return r2  \n",
    "    end\n",
    "\n",
    "    push!(metrics,r2_impl(kdata, Botswana_k_pred))\n",
    "    push!(metrics,r2_impl(ydata, Botswana_y_pred))\n",
    "    push!(metrics,r2_impl(edata, Botswana_e_pred))\n",
    "\n",
    "    function Ar2_impl(data,pred, p)\n",
    "    tss = sum((data .-mean(data)).^2)\n",
    "    rss = sum((data .-pred).^2)\n",
    "    r2 = 1- rss/tss\n",
    "    n = size(data)[1]\n",
    "    ar2 = 1 - abs((1 - r2)*(n-1)/(n-p))\n",
    "    return ar2  \n",
    "    end\n",
    "\n",
    "    push!(metrics,Ar2_impl(kdata, Botswana_k_pred, 412))\n",
    "    push!(metrics,Ar2_impl(ydata, Botswana_y_pred, 412))\n",
    "    push!(metrics,Ar2_impl(edata, Botswana_e_pred, 412))\n",
    "\n",
    "    push!(metrics,mean((kdata.- Botswana_k_pred)./kdata)*100)\n",
    "    push!(metrics,mean((ydata.- Botswana_y_pred)./ydata)*100)\n",
    "    push!(metrics,mean((edata.- Botswana_e_pred)./edata)*100)\n",
    "\n",
    "    push!(metrics,mean(abs.((kdata.- Botswana_k_pred)./kdata))*100)\n",
    "    push!(metrics,mean(abs.((ydata.- Botswana_y_pred)./ydata))*100)\n",
    "    push!(metrics,mean(abs.((edata.- Botswana_e_pred)./edata))*100)\n",
    "\n",
    "    push!(metrics,mean(atan.(abs.((kdata.- Botswana_k_pred)./kdata)))*100)\n",
    "    push!(metrics,mean(atan.(abs.((ydata.- Botswana_y_pred)./ydata)))*100)\n",
    "    push!(metrics,mean(atan.(abs.((edata.- Botswana_e_pred)./edata)))*100)\n",
    "\n",
    "    push!(metrics,mean(kdata.- Botswana_k_pred))\n",
    "    push!(metrics,mean(ydata.- Botswana_y_pred))\n",
    "    push!(metrics,mean(edata.- Botswana_e_pred))\n",
    "\n",
    "    function loglikelihood_calc(data,pred)\n",
    "    rss = sum((data .-pred).^2)\n",
    "    n = length(pred)\n",
    "    return -n/2*(log(2pi*rss/n)+1)\n",
    "    end\n",
    "    # implementation from julia: https://github.com/JuliaStats/GLM.jl/blob/950579166c52ff1cbbeab75cbc23235b30640802/src/lm.jl\n",
    "\n",
    "    push!(metrics,loglikelihood_calc(kdata, Botswana_k_pred))\n",
    "    push!(metrics,loglikelihood_calc(ydata, Botswana_y_pred))\n",
    "    push!(metrics,loglikelihood_calc(edata, Botswana_e_pred))\n",
    "\n",
    "    function aic_calc(data, pred, params)\n",
    "        L = loglikelihood_calc(data,pred)\n",
    "        return 2*params-2*L\n",
    "    end\n",
    "\n",
    "    push!(metrics,aic_calc(kdata, Botswana_k_pred, 412))\n",
    "    push!(metrics,aic_calc(ydata, Botswana_y_pred, 412))\n",
    "    push!(metrics,aic_calc(edata, Botswana_e_pred, 412))\n",
    "\n",
    "    function aicc_calc(data, pred, params)\n",
    "        n = length(pred)\n",
    "        L = loglikelihood_calc(data,pred)\n",
    "        return -2*L + 2*params + 2*params*(params+1)/(n-params-1)\n",
    "    end\n",
    "\n",
    "\n",
    "    push!(metrics,aicc_calc(kdata, Botswana_k_pred, 412))\n",
    "    push!(metrics,aicc_calc(ydata, Botswana_y_pred, 412))\n",
    "    push!(metrics,aicc_calc(edata, Botswana_e_pred, 412))\n",
    "\n",
    "    function bic_calc(data, pred, params)\n",
    "        n = length(pred)\n",
    "        L = loglikelihood_calc(data,pred)\n",
    "        return -2*L + params*log(n)\n",
    "    end\n",
    "\n",
    "\n",
    "\n",
    "    push!(metrics,bic_calc(kdata, Botswana_k_pred, 412))\n",
    "    push!(metrics,bic_calc(ydata, Botswana_y_pred, 412))\n",
    "    push!(metrics,bic_calc(edata, Botswana_e_pred, 412))\n",
    "\n",
    "    return metrics\n",
    "end\n"
   ]
  },
  {
   "cell_type": "code",
   "execution_count": 11,
   "metadata": {},
   "outputs": [
    {
     "data": {
      "text/html": [
       "<table class=\"data-frame\"><thead><tr><th></th><th>country</th><th>MSE1_kt</th><th>MSE1_yt</th><th>MSE1_et</th><th>RMSE1_kt</th><th>RMSE1_yt</th><th>RMSE1_et</th><th>MAE1_kt</th><th>MAE1_yt</th></tr><tr><th></th><th>String</th><th>Float64</th><th>Float64</th><th>Float64</th><th>Float64</th><th>Float64</th><th>Float64</th><th>Float64</th><th>Float64</th></tr></thead><tbody><p>0 rows × 40 columns (omitted printing of 31 columns)</p></tbody></table>"
      ],
      "text/latex": [
       "\\begin{tabular}{r|cccccccccc}\n",
       "\t& country & MSE1\\_kt & MSE1\\_yt & MSE1\\_et & RMSE1\\_kt & RMSE1\\_yt & RMSE1\\_et & MAE1\\_kt & MAE1\\_yt & \\\\\n",
       "\t\\hline\n",
       "\t& String & Float64 & Float64 & Float64 & Float64 & Float64 & Float64 & Float64 & Float64 & \\\\\n",
       "\t\\hline\n",
       "\\end{tabular}\n"
      ],
      "text/plain": [
       "\u001b[1m0×40 DataFrame\u001b[0m"
      ]
     },
     "execution_count": 11,
     "metadata": {},
     "output_type": "execute_result"
    }
   ],
   "source": [
    "store_parameters_and_metrics = DataFrame(country = String[], \n",
    "    MSE1_kt = Float64[],    MSE1_yt = Float64[],    MSE1_et = Float64[],\n",
    "    RMSE1_kt = Float64[],    RMSE1_yt = Float64[],    RMSE1_et = Float64[],\n",
    "    MAE1_kt = Float64[],    MAE1_yt = Float64[],    MAE1_et = Float64[],\n",
    "    Rsq1_kt = Float64[],    Rsq1_yt = Float64[],    Rsq1_et = Float64[],\n",
    "    ARsq1_kt = Float64[],    ARsq1_yt = Float64[],    ARsq1_et = Float64[],\n",
    "    MPE1_kt = Float64[],    MPE1_yt = Float64[],    MPE1_et = Float64[],\n",
    "    MAPE1_kt = Float64[],    MAPE1_yt = Float64[],    MAPE1_et = Float64[],\n",
    "    MAAPE1_kt = Float64[],    MAAPE1_yt = Float64[],    MAAPE1_et = Float64[],\n",
    "    MBE1_kt = Float64[],    MBE1_yt = Float64[],    MBE1_et = Float64[],\n",
    "    loglik1_kt = Float64[],    loglik1_yt = Float64[],    loglik1_et = Float64[],\n",
    "    aic1_kt = Float64[],    aic1_yt = Float64[],    aic1_et = Float64[],\n",
    "    aicc1_kt = Float64[],    aicc1_yt = Float64[],    aicc1_et = Float64[],\n",
    "    bic1_kt = Float64[],    bic1_yt = Float64[],    bic1_et = Float64[]\n",
    "   )\n"
   ]
  },
  {
   "cell_type": "code",
   "execution_count": 12,
   "metadata": {},
   "outputs": [
    {
     "data": {
      "text/html": [
       "<table class=\"data-frame\"><thead><tr><th></th><th>country</th><th>MSE1_kt</th><th>MSE1_yt</th><th>MSE1_et</th><th>RMSE1_kt</th><th>RMSE1_yt</th><th>RMSE1_et</th><th>MAE1_kt</th><th>MAE1_yt</th></tr><tr><th></th><th>String</th><th>Float64</th><th>Float64</th><th>Float64</th><th>Float64</th><th>Float64</th><th>Float64</th><th>Float64</th><th>Float64</th></tr></thead><tbody><p>0 rows × 40 columns (omitted printing of 31 columns)</p></tbody></table>"
      ],
      "text/latex": [
       "\\begin{tabular}{r|cccccccccc}\n",
       "\t& country & MSE1\\_kt & MSE1\\_yt & MSE1\\_et & RMSE1\\_kt & RMSE1\\_yt & RMSE1\\_et & MAE1\\_kt & MAE1\\_yt & \\\\\n",
       "\t\\hline\n",
       "\t& String & Float64 & Float64 & Float64 & Float64 & Float64 & Float64 & Float64 & Float64 & \\\\\n",
       "\t\\hline\n",
       "\\end{tabular}\n"
      ],
      "text/plain": [
       "\u001b[1m0×40 DataFrame\u001b[0m"
      ]
     },
     "execution_count": 12,
     "metadata": {},
     "output_type": "execute_result"
    }
   ],
   "source": [
    "store_parameters_and_differentiation_metrics = DataFrame(country = String[], \n",
    "    MSE1_kt = Float64[],    MSE1_yt = Float64[],    MSE1_et = Float64[],\n",
    "    RMSE1_kt = Float64[],    RMSE1_yt = Float64[],    RMSE1_et = Float64[],\n",
    "    MAE1_kt = Float64[],    MAE1_yt = Float64[],    MAE1_et = Float64[],\n",
    "    Rsq1_kt = Float64[],    Rsq1_yt = Float64[],    Rsq1_et = Float64[],\n",
    "    ARsq1_kt = Float64[],    ARsq1_yt = Float64[],    ARsq1_et = Float64[],\n",
    "    MPE1_kt = Float64[],    MPE1_yt = Float64[],    MPE1_et = Float64[],\n",
    "    MAPE1_kt = Float64[],    MAPE1_yt = Float64[],    MAPE1_et = Float64[],\n",
    "    MAAPE1_kt = Float64[],    MAAPE1_yt = Float64[],    MAAPE1_et = Float64[],\n",
    "    MBE1_kt = Float64[],    MBE1_yt = Float64[],    MBE1_et = Float64[],\n",
    "    loglik1_kt = Float64[],    loglik1_yt = Float64[],    loglik1_et = Float64[],\n",
    "    aic1_kt = Float64[],    aic1_yt = Float64[],    aic1_et = Float64[],\n",
    "    aicc1_kt = Float64[],    aicc1_yt = Float64[],    aicc1_et = Float64[],\n",
    "    bic1_kt = Float64[],    bic1_yt = Float64[],    bic1_et = Float64[]\n",
    "   )"
   ]
  },
  {
   "cell_type": "code",
   "execution_count": 19,
   "metadata": {},
   "outputs": [
    {
     "name": "stdout",
     "output_type": "stream",
     "text": [
      "Loading dataframes for country: Albania\n",
      "Training neural network\n",
      "Generating data for country: Albania\n"
     ]
    },
    {
     "name": "stderr",
     "output_type": "stream",
     "text": [
      "┌ Info:  started timer at: 2021-04-05T14:13:04.069\n",
      "└ @ TickTock /home/ziyu/.julia/packages/TickTock/RsTHR/src/TickTock.jl:32\n",
      "\u001b[32mloss: 0.178: 100%|██████████████████████████████████████| Time: 0:02:35\u001b[39m\n",
      "┌ Info:  started timer at: 2021-04-05T14:22:19.381\n",
      "└ @ TickTock /home/ziyu/.julia/packages/TickTock/RsTHR/src/TickTock.jl:32\n",
      "\u001b[32mloss: 0.174: 100%|██████████████████████████████████████| Time: 0:04:34\u001b[39m\n",
      "\u001b[32mloss: 0.173: 100%|██████████████████████████████████████| Time: 0:02:05\u001b[39m\n"
     ]
    },
    {
     "name": "stdout",
     "output_type": "stream",
     "text": [
      "Plotting graphs for country: Albania\n",
      "Updating csv for parameters for country: Albania\n",
      "Updating csv for differentiation parameters for country: Albania\n",
      "Loading dataframes for country: Argentina\n",
      "Training neural network\n",
      "Generating data for country: Argentina\n"
     ]
    },
    {
     "name": "stderr",
     "output_type": "stream",
     "text": [
      "┌ Info:  started timer at: 2021-04-05T14:33:13.494\n",
      "└ @ TickTock /home/ziyu/.julia/packages/TickTock/RsTHR/src/TickTock.jl:32\n",
      "\u001b[32mloss: 0.179: 100%|██████████████████████████████████████| Time: 0:01:59\u001b[39m\n",
      "┌ Info:  started timer at: 2021-04-05T14:37:08.974\n",
      "└ @ TickTock /home/ziyu/.julia/packages/TickTock/RsTHR/src/TickTock.jl:32\n",
      "\u001b[32mloss: 0.173: 100%|██████████████████████████████████████| Time: 0:03:33\u001b[39m\n",
      "\u001b[32mloss: 0.173: 100%|██████████████████████████████████████| Time: 0:01:39\u001b[39m\n"
     ]
    },
    {
     "name": "stdout",
     "output_type": "stream",
     "text": [
      "Plotting graphs for country: Argentina\n",
      "Updating csv for parameters for country: Argentina\n",
      "Updating csv for differentiation parameters for country: Argentina\n",
      "Loading dataframes for country: Australia\n",
      "Training neural network\n",
      "Generating data for country: Australia\n"
     ]
    },
    {
     "name": "stderr",
     "output_type": "stream",
     "text": [
      "┌ Info:  started timer at: 2021-04-05T14:45:58.333\n",
      "└ @ TickTock /home/ziyu/.julia/packages/TickTock/RsTHR/src/TickTock.jl:32\n",
      "\u001b[32mloss: 0.0532: 100%|█████████████████████████████████████| Time: 0:01:18\u001b[39m\n",
      "┌ Info:  started timer at: 2021-04-05T14:48:48.971\n",
      "└ @ TickTock /home/ziyu/.julia/packages/TickTock/RsTHR/src/TickTock.jl:32\n",
      "\u001b[32mloss: 0.0442: 100%|█████████████████████████████████████| Time: 0:02:25\u001b[39m\n",
      "\u001b[32mloss: 0.0433: 100%|█████████████████████████████████████| Time: 0:01:36\u001b[39m\n",
      "┌ Info:  started timer at: 2021-04-05T14:55:55.806\n",
      "└ @ TickTock /home/ziyu/.julia/packages/TickTock/RsTHR/src/TickTock.jl:32\n",
      "\u001b[32mloss: 0.0439: 100%|█████████████████████████████████████| Time: 0:03:00\u001b[39m\n",
      "\u001b[32mloss: 0.0428: 100%|█████████████████████████████████████| Time: 0:01:34\u001b[39m\n"
     ]
    },
    {
     "name": "stdout",
     "output_type": "stream",
     "text": [
      "Plotting graphs for country: Australia\n",
      "Updating csv for parameters for country: Australia\n",
      "Updating csv for differentiation parameters for country: Australia\n",
      "Loading dataframes for country: Bahrain\n",
      "Training neural network\n",
      "Generating data for country: Bahrain\n"
     ]
    },
    {
     "name": "stderr",
     "output_type": "stream",
     "text": [
      "┌ Info:  started timer at: 2021-04-05T15:04:11.611\n",
      "└ @ TickTock /home/ziyu/.julia/packages/TickTock/RsTHR/src/TickTock.jl:32\n",
      "\u001b[32mloss: 0.242: 100%|██████████████████████████████████████| Time: 0:01:59\u001b[39m\n",
      "┌ Info:  started timer at: 2021-04-05T15:06:36.193\n",
      "└ @ TickTock /home/ziyu/.julia/packages/TickTock/RsTHR/src/TickTock.jl:32\n",
      "\u001b[32mloss: 0.23: 100%|███████████████████████████████████████| Time: 0:04:16\u001b[39m\n",
      "\u001b[32mloss: 0.228: 100%|██████████████████████████████████████| Time: 0:01:27\u001b[39m\n",
      "┌ Info:  started timer at: 2021-04-05T15:15:35.653\n",
      "└ @ TickTock /home/ziyu/.julia/packages/TickTock/RsTHR/src/TickTock.jl:32\n",
      "\u001b[32mloss: 0.22: 100%|███████████████████████████████████████| Time: 0:02:46\u001b[39m\n",
      "\u001b[32mloss: 0.219: 100%|██████████████████████████████████████| Time: 0:01:28\u001b[39m\n",
      "┌ Info:  started timer at: 2021-04-05T15:24:04.168\n",
      "└ @ TickTock /home/ziyu/.julia/packages/TickTock/RsTHR/src/TickTock.jl:32\n",
      "\u001b[32mloss: 0.208: 100%|██████████████████████████████████████| Time: 0:02:51\u001b[39m\n",
      "\u001b[32mloss: 0.206: 100%|██████████████████████████████████████| Time: 0:01:41\u001b[39m\n",
      "┌ Info:  started timer at: 2021-04-05T15:31:29.688\n",
      "└ @ TickTock /home/ziyu/.julia/packages/TickTock/RsTHR/src/TickTock.jl:32\n",
      "\u001b[32mloss: 0.197: 100%|██████████████████████████████████████| Time: 0:03:51\u001b[39m\n",
      "\u001b[32mloss: 0.195: 100%|██████████████████████████████████████| Time: 0:02:01\u001b[39m\n",
      "┌ Info:  started timer at: 2021-04-05T15:42:17.173\n",
      "└ @ TickTock /home/ziyu/.julia/packages/TickTock/RsTHR/src/TickTock.jl:32\n",
      "\u001b[32mloss: 0.187: 100%|██████████████████████████████████████| Time: 0:04:30\u001b[39m\n",
      "\u001b[32mloss: 0.185: 100%|██████████████████████████████████████| Time: 0:02:15\u001b[39m\n",
      "┌ Info:  started timer at: 2021-04-05T15:56:25.94\n",
      "└ @ TickTock /home/ziyu/.julia/packages/TickTock/RsTHR/src/TickTock.jl:32\n",
      "\u001b[32mloss: 0.177: 100%|██████████████████████████████████████| Time: 0:04:45\u001b[39m\n",
      "\u001b[32mloss: 0.174: 100%|██████████████████████████████████████| Time: 0:02:22\u001b[39m\n",
      "┌ Info:  started timer at: 2021-04-05T16:07:12.009\n",
      "└ @ TickTock /home/ziyu/.julia/packages/TickTock/RsTHR/src/TickTock.jl:32\n",
      "\u001b[32mloss: 0.167: 100%|██████████████████████████████████████| Time: 0:04:21\u001b[39m\n",
      "\u001b[32mloss: 0.164: 100%|██████████████████████████████████████| Time: 0:01:49\u001b[39m\n",
      "┌ Info:  started timer at: 2021-04-05T16:20:14.386\n",
      "└ @ TickTock /home/ziyu/.julia/packages/TickTock/RsTHR/src/TickTock.jl:32\n",
      "\u001b[32mloss: 0.16: 100%|███████████████████████████████████████| Time: 0:03:45\u001b[39m\n",
      "\u001b[32mloss: 0.157: 100%|██████████████████████████████████████| Time: 0:01:24\u001b[39m\n",
      "┌ Info:  started timer at: 2021-04-05T16:26:39.315\n",
      "└ @ TickTock /home/ziyu/.julia/packages/TickTock/RsTHR/src/TickTock.jl:32\n",
      "\u001b[32mloss: 0.15: 100%|███████████████████████████████████████| Time: 0:01:59\u001b[39m\n",
      "\u001b[32mloss: 0.149: 100%|██████████████████████████████████████| Time: 0:00:30\u001b[39m\n",
      "┌ Info:  started timer at: 2021-04-05T16:30:35.757\n",
      "└ @ TickTock /home/ziyu/.julia/packages/TickTock/RsTHR/src/TickTock.jl:32\n",
      "\u001b[32mloss: 0.145: 100%|██████████████████████████████████████| Time: 0:01:18\u001b[39m\n",
      "\u001b[32mloss: 0.144: 100%|██████████████████████████████████████| Time: 0:00:35\u001b[39m\n"
     ]
    },
    {
     "name": "stdout",
     "output_type": "stream",
     "text": [
      "Plotting graphs for country: Bahrain\n",
      "Updating csv for parameters for country: Bahrain\n",
      "Updating csv for differentiation parameters for country: Bahrain\n",
      "Loading dataframes for country: Bangladesh\n",
      "Training neural network\n",
      "Generating data for country: Bangladesh\n"
     ]
    },
    {
     "name": "stderr",
     "output_type": "stream",
     "text": [
      "┌ Info:  started timer at: 2021-04-05T16:33:54.027\n",
      "└ @ TickTock /home/ziyu/.julia/packages/TickTock/RsTHR/src/TickTock.jl:32\n",
      "\u001b[32mloss: 0.0547: 100%|█████████████████████████████████████| Time: 0:00:45\u001b[39m\n",
      "┌ Info:  started timer at: 2021-04-05T16:35:30.363\n",
      "└ @ TickTock /home/ziyu/.julia/packages/TickTock/RsTHR/src/TickTock.jl:32\n",
      "\u001b[32mloss: 0.0491: 100%|█████████████████████████████████████| Time: 0:01:28\u001b[39m\n",
      "\u001b[32mloss: 0.0489: 100%|█████████████████████████████████████| Time: 0:00:45\u001b[39m\n"
     ]
    },
    {
     "name": "stdout",
     "output_type": "stream",
     "text": [
      "Plotting graphs for country: Bangladesh\n",
      "Updating csv for parameters for country: Bangladesh\n",
      "Updating csv for differentiation parameters for country: Bangladesh\n",
      "Loading dataframes for country: Benin\n",
      "Training neural network\n",
      "Generating data for country: Benin\n"
     ]
    },
    {
     "name": "stderr",
     "output_type": "stream",
     "text": [
      "┌ Info:  started timer at: 2021-04-05T16:39:51.523\n",
      "└ @ TickTock /home/ziyu/.julia/packages/TickTock/RsTHR/src/TickTock.jl:32\n",
      "\u001b[32mloss: 0.14: 100%|███████████████████████████████████████| Time: 0:00:51\u001b[39m\n",
      "┌ Info:  started timer at: 2021-04-05T16:41:33.107\n",
      "└ @ TickTock /home/ziyu/.julia/packages/TickTock/RsTHR/src/TickTock.jl:32\n",
      "\u001b[32mloss: 0.124: 100%|██████████████████████████████████████| Time: 0:02:18\u001b[39m\n",
      "\u001b[32mloss: 0.123: 100%|██████████████████████████████████████| Time: 0:01:07\u001b[39m\n"
     ]
    },
    {
     "name": "stdout",
     "output_type": "stream",
     "text": [
      "Plotting graphs for country: Benin\n",
      "Updating csv for parameters for country: Benin\n",
      "Updating csv for differentiation parameters for country: Benin\n",
      "Loading dataframes for country: Botswana\n",
      "Training neural network\n",
      "Generating data for country: Botswana\n"
     ]
    },
    {
     "name": "stderr",
     "output_type": "stream",
     "text": [
      "┌ Info:  started timer at: 2021-04-05T16:47:21.332\n",
      "└ @ TickTock /home/ziyu/.julia/packages/TickTock/RsTHR/src/TickTock.jl:32\n",
      "\u001b[32mloss: 0.122: 100%|██████████████████████████████████████| Time: 0:01:11\u001b[39m\n",
      "┌ Info:  started timer at: 2021-04-05T16:49:55.82\n",
      "└ @ TickTock /home/ziyu/.julia/packages/TickTock/RsTHR/src/TickTock.jl:32\n",
      "\u001b[32mloss: 0.12: 100%|███████████████████████████████████████| Time: 0:01:52\u001b[39m\n",
      "\u001b[32mloss: 0.119: 100%|██████████████████████████████████████| Time: 0:00:35\u001b[39m\n"
     ]
    },
    {
     "name": "stdout",
     "output_type": "stream",
     "text": [
      "Plotting graphs for country: Botswana\n",
      "Updating csv for parameters for country: Botswana\n",
      "Updating csv for differentiation parameters for country: Botswana\n",
      "Loading dataframes for country: Brazil\n",
      "Training neural network\n",
      "Generating data for country: Brazil\n"
     ]
    },
    {
     "name": "stderr",
     "output_type": "stream",
     "text": [
      "┌ Info:  started timer at: 2021-04-05T16:54:25.28\n",
      "└ @ TickTock /home/ziyu/.julia/packages/TickTock/RsTHR/src/TickTock.jl:32\n",
      "\u001b[32mloss: 0.0722: 100%|█████████████████████████████████████| Time: 0:00:30\u001b[39m\n",
      "┌ Info:  started timer at: 2021-04-05T16:55:32.812\n",
      "└ @ TickTock /home/ziyu/.julia/packages/TickTock/RsTHR/src/TickTock.jl:32\n",
      "\u001b[32mloss: 0.0694: 100%|█████████████████████████████████████| Time: 0:00:52\u001b[39m\n",
      "\u001b[32mloss: 0.0689: 100%|█████████████████████████████████████| Time: 0:00:23\u001b[39m\n"
     ]
    },
    {
     "name": "stdout",
     "output_type": "stream",
     "text": [
      "Plotting graphs for country: Brazil\n",
      "Updating csv for parameters for country: Brazil\n",
      "Updating csv for differentiation parameters for country: Brazil\n",
      "Loading dataframes for country: Bulgaria\n",
      "Training neural network\n",
      "Generating data for country: Bulgaria\n"
     ]
    },
    {
     "name": "stderr",
     "output_type": "stream",
     "text": [
      "┌ Info:  started timer at: 2021-04-05T16:57:38.947\n",
      "└ @ TickTock /home/ziyu/.julia/packages/TickTock/RsTHR/src/TickTock.jl:32\n",
      "\u001b[32mloss: 0.397: 100%|██████████████████████████████████████| Time: 0:00:41\u001b[39m\n",
      "┌ Info:  started timer at: 2021-04-05T16:59:00.025\n",
      "└ @ TickTock /home/ziyu/.julia/packages/TickTock/RsTHR/src/TickTock.jl:32\n",
      "\u001b[32mloss: 0.391: 100%|██████████████████████████████████████| Time: 0:01:14\u001b[39m\n",
      "\u001b[32mloss: 0.39: 100%|███████████████████████████████████████| Time: 0:00:38\u001b[39m\n"
     ]
    },
    {
     "name": "stdout",
     "output_type": "stream",
     "text": [
      "Plotting graphs for country: Bulgaria\n",
      "Updating csv for parameters for country: Bulgaria\n",
      "Updating csv for differentiation parameters for country: Bulgaria\n",
      "Loading dataframes for country: Burundi\n",
      "Training neural network\n",
      "Generating data for country: Burundi\n"
     ]
    },
    {
     "name": "stderr",
     "output_type": "stream",
     "text": [
      "┌ Info:  started timer at: 2021-04-05T17:02:09.964\n",
      "└ @ TickTock /home/ziyu/.julia/packages/TickTock/RsTHR/src/TickTock.jl:32\n",
      "\u001b[32mloss: 0.0952: 100%|█████████████████████████████████████| Time: 0:00:31\u001b[39m\n",
      "┌ Info:  started timer at: 2021-04-05T17:03:02.228\n",
      "└ @ TickTock /home/ziyu/.julia/packages/TickTock/RsTHR/src/TickTock.jl:32\n",
      "\u001b[32mloss: 0.094: 100%|██████████████████████████████████████| Time: 0:01:09\u001b[39m\n",
      "\u001b[32mloss: 0.0934: 100%|█████████████████████████████████████| Time: 0:00:35\u001b[39m\n"
     ]
    },
    {
     "name": "stdout",
     "output_type": "stream",
     "text": [
      "Plotting graphs for country: Burundi\n",
      "Updating csv for parameters for country: Burundi\n",
      "Updating csv for differentiation parameters for country: Burundi\n",
      "Loading dataframes for country: Cameroon\n",
      "Training neural network\n",
      "Generating data for country: Cameroon\n"
     ]
    },
    {
     "name": "stderr",
     "output_type": "stream",
     "text": [
      "┌ Info:  started timer at: 2021-04-05T17:05:20.204\n",
      "└ @ TickTock /home/ziyu/.julia/packages/TickTock/RsTHR/src/TickTock.jl:32\n",
      "\u001b[32mloss: 0.305: 100%|██████████████████████████████████████| Time: 0:00:34\u001b[39m\n",
      "┌ Info:  started timer at: 2021-04-05T17:06:43.341\n",
      "└ @ TickTock /home/ziyu/.julia/packages/TickTock/RsTHR/src/TickTock.jl:32\n",
      "\u001b[32mloss: 0.303: 100%|██████████████████████████████████████| Time: 0:01:00\u001b[39m\n",
      "\u001b[32mloss: 0.303: 100%|██████████████████████████████████████| Time: 0:00:28\u001b[39m\n"
     ]
    },
    {
     "name": "stdout",
     "output_type": "stream",
     "text": [
      "Plotting graphs for country: Cameroon\n",
      "Updating csv for parameters for country: Cameroon\n",
      "Updating csv for differentiation parameters for country: Cameroon\n",
      "Loading dataframes for country: Canada\n",
      "Training neural network\n",
      "Generating data for country: Canada\n"
     ]
    },
    {
     "name": "stderr",
     "output_type": "stream",
     "text": [
      "┌ Info:  started timer at: 2021-04-05T17:08:57.927\n",
      "└ @ TickTock /home/ziyu/.julia/packages/TickTock/RsTHR/src/TickTock.jl:32\n",
      "\u001b[32mloss: 0.0903: 100%|█████████████████████████████████████| Time: 0:00:21\u001b[39m\n",
      "┌ Info:  started timer at: 2021-04-05T17:09:40.063\n",
      "└ @ TickTock /home/ziyu/.julia/packages/TickTock/RsTHR/src/TickTock.jl:32\n",
      "\u001b[32mloss: 0.0856: 100%|█████████████████████████████████████| Time: 0:00:40\u001b[39m\n",
      "\u001b[32mloss: 0.085: 100%|██████████████████████████████████████| Time: 0:00:18\u001b[39m\n",
      "┌ Info:  started timer at: 2021-04-05T17:11:22.492\n",
      "└ @ TickTock /home/ziyu/.julia/packages/TickTock/RsTHR/src/TickTock.jl:32\n",
      "\u001b[32mloss: 0.0806: 100%|█████████████████████████████████████| Time: 0:00:44\u001b[39m\n",
      "\u001b[32mloss: 0.0798: 100%|█████████████████████████████████████| Time: 0:00:30\u001b[39m\n",
      "┌ Info:  started timer at: 2021-04-05T17:14:10.591\n",
      "└ @ TickTock /home/ziyu/.julia/packages/TickTock/RsTHR/src/TickTock.jl:32\n",
      "\u001b[32mloss: 0.076: 100%|██████████████████████████████████████| Time: 0:00:55\u001b[39m\n",
      "\u001b[32mloss: 0.0757: 100%|█████████████████████████████████████| Time: 0:00:29\u001b[39m\n",
      "┌ Info:  started timer at: 2021-04-05T17:16:42.64\n",
      "└ @ TickTock /home/ziyu/.julia/packages/TickTock/RsTHR/src/TickTock.jl:32\n",
      "\u001b[32mloss: 0.0731: 100%|█████████████████████████████████████| Time: 0:00:58\u001b[39m\n",
      "\u001b[32mloss: 0.0727: 100%|█████████████████████████████████████| Time: 0:00:31\u001b[39m\n",
      "┌ Info:  started timer at: 2021-04-05T17:19:39.718\n",
      "└ @ TickTock /home/ziyu/.julia/packages/TickTock/RsTHR/src/TickTock.jl:32\n",
      "\u001b[32mloss: 0.0707: 100%|█████████████████████████████████████| Time: 0:01:04\u001b[39m\n",
      "\u001b[32mloss: 0.0701: 100%|█████████████████████████████████████| Time: 0:00:36\u001b[39m\n",
      "┌ Info:  started timer at: 2021-04-05T17:22:34.968\n",
      "└ @ TickTock /home/ziyu/.julia/packages/TickTock/RsTHR/src/TickTock.jl:32\n",
      "\u001b[32mloss: 0.0689: 100%|█████████████████████████████████████| Time: 0:01:03\u001b[39m\n",
      "\u001b[32mloss: 0.0685: 100%|█████████████████████████████████████| Time: 0:00:28\u001b[39m\n"
     ]
    },
    {
     "name": "stdout",
     "output_type": "stream",
     "text": [
      "Plotting graphs for country: Canada\n",
      "Updating csv for parameters for country: Canada\n",
      "Updating csv for differentiation parameters for country: Canada\n",
      "Loading dataframes for country: Chile\n",
      "Training neural network\n",
      "Generating data for country: Chile\n"
     ]
    },
    {
     "name": "stderr",
     "output_type": "stream",
     "text": [
      "┌ Info:  started timer at: 2021-04-05T17:25:29.654\n",
      "└ @ TickTock /home/ziyu/.julia/packages/TickTock/RsTHR/src/TickTock.jl:32\n",
      "\u001b[32mloss: 0.172: 100%|██████████████████████████████████████| Time: 0:00:37\u001b[39m\n",
      "┌ Info:  started timer at: 2021-04-05T17:26:36.07\n",
      "└ @ TickTock /home/ziyu/.julia/packages/TickTock/RsTHR/src/TickTock.jl:32\n",
      "\u001b[32mloss: 0.137: 100%|██████████████████████████████████████| Time: 0:01:10\u001b[39m\n",
      "\u001b[32mloss: 0.134: 100%|██████████████████████████████████████| Time: 0:00:47\u001b[39m\n",
      "┌ Info:  started timer at: 2021-04-05T17:30:18.434\n",
      "└ @ TickTock /home/ziyu/.julia/packages/TickTock/RsTHR/src/TickTock.jl:32\n",
      "\u001b[32mloss: 0.135: 100%|██████████████████████████████████████| Time: 0:01:54\u001b[39m\n",
      "\u001b[32mloss: 0.129: 100%|██████████████████████████████████████| Time: 0:01:06\u001b[39m\n",
      "┌ Info:  started timer at: 2021-04-05T17:36:26.013\n",
      "└ @ TickTock /home/ziyu/.julia/packages/TickTock/RsTHR/src/TickTock.jl:32\n",
      "\u001b[32mloss: 0.133: 100%|██████████████████████████████████████| Time: 0:01:40\u001b[39m\n",
      "\u001b[32mloss: 0.126: 100%|██████████████████████████████████████| Time: 0:00:47\u001b[39m\n",
      "┌ Info:  started timer at: 2021-04-05T17:40:35.392\n",
      "└ @ TickTock /home/ziyu/.julia/packages/TickTock/RsTHR/src/TickTock.jl:32\n",
      "\u001b[32mloss: 0.125: 100%|██████████████████████████████████████| Time: 0:01:43\u001b[39m\n",
      "\u001b[32mloss: 0.124: 100%|██████████████████████████████████████| Time: 0:00:50\u001b[39m\n",
      "┌ Info:  started timer at: 2021-04-05T17:44:58.486\n",
      "└ @ TickTock /home/ziyu/.julia/packages/TickTock/RsTHR/src/TickTock.jl:32\n",
      "\u001b[32mloss: 0.123: 100%|██████████████████████████████████████| Time: 0:01:41\u001b[39m\n",
      "\u001b[32mloss: 0.123: 100%|██████████████████████████████████████| Time: 0:00:44\u001b[39m\n",
      "┌ Info:  started timer at: 2021-04-05T17:49:13.008\n",
      "└ @ TickTock /home/ziyu/.julia/packages/TickTock/RsTHR/src/TickTock.jl:32\n",
      "\u001b[32mloss: 0.122: 100%|██████████████████████████████████████| Time: 0:01:39\u001b[39m\n",
      "\u001b[32mloss: 0.121: 100%|██████████████████████████████████████| Time: 0:00:41\u001b[39m\n",
      "┌ Info:  started timer at: 2021-04-05T17:53:33.862\n",
      "└ @ TickTock /home/ziyu/.julia/packages/TickTock/RsTHR/src/TickTock.jl:32\n",
      "\u001b[32mloss: 0.121: 100%|██████████████████████████████████████| Time: 0:01:42\u001b[39m\n",
      "\u001b[32mloss: 0.12: 100%|███████████████████████████████████████| Time: 0:00:44\u001b[39m\n",
      "┌ Info:  started timer at: 2021-04-05T17:58:02.408\n",
      "└ @ TickTock /home/ziyu/.julia/packages/TickTock/RsTHR/src/TickTock.jl:32\n",
      "\u001b[32mloss: 0.12: 100%|███████████████████████████████████████| Time: 0:01:46\u001b[39m\n",
      "\u001b[32mloss: 0.119: 100%|██████████████████████████████████████| Time: 0:00:48\u001b[39m\n"
     ]
    },
    {
     "name": "stdout",
     "output_type": "stream",
     "text": [
      "Plotting graphs for country: Chile\n",
      "Updating csv for parameters for country: Chile\n",
      "Updating csv for differentiation parameters for country: Chile\n",
      "Loading dataframes for country: China\n",
      "Training neural network\n",
      "Generating data for country: China\n"
     ]
    },
    {
     "name": "stderr",
     "output_type": "stream",
     "text": [
      "┌ Info:  started timer at: 2021-04-05T18:01:48.86\n",
      "└ @ TickTock /home/ziyu/.julia/packages/TickTock/RsTHR/src/TickTock.jl:32\n",
      "\u001b[32mloss: 0.0738: 100%|█████████████████████████████████████| Time: 0:00:59\u001b[39m\n",
      "┌ Info:  started timer at: 2021-04-05T18:04:19.617\n",
      "└ @ TickTock /home/ziyu/.julia/packages/TickTock/RsTHR/src/TickTock.jl:32\n",
      "\u001b[32mloss: 0.0565: 100%|█████████████████████████████████████| Time: 0:01:57\u001b[39m\n",
      "\u001b[32mloss: 0.0567: 100%|█████████████████████████████████████| Time: 0:00:57\u001b[39m\n",
      "┌ Info:  started timer at: 2021-04-05T18:09:21.121\n",
      "└ @ TickTock /home/ziyu/.julia/packages/TickTock/RsTHR/src/TickTock.jl:32\n",
      "\u001b[32mloss: 0.0566: 100%|█████████████████████████████████████| Time: 0:01:58\u001b[39m\n",
      "\u001b[32mloss: 0.0562: 100%|█████████████████████████████████████| Time: 0:00:56\u001b[39m\n",
      "┌ Info:  started timer at: 2021-04-05T18:14:05.332\n",
      "└ @ TickTock /home/ziyu/.julia/packages/TickTock/RsTHR/src/TickTock.jl:32\n",
      "\u001b[32mloss: 0.0563: 100%|█████████████████████████████████████| Time: 0:01:56\u001b[39m\n",
      "\u001b[32mloss: 0.0562: 100%|█████████████████████████████████████| Time: 0:00:59\u001b[39m\n"
     ]
    },
    {
     "name": "stdout",
     "output_type": "stream",
     "text": [
      "Plotting graphs for country: China\n",
      "Updating csv for parameters for country: China\n",
      "Updating csv for differentiation parameters for country: China\n",
      "Loading dataframes for country: Colombia\n",
      "Training neural network\n",
      "Generating data for country: Colombia\n"
     ]
    },
    {
     "name": "stderr",
     "output_type": "stream",
     "text": [
      "┌ Info:  started timer at: 2021-04-05T18:19:26.758\n",
      "└ @ TickTock /home/ziyu/.julia/packages/TickTock/RsTHR/src/TickTock.jl:32\n",
      "\u001b[32mloss: 0.0835: 100%|█████████████████████████████████████| Time: 0:00:46\u001b[39m\n",
      "┌ Info:  started timer at: 2021-04-05T18:21:00.637\n",
      "└ @ TickTock /home/ziyu/.julia/packages/TickTock/RsTHR/src/TickTock.jl:32\n",
      "\u001b[32mloss: 0.0834: 100%|█████████████████████████████████████| Time: 0:01:24\u001b[39m\n",
      "\u001b[32mloss: 0.0833: 100%|█████████████████████████████████████| Time: 0:00:41\u001b[39m\n"
     ]
    },
    {
     "name": "stdout",
     "output_type": "stream",
     "text": [
      "Plotting graphs for country: Colombia\n",
      "Updating csv for parameters for country: Colombia\n",
      "Updating csv for differentiation parameters for country: Colombia\n",
      "Loading dataframes for country: Costa_Rica\n",
      "Training neural network\n",
      "Generating data for country: Costa_Rica\n"
     ]
    },
    {
     "name": "stderr",
     "output_type": "stream",
     "text": [
      "┌ Info:  started timer at: 2021-04-05T18:25:03.064\n",
      "└ @ TickTock /home/ziyu/.julia/packages/TickTock/RsTHR/src/TickTock.jl:32\n",
      "\u001b[32mloss: 0.138: 100%|██████████████████████████████████████| Time: 0:00:53\u001b[39m\n",
      "┌ Info:  started timer at: 2021-04-05T18:27:10.196\n",
      "└ @ TickTock /home/ziyu/.julia/packages/TickTock/RsTHR/src/TickTock.jl:32\n",
      "\u001b[32mloss: 0.117: 100%|██████████████████████████████████████| Time: 0:01:38\u001b[39m\n",
      "\u001b[32mloss: 0.113: 100%|██████████████████████████████████████| Time: 0:00:39\u001b[39m\n",
      "┌ Info:  started timer at: 2021-04-05T18:30:59.889\n",
      "└ @ TickTock /home/ziyu/.julia/packages/TickTock/RsTHR/src/TickTock.jl:32\n",
      "\u001b[32mloss: 0.111: 100%|██████████████████████████████████████| Time: 0:01:22\u001b[39m\n",
      "\u001b[32mloss: 0.109: 100%|██████████████████████████████████████| Time: 0:00:41\u001b[39m\n",
      "┌ Info:  started timer at: 2021-04-05T18:34:48.856\n",
      "└ @ TickTock /home/ziyu/.julia/packages/TickTock/RsTHR/src/TickTock.jl:32\n",
      "\u001b[32mloss: 0.107: 100%|██████████████████████████████████████| Time: 0:01:18\u001b[39m\n",
      "\u001b[32mloss: 0.107: 100%|██████████████████████████████████████| Time: 0:00:39\u001b[39m\n",
      "┌ Info:  started timer at: 2021-04-05T18:38:29.71\n",
      "└ @ TickTock /home/ziyu/.julia/packages/TickTock/RsTHR/src/TickTock.jl:32\n",
      "\u001b[32mloss: 0.108: 100%|██████████████████████████████████████| Time: 0:01:27\u001b[39m\n",
      "\u001b[32mloss: 0.105: 100%|██████████████████████████████████████| Time: 0:00:50\u001b[39m\n"
     ]
    },
    {
     "name": "stdout",
     "output_type": "stream",
     "text": [
      "Plotting graphs for country: Costa_Rica\n",
      "Updating csv for parameters for country: Costa_Rica\n",
      "Updating csv for differentiation parameters for country: Costa_Rica\n",
      "Loading dataframes for country: Denmark\n",
      "Training neural network\n",
      "Generating data for country: Denmark\n"
     ]
    },
    {
     "name": "stderr",
     "output_type": "stream",
     "text": [
      "┌ Info:  started timer at: 2021-04-05T18:42:46.392\n",
      "└ @ TickTock /home/ziyu/.julia/packages/TickTock/RsTHR/src/TickTock.jl:32\n",
      "\u001b[32mloss: 0.0836: 100%|█████████████████████████████████████| Time: 0:00:39\u001b[39m\n",
      "┌ Info:  started timer at: 2021-04-05T18:44:13.278\n",
      "└ @ TickTock /home/ziyu/.julia/packages/TickTock/RsTHR/src/TickTock.jl:32\n",
      "\u001b[32mloss: 0.0653: 100%|█████████████████████████████████████| Time: 0:01:16\u001b[39m\n",
      "\u001b[32mloss: 0.0652: 100%|█████████████████████████████████████| Time: 0:00:37\u001b[39m\n"
     ]
    },
    {
     "name": "stdout",
     "output_type": "stream",
     "text": [
      "Plotting graphs for country: Denmark\n",
      "Updating csv for parameters for country: Denmark\n",
      "Updating csv for differentiation parameters for country: Denmark\n",
      "Loading dataframes for country: Dominican_Republic\n",
      "Training neural network\n",
      "Generating data for country: Dominican_Republic\n"
     ]
    },
    {
     "name": "stderr",
     "output_type": "stream",
     "text": [
      "┌ Info:  started timer at: 2021-04-05T18:47:43.856\n",
      "└ @ TickTock /home/ziyu/.julia/packages/TickTock/RsTHR/src/TickTock.jl:32\n",
      "\u001b[32mloss: 0.134: 100%|██████████████████████████████████████| Time: 0:01:41\u001b[39m\n",
      "┌ Info:  started timer at: 2021-04-05T18:51:54.097\n",
      "└ @ TickTock /home/ziyu/.julia/packages/TickTock/RsTHR/src/TickTock.jl:32\n",
      "\u001b[32mloss: 0.126: 100%|██████████████████████████████████████| Time: 0:03:18\u001b[39m\n",
      "\u001b[32mloss: 0.126: 100%|██████████████████████████████████████| Time: 0:01:30\u001b[39m\n"
     ]
    },
    {
     "name": "stdout",
     "output_type": "stream",
     "text": [
      "Plotting graphs for country: Dominican_Republic\n",
      "Updating csv for parameters for country: Dominican_Republic\n",
      "Updating csv for differentiation parameters for country: Dominican_Republic\n",
      "Loading dataframes for country: Ecuador\n",
      "Training neural network\n",
      "Generating data for country: Ecuador\n"
     ]
    },
    {
     "name": "stderr",
     "output_type": "stream",
     "text": [
      "┌ Info:  started timer at: 2021-04-05T19:01:45.787\n",
      "└ @ TickTock /home/ziyu/.julia/packages/TickTock/RsTHR/src/TickTock.jl:32\n",
      "\u001b[32mloss: 0.178: 100%|██████████████████████████████████████| Time: 0:01:31\u001b[39m\n",
      "┌ Info:  started timer at: 2021-04-05T19:04:50.243\n",
      "└ @ TickTock /home/ziyu/.julia/packages/TickTock/RsTHR/src/TickTock.jl:32\n",
      "\u001b[32mloss: 0.157: 100%|██████████████████████████████████████| Time: 0:02:05\u001b[39m\n",
      "\u001b[32mloss: 0.157: 100%|██████████████████████████████████████| Time: 0:00:58\u001b[39m\n"
     ]
    },
    {
     "name": "stdout",
     "output_type": "stream",
     "text": [
      "Plotting graphs for country: Ecuador\n",
      "Updating csv for parameters for country: Ecuador\n",
      "Updating csv for differentiation parameters for country: Ecuador\n",
      "Loading dataframes for country: El_Salvador\n",
      "Training neural network\n",
      "Generating data for country: El_Salvador\n"
     ]
    },
    {
     "name": "stderr",
     "output_type": "stream",
     "text": [
      "┌ Info:  started timer at: 2021-04-05T19:09:47.529\n",
      "└ @ TickTock /home/ziyu/.julia/packages/TickTock/RsTHR/src/TickTock.jl:32\n",
      "\u001b[32mloss: 0.177: 100%|██████████████████████████████████████| Time: 0:01:37\u001b[39m\n",
      "┌ Info:  started timer at: 2021-04-05T19:13:12.187\n",
      "└ @ TickTock /home/ziyu/.julia/packages/TickTock/RsTHR/src/TickTock.jl:32\n",
      "\u001b[32mloss: 0.121: 100%|██████████████████████████████████████| Time: 0:03:58\u001b[39m\n",
      "\u001b[32mloss: 0.12: 100%|███████████████████████████████████████| Time: 0:01:48\u001b[39m\n",
      "┌ Info:  started timer at: 2021-04-05T19:23:47.9\n",
      "└ @ TickTock /home/ziyu/.julia/packages/TickTock/RsTHR/src/TickTock.jl:32\n",
      "\u001b[32mloss: 0.12: 100%|███████████████████████████████████████| Time: 0:03:50\u001b[39m\n",
      "\u001b[32mloss: 0.119: 100%|██████████████████████████████████████| Time: 0:01:08\u001b[39m\n",
      "┌ Info:  started timer at: 2021-04-05T19:32:29.218\n",
      "└ @ TickTock /home/ziyu/.julia/packages/TickTock/RsTHR/src/TickTock.jl:32\n",
      "\u001b[32mloss: 0.119: 100%|██████████████████████████████████████| Time: 0:02:19\u001b[39m\n",
      "\u001b[32mloss: 0.118: 100%|██████████████████████████████████████| Time: 0:01:02\u001b[39m\n",
      "┌ Info:  started timer at: 2021-04-05T19:38:08.988\n",
      "└ @ TickTock /home/ziyu/.julia/packages/TickTock/RsTHR/src/TickTock.jl:32\n",
      "\u001b[32mloss: 0.118: 100%|██████████████████████████████████████| Time: 0:02:14\u001b[39m\n",
      "\u001b[32mloss: 0.118: 100%|██████████████████████████████████████| Time: 0:01:02\u001b[39m\n",
      "┌ Info:  started timer at: 2021-04-05T19:43:28.152\n",
      "└ @ TickTock /home/ziyu/.julia/packages/TickTock/RsTHR/src/TickTock.jl:32\n",
      "\u001b[32mloss: 0.118: 100%|██████████████████████████████████████| Time: 0:02:17\u001b[39m\n",
      "\u001b[32mloss: 0.117: 100%|██████████████████████████████████████| Time: 0:01:01\u001b[39m\n",
      "┌ Info:  started timer at: 2021-04-05T19:48:57.781\n",
      "└ @ TickTock /home/ziyu/.julia/packages/TickTock/RsTHR/src/TickTock.jl:32\n",
      "\u001b[32mloss: 0.12: 100%|███████████████████████████████████████| Time: 0:02:25\u001b[39m\n",
      "\u001b[32mloss: 0.118: 100%|██████████████████████████████████████| Time: 0:01:06\u001b[39m\n"
     ]
    },
    {
     "name": "stdout",
     "output_type": "stream",
     "text": [
      "Plotting graphs for country: El_Salvador\n",
      "Updating csv for parameters for country: El_Salvador\n",
      "Updating csv for differentiation parameters for country: El_Salvador\n",
      "Loading dataframes for country: Finland\n",
      "Training neural network\n",
      "Generating data for country: Finland\n"
     ]
    },
    {
     "name": "stderr",
     "output_type": "stream",
     "text": [
      "┌ Info:  started timer at: 2021-04-05T19:55:02.653\n",
      "└ @ TickTock /home/ziyu/.julia/packages/TickTock/RsTHR/src/TickTock.jl:32\n",
      "\u001b[32mloss: 0.121: 100%|██████████████████████████████████████| Time: 0:00:42\u001b[39m\n",
      "┌ Info:  started timer at: 2021-04-05T19:56:58.103\n",
      "└ @ TickTock /home/ziyu/.julia/packages/TickTock/RsTHR/src/TickTock.jl:32\n",
      "\u001b[32mloss: 0.112: 100%|██████████████████████████████████████| Time: 0:01:13\u001b[39m\n",
      "\u001b[32mloss: 0.111: 100%|██████████████████████████████████████| Time: 0:00:31\u001b[39m\n",
      "┌ Info:  started timer at: 2021-04-05T20:00:00.845\n",
      "└ @ TickTock /home/ziyu/.julia/packages/TickTock/RsTHR/src/TickTock.jl:32\n",
      "\u001b[32mloss: 0.104: 100%|██████████████████████████████████████| Time: 0:00:54\u001b[39m\n",
      "\u001b[32mloss: 0.103: 100%|██████████████████████████████████████| Time: 0:00:27\u001b[39m\n",
      "┌ Info:  started timer at: 2021-04-05T20:02:15.695\n",
      "└ @ TickTock /home/ziyu/.julia/packages/TickTock/RsTHR/src/TickTock.jl:32\n",
      "\u001b[32mloss: 0.101: 100%|██████████████████████████████████████| Time: 0:00:47\u001b[39m\n",
      "\u001b[32mloss: 0.101: 100%|██████████████████████████████████████| Time: 0:00:18\u001b[39m\n",
      "┌ Info:  started timer at: 2021-04-05T20:03:38.862\n",
      "└ @ TickTock /home/ziyu/.julia/packages/TickTock/RsTHR/src/TickTock.jl:32\n",
      "\u001b[32mloss: 0.0999: 100%|█████████████████████████████████████| Time: 0:00:43\u001b[39m\n",
      "\u001b[32mloss: 0.0993: 100%|█████████████████████████████████████| Time: 0:00:16\u001b[39m\n",
      "┌ Info:  started timer at: 2021-04-05T20:05:18.976\n",
      "└ @ TickTock /home/ziyu/.julia/packages/TickTock/RsTHR/src/TickTock.jl:32\n",
      "\u001b[32mloss: 0.0984: 100%|█████████████████████████████████████| Time: 0:00:37\u001b[39m\n",
      "\u001b[32mloss: 0.098: 100%|██████████████████████████████████████| Time: 0:00:18\u001b[39m\n",
      "┌ Info:  started timer at: 2021-04-05T20:06:54.826\n",
      "└ @ TickTock /home/ziyu/.julia/packages/TickTock/RsTHR/src/TickTock.jl:32\n",
      "\u001b[32mloss: 0.0968: 100%|█████████████████████████████████████| Time: 0:00:46\u001b[39m\n",
      "\u001b[32mloss: 0.0961: 100%|█████████████████████████████████████| Time: 0:00:21\u001b[39m\n",
      "┌ Info:  started timer at: 2021-04-05T20:09:01.239\n",
      "└ @ TickTock /home/ziyu/.julia/packages/TickTock/RsTHR/src/TickTock.jl:32\n",
      "\u001b[32mloss: 0.0962: 100%|█████████████████████████████████████| Time: 0:00:48\u001b[39m\n",
      "\u001b[32mloss: 0.095: 100%|██████████████████████████████████████| Time: 0:00:24\u001b[39m\n",
      "┌ Info:  started timer at: 2021-04-05T20:11:05.731\n",
      "└ @ TickTock /home/ziyu/.julia/packages/TickTock/RsTHR/src/TickTock.jl:32\n",
      "\u001b[32mloss: 0.0956: 100%|█████████████████████████████████████| Time: 0:00:53\u001b[39m\n",
      "\u001b[32mloss: 0.0948: 100%|█████████████████████████████████████| Time: 0:00:21\u001b[39m\n",
      "┌ Info:  started timer at: 2021-04-05T20:13:22.505\n",
      "└ @ TickTock /home/ziyu/.julia/packages/TickTock/RsTHR/src/TickTock.jl:32\n",
      "\u001b[32mloss: 0.0959: 100%|█████████████████████████████████████| Time: 0:00:46\u001b[39m\n",
      "\u001b[32mloss: 0.0947: 100%|█████████████████████████████████████| Time: 0:00:22\u001b[39m\n",
      "┌ Info:  started timer at: 2021-04-05T20:15:35.651\n",
      "└ @ TickTock /home/ziyu/.julia/packages/TickTock/RsTHR/src/TickTock.jl:32\n",
      "\u001b[32mloss: 0.0943: 100%|█████████████████████████████████████| Time: 0:00:47\u001b[39m\n",
      "\u001b[32mloss: 0.0941: 100%|█████████████████████████████████████| Time: 0:00:21\u001b[39m\n"
     ]
    },
    {
     "name": "stdout",
     "output_type": "stream",
     "text": [
      "Plotting graphs for country: Finland\n",
      "Updating csv for parameters for country: Finland\n",
      "Updating csv for differentiation parameters for country: Finland\n",
      "Loading dataframes for country: France\n",
      "Training neural network\n",
      "Generating data for country: France\n"
     ]
    },
    {
     "name": "stderr",
     "output_type": "stream",
     "text": [
      "┌ Info:  started timer at: 2021-04-05T20:17:46.188\n",
      "└ @ TickTock /home/ziyu/.julia/packages/TickTock/RsTHR/src/TickTock.jl:32\n",
      "\u001b[32mloss: 0.093: 100%|██████████████████████████████████████| Time: 0:00:20\u001b[39m\n",
      "┌ Info:  started timer at: 2021-04-05T20:18:38.083\n",
      "└ @ TickTock /home/ziyu/.julia/packages/TickTock/RsTHR/src/TickTock.jl:32\n",
      "\u001b[32mloss: 0.086: 100%|██████████████████████████████████████| Time: 0:00:43\u001b[39m\n",
      "\u001b[32mloss: 0.0855: 100%|█████████████████████████████████████| Time: 0:00:21\u001b[39m\n",
      "┌ Info:  started timer at: 2021-04-05T20:20:32.549\n",
      "└ @ TickTock /home/ziyu/.julia/packages/TickTock/RsTHR/src/TickTock.jl:32\n",
      "\u001b[32mloss: 0.082: 100%|██████████████████████████████████████| Time: 0:00:41\u001b[39m\n",
      "\u001b[32mloss: 0.0816: 100%|█████████████████████████████████████| Time: 0:00:18\u001b[39m\n",
      "┌ Info:  started timer at: 2021-04-05T20:22:12.719\n",
      "└ @ TickTock /home/ziyu/.julia/packages/TickTock/RsTHR/src/TickTock.jl:32\n",
      "\u001b[32mloss: 0.0794: 100%|█████████████████████████████████████| Time: 0:00:41\u001b[39m\n",
      "\u001b[32mloss: 0.079: 100%|██████████████████████████████████████| Time: 0:00:20\u001b[39m\n",
      "┌ Info:  started timer at: 2021-04-05T20:24:02.572\n",
      "└ @ TickTock /home/ziyu/.julia/packages/TickTock/RsTHR/src/TickTock.jl:32\n",
      "\u001b[32mloss: 0.0788: 100%|█████████████████████████████████████| Time: 0:00:45\u001b[39m\n",
      "\u001b[32mloss: 0.0786: 100%|█████████████████████████████████████| Time: 0:00:20\u001b[39m\n"
     ]
    },
    {
     "name": "stdout",
     "output_type": "stream",
     "text": [
      "Plotting graphs for country: France\n",
      "Updating csv for parameters for country: France\n",
      "Updating csv for differentiation parameters for country: France\n",
      "Loading dataframes for country: Gabon\n",
      "Training neural network\n",
      "Generating data for country: Gabon\n"
     ]
    },
    {
     "name": "stderr",
     "output_type": "stream",
     "text": [
      "┌ Info:  started timer at: 2021-04-05T20:26:02.417\n",
      "└ @ TickTock /home/ziyu/.julia/packages/TickTock/RsTHR/src/TickTock.jl:32\n",
      "\u001b[32mloss: 0.152: 100%|██████████████████████████████████████| Time: 0:00:45\u001b[39m\n",
      "┌ Info:  started timer at: 2021-04-05T20:27:14.846\n",
      "└ @ TickTock /home/ziyu/.julia/packages/TickTock/RsTHR/src/TickTock.jl:32\n",
      "\u001b[32mloss: 0.138: 100%|██████████████████████████████████████| Time: 0:01:26\u001b[39m\n",
      "\u001b[32mloss: 0.138: 100%|██████████████████████████████████████| Time: 0:00:45\u001b[39m\n"
     ]
    },
    {
     "name": "stdout",
     "output_type": "stream",
     "text": [
      "Plotting graphs for country: Gabon\n",
      "Updating csv for parameters for country: Gabon\n",
      "Updating csv for differentiation parameters for country: Gabon\n",
      "Loading dataframes for country: Ghana\n",
      "Training neural network\n",
      "Generating data for country: Ghana\n"
     ]
    },
    {
     "name": "stderr",
     "output_type": "stream",
     "text": [
      "┌ Info:  started timer at: 2021-04-05T20:31:10.245\n",
      "└ @ TickTock /home/ziyu/.julia/packages/TickTock/RsTHR/src/TickTock.jl:32\n",
      "\u001b[32mloss: 0.109: 100%|██████████████████████████████████████| Time: 0:00:33\u001b[39m\n",
      "┌ Info:  started timer at: 2021-04-05T20:32:13.936\n",
      "└ @ TickTock /home/ziyu/.julia/packages/TickTock/RsTHR/src/TickTock.jl:32\n",
      "\u001b[32mloss: 0.101: 100%|██████████████████████████████████████| Time: 0:00:58\u001b[39m\n",
      "\u001b[32mloss: 0.0971: 100%|█████████████████████████████████████| Time: 0:00:34\u001b[39m\n",
      "┌ Info:  started timer at: 2021-04-05T20:34:42.795\n",
      "└ @ TickTock /home/ziyu/.julia/packages/TickTock/RsTHR/src/TickTock.jl:32\n",
      "\u001b[32mloss: 0.0992: 100%|█████████████████████████████████████| Time: 0:01:23\u001b[39m\n",
      "\u001b[32mloss: 0.0974: 100%|█████████████████████████████████████| Time: 0:00:50\u001b[39m\n",
      "┌ Info:  started timer at: 2021-04-05T20:38:37.742\n",
      "└ @ TickTock /home/ziyu/.julia/packages/TickTock/RsTHR/src/TickTock.jl:32\n",
      "\u001b[32mloss: 0.1: 100%|████████████████████████████████████████| Time: 0:01:25\u001b[39m\n",
      "\u001b[32mloss: 0.0987: 100%|█████████████████████████████████████| Time: 0:00:47\u001b[39m\n"
     ]
    },
    {
     "name": "stdout",
     "output_type": "stream",
     "text": [
      "Plotting graphs for country: Ghana\n",
      "Updating csv for parameters for country: Ghana\n",
      "Updating csv for differentiation parameters for country: Ghana\n",
      "Loading dataframes for country: Greece\n",
      "Training neural network\n",
      "Generating data for country: Greece\n"
     ]
    },
    {
     "name": "stderr",
     "output_type": "stream",
     "text": [
      "┌ Info:  started timer at: 2021-04-05T20:42:27.689\n",
      "└ @ TickTock /home/ziyu/.julia/packages/TickTock/RsTHR/src/TickTock.jl:32\n",
      "\u001b[32mloss: 0.118: 100%|██████████████████████████████████████| Time: 0:00:44\u001b[39m\n",
      "┌ Info:  started timer at: 2021-04-05T20:43:57.966\n",
      "└ @ TickTock /home/ziyu/.julia/packages/TickTock/RsTHR/src/TickTock.jl:32\n",
      "\u001b[32mloss: 0.074: 100%|██████████████████████████████████████| Time: 0:01:11\u001b[39m\n",
      "\u001b[32mloss: 0.0706: 100%|█████████████████████████████████████| Time: 0:00:33\u001b[39m\n",
      "┌ Info:  started timer at: 2021-04-05T20:46:55.471\n",
      "└ @ TickTock /home/ziyu/.julia/packages/TickTock/RsTHR/src/TickTock.jl:32\n",
      "\u001b[32mloss: 0.0707: 100%|█████████████████████████████████████| Time: 0:01:17\u001b[39m\n",
      "\u001b[32mloss: 0.0684: 100%|█████████████████████████████████████| Time: 0:00:29\u001b[39m\n",
      "┌ Info:  started timer at: 2021-04-05T20:49:30.85\n",
      "└ @ TickTock /home/ziyu/.julia/packages/TickTock/RsTHR/src/TickTock.jl:32\n",
      "\u001b[32mloss: 0.0682: 100%|█████████████████████████████████████| Time: 0:01:24\u001b[39m\n",
      "\u001b[32mloss: 0.0679: 100%|█████████████████████████████████████| Time: 0:00:36\u001b[39m\n"
     ]
    },
    {
     "name": "stdout",
     "output_type": "stream",
     "text": [
      "Plotting graphs for country: Greece\n",
      "Updating csv for parameters for country: Greece\n",
      "Updating csv for differentiation parameters for country: Greece\n",
      "Loading dataframes for country: Guatemala\n",
      "Training neural network\n",
      "Generating data for country: Guatemala\n"
     ]
    },
    {
     "name": "stderr",
     "output_type": "stream",
     "text": [
      "┌ Info:  started timer at: 2021-04-05T20:52:33.385\n",
      "└ @ TickTock /home/ziyu/.julia/packages/TickTock/RsTHR/src/TickTock.jl:32\n",
      "\u001b[32mloss: 0.161: 100%|██████████████████████████████████████| Time: 0:01:01\u001b[39m\n",
      "┌ Info:  started timer at: 2021-04-05T20:54:38.296\n",
      "└ @ TickTock /home/ziyu/.julia/packages/TickTock/RsTHR/src/TickTock.jl:32\n",
      "\u001b[32mloss: 0.0995: 100%|█████████████████████████████████████| Time: 0:01:52\u001b[39m\n",
      "\u001b[32mloss: 0.0989: 100%|█████████████████████████████████████| Time: 0:00:58\u001b[39m\n",
      "┌ Info:  started timer at: 2021-04-05T20:59:39.782\n",
      "└ @ TickTock /home/ziyu/.julia/packages/TickTock/RsTHR/src/TickTock.jl:32\n",
      "\u001b[32mloss: 0.1: 100%|████████████████████████████████████████| Time: 0:01:58\u001b[39m\n",
      "\u001b[32mloss: 0.0984: 100%|█████████████████████████████████████| Time: 0:00:59\u001b[39m\n",
      "┌ Info:  started timer at: 2021-04-05T21:04:29.905\n",
      "└ @ TickTock /home/ziyu/.julia/packages/TickTock/RsTHR/src/TickTock.jl:32\n",
      "\u001b[32mloss: 0.1: 100%|████████████████████████████████████████| Time: 0:01:52\u001b[39m\n",
      "\u001b[32mloss: 0.0963: 100%|█████████████████████████████████████| Time: 0:00:54\u001b[39m\n",
      "┌ Info:  started timer at: 2021-04-05T21:09:19.502\n",
      "└ @ TickTock /home/ziyu/.julia/packages/TickTock/RsTHR/src/TickTock.jl:32\n",
      "\u001b[32mloss: 0.096: 100%|██████████████████████████████████████| Time: 0:02:04\u001b[39m\n",
      "\u001b[32mloss: 0.096: 100%|██████████████████████████████████████| Time: 0:00:52\u001b[39m\n"
     ]
    },
    {
     "name": "stdout",
     "output_type": "stream",
     "text": [
      "Plotting graphs for country: Guatemala\n",
      "Updating csv for parameters for country: Guatemala\n",
      "Updating csv for differentiation parameters for country: Guatemala\n",
      "Loading dataframes for country: Guinea\n",
      "Training neural network\n",
      "Generating data for country: Guinea\n"
     ]
    },
    {
     "name": "stderr",
     "output_type": "stream",
     "text": [
      "┌ Info:  started timer at: 2021-04-05T21:14:08.423\n",
      "└ @ TickTock /home/ziyu/.julia/packages/TickTock/RsTHR/src/TickTock.jl:32\n",
      "\u001b[32mloss: 0.0672: 100%|█████████████████████████████████████| Time: 0:00:49\u001b[39m\n",
      "┌ Info:  started timer at: 2021-04-05T21:15:20.294\n",
      "└ @ TickTock /home/ziyu/.julia/packages/TickTock/RsTHR/src/TickTock.jl:32\n",
      "\u001b[32mloss: 0.0669: 100%|█████████████████████████████████████| Time: 0:01:44\u001b[39m\n",
      "\u001b[32mloss: 0.0658: 100%|█████████████████████████████████████| Time: 0:00:54\u001b[39m\n"
     ]
    },
    {
     "name": "stdout",
     "output_type": "stream",
     "text": [
      "Plotting graphs for country: Guinea\n",
      "Updating csv for parameters for country: Guinea\n",
      "Updating csv for differentiation parameters for country: Guinea\n",
      "Loading dataframes for country: Honduras\n",
      "Training neural network\n",
      "Generating data for country: Honduras\n"
     ]
    },
    {
     "name": "stderr",
     "output_type": "stream",
     "text": [
      "┌ Info:  started timer at: 2021-04-05T21:20:36.633\n",
      "└ @ TickTock /home/ziyu/.julia/packages/TickTock/RsTHR/src/TickTock.jl:32\n",
      "\u001b[32mloss: 0.0863: 100%|█████████████████████████████████████| Time: 0:00:56\u001b[39m\n",
      "┌ Info:  started timer at: 2021-04-05T21:22:58.798\n",
      "└ @ TickTock /home/ziyu/.julia/packages/TickTock/RsTHR/src/TickTock.jl:32\n",
      "\u001b[32mloss: 0.0812: 100%|█████████████████████████████████████| Time: 0:01:48\u001b[39m\n",
      "\u001b[32mloss: 0.0813: 100%|█████████████████████████████████████| Time: 0:00:49\u001b[39m\n",
      "┌ Info:  started timer at: 2021-04-05T21:27:29.908\n",
      "└ @ TickTock /home/ziyu/.julia/packages/TickTock/RsTHR/src/TickTock.jl:32\n",
      "\u001b[32mloss: 0.0813: 100%|█████████████████████████████████████| Time: 0:01:45\u001b[39m\n",
      "\u001b[32mloss: 0.0801: 100%|█████████████████████████████████████| Time: 0:00:46\u001b[39m\n",
      "┌ Info:  started timer at: 2021-04-05T21:31:19.384\n",
      "└ @ TickTock /home/ziyu/.julia/packages/TickTock/RsTHR/src/TickTock.jl:32\n",
      "\u001b[32mloss: 0.0809: 100%|█████████████████████████████████████| Time: 0:01:34\u001b[39m\n",
      "\u001b[32mloss: 0.0792: 100%|█████████████████████████████████████| Time: 0:00:49\u001b[39m\n"
     ]
    },
    {
     "name": "stdout",
     "output_type": "stream",
     "text": [
      "Plotting graphs for country: Honduras\n",
      "Updating csv for parameters for country: Honduras\n",
      "Updating csv for differentiation parameters for country: Honduras\n",
      "Loading dataframes for country: India\n",
      "Training neural network\n",
      "Generating data for country: India\n"
     ]
    },
    {
     "name": "stderr",
     "output_type": "stream",
     "text": [
      "┌ Info:  started timer at: 2021-04-05T21:35:20.441\n",
      "└ @ TickTock /home/ziyu/.julia/packages/TickTock/RsTHR/src/TickTock.jl:32\n",
      "\u001b[32mloss: 0.064: 100%|██████████████████████████████████████| Time: 0:00:44\u001b[39m\n",
      "┌ Info:  started timer at: 2021-04-05T21:36:48.358\n",
      "└ @ TickTock /home/ziyu/.julia/packages/TickTock/RsTHR/src/TickTock.jl:32\n",
      "\u001b[32mloss: 0.056: 100%|██████████████████████████████████████| Time: 0:01:17\u001b[39m\n",
      "\u001b[32mloss: 0.055: 100%|██████████████████████████████████████| Time: 0:00:39\u001b[39m\n",
      "┌ Info:  started timer at: 2021-04-05T21:40:02.994\n",
      "└ @ TickTock /home/ziyu/.julia/packages/TickTock/RsTHR/src/TickTock.jl:32\n",
      "\u001b[32mloss: 0.0555: 100%|█████████████████████████████████████| Time: 0:01:17\u001b[39m\n",
      "\u001b[32mloss: 0.0548: 100%|█████████████████████████████████████| Time: 0:00:37\u001b[39m\n"
     ]
    },
    {
     "name": "stdout",
     "output_type": "stream",
     "text": [
      "Plotting graphs for country: India\n",
      "Updating csv for parameters for country: India\n",
      "Updating csv for differentiation parameters for country: India\n",
      "Loading dataframes for country: Israel\n",
      "Training neural network\n",
      "Generating data for country: Israel\n"
     ]
    },
    {
     "name": "stderr",
     "output_type": "stream",
     "text": [
      "┌ Info:  started timer at: 2021-04-05T21:44:07.286\n",
      "└ @ TickTock /home/ziyu/.julia/packages/TickTock/RsTHR/src/TickTock.jl:32\n",
      "\u001b[32mloss: 0.124: 100%|██████████████████████████████████████| Time: 0:00:56\u001b[39m\n",
      "┌ Info:  started timer at: 2021-04-05T21:45:52.908\n",
      "└ @ TickTock /home/ziyu/.julia/packages/TickTock/RsTHR/src/TickTock.jl:32\n",
      "\u001b[32mloss: 0.0947: 100%|█████████████████████████████████████| Time: 0:01:35\u001b[39m\n",
      "\u001b[32mloss: 0.0938: 100%|█████████████████████████████████████| Time: 0:00:41\u001b[39m\n",
      "┌ Info:  started timer at: 2021-04-05T21:50:00.979\n",
      "└ @ TickTock /home/ziyu/.julia/packages/TickTock/RsTHR/src/TickTock.jl:32\n",
      "\u001b[32mloss: 0.0904: 100%|█████████████████████████████████████| Time: 0:01:35\u001b[39m\n",
      "\u001b[32mloss: 0.09: 100%|███████████████████████████████████████| Time: 0:00:44\u001b[39m\n",
      "┌ Info:  started timer at: 2021-04-05T21:54:06.618\n",
      "└ @ TickTock /home/ziyu/.julia/packages/TickTock/RsTHR/src/TickTock.jl:32\n",
      "\u001b[32mloss: 0.089: 100%|██████████████████████████████████████| Time: 0:01:40\u001b[39m\n",
      "\u001b[32mloss: 0.0877: 100%|█████████████████████████████████████| Time: 0:00:45\u001b[39m\n",
      "┌ Info:  started timer at: 2021-04-05T21:58:08.605\n",
      "└ @ TickTock /home/ziyu/.julia/packages/TickTock/RsTHR/src/TickTock.jl:32\n",
      "\u001b[32mloss: 0.0869: 100%|█████████████████████████████████████| Time: 0:01:38\u001b[39m\n",
      "\u001b[32mloss: 0.0864: 100%|█████████████████████████████████████| Time: 0:00:51\u001b[39m\n",
      "┌ Info:  started timer at: 2021-04-05T22:02:26.793\n",
      "└ @ TickTock /home/ziyu/.julia/packages/TickTock/RsTHR/src/TickTock.jl:32\n",
      "\u001b[32mloss: 0.0899: 100%|█████████████████████████████████████| Time: 0:01:51\u001b[39m\n",
      "\u001b[32mloss: 0.0851: 100%|█████████████████████████████████████| Time: 0:00:47\u001b[39m\n",
      "┌ Info:  started timer at: 2021-04-05T22:06:10.594\n",
      "└ @ TickTock /home/ziyu/.julia/packages/TickTock/RsTHR/src/TickTock.jl:32\n",
      "\u001b[32mloss: 0.0851: 100%|█████████████████████████████████████| Time: 0:01:40\u001b[39m\n",
      "\u001b[32mloss: 0.0844: 100%|█████████████████████████████████████| Time: 0:00:42\u001b[39m\n",
      "┌ Info:  started timer at: 2021-04-05T22:10:28.732\n",
      "└ @ TickTock /home/ziyu/.julia/packages/TickTock/RsTHR/src/TickTock.jl:32\n",
      "\u001b[32mloss: 0.0855: 100%|█████████████████████████████████████| Time: 0:01:49\u001b[39m\n",
      "\u001b[32mloss: 0.084: 100%|██████████████████████████████████████| Time: 0:00:48\u001b[39m\n",
      "┌ Info:  started timer at: 2021-04-05T22:15:29.576\n",
      "└ @ TickTock /home/ziyu/.julia/packages/TickTock/RsTHR/src/TickTock.jl:32\n",
      "\u001b[32mloss: 0.0838: 100%|█████████████████████████████████████| Time: 0:01:38\u001b[39m\n",
      "\u001b[32mloss: 0.0835: 100%|█████████████████████████████████████| Time: 0:00:22\u001b[39m\n",
      "┌ Info:  started timer at: 2021-04-05T22:18:24.106\n",
      "└ @ TickTock /home/ziyu/.julia/packages/TickTock/RsTHR/src/TickTock.jl:32\n",
      "\u001b[32mloss: 0.0841: 100%|█████████████████████████████████████| Time: 0:00:50\u001b[39m\n",
      "\u001b[32mloss: 0.0835: 100%|█████████████████████████████████████| Time: 0:00:22\u001b[39m\n",
      "┌ Info:  started timer at: 2021-04-05T22:20:46.258\n",
      "└ @ TickTock /home/ziyu/.julia/packages/TickTock/RsTHR/src/TickTock.jl:32\n",
      "\u001b[32mloss: 0.0866: 100%|█████████████████████████████████████| Time: 0:00:58\u001b[39m\n",
      "\u001b[32mloss: 0.0833: 100%|█████████████████████████████████████| Time: 0:00:26\u001b[39m\n"
     ]
    },
    {
     "name": "stdout",
     "output_type": "stream",
     "text": [
      "Plotting graphs for country: Israel\n",
      "Updating csv for parameters for country: Israel\n",
      "Updating csv for differentiation parameters for country: Israel\n",
      "Loading dataframes for country: Italy\n",
      "Training neural network\n",
      "Generating data for country: Italy\n"
     ]
    },
    {
     "name": "stderr",
     "output_type": "stream",
     "text": [
      "┌ Info:  started timer at: 2021-04-05T22:23:03.814\n",
      "└ @ TickTock /home/ziyu/.julia/packages/TickTock/RsTHR/src/TickTock.jl:32\n",
      "\u001b[32mloss: 0.0941: 100%|█████████████████████████████████████| Time: 0:00:20\u001b[39m\n",
      "┌ Info:  started timer at: 2021-04-05T22:23:40.942\n",
      "└ @ TickTock /home/ziyu/.julia/packages/TickTock/RsTHR/src/TickTock.jl:32\n",
      "\u001b[32mloss: 0.0732: 100%|█████████████████████████████████████| Time: 0:00:38\u001b[39m\n",
      "\u001b[32mloss: 0.0722: 100%|█████████████████████████████████████| Time: 0:00:15\u001b[39m\n",
      "┌ Info:  started timer at: 2021-04-05T22:25:10.353\n",
      "└ @ TickTock /home/ziyu/.julia/packages/TickTock/RsTHR/src/TickTock.jl:32\n",
      "\u001b[32mloss: 0.0697: 100%|█████████████████████████████████████| Time: 0:00:36\u001b[39m\n",
      "\u001b[32mloss: 0.069: 100%|██████████████████████████████████████| Time: 0:00:15\u001b[39m\n",
      "┌ Info:  started timer at: 2021-04-05T22:26:43.735\n",
      "└ @ TickTock /home/ziyu/.julia/packages/TickTock/RsTHR/src/TickTock.jl:32\n",
      "\u001b[32mloss: 0.0673: 100%|█████████████████████████████████████| Time: 0:00:34\u001b[39m\n",
      "\u001b[32mloss: 0.0668: 100%|█████████████████████████████████████| Time: 0:00:17\u001b[39m\n",
      "┌ Info:  started timer at: 2021-04-05T22:28:11.163\n",
      "└ @ TickTock /home/ziyu/.julia/packages/TickTock/RsTHR/src/TickTock.jl:32\n",
      "\u001b[32mloss: 0.0663: 100%|█████████████████████████████████████| Time: 0:00:34\u001b[39m\n",
      "\u001b[32mloss: 0.0646: 100%|█████████████████████████████████████| Time: 0:00:15\u001b[39m\n",
      "┌ Info:  started timer at: 2021-04-05T22:29:42.85\n",
      "└ @ TickTock /home/ziyu/.julia/packages/TickTock/RsTHR/src/TickTock.jl:32\n",
      "\u001b[32mloss: 0.0637: 100%|█████████████████████████████████████| Time: 0:00:33\u001b[39m\n",
      "\u001b[32mloss: 0.0632: 100%|█████████████████████████████████████| Time: 0:00:15\u001b[39m\n",
      "┌ Info:  started timer at: 2021-04-05T22:31:10.797\n",
      "└ @ TickTock /home/ziyu/.julia/packages/TickTock/RsTHR/src/TickTock.jl:32\n",
      "\u001b[32mloss: 0.0632: 100%|█████████████████████████████████████| Time: 0:00:32\u001b[39m\n",
      "\u001b[32mloss: 0.062: 100%|██████████████████████████████████████| Time: 0:00:15\u001b[39m\n",
      "┌ Info:  started timer at: 2021-04-05T22:32:37.866\n",
      "└ @ TickTock /home/ziyu/.julia/packages/TickTock/RsTHR/src/TickTock.jl:32\n",
      "\u001b[32mloss: 0.0624: 100%|█████████████████████████████████████| Time: 0:00:33\u001b[39m\n",
      "\u001b[32mloss: 0.0611: 100%|█████████████████████████████████████| Time: 0:00:14\u001b[39m\n",
      "┌ Info:  started timer at: 2021-04-05T22:34:00.273\n",
      "└ @ TickTock /home/ziyu/.julia/packages/TickTock/RsTHR/src/TickTock.jl:32\n",
      "\u001b[32mloss: 0.0608: 100%|█████████████████████████████████████| Time: 0:00:33\u001b[39m\n",
      "\u001b[32mloss: 0.0604: 100%|█████████████████████████████████████| Time: 0:00:16\u001b[39m\n",
      "┌ Info:  started timer at: 2021-04-05T22:35:13.52\n",
      "└ @ TickTock /home/ziyu/.julia/packages/TickTock/RsTHR/src/TickTock.jl:32\n",
      "\u001b[32mloss: 0.06: 100%|███████████████████████████████████████| Time: 0:00:32\u001b[39m\n",
      "\u001b[32mloss: 0.0597: 100%|█████████████████████████████████████| Time: 0:00:14\u001b[39m\n",
      "┌ Info:  started timer at: 2021-04-05T22:36:32.303\n",
      "└ @ TickTock /home/ziyu/.julia/packages/TickTock/RsTHR/src/TickTock.jl:32\n",
      "\u001b[32mloss: 0.0606: 100%|█████████████████████████████████████| Time: 0:00:34\u001b[39m\n",
      "\u001b[32mloss: 0.0589: 100%|█████████████████████████████████████| Time: 0:00:14\u001b[39m\n"
     ]
    },
    {
     "name": "stdout",
     "output_type": "stream",
     "text": [
      "Plotting graphs for country: Italy\n",
      "Updating csv for parameters for country: Italy\n",
      "Updating csv for differentiation parameters for country: Italy\n",
      "Loading dataframes for country: Jamaica\n",
      "Training neural network\n",
      "Generating data for country: Jamaica\n"
     ]
    },
    {
     "name": "stderr",
     "output_type": "stream",
     "text": [
      "┌ Info:  started timer at: 2021-04-05T22:38:09.235\n",
      "└ @ TickTock /home/ziyu/.julia/packages/TickTock/RsTHR/src/TickTock.jl:32\n",
      "\u001b[32mloss: 0.216: 100%|██████████████████████████████████████| Time: 0:00:33\u001b[39m\n",
      "┌ Info:  started timer at: 2021-04-05T22:39:12.367\n",
      "└ @ TickTock /home/ziyu/.julia/packages/TickTock/RsTHR/src/TickTock.jl:32\n",
      "\u001b[32mloss: 0.19: 100%|███████████████████████████████████████| Time: 0:01:01\u001b[39m\n",
      "\u001b[32mloss: 0.189: 100%|██████████████████████████████████████| Time: 0:00:29\u001b[39m\n",
      "┌ Info:  started timer at: 2021-04-05T22:41:55.189\n",
      "└ @ TickTock /home/ziyu/.julia/packages/TickTock/RsTHR/src/TickTock.jl:32\n",
      "\u001b[32mloss: 0.184: 100%|██████████████████████████████████████| Time: 0:01:00\u001b[39m\n",
      "\u001b[32mloss: 0.183: 100%|██████████████████████████████████████| Time: 0:00:26\u001b[39m\n"
     ]
    },
    {
     "name": "stdout",
     "output_type": "stream",
     "text": [
      "Plotting graphs for country: Jamaica\n",
      "Updating csv for parameters for country: Jamaica\n",
      "Updating csv for differentiation parameters for country: Jamaica\n",
      "Loading dataframes for country: Jordan\n",
      "Training neural network\n",
      "Generating data for country: Jordan\n"
     ]
    },
    {
     "name": "stderr",
     "output_type": "stream",
     "text": [
      "┌ Info:  started timer at: 2021-04-05T22:44:54.624\n",
      "└ @ TickTock /home/ziyu/.julia/packages/TickTock/RsTHR/src/TickTock.jl:32\n",
      "\u001b[32mloss: 0.186: 100%|██████████████████████████████████████| Time: 0:00:46\u001b[39m\n",
      "┌ Info:  started timer at: 2021-04-05T22:46:30.484\n",
      "└ @ TickTock /home/ziyu/.julia/packages/TickTock/RsTHR/src/TickTock.jl:32\n",
      "\u001b[32mloss: 0.184: 100%|██████████████████████████████████████| Time: 0:01:25\u001b[39m\n",
      "\u001b[32mloss: 0.184: 100%|██████████████████████████████████████| Time: 0:00:45\u001b[39m\n"
     ]
    },
    {
     "name": "stdout",
     "output_type": "stream",
     "text": [
      "Plotting graphs for country: Jordan\n",
      "Updating csv for parameters for country: Jordan\n",
      "Updating csv for differentiation parameters for country: Jordan\n",
      "Loading dataframes for country: Kenya\n",
      "Training neural network\n",
      "Generating data for country: Kenya\n"
     ]
    },
    {
     "name": "stderr",
     "output_type": "stream",
     "text": [
      "┌ Info:  started timer at: 2021-04-05T22:50:01.927\n",
      "└ @ TickTock /home/ziyu/.julia/packages/TickTock/RsTHR/src/TickTock.jl:32\n",
      "\u001b[32mloss: 0.125: 100%|██████████████████████████████████████| Time: 0:00:28\u001b[39m\n",
      "┌ Info:  started timer at: 2021-04-05T22:50:59.369\n",
      "└ @ TickTock /home/ziyu/.julia/packages/TickTock/RsTHR/src/TickTock.jl:32\n",
      "\u001b[32mloss: 0.123: 100%|██████████████████████████████████████| Time: 0:00:58\u001b[39m\n",
      "\u001b[32mloss: 0.123: 100%|██████████████████████████████████████| Time: 0:00:33\u001b[39m\n",
      "┌ Info:  started timer at: 2021-04-05T22:53:34.783\n",
      "└ @ TickTock /home/ziyu/.julia/packages/TickTock/RsTHR/src/TickTock.jl:32\n",
      "\u001b[32mloss: 0.122: 100%|██████████████████████████████████████| Time: 0:01:00\u001b[39m\n",
      "\u001b[32mloss: 0.122: 100%|██████████████████████████████████████| Time: 0:00:34\u001b[39m\n"
     ]
    },
    {
     "name": "stdout",
     "output_type": "stream",
     "text": [
      "Plotting graphs for country: Kenya\n",
      "Updating csv for parameters for country: Kenya\n",
      "Updating csv for differentiation parameters for country: Kenya\n",
      "Loading dataframes for country: Kuwait\n",
      "Training neural network\n",
      "Generating data for country: Kuwait\n"
     ]
    },
    {
     "name": "stderr",
     "output_type": "stream",
     "text": [
      "┌ Info:  started timer at: 2021-04-05T22:56:24.302\n",
      "└ @ TickTock /home/ziyu/.julia/packages/TickTock/RsTHR/src/TickTock.jl:32\n",
      "\u001b[32mloss: 1.06: 100%|███████████████████████████████████████| Time: 0:01:09\u001b[39m\n",
      "┌ Info:  started timer at: 2021-04-05T22:58:21.42\n",
      "└ @ TickTock /home/ziyu/.julia/packages/TickTock/RsTHR/src/TickTock.jl:32\n",
      "\u001b[32mloss: 1.06: 100%|███████████████████████████████████████| Time: 0:02:34\u001b[39m\n",
      "\u001b[32mloss: 1.06: 100%|███████████████████████████████████████| Time: 0:01:12\u001b[39m\n"
     ]
    },
    {
     "name": "stdout",
     "output_type": "stream",
     "text": [
      "Plotting graphs for country: Kuwait\n",
      "Updating csv for parameters for country: Kuwait\n",
      "Updating csv for differentiation parameters for country: Kuwait\n",
      "Error with country Kuwait: MethodError(StatsBase.sqL2dist, ([0.8114657330683954, 0.38329521522058485, 0.146357014448526, 0.03293299815693018, -0.06662238566199719, -0.2514700411528601, -1.500115100707422, -0.7980363177277194, 0.5028409872107318, 0.5271523212347109, 0.4726380005907984, 0.5055343117939906, 0.49001864197030187, 0.5209024336596073, 0.2415872318924066, 2.222114988343197, 4.253342151887928, 0.3257604580379905, 0.47069594940565196, 0.4643579553911579, 0.4959330204281187, 0.5203142962301222, 0.535959654799683, 0.5484249734996887, 0.5579046639152239, 0.5637890905021585, 0.5654171640332528, 0.5657620076835386, 0.567293042660733], Union{Missing, Float64}[-4.396976260000001, 0.5104727199999992, 3.476567760000002, 0.338217779999999, -3.467022460000001, 0.3660471300000019, -2.472257680000002, 3.0456338100000018, 0.05529735000000002, -0.9716182899999986, -7.192784160000002, 19.323188648, missing, missing, missing, missing, 3.3091286500000017, -1.2840381900000004, 3.8538399499999976, 0.5782053500000011, 1.491259020000001, -1.2163045300000022, 0.15781852000000285, -0.4732872100000023, -1.1518289499999987, -2.642846649999999, 0.43765592999999825, 1.0319919199999994, -1.102651139999999]), 0x0000000000006fb0)\n",
      "Loading dataframes for country: Madagascar\n",
      "Training neural network\n",
      "Generating data for country: Madagascar\n"
     ]
    },
    {
     "name": "stderr",
     "output_type": "stream",
     "text": [
      "┌ Info:  started timer at: 2021-04-05T23:02:34.19\n",
      "└ @ TickTock /home/ziyu/.julia/packages/TickTock/RsTHR/src/TickTock.jl:32\n",
      "\u001b[32mloss: 0.161: 100%|██████████████████████████████████████| Time: 0:00:38\u001b[39m\n",
      "┌ Info:  started timer at: 2021-04-05T23:03:26.75\n",
      "└ @ TickTock /home/ziyu/.julia/packages/TickTock/RsTHR/src/TickTock.jl:32\n",
      "\u001b[32mloss: 0.161: 100%|██████████████████████████████████████| Time: 0:01:19\u001b[39m\n",
      "\u001b[32mloss: 0.159: 100%|██████████████████████████████████████| Time: 0:00:42\u001b[39m\n",
      "┌ Info:  started timer at: 2021-04-05T23:07:25.959\n",
      "└ @ TickTock /home/ziyu/.julia/packages/TickTock/RsTHR/src/TickTock.jl:32\n",
      "\u001b[32mloss: 0.159: 100%|██████████████████████████████████████| Time: 0:01:25\u001b[39m\n",
      "\u001b[32mloss: 0.159: 100%|██████████████████████████████████████| Time: 0:00:40\u001b[39m\n",
      "┌ Info:  started timer at: 2021-04-05T23:11:14.875\n",
      "└ @ TickTock /home/ziyu/.julia/packages/TickTock/RsTHR/src/TickTock.jl:32\n",
      "\u001b[32mloss: 0.161: 100%|██████████████████████████████████████| Time: 0:01:28\u001b[39m\n",
      "\u001b[32mloss: 0.156: 100%|██████████████████████████████████████| Time: 0:00:43\u001b[39m\n",
      "┌ Info:  started timer at: 2021-04-05T23:14:47.447\n",
      "└ @ TickTock /home/ziyu/.julia/packages/TickTock/RsTHR/src/TickTock.jl:32\n",
      "\u001b[32mloss: 0.158: 100%|██████████████████████████████████████| Time: 0:01:26\u001b[39m\n",
      "\u001b[32mloss: 0.157: 100%|██████████████████████████████████████| Time: 0:00:40\u001b[39m\n",
      "┌ Info:  started timer at: 2021-04-05T23:18:47.677\n",
      "└ @ TickTock /home/ziyu/.julia/packages/TickTock/RsTHR/src/TickTock.jl:32\n",
      "\u001b[32mloss: 0.158: 100%|██████████████████████████████████████| Time: 0:01:22\u001b[39m\n",
      "\u001b[32mloss: 0.157: 100%|██████████████████████████████████████| Time: 0:00:43\u001b[39m\n",
      "┌ Info:  started timer at: 2021-04-05T23:22:28.043\n",
      "└ @ TickTock /home/ziyu/.julia/packages/TickTock/RsTHR/src/TickTock.jl:32\n",
      "\u001b[32mloss: 0.157: 100%|██████████████████████████████████████| Time: 0:01:27\u001b[39m\n",
      "\u001b[32mloss: 0.158: 100%|██████████████████████████████████████| Time: 0:00:44\u001b[39m\n",
      "┌ Info:  started timer at: 2021-04-05T23:26:10.796\n",
      "└ @ TickTock /home/ziyu/.julia/packages/TickTock/RsTHR/src/TickTock.jl:32\n",
      "\u001b[32mloss: 0.157: 100%|██████████████████████████████████████| Time: 0:01:19\u001b[39m\n",
      "\u001b[32mloss: 0.157: 100%|██████████████████████████████████████| Time: 0:00:41\u001b[39m\n"
     ]
    },
    {
     "name": "stdout",
     "output_type": "stream",
     "text": [
      "Plotting graphs for country: Madagascar\n",
      "Updating csv for parameters for country: Madagascar\n",
      "Updating csv for differentiation parameters for country: Madagascar\n",
      "Loading dataframes for country: Malawi\n",
      "Training neural network\n",
      "Generating data for country: Malawi\n"
     ]
    },
    {
     "name": "stderr",
     "output_type": "stream",
     "text": [
      "┌ Info:  started timer at: 2021-04-05T23:29:36.269\n",
      "└ @ TickTock /home/ziyu/.julia/packages/TickTock/RsTHR/src/TickTock.jl:32\n",
      "\u001b[32mloss: 0.141: 100%|██████████████████████████████████████| Time: 0:00:36\u001b[39m\n",
      "┌ Info:  started timer at: 2021-04-05T23:31:01.769\n",
      "└ @ TickTock /home/ziyu/.julia/packages/TickTock/RsTHR/src/TickTock.jl:32\n",
      "\u001b[32mloss: 0.141: 100%|██████████████████████████████████████| Time: 0:01:16\u001b[39m\n",
      "\u001b[32mloss: 0.14: 100%|███████████████████████████████████████| Time: 0:00:42\u001b[39m\n",
      "┌ Info:  started timer at: 2021-04-05T23:34:33.214\n",
      "└ @ TickTock /home/ziyu/.julia/packages/TickTock/RsTHR/src/TickTock.jl:32\n",
      "\u001b[32mloss: 0.134: 100%|██████████████████████████████████████| Time: 0:01:25\u001b[39m\n",
      "\u001b[32mloss: 0.134: 100%|██████████████████████████████████████| Time: 0:00:44\u001b[39m\n",
      "┌ Info:  started timer at: 2021-04-05T23:37:51.808\n",
      "└ @ TickTock /home/ziyu/.julia/packages/TickTock/RsTHR/src/TickTock.jl:32\n",
      "\u001b[32mloss: 0.126: 100%|██████████████████████████████████████| Time: 0:01:25\u001b[39m\n",
      "\u001b[32mloss: 0.131: 100%|██████████████████████████████████████| Time: 0:00:44\u001b[39m\n",
      "┌ Info:  started timer at: 2021-04-05T23:41:32.975\n",
      "└ @ TickTock /home/ziyu/.julia/packages/TickTock/RsTHR/src/TickTock.jl:32\n",
      "\u001b[32mloss: 0.128: 100%|██████████████████████████████████████| Time: 0:01:22\u001b[39m\n",
      "\u001b[32mloss: 0.126: 100%|██████████████████████████████████████| Time: 0:00:39\u001b[39m\n",
      "┌ Info:  started timer at: 2021-04-05T23:44:42.769\n",
      "└ @ TickTock /home/ziyu/.julia/packages/TickTock/RsTHR/src/TickTock.jl:32\n",
      "\u001b[32mloss: 0.124: 100%|██████████████████████████████████████| Time: 0:01:21\u001b[39m\n",
      "\u001b[32mloss: 0.123: 100%|██████████████████████████████████████| Time: 0:00:37\u001b[39m\n",
      "┌ Info:  started timer at: 2021-04-05T23:48:01.179\n",
      "└ @ TickTock /home/ziyu/.julia/packages/TickTock/RsTHR/src/TickTock.jl:32\n",
      "\u001b[32mloss: 0.12: 100%|███████████████████████████████████████| Time: 0:01:26\u001b[39m\n",
      "\u001b[32mloss: 0.12: 100%|███████████████████████████████████████| Time: 0:00:42\u001b[39m\n",
      "┌ Info:  started timer at: 2021-04-05T23:51:58.691\n",
      "└ @ TickTock /home/ziyu/.julia/packages/TickTock/RsTHR/src/TickTock.jl:32\n",
      "\u001b[32mloss: 0.119: 100%|██████████████████████████████████████| Time: 0:01:25\u001b[39m\n",
      "\u001b[32mloss: 0.133: 100%|██████████████████████████████████████| Time: 0:00:44\u001b[39m\n",
      "┌ Info:  started timer at: 2021-04-05T23:55:35.907\n",
      "└ @ TickTock /home/ziyu/.julia/packages/TickTock/RsTHR/src/TickTock.jl:32\n",
      "\u001b[32mloss: 0.128: 100%|██████████████████████████████████████| Time: 0:01:30\u001b[39m\n",
      "\u001b[32mloss: 0.12: 100%|███████████████████████████████████████| Time: 0:00:45\u001b[39m\n",
      "┌ Info:  started timer at: 2021-04-05T23:59:20.21\n",
      "└ @ TickTock /home/ziyu/.julia/packages/TickTock/RsTHR/src/TickTock.jl:32\n",
      "\u001b[32mloss: 0.12: 100%|███████████████████████████████████████| Time: 0:01:29\u001b[39m\n",
      "\u001b[32mloss: 0.121: 100%|██████████████████████████████████████| Time: 0:00:41\u001b[39m\n",
      "┌ Info:  started timer at: 2021-04-06T00:03:01.536\n",
      "└ @ TickTock /home/ziyu/.julia/packages/TickTock/RsTHR/src/TickTock.jl:32\n",
      "\u001b[32mloss: 0.116: 100%|██████████████████████████████████████| Time: 0:02:13\u001b[39m\n",
      "\u001b[32mloss: 0.116: 100%|██████████████████████████████████████| Time: 0:01:19\u001b[39m\n"
     ]
    },
    {
     "name": "stdout",
     "output_type": "stream",
     "text": [
      "Plotting graphs for country: Malawi\n",
      "Updating csv for parameters for country: Malawi\n",
      "Updating csv for differentiation parameters for country: Malawi\n",
      "Loading dataframes for country: Malaysia\n",
      "Training neural network\n",
      "Generating data for country: Malaysia\n"
     ]
    },
    {
     "name": "stderr",
     "output_type": "stream",
     "text": [
      "┌ Info:  started timer at: 2021-04-06T00:08:12.808\n",
      "└ @ TickTock /home/ziyu/.julia/packages/TickTock/RsTHR/src/TickTock.jl:32\n",
      "\u001b[32mloss: 0.087: 100%|██████████████████████████████████████| Time: 0:00:44\u001b[39m\n",
      "┌ Info:  started timer at: 2021-04-06T00:09:16.051\n",
      "└ @ TickTock /home/ziyu/.julia/packages/TickTock/RsTHR/src/TickTock.jl:32\n",
      "\u001b[32mloss: 0.0861: 100%|█████████████████████████████████████| Time: 0:00:45\u001b[39m\n",
      "\u001b[32mloss: 0.0855: 100%|█████████████████████████████████████| Time: 0:00:44\u001b[39m\n",
      "┌ Info:  started timer at: 2021-04-06T00:12:36.755\n",
      "└ @ TickTock /home/ziyu/.julia/packages/TickTock/RsTHR/src/TickTock.jl:32\n",
      "\u001b[32mloss: 0.0854: 100%|█████████████████████████████████████| Time: 0:01:33\u001b[39m\n",
      "\u001b[32mloss: 0.0853: 100%|█████████████████████████████████████| Time: 0:00:49\u001b[39m\n"
     ]
    },
    {
     "name": "stdout",
     "output_type": "stream",
     "text": [
      "Plotting graphs for country: Malaysia\n",
      "Updating csv for parameters for country: Malaysia\n",
      "Updating csv for differentiation parameters for country: Malaysia\n",
      "Loading dataframes for country: Mali\n",
      "Training neural network\n",
      "Generating data for country: Mali\n"
     ]
    },
    {
     "name": "stderr",
     "output_type": "stream",
     "text": [
      "┌ Info:  started timer at: 2021-04-06T00:16:37.288\n",
      "└ @ TickTock /home/ziyu/.julia/packages/TickTock/RsTHR/src/TickTock.jl:32\n",
      "\u001b[32mloss: 0.136: 100%|██████████████████████████████████████| Time: 0:01:16\u001b[39m\n",
      "┌ Info:  started timer at: 2021-04-06T00:19:19.473\n",
      "└ @ TickTock /home/ziyu/.julia/packages/TickTock/RsTHR/src/TickTock.jl:32\n",
      "\u001b[32mloss: 0.119: 100%|██████████████████████████████████████| Time: 0:02:39\u001b[39m\n",
      "\u001b[32mloss: 0.123: 100%|██████████████████████████████████████| Time: 0:01:17\u001b[39m\n",
      "┌ Info:  started timer at: 2021-04-06T00:26:47.393\n",
      "└ @ TickTock /home/ziyu/.julia/packages/TickTock/RsTHR/src/TickTock.jl:32\n",
      "\u001b[32mloss: 0.117: 100%|██████████████████████████████████████| Time: 0:02:40\u001b[39m\n",
      "\u001b[32mloss: 0.116: 100%|██████████████████████████████████████| Time: 0:01:21\u001b[39m\n",
      "┌ Info:  started timer at: 2021-04-06T00:34:01.817\n",
      "└ @ TickTock /home/ziyu/.julia/packages/TickTock/RsTHR/src/TickTock.jl:32\n",
      "\u001b[32mloss: 0.114: 100%|██████████████████████████████████████| Time: 0:02:45\u001b[39m\n",
      "\u001b[32mloss: 0.113: 100%|██████████████████████████████████████| Time: 0:01:14\u001b[39m\n",
      "┌ Info:  started timer at: 2021-04-06T00:40:53.026\n",
      "└ @ TickTock /home/ziyu/.julia/packages/TickTock/RsTHR/src/TickTock.jl:32\n",
      "\u001b[32mloss: 0.113: 100%|██████████████████████████████████████| Time: 0:02:45\u001b[39m\n",
      "\u001b[32mloss: 0.111: 100%|██████████████████████████████████████| Time: 0:01:24\u001b[39m\n",
      "┌ Info:  started timer at: 2021-04-06T00:48:36.419\n",
      "└ @ TickTock /home/ziyu/.julia/packages/TickTock/RsTHR/src/TickTock.jl:32\n",
      "\u001b[32mloss: 0.112: 100%|██████████████████████████████████████| Time: 0:02:37\u001b[39m\n",
      "\u001b[32mloss: 0.113: 100%|██████████████████████████████████████| Time: 0:01:23\u001b[39m\n",
      "┌ Info:  started timer at: 2021-04-06T00:56:01.364\n",
      "└ @ TickTock /home/ziyu/.julia/packages/TickTock/RsTHR/src/TickTock.jl:32\n",
      "\u001b[32mloss: 0.11: 100%|███████████████████████████████████████| Time: 0:02:45\u001b[39m\n",
      "\u001b[32mloss: 0.109: 100%|██████████████████████████████████████| Time: 0:01:22\u001b[39m\n",
      "┌ Info:  started timer at: 2021-04-06T01:03:45.596\n",
      "└ @ TickTock /home/ziyu/.julia/packages/TickTock/RsTHR/src/TickTock.jl:32\n",
      "\u001b[32mloss: 0.109: 100%|██████████████████████████████████████| Time: 0:02:49\u001b[39m\n",
      "\u001b[32mloss: 0.11: 100%|███████████████████████████████████████| Time: 0:01:22\u001b[39m\n",
      "┌ Info:  started timer at: 2021-04-06T01:10:56.029\n",
      "└ @ TickTock /home/ziyu/.julia/packages/TickTock/RsTHR/src/TickTock.jl:32\n",
      "\u001b[32mloss: 0.111: 100%|██████████████████████████████████████| Time: 0:02:51\u001b[39m\n",
      "\u001b[32mloss: 0.116: 100%|██████████████████████████████████████| Time: 0:01:28\u001b[39m\n",
      "┌ Info:  started timer at: 2021-04-06T01:18:06.785\n",
      "└ @ TickTock /home/ziyu/.julia/packages/TickTock/RsTHR/src/TickTock.jl:32\n",
      "\u001b[32mloss: 0.11: 100%|███████████████████████████████████████| Time: 0:02:57\u001b[39m\n",
      "\u001b[32mloss: 0.109: 100%|██████████████████████████████████████| Time: 0:01:24\u001b[39m\n",
      "┌ Info:  started timer at: 2021-04-06T01:25:36.745\n",
      "└ @ TickTock /home/ziyu/.julia/packages/TickTock/RsTHR/src/TickTock.jl:32\n",
      "\u001b[32mloss: 0.11: 100%|███████████████████████████████████████| Time: 0:02:49\u001b[39m\n",
      "\u001b[32mloss: 0.11: 100%|███████████████████████████████████████| Time: 0:01:29\u001b[39m\n"
     ]
    },
    {
     "name": "stdout",
     "output_type": "stream",
     "text": [
      "Plotting graphs for country: Mali\n",
      "Updating csv for parameters for country: Mali\n",
      "Updating csv for differentiation parameters for country: Mali\n",
      "Loading dataframes for country: Mauritania\n",
      "Training neural network\n",
      "Generating data for country: Mauritania\n"
     ]
    },
    {
     "name": "stderr",
     "output_type": "stream",
     "text": [
      "┌ Info:  started timer at: 2021-04-06T01:32:46.712\n",
      "└ @ TickTock /home/ziyu/.julia/packages/TickTock/RsTHR/src/TickTock.jl:32\n",
      "\u001b[32mloss: 0.268: 100%|██████████████████████████████████████| Time: 0:00:58\u001b[39m\n",
      "┌ Info:  started timer at: 2021-04-06T01:34:44.306\n",
      "└ @ TickTock /home/ziyu/.julia/packages/TickTock/RsTHR/src/TickTock.jl:32\n",
      "\u001b[32mloss: 0.26: 100%|███████████████████████████████████████| Time: 0:02:06\u001b[39m\n",
      "\u001b[32mloss: 0.259: 100%|██████████████████████████████████████| Time: 0:01:02\u001b[39m\n",
      "┌ Info:  started timer at: 2021-04-06T01:40:21.836\n",
      "└ @ TickTock /home/ziyu/.julia/packages/TickTock/RsTHR/src/TickTock.jl:32\n",
      "\u001b[32mloss: 0.255: 100%|██████████████████████████████████████| Time: 0:02:09\u001b[39m\n",
      "\u001b[32mloss: 0.255: 100%|██████████████████████████████████████| Time: 0:01:04\u001b[39m\n",
      "┌ Info:  started timer at: 2021-04-06T01:45:20.555\n",
      "└ @ TickTock /home/ziyu/.julia/packages/TickTock/RsTHR/src/TickTock.jl:32\n",
      "\u001b[32mloss: 0.252: 100%|██████████████████████████████████████| Time: 0:02:02\u001b[39m\n",
      "\u001b[32mloss: 0.251: 100%|██████████████████████████████████████| Time: 0:00:59\u001b[39m\n",
      "┌ Info:  started timer at: 2021-04-06T01:50:34.842\n",
      "└ @ TickTock /home/ziyu/.julia/packages/TickTock/RsTHR/src/TickTock.jl:32\n",
      "\u001b[32mloss: 0.247: 100%|██████████████████████████████████████| Time: 0:02:02\u001b[39m\n",
      "\u001b[32mloss: 0.244: 100%|██████████████████████████████████████| Time: 0:01:00\u001b[39m\n"
     ]
    },
    {
     "name": "stdout",
     "output_type": "stream",
     "text": [
      "Plotting graphs for country: Mauritania\n",
      "Updating csv for parameters for country: Mauritania\n",
      "Updating csv for differentiation parameters for country: Mauritania\n",
      "Loading dataframes for country: Mauritius\n",
      "Training neural network\n",
      "Generating data for country: Mauritius\n"
     ]
    },
    {
     "name": "stderr",
     "output_type": "stream",
     "text": [
      "┌ Info:  started timer at: 2021-04-06T01:56:01.054\n",
      "└ @ TickTock /home/ziyu/.julia/packages/TickTock/RsTHR/src/TickTock.jl:32\n",
      "\u001b[32mloss: 0.156: 100%|██████████████████████████████████████| Time: 0:00:55\u001b[39m\n",
      "┌ Info:  started timer at: 2021-04-06T01:57:58.426\n",
      "└ @ TickTock /home/ziyu/.julia/packages/TickTock/RsTHR/src/TickTock.jl:32\n",
      "\u001b[32mloss: 0.154: 100%|██████████████████████████████████████| Time: 0:01:52\u001b[39m\n",
      "\u001b[32mloss: 0.153: 100%|██████████████████████████████████████| Time: 0:00:58\u001b[39m\n"
     ]
    },
    {
     "name": "stdout",
     "output_type": "stream",
     "text": [
      "Plotting graphs for country: Mauritius\n",
      "Updating csv for parameters for country: Mauritius\n",
      "Updating csv for differentiation parameters for country: Mauritius\n",
      "Loading dataframes for country: Mexico\n",
      "Training neural network\n",
      "Generating data for country: Mexico\n"
     ]
    },
    {
     "name": "stderr",
     "output_type": "stream",
     "text": [
      "┌ Info:  started timer at: 2021-04-06T02:03:06.811\n",
      "└ @ TickTock /home/ziyu/.julia/packages/TickTock/RsTHR/src/TickTock.jl:32\n",
      "\u001b[32mloss: 0.0689: 100%|█████████████████████████████████████| Time: 0:00:40\u001b[39m\n",
      "┌ Info:  started timer at: 2021-04-06T02:04:30.215\n",
      "└ @ TickTock /home/ziyu/.julia/packages/TickTock/RsTHR/src/TickTock.jl:32\n",
      "\u001b[32mloss: 0.0643: 100%|█████████████████████████████████████| Time: 0:00:56\u001b[39m\n",
      "\u001b[32mloss: 0.0637: 100%|█████████████████████████████████████| Time: 0:00:24\u001b[39m\n",
      "┌ Info:  started timer at: 2021-04-06T02:07:14.73\n",
      "└ @ TickTock /home/ziyu/.julia/packages/TickTock/RsTHR/src/TickTock.jl:32\n",
      "\u001b[32mloss: 0.062: 100%|██████████████████████████████████████| Time: 0:00:55\u001b[39m\n",
      "\u001b[32mloss: 0.0616: 100%|█████████████████████████████████████| Time: 0:00:24\u001b[39m\n",
      "┌ Info:  started timer at: 2021-04-06T02:09:24.017\n",
      "└ @ TickTock /home/ziyu/.julia/packages/TickTock/RsTHR/src/TickTock.jl:32\n",
      "\u001b[32mloss: 0.061: 100%|██████████████████████████████████████| Time: 0:01:01\u001b[39m\n",
      "\u001b[32mloss: 0.0606: 100%|█████████████████████████████████████| Time: 0:00:28\u001b[39m\n",
      "┌ Info:  started timer at: 2021-04-06T02:12:04.451\n",
      "└ @ TickTock /home/ziyu/.julia/packages/TickTock/RsTHR/src/TickTock.jl:32\n",
      "\u001b[32mloss: 0.0612: 100%|█████████████████████████████████████| Time: 0:01:10\u001b[39m\n",
      "\u001b[32mloss: 0.0596: 100%|█████████████████████████████████████| Time: 0:00:32\u001b[39m\n",
      "┌ Info:  started timer at: 2021-04-06T02:14:57.358\n",
      "└ @ TickTock /home/ziyu/.julia/packages/TickTock/RsTHR/src/TickTock.jl:32\n",
      "\u001b[32mloss: 0.0602: 100%|█████████████████████████████████████| Time: 0:01:10\u001b[39m\n",
      "\u001b[32mloss: 0.0587: 100%|█████████████████████████████████████| Time: 0:00:34\u001b[39m\n",
      "┌ Info:  started timer at: 2021-04-06T02:17:44.472\n",
      "└ @ TickTock /home/ziyu/.julia/packages/TickTock/RsTHR/src/TickTock.jl:32\n",
      "\u001b[32mloss: 0.0582: 100%|█████████████████████████████████████| Time: 0:01:14\u001b[39m\n",
      "\u001b[32mloss: 0.0582: 100%|█████████████████████████████████████| Time: 0:00:32\u001b[39m\n"
     ]
    },
    {
     "name": "stdout",
     "output_type": "stream",
     "text": [
      "Plotting graphs for country: Mexico\n",
      "Updating csv for parameters for country: Mexico\n",
      "Updating csv for differentiation parameters for country: Mexico\n",
      "Loading dataframes for country: Mongolia\n",
      "Training neural network\n",
      "Generating data for country: Mongolia\n"
     ]
    },
    {
     "name": "stderr",
     "output_type": "stream",
     "text": [
      "┌ Info:  started timer at: 2021-04-06T02:20:31.117\n",
      "└ @ TickTock /home/ziyu/.julia/packages/TickTock/RsTHR/src/TickTock.jl:32\n",
      "\u001b[32mloss: 0.25: 100%|███████████████████████████████████████| Time: 0:00:43\u001b[39m\n",
      "┌ Info:  started timer at: 2021-04-06T02:21:37.66\n",
      "└ @ TickTock /home/ziyu/.julia/packages/TickTock/RsTHR/src/TickTock.jl:32\n",
      "\u001b[32mloss: 0.244: 100%|██████████████████████████████████████| Time: 0:01:36\u001b[39m\n",
      "\u001b[32mloss: 0.243: 100%|██████████████████████████████████████| Time: 0:00:52\u001b[39m\n"
     ]
    },
    {
     "name": "stdout",
     "output_type": "stream",
     "text": [
      "Plotting graphs for country: Mongolia\n",
      "Updating csv for parameters for country: Mongolia\n",
      "Updating csv for differentiation parameters for country: Mongolia\n",
      "Loading dataframes for country: Morocco\n",
      "Training neural network\n",
      "Generating data for country: Morocco\n"
     ]
    },
    {
     "name": "stderr",
     "output_type": "stream",
     "text": [
      "┌ Info:  started timer at: 2021-04-06T02:25:51.472\n",
      "└ @ TickTock /home/ziyu/.julia/packages/TickTock/RsTHR/src/TickTock.jl:32\n",
      "\u001b[32mloss: 0.133: 100%|██████████████████████████████████████| Time: 0:00:40\u001b[39m\n",
      "┌ Info:  started timer at: 2021-04-06T02:27:26.313\n",
      "└ @ TickTock /home/ziyu/.julia/packages/TickTock/RsTHR/src/TickTock.jl:32\n",
      "\u001b[32mloss: 0.127: 100%|██████████████████████████████████████| Time: 0:01:17\u001b[39m\n",
      "\u001b[32mloss: 0.127: 100%|██████████████████████████████████████| Time: 0:00:35\u001b[39m\n"
     ]
    },
    {
     "name": "stdout",
     "output_type": "stream",
     "text": [
      "Plotting graphs for country: Morocco\n",
      "Updating csv for parameters for country: Morocco\n",
      "Updating csv for differentiation parameters for country: Morocco\n",
      "Loading dataframes for country: Nepal\n",
      "Training neural network\n",
      "Generating data for country: Nepal\n"
     ]
    },
    {
     "name": "stderr",
     "output_type": "stream",
     "text": [
      "┌ Info:  started timer at: 2021-04-06T02:29:43.718\n",
      "└ @ TickTock /home/ziyu/.julia/packages/TickTock/RsTHR/src/TickTock.jl:32\n",
      "\u001b[32mloss: 0.16: 100%|███████████████████████████████████████| Time: 0:00:49\u001b[39m\n",
      "┌ Info:  started timer at: 2021-04-06T02:32:15.623\n",
      "└ @ TickTock /home/ziyu/.julia/packages/TickTock/RsTHR/src/TickTock.jl:32\n",
      "\u001b[32mloss: 0.158: 100%|██████████████████████████████████████| Time: 0:01:56\u001b[39m\n",
      "\u001b[32mloss: 0.157: 100%|██████████████████████████████████████| Time: 0:00:57\u001b[39m\n",
      "┌ Info:  started timer at: 2021-04-06T02:36:54.574\n",
      "└ @ TickTock /home/ziyu/.julia/packages/TickTock/RsTHR/src/TickTock.jl:32\n",
      "\u001b[32mloss: 0.157: 100%|██████████████████████████████████████| Time: 0:01:57\u001b[39m\n",
      "\u001b[32mloss: 0.158: 100%|██████████████████████████████████████| Time: 0:01:00\u001b[39m\n",
      "┌ Info:  started timer at: 2021-04-06T02:42:10.011\n",
      "└ @ TickTock /home/ziyu/.julia/packages/TickTock/RsTHR/src/TickTock.jl:32\n",
      "\u001b[32mloss: 0.156: 100%|██████████████████████████████████████| Time: 0:02:00\u001b[39m\n",
      "\u001b[32mloss: 0.158: 100%|██████████████████████████████████████| Time: 0:00:57\u001b[39m\n"
     ]
    },
    {
     "name": "stdout",
     "output_type": "stream",
     "text": [
      "Plotting graphs for country: Nepal\n",
      "Updating csv for parameters for country: Nepal\n",
      "Updating csv for differentiation parameters for country: Nepal\n",
      "Loading dataframes for country: Netherlands\n",
      "Training neural network\n",
      "Generating data for country: Netherlands\n"
     ]
    },
    {
     "name": "stderr",
     "output_type": "stream",
     "text": [
      "┌ Info:  started timer at: 2021-04-06T02:46:59.167\n",
      "└ @ TickTock /home/ziyu/.julia/packages/TickTock/RsTHR/src/TickTock.jl:32\n",
      "\u001b[32mloss: 0.0891: 100%|█████████████████████████████████████| Time: 0:00:32\u001b[39m\n",
      "┌ Info:  started timer at: 2021-04-06T02:48:04.437\n",
      "└ @ TickTock /home/ziyu/.julia/packages/TickTock/RsTHR/src/TickTock.jl:32\n",
      "\u001b[32mloss: 0.0801: 100%|█████████████████████████████████████| Time: 0:00:58\u001b[39m\n",
      "\u001b[32mloss: 0.0799: 100%|█████████████████████████████████████| Time: 0:00:32\u001b[39m\n",
      "┌ Info:  started timer at: 2021-04-06T02:50:40.783\n",
      "└ @ TickTock /home/ziyu/.julia/packages/TickTock/RsTHR/src/TickTock.jl:32\n",
      "\u001b[32mloss: 0.0792: 100%|█████████████████████████████████████| Time: 0:01:01\u001b[39m\n",
      "\u001b[32mloss: 0.0787: 100%|█████████████████████████████████████| Time: 0:00:42\u001b[39m\n",
      "┌ Info:  started timer at: 2021-04-06T02:53:58.371\n",
      "└ @ TickTock /home/ziyu/.julia/packages/TickTock/RsTHR/src/TickTock.jl:32\n",
      "\u001b[32mloss: 0.078: 100%|██████████████████████████████████████| Time: 0:01:07\u001b[39m\n",
      "\u001b[32mloss: 0.0777: 100%|█████████████████████████████████████| Time: 0:00:42\u001b[39m\n",
      "┌ Info:  started timer at: 2021-04-06T02:57:35.385\n",
      "└ @ TickTock /home/ziyu/.julia/packages/TickTock/RsTHR/src/TickTock.jl:32\n",
      "\u001b[32mloss: 0.0771: 100%|█████████████████████████████████████| Time: 0:01:17\u001b[39m\n",
      "\u001b[32mloss: 0.0766: 100%|█████████████████████████████████████| Time: 0:00:44\u001b[39m\n",
      "┌ Info:  started timer at: 2021-04-06T03:01:14.466\n",
      "└ @ TickTock /home/ziyu/.julia/packages/TickTock/RsTHR/src/TickTock.jl:32\n",
      "\u001b[32mloss: 0.0761: 100%|█████████████████████████████████████| Time: 0:01:23\u001b[39m\n",
      "\u001b[32mloss: 0.0758: 100%|█████████████████████████████████████| Time: 0:00:45\u001b[39m\n"
     ]
    },
    {
     "name": "stdout",
     "output_type": "stream",
     "text": [
      "Plotting graphs for country: Netherlands\n",
      "Updating csv for parameters for country: Netherlands\n",
      "Updating csv for differentiation parameters for country: Netherlands\n",
      "Loading dataframes for country: Niger\n",
      "Training neural network\n",
      "Generating data for country: Niger\n"
     ]
    },
    {
     "name": "stderr",
     "output_type": "stream",
     "text": [
      "┌ Info:  started timer at: 2021-04-06T03:05:10.66\n",
      "└ @ TickTock /home/ziyu/.julia/packages/TickTock/RsTHR/src/TickTock.jl:32\n",
      "\u001b[32mloss: 0.215: 100%|██████████████████████████████████████| Time: 0:00:44\u001b[39m\n",
      "┌ Info:  started timer at: 2021-04-06T03:07:05.527\n",
      "└ @ TickTock /home/ziyu/.julia/packages/TickTock/RsTHR/src/TickTock.jl:32\n",
      "\u001b[32mloss: 0.199: 100%|██████████████████████████████████████| Time: 0:01:48\u001b[39m\n",
      "\u001b[32mloss: 0.199: 100%|██████████████████████████████████████| Time: 0:00:59\u001b[39m\n"
     ]
    },
    {
     "name": "stdout",
     "output_type": "stream",
     "text": [
      "Plotting graphs for country: Niger\n",
      "Updating csv for parameters for country: Niger\n",
      "Updating csv for differentiation parameters for country: Niger\n",
      "Loading dataframes for country: Nigeria\n",
      "Training neural network\n",
      "Generating data for country: Nigeria\n"
     ]
    },
    {
     "name": "stderr",
     "output_type": "stream",
     "text": [
      "┌ Info:  started timer at: 2021-04-06T03:11:38.462\n",
      "└ @ TickTock /home/ziyu/.julia/packages/TickTock/RsTHR/src/TickTock.jl:32\n",
      "\u001b[32mloss: 0.394: 100%|██████████████████████████████████████| Time: 0:01:22\u001b[39m\n",
      "┌ Info:  started timer at: 2021-04-06T03:14:48.29\n",
      "└ @ TickTock /home/ziyu/.julia/packages/TickTock/RsTHR/src/TickTock.jl:32\n",
      "\u001b[32mloss: 0.389: 100%|██████████████████████████████████████| Time: 0:02:55\u001b[39m\n",
      "\u001b[32mloss: 0.388: 100%|██████████████████████████████████████| Time: 0:01:29\u001b[39m\n"
     ]
    },
    {
     "name": "stdout",
     "output_type": "stream",
     "text": [
      "Plotting graphs for country: Nigeria\n",
      "Updating csv for parameters for country: Nigeria\n",
      "Updating csv for differentiation parameters for country: Nigeria\n",
      "Loading dataframes for country: Norway\n",
      "Training neural network\n",
      "Generating data for country: Norway\n"
     ]
    },
    {
     "name": "stderr",
     "output_type": "stream",
     "text": [
      "┌ Info:  started timer at: 2021-04-06T03:22:39.707\n",
      "└ @ TickTock /home/ziyu/.julia/packages/TickTock/RsTHR/src/TickTock.jl:32\n",
      "\u001b[32mloss: 0.138: 100%|██████████████████████████████████████| Time: 0:00:54\u001b[39m\n",
      "┌ Info:  started timer at: 2021-04-06T03:24:21.731\n",
      "└ @ TickTock /home/ziyu/.julia/packages/TickTock/RsTHR/src/TickTock.jl:32\n",
      "\u001b[32mloss: 0.126: 100%|██████████████████████████████████████| Time: 0:01:47\u001b[39m\n",
      "\u001b[32mloss: 0.124: 100%|██████████████████████████████████████| Time: 0:00:53\u001b[39m\n",
      "┌ Info:  started timer at: 2021-04-06T03:28:58.972\n",
      "└ @ TickTock /home/ziyu/.julia/packages/TickTock/RsTHR/src/TickTock.jl:32\n",
      "\u001b[32mloss: 0.122: 100%|██████████████████████████████████████| Time: 0:01:48\u001b[39m\n",
      "\u001b[32mloss: 0.12: 100%|███████████████████████████████████████| Time: 0:00:55\u001b[39m\n",
      "┌ Info:  started timer at: 2021-04-06T03:33:51.864\n",
      "└ @ TickTock /home/ziyu/.julia/packages/TickTock/RsTHR/src/TickTock.jl:32\n",
      "\u001b[32mloss: 0.12: 100%|███████████████████████████████████████| Time: 0:01:54\u001b[39m\n",
      "\u001b[32mloss: 0.119: 100%|██████████████████████████████████████| Time: 0:00:53\u001b[39m\n",
      "┌ Info:  started timer at: 2021-04-06T03:39:26.766\n",
      "└ @ TickTock /home/ziyu/.julia/packages/TickTock/RsTHR/src/TickTock.jl:32\n",
      "\u001b[32mloss: 0.118: 100%|██████████████████████████████████████| Time: 0:01:48\u001b[39m\n",
      "\u001b[32mloss: 0.118: 100%|██████████████████████████████████████| Time: 0:00:50\u001b[39m\n",
      "┌ Info:  started timer at: 2021-04-06T03:44:10.142\n",
      "└ @ TickTock /home/ziyu/.julia/packages/TickTock/RsTHR/src/TickTock.jl:32\n",
      "\u001b[32mloss: 0.118: 100%|██████████████████████████████████████| Time: 0:01:55\u001b[39m\n",
      "\u001b[32mloss: 0.117: 100%|██████████████████████████████████████| Time: 0:00:49\u001b[39m\n",
      "┌ Info:  started timer at: 2021-04-06T03:48:59.965\n",
      "└ @ TickTock /home/ziyu/.julia/packages/TickTock/RsTHR/src/TickTock.jl:32\n",
      "\u001b[32mloss: 0.12: 100%|███████████████████████████████████████| Time: 0:01:58\u001b[39m\n",
      "\u001b[32mloss: 0.117: 100%|██████████████████████████████████████| Time: 0:00:50\u001b[39m\n",
      "┌ Info:  started timer at: 2021-04-06T03:52:27.236\n",
      "└ @ TickTock /home/ziyu/.julia/packages/TickTock/RsTHR/src/TickTock.jl:32\n",
      "\u001b[32mloss: 0.117: 100%|██████████████████████████████████████| Time: 0:01:46\u001b[39m\n",
      "\u001b[32mloss: 0.117: 100%|██████████████████████████████████████| Time: 0:00:49\u001b[39m\n",
      "┌ Info:  started timer at: 2021-04-06T03:55:44.117\n",
      "└ @ TickTock /home/ziyu/.julia/packages/TickTock/RsTHR/src/TickTock.jl:32\n",
      "\u001b[32mloss: 0.116: 100%|██████████████████████████████████████| Time: 0:01:51\u001b[39m\n",
      "\u001b[32mloss: 0.117: 100%|██████████████████████████████████████| Time: 0:00:46\u001b[39m\n",
      "┌ Info:  started timer at: 2021-04-06T04:00:12.494\n",
      "└ @ TickTock /home/ziyu/.julia/packages/TickTock/RsTHR/src/TickTock.jl:32\n",
      "\u001b[32mloss: 0.117: 100%|██████████████████████████████████████| Time: 0:01:45\u001b[39m\n",
      "\u001b[32mloss: 0.116: 100%|██████████████████████████████████████| Time: 0:00:46\u001b[39m\n",
      "┌ Info:  started timer at: 2021-04-06T04:04:46.201\n",
      "└ @ TickTock /home/ziyu/.julia/packages/TickTock/RsTHR/src/TickTock.jl:32\n",
      "\u001b[32mloss: 0.116: 100%|██████████████████████████████████████| Time: 0:01:44\u001b[39m\n",
      "\u001b[32mloss: 0.116: 100%|██████████████████████████████████████| Time: 0:00:42\u001b[39m\n"
     ]
    },
    {
     "name": "stdout",
     "output_type": "stream",
     "text": [
      "Plotting graphs for country: Norway\n",
      "Updating csv for parameters for country: Norway\n",
      "Updating csv for differentiation parameters for country: Norway\n",
      "Loading dataframes for country: Oman\n",
      "Training neural network\n",
      "Generating data for country: Oman\n"
     ]
    },
    {
     "name": "stderr",
     "output_type": "stream",
     "text": [
      "┌ Info:  started timer at: 2021-04-06T04:08:59.745\n",
      "└ @ TickTock /home/ziyu/.julia/packages/TickTock/RsTHR/src/TickTock.jl:32\n",
      "\u001b[32mloss: 0.204: 100%|██████████████████████████████████████| Time: 0:01:21\u001b[39m\n",
      "┌ Info:  started timer at: 2021-04-06T04:11:41.296\n",
      "└ @ TickTock /home/ziyu/.julia/packages/TickTock/RsTHR/src/TickTock.jl:32\n",
      "\u001b[32mloss: 0.195: 100%|██████████████████████████████████████| Time: 0:02:39\u001b[39m\n",
      "\u001b[32mloss: 0.194: 100%|██████████████████████████████████████| Time: 0:01:16\u001b[39m\n"
     ]
    },
    {
     "name": "stdout",
     "output_type": "stream",
     "text": [
      "Plotting graphs for country: Oman\n",
      "Updating csv for parameters for country: Oman\n",
      "Updating csv for differentiation parameters for country: Oman\n",
      "Loading dataframes for country: Pakistan\n",
      "Training neural network\n",
      "Generating data for country: Pakistan\n"
     ]
    },
    {
     "name": "stderr",
     "output_type": "stream",
     "text": [
      "┌ Info:  started timer at: 2021-04-06T04:18:23.342\n",
      "└ @ TickTock /home/ziyu/.julia/packages/TickTock/RsTHR/src/TickTock.jl:32\n",
      "\u001b[32mloss: 0.058: 100%|██████████████████████████████████████| Time: 0:01:04\u001b[39m\n",
      "┌ Info:  started timer at: 2021-04-06T04:20:51.274\n",
      "└ @ TickTock /home/ziyu/.julia/packages/TickTock/RsTHR/src/TickTock.jl:32\n",
      "\u001b[32mloss: 0.0574: 100%|█████████████████████████████████████| Time: 0:02:08\u001b[39m\n",
      "\u001b[32mloss: 0.0574: 100%|█████████████████████████████████████| Time: 0:01:01\u001b[39m\n"
     ]
    },
    {
     "name": "stdout",
     "output_type": "stream",
     "text": [
      "Plotting graphs for country: Pakistan\n",
      "Updating csv for parameters for country: Pakistan\n",
      "Updating csv for differentiation parameters for country: Pakistan\n",
      "Loading dataframes for country: Panama\n",
      "Training neural network\n",
      "Generating data for country: Panama\n"
     ]
    },
    {
     "name": "stderr",
     "output_type": "stream",
     "text": [
      "┌ Info:  started timer at: 2021-04-06T04:26:30.381\n",
      "└ @ TickTock /home/ziyu/.julia/packages/TickTock/RsTHR/src/TickTock.jl:32\n",
      "\u001b[32mloss: 0.182: 100%|██████████████████████████████████████| Time: 0:01:04\u001b[39m\n",
      "┌ Info:  started timer at: 2021-04-06T04:29:16.169\n",
      "└ @ TickTock /home/ziyu/.julia/packages/TickTock/RsTHR/src/TickTock.jl:32\n",
      "\u001b[32mloss: 0.174: 100%|██████████████████████████████████████| Time: 0:02:12\u001b[39m\n",
      "\u001b[32mloss: 0.174: 100%|██████████████████████████████████████| Time: 0:01:08\u001b[39m\n",
      "┌ Info:  started timer at: 2021-04-06T04:34:23.04\n",
      "└ @ TickTock /home/ziyu/.julia/packages/TickTock/RsTHR/src/TickTock.jl:32\n",
      "\u001b[32mloss: 0.172: 100%|██████████████████████████████████████| Time: 0:02:11\u001b[39m\n",
      "\u001b[32mloss: 0.172: 100%|██████████████████████████████████████| Time: 0:01:07\u001b[39m\n",
      "┌ Info:  started timer at: 2021-04-06T04:39:33.555\n",
      "└ @ TickTock /home/ziyu/.julia/packages/TickTock/RsTHR/src/TickTock.jl:32\n",
      "\u001b[32mloss: 0.172: 100%|██████████████████████████████████████| Time: 0:02:09\u001b[39m\n",
      "\u001b[32mloss: 0.17: 100%|███████████████████████████████████████| Time: 0:01:11\u001b[39m\n"
     ]
    },
    {
     "name": "stdout",
     "output_type": "stream",
     "text": [
      "Plotting graphs for country: Panama\n",
      "Updating csv for parameters for country: Panama\n",
      "Updating csv for differentiation parameters for country: Panama\n",
      "Loading dataframes for country: Peru\n",
      "Training neural network\n",
      "Generating data for country: Peru\n"
     ]
    },
    {
     "name": "stderr",
     "output_type": "stream",
     "text": [
      "┌ Info:  started timer at: 2021-04-06T04:45:29.158\n",
      "└ @ TickTock /home/ziyu/.julia/packages/TickTock/RsTHR/src/TickTock.jl:32\n",
      "\u001b[32mloss: 0.208: 100%|██████████████████████████████████████| Time: 0:01:00\u001b[39m\n",
      "┌ Info:  started timer at: 2021-04-06T04:47:19.646\n",
      "└ @ TickTock /home/ziyu/.julia/packages/TickTock/RsTHR/src/TickTock.jl:32\n",
      "\u001b[32mloss: 0.198: 100%|██████████████████████████████████████| Time: 0:01:51\u001b[39m\n",
      "\u001b[32mloss: 0.197: 100%|██████████████████████████████████████| Time: 0:00:54\u001b[39m\n"
     ]
    },
    {
     "name": "stdout",
     "output_type": "stream",
     "text": [
      "Plotting graphs for country: Peru\n",
      "Updating csv for parameters for country: Peru\n",
      "Updating csv for differentiation parameters for country: Peru\n",
      "Loading dataframes for country: Philippines\n",
      "Training neural network\n",
      "Generating data for country: Philippines\n"
     ]
    },
    {
     "name": "stderr",
     "output_type": "stream",
     "text": [
      "┌ Info:  started timer at: 2021-04-06T04:51:27.987\n",
      "└ @ TickTock /home/ziyu/.julia/packages/TickTock/RsTHR/src/TickTock.jl:32\n",
      "\u001b[32mloss: 0.144: 100%|██████████████████████████████████████| Time: 0:00:49\u001b[39m\n",
      "┌ Info:  started timer at: 2021-04-06T04:53:20.854\n",
      "└ @ TickTock /home/ziyu/.julia/packages/TickTock/RsTHR/src/TickTock.jl:32\n",
      "\u001b[32mloss: 0.141: 100%|██████████████████████████████████████| Time: 0:01:31\u001b[39m\n",
      "\u001b[32mloss: 0.141: 100%|██████████████████████████████████████| Time: 0:00:55\u001b[39m\n"
     ]
    },
    {
     "name": "stdout",
     "output_type": "stream",
     "text": [
      "Plotting graphs for country: Philippines\n",
      "Updating csv for parameters for country: Philippines\n",
      "Updating csv for differentiation parameters for country: Philippines\n",
      "Loading dataframes for country: Portugal\n",
      "Training neural network\n",
      "Generating data for country: Portugal\n"
     ]
    },
    {
     "name": "stderr",
     "output_type": "stream",
     "text": [
      "┌ Info:  started timer at: 2021-04-06T04:57:20.275\n",
      "└ @ TickTock /home/ziyu/.julia/packages/TickTock/RsTHR/src/TickTock.jl:32\n",
      "\u001b[32mloss: 0.132: 100%|██████████████████████████████████████| Time: 0:00:52\u001b[39m\n",
      "┌ Info:  started timer at: 2021-04-06T04:59:10.804\n",
      "└ @ TickTock /home/ziyu/.julia/packages/TickTock/RsTHR/src/TickTock.jl:32\n",
      "\u001b[32mloss: 0.0853: 100%|█████████████████████████████████████| Time: 0:01:23\u001b[39m\n",
      "\u001b[32mloss: 0.0841: 100%|█████████████████████████████████████| Time: 0:00:40\u001b[39m\n"
     ]
    },
    {
     "name": "stdout",
     "output_type": "stream",
     "text": [
      "Plotting graphs for country: Portugal\n",
      "Updating csv for parameters for country: Portugal\n",
      "Updating csv for differentiation parameters for country: Portugal\n",
      "Loading dataframes for country: Saudi_Arabia\n",
      "Training neural network\n",
      "Generating data for country: Saudi_Arabia\n"
     ]
    },
    {
     "name": "stderr",
     "output_type": "stream",
     "text": [
      "┌ Info:  started timer at: 2021-04-06T05:02:30.691\n",
      "└ @ TickTock /home/ziyu/.julia/packages/TickTock/RsTHR/src/TickTock.jl:32\n",
      "\u001b[32mloss: 0.128: 100%|██████████████████████████████████████| Time: 0:00:58\u001b[39m\n",
      "┌ Info:  started timer at: 2021-04-06T05:05:10.791\n",
      "└ @ TickTock /home/ziyu/.julia/packages/TickTock/RsTHR/src/TickTock.jl:32\n",
      "\u001b[32mloss: 0.123: 100%|██████████████████████████████████████| Time: 0:01:24\u001b[39m\n",
      "\u001b[32mloss: 0.122: 100%|██████████████████████████████████████| Time: 0:00:40\u001b[39m\n",
      "┌ Info:  started timer at: 2021-04-06T05:08:38.668\n",
      "└ @ TickTock /home/ziyu/.julia/packages/TickTock/RsTHR/src/TickTock.jl:32\n",
      "\u001b[32mloss: 0.118: 100%|██████████████████████████████████████| Time: 0:01:35\u001b[39m\n",
      "\u001b[32mloss: 0.117: 100%|██████████████████████████████████████| Time: 0:00:42\u001b[39m\n",
      "┌ Info:  started timer at: 2021-04-06T05:12:54.722\n",
      "└ @ TickTock /home/ziyu/.julia/packages/TickTock/RsTHR/src/TickTock.jl:32\n",
      "\u001b[32mloss: 0.114: 100%|██████████████████████████████████████| Time: 0:01:48\u001b[39m\n",
      "\u001b[32mloss: 0.113: 100%|██████████████████████████████████████| Time: 0:00:59\u001b[39m\n",
      "┌ Info:  started timer at: 2021-04-06T05:17:15.863\n",
      "└ @ TickTock /home/ziyu/.julia/packages/TickTock/RsTHR/src/TickTock.jl:32\n",
      "\u001b[32mloss: 0.111: 100%|██████████████████████████████████████| Time: 0:01:56\u001b[39m\n",
      "\u001b[32mloss: 0.11: 100%|███████████████████████████████████████| Time: 0:01:08\u001b[39m\n",
      "┌ Info:  started timer at: 2021-04-06T05:22:52.357\n",
      "└ @ TickTock /home/ziyu/.julia/packages/TickTock/RsTHR/src/TickTock.jl:32\n",
      "\u001b[32mloss: 0.108: 100%|██████████████████████████████████████| Time: 0:02:02\u001b[39m\n",
      "\u001b[32mloss: 0.108: 100%|██████████████████████████████████████| Time: 0:01:07\u001b[39m\n",
      "┌ Info:  started timer at: 2021-04-06T05:27:21.872\n",
      "└ @ TickTock /home/ziyu/.julia/packages/TickTock/RsTHR/src/TickTock.jl:32\n",
      "\u001b[32mloss: 0.107: 100%|██████████████████████████████████████| Time: 0:02:08\u001b[39m\n",
      "\u001b[32mloss: 0.106: 100%|██████████████████████████████████████| Time: 0:01:04\u001b[39m\n",
      "┌ Info:  started timer at: 2021-04-06T05:33:14.882\n",
      "└ @ TickTock /home/ziyu/.julia/packages/TickTock/RsTHR/src/TickTock.jl:32\n",
      "\u001b[32mloss: 0.106: 100%|██████████████████████████████████████| Time: 0:02:16\u001b[39m\n",
      "\u001b[32mloss: 0.105: 100%|██████████████████████████████████████| Time: 0:01:08\u001b[39m\n"
     ]
    },
    {
     "name": "stdout",
     "output_type": "stream",
     "text": [
      "Plotting graphs for country: Saudi_Arabia\n",
      "Updating csv for parameters for country: Saudi_Arabia\n",
      "Updating csv for differentiation parameters for country: Saudi_Arabia\n",
      "Loading dataframes for country: Senegal\n",
      "Training neural network\n",
      "Generating data for country: Senegal\n"
     ]
    },
    {
     "name": "stderr",
     "output_type": "stream",
     "text": [
      "┌ Info:  started timer at: 2021-04-06T05:39:10.924\n",
      "└ @ TickTock /home/ziyu/.julia/packages/TickTock/RsTHR/src/TickTock.jl:32\n",
      "\u001b[32mloss: 0.189: 100%|██████████████████████████████████████| Time: 0:00:51\u001b[39m\n",
      "┌ Info:  started timer at: 2021-04-06T05:40:52.428\n",
      "└ @ TickTock /home/ziyu/.julia/packages/TickTock/RsTHR/src/TickTock.jl:32\n",
      "\u001b[32mloss: 0.187: 100%|██████████████████████████████████████| Time: 0:01:35\u001b[39m\n",
      "\u001b[32mloss: 0.185: 100%|██████████████████████████████████████| Time: 0:00:52\u001b[39m\n",
      "┌ Info:  started timer at: 2021-04-06T05:45:24.999\n",
      "└ @ TickTock /home/ziyu/.julia/packages/TickTock/RsTHR/src/TickTock.jl:32\n",
      "\u001b[32mloss: 0.182: 100%|██████████████████████████████████████| Time: 0:01:40\u001b[39m\n",
      "\u001b[32mloss: 0.183: 100%|██████████████████████████████████████| Time: 0:00:51\u001b[39m\n"
     ]
    },
    {
     "name": "stdout",
     "output_type": "stream",
     "text": [
      "Plotting graphs for country: Senegal\n",
      "Updating csv for parameters for country: Senegal\n",
      "Updating csv for differentiation parameters for country: Senegal\n",
      "Loading dataframes for country: Sierra_Leone\n",
      "Training neural network\n",
      "Generating data for country: Sierra_Leone\n"
     ]
    },
    {
     "name": "stderr",
     "output_type": "stream",
     "text": [
      "┌ Info:  started timer at: 2021-04-06T05:50:27.468\n",
      "└ @ TickTock /home/ziyu/.julia/packages/TickTock/RsTHR/src/TickTock.jl:32\n",
      "\u001b[32mloss: 1.22: 100%|███████████████████████████████████████| Time: 0:02:10\u001b[39m\n",
      "┌ Info:  started timer at: 2021-04-06T05:54:08.803\n",
      "└ @ TickTock /home/ziyu/.julia/packages/TickTock/RsTHR/src/TickTock.jl:32\n",
      "\u001b[32mloss: 1.11: 100%|███████████████████████████████████████| Time: 0:04:25\u001b[39m\n",
      "\u001b[32mloss: 1.11: 100%|███████████████████████████████████████| Time: 0:02:12\u001b[39m\n"
     ]
    },
    {
     "name": "stdout",
     "output_type": "stream",
     "text": [
      "Plotting graphs for country: Sierra_Leone\n",
      "Updating csv for parameters for country: Sierra_Leone\n",
      "Updating csv for differentiation parameters for country: Sierra_Leone\n",
      "Loading dataframes for country: Singapore\n",
      "Training neural network\n",
      "Generating data for country: Singapore\n"
     ]
    },
    {
     "name": "stderr",
     "output_type": "stream",
     "text": [
      "┌ Info:  started timer at: 2021-04-06T06:02:12.036\n",
      "└ @ TickTock /home/ziyu/.julia/packages/TickTock/RsTHR/src/TickTock.jl:32\n",
      "\u001b[32mloss: 0.146: 100%|██████████████████████████████████████| Time: 0:01:05\u001b[39m\n",
      "┌ Info:  started timer at: 2021-04-06T06:03:49.288\n",
      "└ @ TickTock /home/ziyu/.julia/packages/TickTock/RsTHR/src/TickTock.jl:32\n",
      "\u001b[32mloss: 0.139: 100%|██████████████████████████████████████| Time: 0:01:49\u001b[39m\n",
      "\u001b[32mloss: 0.138: 100%|██████████████████████████████████████| Time: 0:00:41\u001b[39m\n"
     ]
    },
    {
     "name": "stdout",
     "output_type": "stream",
     "text": [
      "Plotting graphs for country: Singapore\n",
      "Updating csv for parameters for country: Singapore\n",
      "Updating csv for differentiation parameters for country: Singapore\n",
      "Loading dataframes for country: South_Africa\n",
      "Training neural network\n",
      "Generating data for country: South_Africa\n"
     ]
    },
    {
     "name": "stderr",
     "output_type": "stream",
     "text": [
      "┌ Info:  started timer at: 2021-04-06T06:08:02.622\n",
      "└ @ TickTock /home/ziyu/.julia/packages/TickTock/RsTHR/src/TickTock.jl:32\n",
      "\u001b[32mloss: 0.132: 100%|██████████████████████████████████████| Time: 0:00:44\u001b[39m\n",
      "┌ Info:  started timer at: 2021-04-06T06:09:37.979\n",
      "└ @ TickTock /home/ziyu/.julia/packages/TickTock/RsTHR/src/TickTock.jl:32\n",
      "\u001b[32mloss: 0.118: 100%|██████████████████████████████████████| Time: 0:01:30\u001b[39m\n",
      "\u001b[32mloss: 0.117: 100%|██████████████████████████████████████| Time: 0:00:44\u001b[39m\n",
      "┌ Info:  started timer at: 2021-04-06T06:13:02.116\n",
      "└ @ TickTock /home/ziyu/.julia/packages/TickTock/RsTHR/src/TickTock.jl:32\n",
      "\u001b[32mloss: 0.109: 100%|██████████████████████████████████████| Time: 0:01:21\u001b[39m\n",
      "\u001b[32mloss: 0.109: 100%|██████████████████████████████████████| Time: 0:01:00\u001b[39m\n",
      "┌ Info:  started timer at: 2021-04-06T06:17:10.355\n",
      "└ @ TickTock /home/ziyu/.julia/packages/TickTock/RsTHR/src/TickTock.jl:32\n",
      "\u001b[32mloss: 0.104: 100%|██████████████████████████████████████| Time: 0:01:22\u001b[39m\n",
      "\u001b[32mloss: 0.103: 100%|██████████████████████████████████████| Time: 0:00:42\u001b[39m\n",
      "┌ Info:  started timer at: 2021-04-06T06:20:57.483\n",
      "└ @ TickTock /home/ziyu/.julia/packages/TickTock/RsTHR/src/TickTock.jl:32\n",
      "\u001b[32mloss: 0.101: 100%|██████████████████████████████████████| Time: 0:01:19\u001b[39m\n",
      "\u001b[32mloss: 0.101: 100%|██████████████████████████████████████| Time: 0:00:35\u001b[39m\n"
     ]
    },
    {
     "name": "stdout",
     "output_type": "stream",
     "text": [
      "Plotting graphs for country: South_Africa\n",
      "Updating csv for parameters for country: South_Africa\n",
      "Updating csv for differentiation parameters for country: South_Africa\n",
      "Loading dataframes for country: Spain\n",
      "Training neural network\n",
      "Generating data for country: Spain\n"
     ]
    },
    {
     "name": "stderr",
     "output_type": "stream",
     "text": [
      "┌ Info:  started timer at: 2021-04-06T06:23:51.249\n",
      "└ @ TickTock /home/ziyu/.julia/packages/TickTock/RsTHR/src/TickTock.jl:32\n",
      "\u001b[32mloss: 0.163: 100%|██████████████████████████████████████| Time: 0:00:38\u001b[39m\n",
      "┌ Info:  started timer at: 2021-04-06T06:25:46.598\n",
      "└ @ TickTock /home/ziyu/.julia/packages/TickTock/RsTHR/src/TickTock.jl:32\n",
      "\u001b[32mloss: 0.113: 100%|██████████████████████████████████████| Time: 0:01:05\u001b[39m\n",
      "\u001b[32mloss: 0.107: 100%|██████████████████████████████████████| Time: 0:00:39\u001b[39m\n",
      "┌ Info:  started timer at: 2021-04-06T06:28:54.353\n",
      "└ @ TickTock /home/ziyu/.julia/packages/TickTock/RsTHR/src/TickTock.jl:32\n",
      "\u001b[32mloss: 0.107: 100%|██████████████████████████████████████| Time: 0:01:20\u001b[39m\n",
      "\u001b[32mloss: 0.103: 100%|██████████████████████████████████████| Time: 0:00:41\u001b[39m\n",
      "┌ Info:  started timer at: 2021-04-06T06:31:56.488\n",
      "└ @ TickTock /home/ziyu/.julia/packages/TickTock/RsTHR/src/TickTock.jl:32\n",
      "\u001b[32mloss: 0.107: 100%|██████████████████████████████████████| Time: 0:01:24\u001b[39m\n",
      "\u001b[32mloss: 0.102: 100%|██████████████████████████████████████| Time: 0:00:41\u001b[39m\n",
      "┌ Info:  started timer at: 2021-04-06T06:35:31.325\n",
      "└ @ TickTock /home/ziyu/.julia/packages/TickTock/RsTHR/src/TickTock.jl:32\n",
      "\u001b[32mloss: 0.105: 100%|██████████████████████████████████████| Time: 0:01:24\u001b[39m\n",
      "\u001b[32mloss: 0.101: 100%|██████████████████████████████████████| Time: 0:00:43\u001b[39m\n",
      "┌ Info:  started timer at: 2021-04-06T06:39:28.681\n",
      "└ @ TickTock /home/ziyu/.julia/packages/TickTock/RsTHR/src/TickTock.jl:32\n",
      "\u001b[32mloss: 0.104: 100%|██████████████████████████████████████| Time: 0:01:22\u001b[39m\n",
      "\u001b[32mloss: 0.1: 100%|████████████████████████████████████████| Time: 0:00:43\u001b[39m\n",
      "┌ Info:  started timer at: 2021-04-06T06:43:31.962\n",
      "└ @ TickTock /home/ziyu/.julia/packages/TickTock/RsTHR/src/TickTock.jl:32\n",
      "\u001b[32mloss: 0.1: 100%|████████████████████████████████████████| Time: 0:01:21\u001b[39m\n",
      "\u001b[32mloss: 0.0995: 100%|█████████████████████████████████████| Time: 0:00:43\u001b[39m\n",
      "┌ Info:  started timer at: 2021-04-06T06:46:53.474\n",
      "└ @ TickTock /home/ziyu/.julia/packages/TickTock/RsTHR/src/TickTock.jl:32\n",
      "\u001b[32mloss: 0.0998: 100%|█████████████████████████████████████| Time: 0:01:23\u001b[39m\n",
      "\u001b[32mloss: 0.0994: 100%|█████████████████████████████████████| Time: 0:00:45\u001b[39m\n",
      "┌ Info:  started timer at: 2021-04-06T06:50:22.643\n",
      "└ @ TickTock /home/ziyu/.julia/packages/TickTock/RsTHR/src/TickTock.jl:32\n",
      "\u001b[32mloss: 0.0993: 100%|█████████████████████████████████████| Time: 0:01:22\u001b[39m\n",
      "\u001b[32mloss: 0.0992: 100%|█████████████████████████████████████| Time: 0:00:39\u001b[39m\n",
      "┌ Info:  started timer at: 2021-04-06T06:54:01.891\n",
      "└ @ TickTock /home/ziyu/.julia/packages/TickTock/RsTHR/src/TickTock.jl:32\n",
      "\u001b[32mloss: 0.0997: 100%|█████████████████████████████████████| Time: 0:01:22\u001b[39m\n",
      "\u001b[32mloss: 0.0986: 100%|█████████████████████████████████████| Time: 0:00:38\u001b[39m\n",
      "┌ Info:  started timer at: 2021-04-06T06:56:57\n",
      "└ @ TickTock /home/ziyu/.julia/packages/TickTock/RsTHR/src/TickTock.jl:32\n",
      "\u001b[32mloss: 0.1: 100%|████████████████████████████████████████| Time: 0:01:18\u001b[39m\n",
      "\u001b[32mloss: 0.098: 100%|██████████████████████████████████████| Time: 0:00:37\u001b[39m\n"
     ]
    },
    {
     "name": "stdout",
     "output_type": "stream",
     "text": [
      "Plotting graphs for country: Spain\n",
      "Updating csv for parameters for country: Spain\n",
      "Updating csv for differentiation parameters for country: Spain\n",
      "Loading dataframes for country: Sri_Lanka\n",
      "Training neural network\n",
      "Generating data for country: Sri_Lanka\n"
     ]
    },
    {
     "name": "stderr",
     "output_type": "stream",
     "text": [
      "┌ Info:  started timer at: 2021-04-06T07:00:26.889\n",
      "└ @ TickTock /home/ziyu/.julia/packages/TickTock/RsTHR/src/TickTock.jl:32\n",
      "\u001b[32mloss: 0.132: 100%|██████████████████████████████████████| Time: 0:00:46\u001b[39m\n",
      "┌ Info:  started timer at: 2021-04-06T07:02:17.491\n",
      "└ @ TickTock /home/ziyu/.julia/packages/TickTock/RsTHR/src/TickTock.jl:32\n",
      "\u001b[32mloss: 0.13: 100%|███████████████████████████████████████| Time: 0:01:46\u001b[39m\n",
      "\u001b[32mloss: 0.13: 100%|███████████████████████████████████████| Time: 0:00:48\u001b[39m\n"
     ]
    },
    {
     "name": "stdout",
     "output_type": "stream",
     "text": [
      "Plotting graphs for country: Sri_Lanka\n",
      "Updating csv for parameters for country: Sri_Lanka\n",
      "Updating csv for differentiation parameters for country: Sri_Lanka\n",
      "Loading dataframes for country: Sudan\n",
      "Training neural network\n",
      "Generating data for country: Sudan\n"
     ]
    },
    {
     "name": "stderr",
     "output_type": "stream",
     "text": [
      "┌ Info:  started timer at: 2021-04-06T07:06:51.618\n",
      "└ @ TickTock /home/ziyu/.julia/packages/TickTock/RsTHR/src/TickTock.jl:32\n",
      "\u001b[32mloss: 0.192: 100%|██████████████████████████████████████| Time: 0:01:53\u001b[39m\n",
      "┌ Info:  started timer at: 2021-04-06T07:10:56.434\n",
      "└ @ TickTock /home/ziyu/.julia/packages/TickTock/RsTHR/src/TickTock.jl:32\n",
      "\u001b[32mloss: 0.19: 100%|███████████████████████████████████████| Time: 0:03:45\u001b[39m\n",
      "\u001b[32mloss: 0.188: 100%|██████████████████████████████████████| Time: 0:01:53\u001b[39m\n",
      "┌ Info:  started timer at: 2021-04-06T07:21:52.227\n",
      "└ @ TickTock /home/ziyu/.julia/packages/TickTock/RsTHR/src/TickTock.jl:32\n",
      "\u001b[32mloss: 0.188: 100%|██████████████████████████████████████| Time: 0:03:53\u001b[39m\n",
      "\u001b[32mloss: 0.196: 100%|██████████████████████████████████████| Time: 0:01:55\u001b[39m\n",
      "┌ Info:  started timer at: 2021-04-06T07:32:08.19\n",
      "└ @ TickTock /home/ziyu/.julia/packages/TickTock/RsTHR/src/TickTock.jl:32\n",
      "\u001b[32mloss: 0.197: 100%|██████████████████████████████████████| Time: 0:03:47\u001b[39m\n",
      "\u001b[32mloss: 0.196: 100%|██████████████████████████████████████| Time: 0:01:55\u001b[39m\n",
      "┌ Info:  started timer at: 2021-04-06T07:41:09.712\n",
      "└ @ TickTock /home/ziyu/.julia/packages/TickTock/RsTHR/src/TickTock.jl:32\n",
      "\u001b[32mloss: 0.196: 100%|██████████████████████████████████████| Time: 0:03:46\u001b[39m\n",
      "\u001b[32mloss: 0.183: 100%|██████████████████████████████████████| Time: 0:01:50\u001b[39m\n",
      "┌ Info:  started timer at: 2021-04-06T07:52:23.745\n",
      "└ @ TickTock /home/ziyu/.julia/packages/TickTock/RsTHR/src/TickTock.jl:32\n",
      "\u001b[32mloss: 0.198: 100%|██████████████████████████████████████| Time: 0:02:20\u001b[39m\n",
      "\u001b[32mloss: 0.182: 100%|██████████████████████████████████████| Time: 0:01:53\u001b[39m\n",
      "┌ Info:  started timer at: 2021-04-06T08:00:13.447\n",
      "└ @ TickTock /home/ziyu/.julia/packages/TickTock/RsTHR/src/TickTock.jl:32\n",
      "\u001b[32mloss: 0.187: 100%|██████████████████████████████████████| Time: 0:03:51\u001b[39m\n",
      "\u001b[32mloss: 0.181: 100%|██████████████████████████████████████| Time: 0:01:54\u001b[39m\n",
      "┌ Info:  started timer at: 2021-04-06T08:09:32.401\n",
      "└ @ TickTock /home/ziyu/.julia/packages/TickTock/RsTHR/src/TickTock.jl:32\n",
      "\u001b[32mloss: 0.18: 100%|███████████████████████████████████████| Time: 0:03:57\u001b[39m\n",
      "\u001b[32mloss: 0.179: 100%|██████████████████████████████████████| Time: 0:01:59\u001b[39m\n",
      "┌ Info:  started timer at: 2021-04-06T08:18:59.625\n",
      "└ @ TickTock /home/ziyu/.julia/packages/TickTock/RsTHR/src/TickTock.jl:32\n",
      "\u001b[32mloss: 0.178: 100%|██████████████████████████████████████| Time: 0:03:52\u001b[39m\n",
      "\u001b[32mloss: 0.178: 100%|██████████████████████████████████████| Time: 0:01:56\u001b[39m\n",
      "┌ Info:  started timer at: 2021-04-06T08:28:55.163\n",
      "└ @ TickTock /home/ziyu/.julia/packages/TickTock/RsTHR/src/TickTock.jl:32\n",
      "\u001b[32mloss: 0.178: 100%|██████████████████████████████████████| Time: 0:04:02\u001b[39m\n",
      "\u001b[32mloss: 0.178: 100%|██████████████████████████████████████| Time: 0:02:01\u001b[39m\n"
     ]
    },
    {
     "name": "stdout",
     "output_type": "stream",
     "text": [
      "Plotting graphs for country: Sudan\n",
      "Updating csv for parameters for country: Sudan\n",
      "Updating csv for differentiation parameters for country: Sudan\n",
      "Loading dataframes for country: Sweden\n",
      "Training neural network\n",
      "Generating data for country: Sweden\n"
     ]
    },
    {
     "name": "stderr",
     "output_type": "stream",
     "text": [
      "┌ Info:  started timer at: 2021-04-06T08:38:12.67\n",
      "└ @ TickTock /home/ziyu/.julia/packages/TickTock/RsTHR/src/TickTock.jl:32\n",
      "\u001b[32mloss: 0.0729: 100%|█████████████████████████████████████| Time: 0:00:33\u001b[39m\n",
      "┌ Info:  started timer at: 2021-04-06T08:39:17.677\n",
      "└ @ TickTock /home/ziyu/.julia/packages/TickTock/RsTHR/src/TickTock.jl:32\n",
      "\u001b[32mloss: 0.0715: 100%|█████████████████████████████████████| Time: 0:00:58\u001b[39m\n",
      "\u001b[32mloss: 0.0703: 100%|█████████████████████████████████████| Time: 0:00:30\u001b[39m\n",
      "┌ Info:  started timer at: 2021-04-06T08:42:03.777\n",
      "└ @ TickTock /home/ziyu/.julia/packages/TickTock/RsTHR/src/TickTock.jl:32\n",
      "\u001b[32mloss: 0.0699: 100%|█████████████████████████████████████| Time: 0:00:58\u001b[39m\n",
      "\u001b[32mloss: 0.0694: 100%|█████████████████████████████████████| Time: 0:00:28\u001b[39m\n",
      "┌ Info:  started timer at: 2021-04-06T08:44:45.86\n",
      "└ @ TickTock /home/ziyu/.julia/packages/TickTock/RsTHR/src/TickTock.jl:32\n",
      "\u001b[32mloss: 0.0693: 100%|█████████████████████████████████████| Time: 0:00:57\u001b[39m\n",
      "\u001b[32mloss: 0.0683: 100%|█████████████████████████████████████| Time: 0:00:28\u001b[39m\n",
      "┌ Info:  started timer at: 2021-04-06T08:47:14.363\n",
      "└ @ TickTock /home/ziyu/.julia/packages/TickTock/RsTHR/src/TickTock.jl:32\n",
      "\u001b[32mloss: 0.0679: 100%|█████████████████████████████████████| Time: 0:00:57\u001b[39m\n",
      "\u001b[32mloss: 0.0677: 100%|█████████████████████████████████████| Time: 0:00:28\u001b[39m\n"
     ]
    },
    {
     "name": "stdout",
     "output_type": "stream",
     "text": [
      "Plotting graphs for country: Sweden\n",
      "Updating csv for parameters for country: Sweden\n",
      "Updating csv for differentiation parameters for country: Sweden\n",
      "Loading dataframes for country: Switzerland\n",
      "Training neural network\n",
      "Generating data for country: Switzerland\n"
     ]
    },
    {
     "name": "stderr",
     "output_type": "stream",
     "text": [
      "┌ Info:  started timer at: 2021-04-06T08:50:00.175\n",
      "└ @ TickTock /home/ziyu/.julia/packages/TickTock/RsTHR/src/TickTock.jl:32\n",
      "\u001b[32mloss: 0.0721: 100%|█████████████████████████████████████| Time: 0:00:37\u001b[39m\n",
      "┌ Info:  started timer at: 2021-04-06T08:51:03.49\n",
      "└ @ TickTock /home/ziyu/.julia/packages/TickTock/RsTHR/src/TickTock.jl:32\n",
      "\u001b[32mloss: 0.0592: 100%|█████████████████████████████████████| Time: 0:00:57\u001b[39m\n",
      "\u001b[32mloss: 0.0588: 100%|█████████████████████████████████████| Time: 0:00:26\u001b[39m\n",
      "┌ Info:  started timer at: 2021-04-06T08:53:38.795\n",
      "└ @ TickTock /home/ziyu/.julia/packages/TickTock/RsTHR/src/TickTock.jl:32\n",
      "\u001b[32mloss: 0.0584: 100%|█████████████████████████████████████| Time: 0:00:59\u001b[39m\n",
      "\u001b[32mloss: 0.0582: 100%|█████████████████████████████████████| Time: 0:00:26\u001b[39m\n",
      "┌ Info:  started timer at: 2021-04-06T08:56:06.796\n",
      "└ @ TickTock /home/ziyu/.julia/packages/TickTock/RsTHR/src/TickTock.jl:32\n",
      "\u001b[32mloss: 0.0578: 100%|█████████████████████████████████████| Time: 0:00:56\u001b[39m\n",
      "\u001b[32mloss: 0.0577: 100%|█████████████████████████████████████| Time: 0:00:27\u001b[39m\n"
     ]
    },
    {
     "name": "stdout",
     "output_type": "stream",
     "text": [
      "Plotting graphs for country: Switzerland\n",
      "Updating csv for parameters for country: Switzerland\n",
      "Updating csv for differentiation parameters for country: Switzerland\n",
      "Loading dataframes for country: Thailand\n",
      "Training neural network\n",
      "Generating data for country: Thailand\n"
     ]
    },
    {
     "name": "stderr",
     "output_type": "stream",
     "text": [
      "┌ Info:  started timer at: 2021-04-06T08:58:12.398\n",
      "└ @ TickTock /home/ziyu/.julia/packages/TickTock/RsTHR/src/TickTock.jl:32\n",
      "\u001b[32mloss: 0.162: 100%|██████████████████████████████████████| Time: 0:00:37\u001b[39m\n",
      "┌ Info:  started timer at: 2021-04-06T08:59:46.354\n",
      "└ @ TickTock /home/ziyu/.julia/packages/TickTock/RsTHR/src/TickTock.jl:32\n",
      "\u001b[32mloss: 0.155: 100%|██████████████████████████████████████| Time: 0:00:50\u001b[39m\n",
      "\u001b[32mloss: 0.154: 100%|██████████████████████████████████████| Time: 0:00:24\u001b[39m\n",
      "┌ Info:  started timer at: 2021-04-06T09:02:08.958\n",
      "└ @ TickTock /home/ziyu/.julia/packages/TickTock/RsTHR/src/TickTock.jl:32\n",
      "\u001b[32mloss: 0.15: 100%|███████████████████████████████████████| Time: 0:00:50\u001b[39m\n",
      "\u001b[32mloss: 0.15: 100%|███████████████████████████████████████| Time: 0:00:22\u001b[39m\n",
      "┌ Info:  started timer at: 2021-04-06T09:04:23.384\n",
      "└ @ TickTock /home/ziyu/.julia/packages/TickTock/RsTHR/src/TickTock.jl:32\n",
      "\u001b[32mloss: 0.148: 100%|██████████████████████████████████████| Time: 0:00:49\u001b[39m\n",
      "\u001b[32mloss: 0.147: 100%|██████████████████████████████████████| Time: 0:00:23\u001b[39m\n"
     ]
    },
    {
     "name": "stdout",
     "output_type": "stream",
     "text": [
      "Plotting graphs for country: Thailand\n",
      "Updating csv for parameters for country: Thailand\n",
      "Updating csv for differentiation parameters for country: Thailand\n",
      "Loading dataframes for country: Togo\n",
      "Training neural network\n",
      "Generating data for country: Togo\n"
     ]
    },
    {
     "name": "stderr",
     "output_type": "stream",
     "text": [
      "┌ Info:  started timer at: 2021-04-06T09:06:48.863\n",
      "└ @ TickTock /home/ziyu/.julia/packages/TickTock/RsTHR/src/TickTock.jl:32\n",
      "\u001b[32mloss: 0.128: 100%|██████████████████████████████████████| Time: 0:01:05\u001b[39m\n",
      "┌ Info:  started timer at: 2021-04-06T09:08:23.368\n",
      "└ @ TickTock /home/ziyu/.julia/packages/TickTock/RsTHR/src/TickTock.jl:32\n",
      "\u001b[32mloss: 0.124: 100%|██████████████████████████████████████| Time: 0:02:00\u001b[39m\n",
      "\u001b[32mloss: 0.123: 100%|██████████████████████████████████████| Time: 0:01:01\u001b[39m\n",
      "┌ Info:  started timer at: 2021-04-06T09:12:22.938\n",
      "└ @ TickTock /home/ziyu/.julia/packages/TickTock/RsTHR/src/TickTock.jl:32\n",
      "\u001b[32mloss: 0.122: 100%|██████████████████████████████████████| Time: 0:02:13\u001b[39m\n",
      "\u001b[32mloss: 0.122: 100%|██████████████████████████████████████| Time: 0:01:08\u001b[39m\n",
      "┌ Warning: dt <= dtmin. Aborting. There is either an error in your model specification or the true solution is unstable.\n",
      "└ @ SciMLBase /home/ziyu/.julia/packages/SciMLBase/DrPil/src/integrator_interface.jl:345\n",
      "┌ Info:  started timer at: 2021-04-06T09:18:18.442\n",
      "└ @ TickTock /home/ziyu/.julia/packages/TickTock/RsTHR/src/TickTock.jl:32\n",
      "\u001b[32mloss: 0.124: 100%|██████████████████████████████████████| Time: 0:02:19\u001b[39m\n",
      "\u001b[32mloss: 0.122: 100%|██████████████████████████████████████| Time: 0:01:07\u001b[39m\n",
      "┌ Info:  started timer at: 2021-04-06T09:24:20.926\n",
      "└ @ TickTock /home/ziyu/.julia/packages/TickTock/RsTHR/src/TickTock.jl:32\n",
      "\u001b[32mloss: 0.122: 100%|██████████████████████████████████████| Time: 0:02:23\u001b[39m\n",
      "\u001b[32mloss: 0.122: 100%|██████████████████████████████████████| Time: 0:01:07\u001b[39m\n",
      "┌ Info:  started timer at: 2021-04-06T09:30:37.821\n",
      "└ @ TickTock /home/ziyu/.julia/packages/TickTock/RsTHR/src/TickTock.jl:32\n",
      "\u001b[32mloss: 0.122: 100%|██████████████████████████████████████| Time: 0:02:22\u001b[39m\n",
      "\u001b[32mloss: 0.121: 100%|██████████████████████████████████████| Time: 0:01:10\u001b[39m\n"
     ]
    },
    {
     "name": "stdout",
     "output_type": "stream",
     "text": [
      "Plotting graphs for country: Togo\n",
      "Updating csv for parameters for country: Togo\n",
      "Updating csv for differentiation parameters for country: Togo\n",
      "Loading dataframes for country: Tunisia\n",
      "Training neural network\n",
      "Generating data for country: Tunisia\n"
     ]
    },
    {
     "name": "stderr",
     "output_type": "stream",
     "text": [
      "┌ Info:  started timer at: 2021-04-06T09:37:05.05\n",
      "└ @ TickTock /home/ziyu/.julia/packages/TickTock/RsTHR/src/TickTock.jl:32\n",
      "\u001b[32mloss: 0.129: 100%|██████████████████████████████████████| Time: 0:00:57\u001b[39m\n",
      "┌ Info:  started timer at: 2021-04-06T09:39:08.032\n",
      "└ @ TickTock /home/ziyu/.julia/packages/TickTock/RsTHR/src/TickTock.jl:32\n",
      "\u001b[32mloss: 0.127: 100%|██████████████████████████████████████| Time: 0:01:49\u001b[39m\n",
      "\u001b[32mloss: 0.127: 100%|██████████████████████████████████████| Time: 0:01:00\u001b[39m\n"
     ]
    },
    {
     "name": "stdout",
     "output_type": "stream",
     "text": [
      "Plotting graphs for country: Tunisia\n",
      "Updating csv for parameters for country: Tunisia\n",
      "Updating csv for differentiation parameters for country: Tunisia\n",
      "Loading dataframes for country: Turkey\n",
      "Training neural network\n",
      "Generating data for country: Turkey\n"
     ]
    },
    {
     "name": "stderr",
     "output_type": "stream",
     "text": [
      "┌ Info:  started timer at: 2021-04-06T09:44:12.218\n",
      "└ @ TickTock /home/ziyu/.julia/packages/TickTock/RsTHR/src/TickTock.jl:32\n",
      "\u001b[32mloss: 0.109: 100%|██████████████████████████████████████| Time: 0:01:03\u001b[39m\n",
      "┌ Info:  started timer at: 2021-04-06T09:46:48.61\n",
      "└ @ TickTock /home/ziyu/.julia/packages/TickTock/RsTHR/src/TickTock.jl:32\n",
      "\u001b[32mloss: 0.108: 100%|██████████████████████████████████████| Time: 0:02:06\u001b[39m\n",
      "\u001b[32mloss: 0.107: 100%|██████████████████████████████████████| Time: 0:01:03\u001b[39m\n"
     ]
    },
    {
     "name": "stdout",
     "output_type": "stream",
     "text": [
      "Plotting graphs for country: Turkey\n",
      "Updating csv for parameters for country: Turkey\n",
      "Updating csv for differentiation parameters for country: Turkey\n",
      "Loading dataframes for country: Uganda\n",
      "Training neural network\n",
      "Generating data for country: Uganda\n"
     ]
    },
    {
     "name": "stderr",
     "output_type": "stream",
     "text": [
      "┌ Info:  started timer at: 2021-04-06T09:52:18.7\n",
      "└ @ TickTock /home/ziyu/.julia/packages/TickTock/RsTHR/src/TickTock.jl:32\n",
      "\u001b[32mloss: 0.0817: 100%|█████████████████████████████████████| Time: 0:00:57\u001b[39m\n",
      "┌ Info:  started timer at: 2021-04-06T09:54:22.33\n",
      "└ @ TickTock /home/ziyu/.julia/packages/TickTock/RsTHR/src/TickTock.jl:32\n",
      "\u001b[32mloss: 0.08: 100%|███████████████████████████████████████| Time: 0:01:56\u001b[39m\n",
      "\u001b[32mloss: 0.0778: 100%|█████████████████████████████████████| Time: 0:00:53\u001b[39m\n",
      "┌ Info:  started timer at: 2021-04-06T09:59:32.241\n",
      "└ @ TickTock /home/ziyu/.julia/packages/TickTock/RsTHR/src/TickTock.jl:32\n",
      "\u001b[32mloss: 0.0776: 100%|█████████████████████████████████████| Time: 0:01:50\u001b[39m\n",
      "\u001b[32mloss: 0.0772: 100%|█████████████████████████████████████| Time: 0:00:59\u001b[39m\n",
      "┌ Info:  started timer at: 2021-04-06T10:04:11.395\n",
      "└ @ TickTock /home/ziyu/.julia/packages/TickTock/RsTHR/src/TickTock.jl:32\n",
      "\u001b[32mloss: 0.0741: 100%|█████████████████████████████████████| Time: 0:01:53\u001b[39m\n",
      "\u001b[32mloss: 0.0736: 100%|█████████████████████████████████████| Time: 0:00:53\u001b[39m\n",
      "┌ Info:  started timer at: 2021-04-06T10:08:36.456\n",
      "└ @ TickTock /home/ziyu/.julia/packages/TickTock/RsTHR/src/TickTock.jl:32\n",
      "\u001b[32mloss: 0.0769: 100%|█████████████████████████████████████| Time: 0:01:57\u001b[39m\n",
      "\u001b[32mloss: 0.0735: 100%|█████████████████████████████████████| Time: 0:00:58\u001b[39m\n",
      "┌ Info:  started timer at: 2021-04-06T10:13:48.805\n",
      "└ @ TickTock /home/ziyu/.julia/packages/TickTock/RsTHR/src/TickTock.jl:32\n",
      "\u001b[32mloss: 0.0722: 100%|█████████████████████████████████████| Time: 0:01:57\u001b[39m\n",
      "\u001b[32mloss: 0.0729: 100%|█████████████████████████████████████| Time: 0:01:00\u001b[39m\n",
      "┌ Info:  started timer at: 2021-04-06T10:18:59.03\n",
      "└ @ TickTock /home/ziyu/.julia/packages/TickTock/RsTHR/src/TickTock.jl:32\n",
      "\u001b[32mloss: 0.0742: 100%|█████████████████████████████████████| Time: 0:01:58\u001b[39m\n",
      "\u001b[32mloss: 0.0719: 100%|█████████████████████████████████████| Time: 0:00:58\u001b[39m\n",
      "┌ Info:  started timer at: 2021-04-06T10:23:31.564\n",
      "└ @ TickTock /home/ziyu/.julia/packages/TickTock/RsTHR/src/TickTock.jl:32\n",
      "\u001b[32mloss: 0.0725: 100%|█████████████████████████████████████| Time: 0:02:01\u001b[39m\n",
      "\u001b[32mloss: 0.0707: 100%|█████████████████████████████████████| Time: 0:00:58\u001b[39m\n",
      "┌ Info:  started timer at: 2021-04-06T10:28:30.928\n",
      "└ @ TickTock /home/ziyu/.julia/packages/TickTock/RsTHR/src/TickTock.jl:32\n",
      "\u001b[32mloss: 0.0719: 100%|█████████████████████████████████████| Time: 0:01:56\u001b[39m\n",
      "\u001b[32mloss: 0.0725: 100%|█████████████████████████████████████| Time: 0:01:02\u001b[39m\n",
      "┌ Info:  started timer at: 2021-04-06T10:33:22.873\n",
      "└ @ TickTock /home/ziyu/.julia/packages/TickTock/RsTHR/src/TickTock.jl:32\n",
      "\u001b[32mloss: 0.0715: 100%|█████████████████████████████████████| Time: 0:02:00\u001b[39m\n",
      "\u001b[32mloss: 0.0708: 100%|█████████████████████████████████████| Time: 0:00:56\u001b[39m\n",
      "┌ Info:  started timer at: 2021-04-06T10:38:20.132\n",
      "└ @ TickTock /home/ziyu/.julia/packages/TickTock/RsTHR/src/TickTock.jl:32\n",
      "\u001b[32mloss: 0.071: 100%|██████████████████████████████████████| Time: 0:01:56\u001b[39m\n",
      "\u001b[32mloss: 0.0726: 100%|█████████████████████████████████████| Time: 0:00:59\u001b[39m\n"
     ]
    },
    {
     "name": "stdout",
     "output_type": "stream",
     "text": [
      "Plotting graphs for country: Uganda\n",
      "Updating csv for parameters for country: Uganda\n",
      "Updating csv for differentiation parameters for country: Uganda\n",
      "Loading dataframes for country: United_Kingdom\n",
      "Training neural network\n",
      "Generating data for country: United_Kingdom\n"
     ]
    },
    {
     "name": "stderr",
     "output_type": "stream",
     "text": [
      "┌ Info:  started timer at: 2021-04-06T10:43:22.042\n",
      "└ @ TickTock /home/ziyu/.julia/packages/TickTock/RsTHR/src/TickTock.jl:32\n",
      "\u001b[32mloss: 0.129: 100%|██████████████████████████████████████| Time: 0:00:38\u001b[39m\n",
      "┌ Info:  started timer at: 2021-04-06T10:44:38.033\n",
      "└ @ TickTock /home/ziyu/.julia/packages/TickTock/RsTHR/src/TickTock.jl:32\n",
      "\u001b[32mloss: 0.0618: 100%|█████████████████████████████████████| Time: 0:00:57\u001b[39m\n",
      "\u001b[32mloss: 0.052: 100%|██████████████████████████████████████| Time: 0:00:27\u001b[39m\n",
      "┌ Info:  started timer at: 2021-04-06T10:47:12.576\n",
      "└ @ TickTock /home/ziyu/.julia/packages/TickTock/RsTHR/src/TickTock.jl:32\n",
      "\u001b[32mloss: 0.0493: 100%|█████████████████████████████████████| Time: 0:01:01\u001b[39m\n",
      "\u001b[32mloss: 0.0486: 100%|█████████████████████████████████████| Time: 0:00:27\u001b[39m\n",
      "┌ Info:  started timer at: 2021-04-06T10:49:41.727\n",
      "└ @ TickTock /home/ziyu/.julia/packages/TickTock/RsTHR/src/TickTock.jl:32\n",
      "\u001b[32mloss: 0.0489: 100%|█████████████████████████████████████| Time: 0:01:05\u001b[39m\n",
      "\u001b[32mloss: 0.0469: 100%|█████████████████████████████████████| Time: 0:00:26\u001b[39m\n",
      "┌ Info:  started timer at: 2021-04-06T10:52:20.358\n",
      "└ @ TickTock /home/ziyu/.julia/packages/TickTock/RsTHR/src/TickTock.jl:32\n",
      "\u001b[32mloss: 0.0458: 100%|█████████████████████████████████████| Time: 0:01:08\u001b[39m\n",
      "\u001b[32mloss: 0.0455: 100%|█████████████████████████████████████| Time: 0:00:29\u001b[39m\n",
      "┌ Info:  started timer at: 2021-04-06T10:55:02.445\n",
      "└ @ TickTock /home/ziyu/.julia/packages/TickTock/RsTHR/src/TickTock.jl:32\n",
      "\u001b[32mloss: 0.0451: 100%|█████████████████████████████████████| Time: 0:01:14\u001b[39m\n",
      "\u001b[32mloss: 0.0448: 100%|█████████████████████████████████████| Time: 0:00:29\u001b[39m\n",
      "┌ Info:  started timer at: 2021-04-06T10:57:39.38\n",
      "└ @ TickTock /home/ziyu/.julia/packages/TickTock/RsTHR/src/TickTock.jl:32\n",
      "\u001b[32mloss: 0.0463: 100%|█████████████████████████████████████| Time: 0:01:10\u001b[39m\n",
      "\u001b[32mloss: 0.0443: 100%|█████████████████████████████████████| Time: 0:00:31\u001b[39m\n",
      "┌ Info:  started timer at: 2021-04-06T11:00:30.698\n",
      "└ @ TickTock /home/ziyu/.julia/packages/TickTock/RsTHR/src/TickTock.jl:32\n",
      "\u001b[32mloss: 0.0441: 100%|█████████████████████████████████████| Time: 0:01:09\u001b[39m\n",
      "\u001b[32mloss: 0.044: 100%|██████████████████████████████████████| Time: 0:00:31\u001b[39m\n",
      "┌ Info:  started timer at: 2021-04-06T11:03:16.374\n",
      "└ @ TickTock /home/ziyu/.julia/packages/TickTock/RsTHR/src/TickTock.jl:32\n",
      "\u001b[32mloss: 0.0454: 100%|█████████████████████████████████████| Time: 0:01:06\u001b[39m\n",
      "\u001b[32mloss: 0.0439: 100%|█████████████████████████████████████| Time: 0:00:32\u001b[39m\n",
      "┌ Info:  started timer at: 2021-04-06T11:05:42.399\n",
      "└ @ TickTock /home/ziyu/.julia/packages/TickTock/RsTHR/src/TickTock.jl:32\n",
      "\u001b[32mloss: 0.0455: 100%|█████████████████████████████████████| Time: 0:01:06\u001b[39m\n",
      "\u001b[32mloss: 0.0437: 100%|█████████████████████████████████████| Time: 0:00:33\u001b[39m\n",
      "┌ Info:  started timer at: 2021-04-06T11:08:31.541\n",
      "└ @ TickTock /home/ziyu/.julia/packages/TickTock/RsTHR/src/TickTock.jl:32\n",
      "\u001b[32mloss: 0.0452: 100%|█████████████████████████████████████| Time: 0:01:06\u001b[39m\n",
      "\u001b[32mloss: 0.0437: 100%|█████████████████████████████████████| Time: 0:00:33\u001b[39m\n"
     ]
    },
    {
     "name": "stdout",
     "output_type": "stream",
     "text": [
      "Plotting graphs for country: United_Kingdom\n",
      "Updating csv for parameters for country: United_Kingdom\n",
      "Updating csv for differentiation parameters for country: United_Kingdom\n",
      "Loading dataframes for country: United_States\n",
      "Training neural network\n",
      "Generating data for country: United_States\n"
     ]
    },
    {
     "name": "stderr",
     "output_type": "stream",
     "text": [
      "┌ Info:  started timer at: 2021-04-06T11:11:31.428\n",
      "└ @ TickTock /home/ziyu/.julia/packages/TickTock/RsTHR/src/TickTock.jl:32\n",
      "\u001b[32mloss: 0.0635: 100%|█████████████████████████████████████| Time: 0:00:40\u001b[39m\n",
      "┌ Info:  started timer at: 2021-04-06T11:13:13.79\n",
      "└ @ TickTock /home/ziyu/.julia/packages/TickTock/RsTHR/src/TickTock.jl:32\n",
      "\u001b[32mloss: 0.0485: 100%|█████████████████████████████████████| Time: 0:01:15\u001b[39m\n",
      "\u001b[32mloss: 0.0479: 100%|█████████████████████████████████████| Time: 0:00:39\u001b[39m\n",
      "┌ Info:  started timer at: 2021-04-06T11:16:37.183\n",
      "└ @ TickTock /home/ziyu/.julia/packages/TickTock/RsTHR/src/TickTock.jl:32\n",
      "\u001b[32mloss: 0.0484: 100%|█████████████████████████████████████| Time: 0:01:18\u001b[39m\n",
      "\u001b[32mloss: 0.0476: 100%|█████████████████████████████████████| Time: 0:00:40\u001b[39m\n",
      "┌ Info:  started timer at: 2021-04-06T11:20:15.98\n",
      "└ @ TickTock /home/ziyu/.julia/packages/TickTock/RsTHR/src/TickTock.jl:32\n",
      "\u001b[32mloss: 0.0475: 100%|█████████████████████████████████████| Time: 0:01:21\u001b[39m\n",
      "\u001b[32mloss: 0.0475: 100%|█████████████████████████████████████| Time: 0:00:40\u001b[39m\n",
      "┌ Info:  started timer at: 2021-04-06T11:23:28.136\n",
      "└ @ TickTock /home/ziyu/.julia/packages/TickTock/RsTHR/src/TickTock.jl:32\n",
      "\u001b[32mloss: 0.0474: 100%|█████████████████████████████████████| Time: 0:01:05\u001b[39m\n",
      "\u001b[32mloss: 0.0473: 100%|█████████████████████████████████████| Time: 0:00:27\u001b[39m\n"
     ]
    },
    {
     "name": "stdout",
     "output_type": "stream",
     "text": [
      "Plotting graphs for country: United_States\n",
      "Updating csv for parameters for country: United_States\n",
      "Updating csv for differentiation parameters for country: United_States\n",
      "Loading dataframes for country: Uruguay\n",
      "Training neural network\n",
      "Generating data for country: Uruguay\n"
     ]
    },
    {
     "name": "stderr",
     "output_type": "stream",
     "text": [
      "┌ Info:  started timer at: 2021-04-06T11:25:54.742\n",
      "└ @ TickTock /home/ziyu/.julia/packages/TickTock/RsTHR/src/TickTock.jl:32\n",
      "\u001b[32mloss: 0.148: 100%|██████████████████████████████████████| Time: 0:00:39\u001b[39m\n",
      "┌ Info:  started timer at: 2021-04-06T11:27:21.969\n",
      "└ @ TickTock /home/ziyu/.julia/packages/TickTock/RsTHR/src/TickTock.jl:32\n",
      "\u001b[32mloss: 0.141: 100%|██████████████████████████████████████| Time: 0:01:20\u001b[39m\n",
      "\u001b[32mloss: 0.141: 100%|██████████████████████████████████████| Time: 0:00:39\u001b[39m\n"
     ]
    },
    {
     "name": "stdout",
     "output_type": "stream",
     "text": [
      "Plotting graphs for country: Uruguay\n",
      "Updating csv for parameters for country: Uruguay\n",
      "Updating csv for differentiation parameters for country: Uruguay\n"
     ]
    }
   ],
   "source": [
    "\n",
    "for i in country_list\n",
    "    try\n",
    "    i = replace(i, \" \" => \"_\")\n",
    "    ann = FastChain(FastDense(3, 12, tanh),FastDense(12, 12, tanh),FastDense(12, 12, tanh),\n",
    "                    FastDense(12, 4))\n",
    "    println(\"Loading dataframes for country: \", i)\n",
    "    println(\"Training neural network\")\n",
    "    years_available1, kdata1, ydata1, edata1, params1, pred1, df8, df5, df7 = \n",
    "        generate_parameters_and_predictions(ann, i)\n",
    "    println(\"Plotting graphs for country: \", i)\n",
    "    timesteps = range(1.0e0, years_available1*1.0, length=years_available1)\n",
    "    plot_graph(pred1,i,timesteps,kdata1,ydata1,edata1)\n",
    "    println(\"Updating csv for parameters for country: \", i)\n",
    "    push!(store_parameters_and_metrics, (vcat([i], \n",
    "            calculate_metrics(pred1, kdata1, ydata1, edata1))))\n",
    "    CSV.write(string(@__DIR__,\"/all_countries/GivenParams/parameters_and_metrics.csv\"), store_parameters_and_metrics)\n",
    "    println(\"Updating csv for differentiation parameters for country: \", i)\n",
    "    pred1_k = convert(Array{Float64},pred1[1,:])\n",
    "    pred1_y = convert(Array{Float64},pred1[2,:])\n",
    "    pred1_e = convert(Array{Float64},pred1[3,:])\n",
    "    dk1 = pred1_k[2:end] .- pred1_k[1:end-1]\n",
    "    dy1 = pred1_y[2:end] .- pred1_y[1:end-1]\n",
    "    de1 = pred1_e[2:end] .- pred1_e[1:end-1]\n",
    "    dpred1 = transpose(hcat(dk1, dy1, de1))\n",
    "    dkdata = identity.(df5[51-years_available1:end])\n",
    "    dydata = identity.(df7[51-years_available1:end])\n",
    "    dedata = identity.(df8[51-years_available1:end])\n",
    "    push!(store_parameters_and_differentiation_metrics, (vcat([i], \n",
    "            calculate_metrics(dpred1, dkdata, dydata, dedata))))\n",
    "    CSV.write(string(@__DIR__,\"/all_countries/GivenParams/diff_parameters_and_metrics.csv\"), store_parameters_and_differentiation_metrics)\n",
    "    catch e\n",
    "        println(\"Error with country \", i, \": \", e)\n",
    "    end  \n",
    "        \n",
    "end\n"
   ]
  },
  {
   "cell_type": "code",
   "execution_count": null,
   "metadata": {},
   "outputs": [],
   "source": []
  }
 ],
 "metadata": {
  "kernelspec": {
   "display_name": "Julia 1.4.2",
   "language": "julia",
   "name": "julia-1.4"
  },
  "language_info": {
   "file_extension": ".jl",
   "mimetype": "application/julia",
   "name": "julia",
   "version": "1.4.2"
  }
 },
 "nbformat": 4,
 "nbformat_minor": 4
}
